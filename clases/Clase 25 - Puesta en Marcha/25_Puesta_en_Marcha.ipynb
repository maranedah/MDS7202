{
  "cells": [
    {
      "cell_type": "markdown",
      "id": "1111d3ad-458e-475b-ab30-0017e4117e8a",
      "metadata": {
        "id": "1111d3ad-458e-475b-ab30-0017e4117e8a"
      },
      "source": [
        "# Clase 25: Puesta en Marcha\n",
        "\n",
        "**MDS7202: Laboratorio de Programación Científica para Ciencia de Datos**\n",
        "\n",
        "**Profesores: Matías Rojas - Mauricio Araneda**\n",
        "\n",
        "- Comprender los distintos componentes de los sistemas basados en ML como la arquitectura cliente-servidor, URL, HTTP, APIs REST, etc...\n",
        "- Introducir el despliegue de modelos usando `FastAPI`."
      ]
    },
    {
      "cell_type": "markdown",
      "id": "21bb34a8-3ef6-47da-9c99-eaea4ff28e3e",
      "metadata": {
        "id": "21bb34a8-3ef6-47da-9c99-eaea4ff28e3e"
      },
      "source": [
        "## Data Scientist vs Machine Learning Engineer y Otros\n",
        "\n",
        "> **Pregunta: ❓** ¿Cuáles son las diferencias entre estas areas?\n",
        "\n",
        "<div align='center'>\n",
        "<img src='https://i.ibb.co/F5btNWP/ml-engineer.png' />\n",
        "</div>\n",
        "\n",
        "<div align='center'>\n",
        "Fuente: <a href='https://medium.com/@meightpc_14421/data-scientist-vs-data-analysis-vs-ml-engineer-which-job-is-most-suited-for-you-def7b12b3256/'>Data Scientist vs Data Analysis vs ML Engineer : Which job is most suited for you ?</a>\n",
        "</div>\n"
      ]
    },
    {
      "cell_type": "markdown",
      "id": "4dfb7dbf-21ce-4311-978f-7cf326cd7643",
      "metadata": {
        "id": "4dfb7dbf-21ce-4311-978f-7cf326cd7643"
      },
      "source": [
        "## Puesta en Marcha"
      ]
    },
    {
      "cell_type": "markdown",
      "id": "f5c4d2e7-5a24-4284-95b8-ea518af8900e",
      "metadata": {
        "id": "f5c4d2e7-5a24-4284-95b8-ea518af8900e"
      },
      "source": [
        "La puesta en marcha o *despliegue* consiste en el flujo de trabajo necesario para hacer que una aplicación pasa de un estado de desarrollo experimental (prueba de concepto) a ser una versión de *producción* donde los usuarios finales tendrá acceso. \n",
        "\n",
        "Para poner en marcha nuestros proyectos de ciencia de datos, haremos uso de *aplicaciones web*. Estas consisten programas diseñados para ejecutarse desde un servidor web. Esta aproximación nos permitirá facilitar resultados y visualizaciones a una amplia variedad de sistemas. "
      ]
    },
    {
      "cell_type": "markdown",
      "id": "fe45169b-a475-4896-b4f9-6fe093d8f226",
      "metadata": {
        "id": "fe45169b-a475-4896-b4f9-6fe093d8f226"
      },
      "source": [
        "### Arquitectura Cliente-Servidor\n",
        "\n",
        "Según [Wikipedia](https://es.wikipedia.org/wiki/Cliente-servidor):\n",
        "\n",
        "> La arquitectura cliente-servidor es un modelo de diseño de software en el que las tareas se reparten entre los proveedores de recursos o servicios, llamados servidores, y los demandantes, llamados clientes. Un cliente realiza peticiones a otro programa, el servidor, quien le da respuesta. "
      ]
    },
    {
      "cell_type": "markdown",
      "id": "b54d9750-31dc-4ad7-bd3d-9d0f2cb73c99",
      "metadata": {
        "id": "b54d9750-31dc-4ad7-bd3d-9d0f2cb73c99"
      },
      "source": [
        "<div align='center'>\n",
        "<img alt='Arquitectura Cliente Servidor' src='https://i.ibb.co/z7HZCJg/cliente-servidor.png' width=800/>\n",
        "</div>"
      ]
    },
    {
      "cell_type": "markdown",
      "id": "2cb8ce02-8b0b-4903-8927-4e10ca77da24",
      "metadata": {
        "id": "2cb8ce02-8b0b-4903-8927-4e10ca77da24"
      },
      "source": [
        "#### Cliente \n",
        "\n",
        "Demanda algún servicio. Sus características principales son:\n",
        "\n",
        "- Inicia solicitudes (peticiones) y espera respuestas del servidor.\n",
        "- Puede ser a través de una *interfaz de programación de aplicaciones (API en inglés) o una interfaz gráfica* (como el navegador o un juego ejecutable)."
      ]
    },
    {
      "cell_type": "markdown",
      "id": "bfd3ecf3-0b77-40c4-922a-d2fae03af825",
      "metadata": {
        "id": "bfd3ecf3-0b77-40c4-922a-d2fae03af825"
      },
      "source": [
        "#### Servidor\n",
        "\n",
        "Provee de servicios. Sus características principales son:\n",
        "\n",
        "- Reciben las solicitudes de los clientes, las procesan y luego envían una respuesta.\n",
        "- Pueden aceptar varias solicitudes de distintos clientes a la vez.\n"
      ]
    },
    {
      "cell_type": "markdown",
      "id": "0d4563fd-7d58-46dd-8b14-6acb9c6a2e5c",
      "metadata": {
        "id": "0d4563fd-7d58-46dd-8b14-6acb9c6a2e5c"
      },
      "source": [
        "### Características de esta arquitectura\n",
        "\n",
        "Una de las principales ventajas es que permite centralizar la información y las responsabilidades de proveer servicios.\n",
        "Es decir, solo el servidor será el encargado de manejar las solicitudes, acceder y modificar a las bases de datos, procesar dicha información y responder a sus clientes. Es decir, será *la única fuente de verdad*.\n"
      ]
    },
    {
      "cell_type": "markdown",
      "id": "1d305c91-e357-4c44-b189-3a141689e5da",
      "metadata": {
        "id": "1d305c91-e357-4c44-b189-3a141689e5da"
      },
      "source": [
        "### Opciones y Frameworks"
      ]
    },
    {
      "cell_type": "markdown",
      "id": "d03324be-7fb2-49fc-b281-5b980eb06325",
      "metadata": {
        "id": "d03324be-7fb2-49fc-b281-5b980eb06325"
      },
      "source": [
        "Según [Wikipedia](https://es.wikipedia.org/wiki/Framework): \n",
        "\n",
        "> *Framework*: Un entorno de trabajo es un conjunto estandarizado de conceptos, prácticas y criterios para resolver un tipo de problemática particular y que sirve como referencia, para enfrentar y resolver nuevos problemas de índole similar. \n",
        "\n",
        "*¡Ya han estado utilizando un framework todo este tiempo!: `scikit-learn` y sus famosos `fit` y `predict`.*\n",
        "\n",
        "\n",
        "Existe una gigantezca variedad de frameworks (y combinaciones de estos) que implementan esta arquitectura.\n",
        "\n",
        "##### Servidor (y ocasionalmente también clientes):\n",
        "\n",
        "- `Django`\n",
        "- `Flask`\n",
        "- `FastAPI`\n",
        "\n",
        "\n",
        "##### Clientes (Interfaces Gráficas) (la mayoría en JavaScript): \n",
        "\n",
        "- `React`\n",
        "- `Vue`\n",
        "\n",
        "\n",
        "Una combinación de estas tecnologías se denomina *stack tecnológico*.\n",
        "\n",
        "\n",
        "> **Pregunta**: ¿Conocen alguno de estos?¿En que consisten?\n",
        "\n",
        "Visiten los siguientes links para ver buenas comparativas entre estos frameworks: \n",
        "\n",
        "- https://www.section.io/engineering-education/choosing-between-django-flask-and-fastapi/\n",
        "- https://www.analyticsvidhya.com/blog/2020/11/fastapi-the-right-replacement-for-flask/\n",
        "\n",
        "\n",
        "En nuestro caso en particular, veremos el framework (de moda) `FastAPI`.\n",
        "\n",
        "> **Pregunta:** ¿Qué es una API?"
      ]
    },
    {
      "cell_type": "markdown",
      "id": "6c79093d-766c-4280-b484-8bfd9d90985c",
      "metadata": {
        "id": "6c79093d-766c-4280-b484-8bfd9d90985c"
      },
      "source": [
        "---\n",
        "\n",
        "## Interfaz de Programación de Aplicaciones / Application Programming Interface (API)\n",
        "\n",
        "Es el conjunto se funciones que expone una librería para interactuar con ella.\n",
        "<div align='center'>\n",
        "<img src='https://i.ibb.co/sWkdskG/pandas-api.png' width=800/>\n",
        "</div>\n",
        "\n",
        "<div align='center'>\n",
        "<p>Ejemplo de una API: la API de pandas</p>\n",
        "</div>\n",
        "\n",
        "---\n",
        "\n",
        "En el caso en particular de los servidores web, la API (también conocidas como **Endpoints**) es el conjunto de funciones que nos permiten interactuar con el servidor. Comunmente esto se hace a través de **URLs** parametrizadas:\n",
        "\n",
        "<div align='center'>\n",
        "<img src='https://i.ibb.co/3vwJ65T/api-maps.png' width=800/>\n",
        "</div>\n",
        "\n",
        "<div align='center'>\n",
        "<img src='https://i.ibb.co/ZMgXKkT/api-maps-2.png' width=800/>\n",
        "</div>\n",
        "\n",
        "<div align='center'>\n",
        "Ejemplo de una web API: La API de <a href='https://developers.google.com/maps/documentation/urls/get-started/'>Google Maps</a>\n",
        "</div>"
      ]
    },
    {
      "cell_type": "markdown",
      "id": "f6c78a1e-d98c-46a1-8055-e96d08051544",
      "metadata": {
        "id": "f6c78a1e-d98c-46a1-8055-e96d08051544"
      },
      "source": [
        "### URL\n",
        "\n",
        "Una Localizador de recursos uniforme o Uniform Resource Locator (URL) es simplemente un localizador de un recurso web más un protocolo que permite acceder a este.\n",
        "\n",
        "Ejemplo: \n",
        "\n",
        "De: https://en.wikipedia.org/wiki/URL\n",
        "\n",
        "- Protocolo: `https`\n",
        "- Dirección del recurso: `en.wikipedia.org`\n",
        "- Archivo: `URL` (que se interpreta como html)\n",
        "\n",
        "\n",
        "#### Sintaxis de una URI\n",
        "\n",
        "<img src='https://i.ibb.co/Kq1wpBy/sintaxis-uri.png' />\n",
        "\n",
        "\n",
        "<div align='center'>\n",
        "Fuente:  <a href='https://en.wikipedia.org/wiki/URL' />URL en Wikipedia</a>\n",
        "</div>\n",
        "\n"
      ]
    },
    {
      "cell_type": "markdown",
      "id": "7142a2dc-0a85-4c73-a884-0a566c79880a",
      "metadata": {
        "id": "7142a2dc-0a85-4c73-a884-0a566c79880a"
      },
      "source": [
        "### Protocolo de transferencia de hipertexto o HTTP y HTTPS\n",
        "\n",
        "[Protocolo de Comunicaciones según Wikipedia](https://es.wikipedia.org/wiki/Protocolo_de_comunicaciones):\n",
        "\n",
        "> Es un sistema de reglas que permiten que dos o más entidades (computadoras, teléfonos celulares, etc.) de un sistema de comunicación se comuniquen entre ellas con el fin de transmitir información por medio de cualquier tipo de variación de una magnitud física.\n",
        "\n",
        "> Se trata de las reglas o el estándar que define la sintaxis, semántica y sincronización de la comunicación, así como también los posibles métodos de recuperación de errores\n",
        "\n",
        "\n",
        "HTTP permite la transmisión de información a través de archivos html y otros formatos.\n",
        "Esta especifica en los mensajes:\n",
        "\n",
        "- Cabeceras (Headers) que indican el protocolo.\n",
        "- Método de petición (`GET`, `POST`, `PUT`, `DELETE`, `HEAD`, `OPTION`, etc...)\n",
        "     - `GET`: Solicitud para pedir datos.\n",
        "     - `POST`: Enviar datos (en el cuerpo de la solicitud) comunmente para ser procesados y guardados.\n",
        "     - `DELETE`: Elimina un dato.\n",
        "     - `PUT`: Actualiza un dato.\n",
        "\n",
        "\n",
        "- Códigos de respuesta (https://http.cat/)\n",
        "  - `1xx` - Respuestas informativas\n",
        "  - `2xx` - Respuestas satisfactorias \n",
        "  - `3xx` - Redirecciones \n",
        "  - `4xx` - Errores de los clientes \n",
        "  - `5xx` - Errores de los servidores \n",
        "  \n",
        "  \n",
        "- Cuerpo del mensaje\n",
        "\n",
        "\n",
        "#### Ejemplo: \n",
        "\n",
        "Petición del Cliente:\n",
        "\n",
        "     GET /index.html HTTP/1.1\n",
        "     Host: www.example.com\n",
        "     Referer: www.google.com\n",
        "     User-Agent: Mozilla/5.0 (X11; Linux x86_64; rv:45.0) Gecko/20100101 Firefox/45.0\n",
        "     Connection: keep-alive\n",
        "\n",
        "\n",
        "Respuesta del Servidor:\n",
        "\n",
        "    HTTP/1.1 200 OK\n",
        "    Date: Fri, 31 Dec 2003 23:59:59 GMT\n",
        "    Content-Type: text/html\n",
        "    Content-Length: 1221\n",
        "\n",
        "    <html lang=\"eo\">\n",
        "    <head>\n",
        "    <meta charset=\"utf-8\">\n",
        "    <title>Título del sitio</title>\n",
        "    </head>\n",
        "    <body>\n",
        "    <h1>Página principal de tuHost</h1>\n",
        "    (Contenido)\n",
        "      .\n",
        "      .\n",
        "      .\n",
        "    </body>\n",
        "    </html>\n",
        "\n",
        "\n",
        "HTTPS indica que el protocolo es seguro mediante cifrado de la información."
      ]
    },
    {
      "cell_type": "markdown",
      "id": "192865b6-c5fa-4e6b-8ec8-3e44d42bf066",
      "metadata": {
        "id": "192865b6-c5fa-4e6b-8ec8-3e44d42bf066"
      },
      "source": [
        "### API REST\n",
        "\n",
        "Lo último antes de empezar a ver código es hacer una recapitulación de todo lo que hemos visto, lo que puede ser agrupado dentro de un cómodo conjunto de principios llamado **Transferencia de estado representacional o representational state transfer (REST)**.\n",
        "\n",
        "Según [Wikipedia](https://es.wikipedia.org/wiki/Protocolo_de_transferencia_de_hipertexto), es un conjunto de principios para diseñar aplicaciones web:\n",
        "\n",
        "- **Un protocolo cliente/servidor sin estado:** cada mensaje HTTP contiene toda la información necesaria para comprender la petición. Como resultado, ni el cliente ni el servidor necesitan recordar ningún estado de las comunicaciones entre mensajes. En la práctica, muchas aplicaciones utilizan cookies y otros mecanismos para mantener el estado de la sesión.\n",
        "\n",
        "- Un conjunto de operaciones bien definidas que se aplican a todos los recursos de información: HTTP en sí define un conjunto pequeño de operaciones, las más importantes son **POST, GET, PUT y DELETE**. Con frecuencia estas operaciones se equiparan a las operaciones **CRUD en bases de datos** (CLAB en castellano: crear,leer,actualizar,borrar) que se requieren para la persistencia de datos.\n",
        "\n",
        "- **Una sintaxis universal para identificar los recursos.** En un sistema REST, cada recurso es direccionable únicamente a través de su **URI**.\n",
        "\n",
        "- El **uso de hipermedios**, tanto para la información de la aplicación como para las transiciones de estado de la aplicación: la representación de este estado en un sistema REST son típicamente **HTML o XML**. Como resultado de esto, es posible navegar de un recurso REST a muchos otros, simplemente siguiendo enlaces sin requerir el uso de registros u otra infraestructura adicional."
      ]
    },
    {
      "cell_type": "markdown",
      "id": "ee951d5c-0291-469e-9814-e4366f1c45dc",
      "metadata": {
        "id": "ee951d5c-0291-469e-9814-e4366f1c45dc"
      },
      "source": [
        "---\n",
        "\n",
        "## `FastAPI`\n",
        "\n",
        "\n",
        "<img src='https://i.ibb.co/yqPnbh4/fastapi.pngg'/>\n",
        "\n",
        "En palabras simples, `FastAPI` es un framework moderno y de alto rendimiento para crear APIs en python (tipado 👀).\n",
        "\n",
        "Su documentación se encuenta en la página oficial: https://fastapi.tiangolo.com/es/\n",
        "\n",
        "Una de las grandes ventajas es que genera interfaces interactivas y documentación con la que podemos interactuar."
      ]
    },
    {
      "cell_type": "markdown",
      "id": "18096d64-0d9e-4ab4-b592-51f2e219dd17",
      "metadata": {
        "id": "18096d64-0d9e-4ab4-b592-51f2e219dd17"
      },
      "source": [
        "### Paréntesis: Tipos en Python\n",
        "\n",
        "Desde python 3.6 existe un soporte para tipo de datos. Es decir, anotaciones que indican con que dato estamos trabajando.\n",
        "Esto permite (a través de linters como `mypy`, `flake8`,`pylance`, etc...) darle más robustez al código que estamos creando.\n"
      ]
    },
    {
      "cell_type": "code",
      "execution_count": 1,
      "id": "bc8e5a30-77ab-42f6-a53b-2d0ee70b024d",
      "metadata": {
        "id": "bc8e5a30-77ab-42f6-a53b-2d0ee70b024d"
      },
      "outputs": [],
      "source": [
        "# ejecuten esto (en el archivo ejemplo.py) con en un editor de texto\n",
        "# que tenga soporte de tipos (mypy, flake8, etc...)\n",
        "\n",
        "\n",
        "def unir_nombre(primer_nombre, apellido):\n",
        "    return primer_nombre + ' ' + apellido\n",
        "\n",
        "\n",
        "def unir_nombre_tipado(primer_nombre: str, apellido: str):\n",
        "    return primer_nombre + ' ' + apellido\n",
        "\n",
        "\n",
        "def unir_nombre_edad(primer_nombre: str, apellido: str, edad):\n",
        "    return primer_nombre + apellido + edad\n",
        "\n",
        "\n",
        "def unir_nombre_edad(primer_nombre: str, apellido: str, edad: int):\n",
        "    return primer_nombre + apellido + str(edad)\n",
        "\n",
        "def unir_nombre_edad(primer_nombre: str, apellido: str, edad: int) -> str:\n",
        "    return primer_nombre + apellido + str(edad)"
      ]
    },
    {
      "cell_type": "markdown",
      "id": "bbccea1f-160c-40d8-942f-94120898eb8a",
      "metadata": {
        "id": "bbccea1f-160c-40d8-942f-94120898eb8a"
      },
      "source": [
        "#### Tipos simples permitidos en python\n",
        "\n",
        "- `int`\n",
        "- `float`\n",
        "- `bool`\n",
        "- `bytes`\n",
        "- `str`\n"
      ]
    },
    {
      "cell_type": "markdown",
      "id": "ea475639-1256-43df-b0a7-ab7c5d52db04",
      "metadata": {
        "id": "ea475639-1256-43df-b0a7-ab7c5d52db04"
      },
      "source": [
        "#### Subtipos y Genéricos\n",
        "\n",
        "Permiten definir estructuras que se basan en ciertos tipos, como listas de strings, etc...\n",
        "\n",
        "- `List[str]` # lista de strings\n",
        "- `List[float]` # lista de floats\n",
        "- `List[Union[int, float]]` # lista de enteros y flotantes.\n",
        "- `Tuple[str, str, str]` # tupla de 3 strings.\n",
        "- `Optional[str]` # la variable puede ser str o None.\n",
        "- `Set[str]` # conjunto de strings.\n",
        "- `Dict[str, Any]` # definición de un diccionario con llaves str y valores cualquiera.\n",
        "\n",
        "Se importan desde el paquete `typing` a través `from typing import List, Any`"
      ]
    },
    {
      "cell_type": "markdown",
      "id": "a818e94c-7cc2-4e7b-8405-5362614019a3",
      "metadata": {
        "id": "a818e94c-7cc2-4e7b-8405-5362614019a3"
      },
      "source": [
        "### Primeros pasos con `FastAPI`\n",
        "\n",
        "\n",
        "La clase continuará en la ejecución de los distintos scripts que contienen servidores implementados en FastApi."
      ]
    },
    {
      "cell_type": "code",
      "execution_count": 2,
      "id": "23900658-45e1-41ed-a562-a6629cef2346",
      "metadata": {
        "colab": {
          "base_uri": "https://localhost:8080/"
        },
        "id": "23900658-45e1-41ed-a562-a6629cef2346",
        "outputId": "5e081393-be60-473b-8bf1-ebfd78bba9f0"
      },
      "outputs": [
        {
          "output_type": "stream",
          "name": "stdout",
          "text": [
            "Looking in indexes: https://pypi.org/simple, https://us-python.pkg.dev/colab-wheels/public/simple/\n",
            "Collecting fastapi[all]\n",
            "  Downloading fastapi-0.87.0-py3-none-any.whl (55 kB)\n",
            "\u001b[K     |████████████████████████████████| 55 kB 2.3 MB/s \n",
            "\u001b[?25hCollecting starlette==0.21.0\n",
            "  Downloading starlette-0.21.0-py3-none-any.whl (64 kB)\n",
            "\u001b[K     |████████████████████████████████| 64 kB 2.2 MB/s \n",
            "\u001b[?25hRequirement already satisfied: pydantic!=1.7,!=1.7.1,!=1.7.2,!=1.7.3,!=1.8,!=1.8.1,<2.0.0,>=1.6.2 in /usr/local/lib/python3.7/dist-packages (from fastapi[all]) (1.10.2)\n",
            "Collecting python-multipart>=0.0.5\n",
            "  Downloading python-multipart-0.0.5.tar.gz (32 kB)\n",
            "Requirement already satisfied: itsdangerous>=1.1.0 in /usr/local/lib/python3.7/dist-packages (from fastapi[all]) (1.1.0)\n",
            "Requirement already satisfied: jinja2>=2.11.2 in /usr/local/lib/python3.7/dist-packages (from fastapi[all]) (2.11.3)\n",
            "Collecting email-validator>=1.1.1\n",
            "  Downloading email_validator-1.3.0-py2.py3-none-any.whl (22 kB)\n",
            "Collecting ujson!=4.0.2,!=4.1.0,!=4.2.0,!=4.3.0,!=5.0.0,!=5.1.0,>=4.0.1\n",
            "  Downloading ujson-5.5.0-cp37-cp37m-manylinux_2_17_x86_64.manylinux2014_x86_64.whl (45 kB)\n",
            "\u001b[K     |████████████████████████████████| 45 kB 4.0 MB/s \n",
            "\u001b[?25hRequirement already satisfied: pyyaml>=5.3.1 in /usr/local/lib/python3.7/dist-packages (from fastapi[all]) (6.0)\n",
            "Collecting httpx>=0.23.0\n",
            "  Downloading httpx-0.23.1-py3-none-any.whl (84 kB)\n",
            "\u001b[K     |████████████████████████████████| 84 kB 3.8 MB/s \n",
            "\u001b[?25hCollecting orjson>=3.2.1\n",
            "  Downloading orjson-3.8.2-cp37-cp37m-manylinux_2_17_x86_64.manylinux2014_x86_64.whl (278 kB)\n",
            "\u001b[K     |████████████████████████████████| 278 kB 50.2 MB/s \n",
            "\u001b[?25hCollecting uvicorn[standard]>=0.12.0\n",
            "  Downloading uvicorn-0.20.0-py3-none-any.whl (56 kB)\n",
            "\u001b[K     |████████████████████████████████| 56 kB 4.2 MB/s \n",
            "\u001b[?25hRequirement already satisfied: typing-extensions>=3.10.0 in /usr/local/lib/python3.7/dist-packages (from starlette==0.21.0->fastapi[all]) (4.1.1)\n",
            "Collecting anyio<5,>=3.4.0\n",
            "  Downloading anyio-3.6.2-py3-none-any.whl (80 kB)\n",
            "\u001b[K     |████████████████████████████████| 80 kB 9.4 MB/s \n",
            "\u001b[?25hCollecting sniffio>=1.1\n",
            "  Downloading sniffio-1.3.0-py3-none-any.whl (10 kB)\n",
            "Requirement already satisfied: idna>=2.8 in /usr/local/lib/python3.7/dist-packages (from anyio<5,>=3.4.0->starlette==0.21.0->fastapi[all]) (2.10)\n",
            "Requirement already satisfied: dnspython>=1.15.0 in /usr/local/lib/python3.7/dist-packages (from email-validator>=1.1.1->fastapi[all]) (2.2.1)\n",
            "Requirement already satisfied: certifi in /usr/local/lib/python3.7/dist-packages (from httpx>=0.23.0->fastapi[all]) (2022.9.24)\n",
            "Collecting rfc3986[idna2008]<2,>=1.3\n",
            "  Downloading rfc3986-1.5.0-py2.py3-none-any.whl (31 kB)\n",
            "Collecting httpcore<0.17.0,>=0.15.0\n",
            "  Downloading httpcore-0.16.1-py3-none-any.whl (68 kB)\n",
            "\u001b[K     |████████████████████████████████| 68 kB 7.1 MB/s \n",
            "\u001b[?25hCollecting h11<0.15,>=0.13\n",
            "  Downloading h11-0.14.0-py3-none-any.whl (58 kB)\n",
            "\u001b[K     |████████████████████████████████| 58 kB 6.4 MB/s \n",
            "\u001b[?25hRequirement already satisfied: MarkupSafe>=0.23 in /usr/local/lib/python3.7/dist-packages (from jinja2>=2.11.2->fastapi[all]) (2.0.1)\n",
            "Requirement already satisfied: six>=1.4.0 in /usr/local/lib/python3.7/dist-packages (from python-multipart>=0.0.5->fastapi[all]) (1.15.0)\n",
            "Requirement already satisfied: click>=7.0 in /usr/local/lib/python3.7/dist-packages (from uvicorn[standard]>=0.12.0->fastapi[all]) (7.1.2)\n",
            "Collecting python-dotenv>=0.13\n",
            "  Downloading python_dotenv-0.21.0-py3-none-any.whl (18 kB)\n",
            "Collecting uvloop!=0.15.0,!=0.15.1,>=0.14.0\n",
            "  Downloading uvloop-0.17.0-cp37-cp37m-manylinux_2_17_x86_64.manylinux2014_x86_64.whl (4.2 MB)\n",
            "\u001b[K     |████████████████████████████████| 4.2 MB 46.3 MB/s \n",
            "\u001b[?25hCollecting httptools>=0.5.0\n",
            "  Downloading httptools-0.5.0-cp37-cp37m-manylinux_2_5_x86_64.manylinux1_x86_64.manylinux_2_17_x86_64.manylinux2014_x86_64.whl (404 kB)\n",
            "\u001b[K     |████████████████████████████████| 404 kB 47.5 MB/s \n",
            "\u001b[?25hCollecting watchfiles>=0.13\n",
            "  Downloading watchfiles-0.18.1-cp37-abi3-manylinux_2_17_x86_64.manylinux2014_x86_64.whl (1.2 MB)\n",
            "\u001b[K     |████████████████████████████████| 1.2 MB 49.1 MB/s \n",
            "\u001b[?25hCollecting websockets>=10.4\n",
            "  Downloading websockets-10.4-cp37-cp37m-manylinux_2_5_x86_64.manylinux1_x86_64.manylinux_2_17_x86_64.manylinux2014_x86_64.whl (106 kB)\n",
            "\u001b[K     |████████████████████████████████| 106 kB 36.7 MB/s \n",
            "\u001b[?25hBuilding wheels for collected packages: python-multipart\n",
            "  Building wheel for python-multipart (setup.py) ... \u001b[?25l\u001b[?25hdone\n",
            "  Created wheel for python-multipart: filename=python_multipart-0.0.5-py3-none-any.whl size=31677 sha256=60301c995464a1ae3bfca20a7b4fb88aaf16ae5e8c2039b4078afd0ea9c7a985\n",
            "  Stored in directory: /root/.cache/pip/wheels/2c/41/7c/bfd1c180534ffdcc0972f78c5758f89881602175d48a8bcd2c\n",
            "Successfully built python-multipart\n",
            "Installing collected packages: sniffio, rfc3986, h11, anyio, websockets, watchfiles, uvloop, uvicorn, starlette, python-dotenv, httptools, httpcore, ujson, python-multipart, orjson, httpx, fastapi, email-validator\n",
            "Successfully installed anyio-3.6.2 email-validator-1.3.0 fastapi-0.87.0 h11-0.14.0 httpcore-0.16.1 httptools-0.5.0 httpx-0.23.1 orjson-3.8.2 python-dotenv-0.21.0 python-multipart-0.0.5 rfc3986-1.5.0 sniffio-1.3.0 starlette-0.21.0 ujson-5.5.0 uvicorn-0.20.0 uvloop-0.17.0 watchfiles-0.18.1 websockets-10.4\n"
          ]
        }
      ],
      "source": [
        "# instalarlo en caso que no esté\n",
        "import sys\n",
        "\n",
        "!{sys.executable} -m pip install fastapi[all]"
      ]
    },
    {
      "cell_type": "markdown",
      "id": "2324c89a-0c2b-4a41-9437-2ed1db54180d",
      "metadata": {
        "tags": [],
        "id": "2324c89a-0c2b-4a41-9437-2ed1db54180d"
      },
      "source": [
        "## Pequeño ejemplo con Iris\n",
        "\n",
        "![Iris Dataset](https://i.ibb.co/fS1Wq4g/iris.png)"
      ]
    },
    {
      "cell_type": "code",
      "execution_count": 3,
      "id": "055f791e-aefb-433e-b14d-557a12de676b",
      "metadata": {
        "id": "055f791e-aefb-433e-b14d-557a12de676b"
      },
      "outputs": [],
      "source": [
        "from sklearn.datasets import load_iris"
      ]
    },
    {
      "cell_type": "code",
      "execution_count": 4,
      "id": "4e76c79a-6f57-4909-812d-5c72d5e46f9b",
      "metadata": {
        "id": "4e76c79a-6f57-4909-812d-5c72d5e46f9b"
      },
      "outputs": [],
      "source": [
        "iris_df = load_iris(as_frame=True)"
      ]
    },
    {
      "cell_type": "code",
      "execution_count": 5,
      "id": "862b89e4-b100-48ec-980b-1f9c34071731",
      "metadata": {
        "colab": {
          "base_uri": "https://localhost:8080/",
          "height": 424
        },
        "id": "862b89e4-b100-48ec-980b-1f9c34071731",
        "outputId": "48a91f83-4c28-4039-cc43-a4c0e1d26017"
      },
      "outputs": [
        {
          "output_type": "execute_result",
          "data": {
            "text/plain": [
              "     sepal length (cm)  sepal width (cm)  petal length (cm)  petal width (cm)\n",
              "0                  5.1               3.5                1.4               0.2\n",
              "1                  4.9               3.0                1.4               0.2\n",
              "2                  4.7               3.2                1.3               0.2\n",
              "3                  4.6               3.1                1.5               0.2\n",
              "4                  5.0               3.6                1.4               0.2\n",
              "..                 ...               ...                ...               ...\n",
              "145                6.7               3.0                5.2               2.3\n",
              "146                6.3               2.5                5.0               1.9\n",
              "147                6.5               3.0                5.2               2.0\n",
              "148                6.2               3.4                5.4               2.3\n",
              "149                5.9               3.0                5.1               1.8\n",
              "\n",
              "[150 rows x 4 columns]"
            ],
            "text/html": [
              "\n",
              "  <div id=\"df-23dcf5bb-72c7-4ab6-a4e7-2626debc6db1\">\n",
              "    <div class=\"colab-df-container\">\n",
              "      <div>\n",
              "<style scoped>\n",
              "    .dataframe tbody tr th:only-of-type {\n",
              "        vertical-align: middle;\n",
              "    }\n",
              "\n",
              "    .dataframe tbody tr th {\n",
              "        vertical-align: top;\n",
              "    }\n",
              "\n",
              "    .dataframe thead th {\n",
              "        text-align: right;\n",
              "    }\n",
              "</style>\n",
              "<table border=\"1\" class=\"dataframe\">\n",
              "  <thead>\n",
              "    <tr style=\"text-align: right;\">\n",
              "      <th></th>\n",
              "      <th>sepal length (cm)</th>\n",
              "      <th>sepal width (cm)</th>\n",
              "      <th>petal length (cm)</th>\n",
              "      <th>petal width (cm)</th>\n",
              "    </tr>\n",
              "  </thead>\n",
              "  <tbody>\n",
              "    <tr>\n",
              "      <th>0</th>\n",
              "      <td>5.1</td>\n",
              "      <td>3.5</td>\n",
              "      <td>1.4</td>\n",
              "      <td>0.2</td>\n",
              "    </tr>\n",
              "    <tr>\n",
              "      <th>1</th>\n",
              "      <td>4.9</td>\n",
              "      <td>3.0</td>\n",
              "      <td>1.4</td>\n",
              "      <td>0.2</td>\n",
              "    </tr>\n",
              "    <tr>\n",
              "      <th>2</th>\n",
              "      <td>4.7</td>\n",
              "      <td>3.2</td>\n",
              "      <td>1.3</td>\n",
              "      <td>0.2</td>\n",
              "    </tr>\n",
              "    <tr>\n",
              "      <th>3</th>\n",
              "      <td>4.6</td>\n",
              "      <td>3.1</td>\n",
              "      <td>1.5</td>\n",
              "      <td>0.2</td>\n",
              "    </tr>\n",
              "    <tr>\n",
              "      <th>4</th>\n",
              "      <td>5.0</td>\n",
              "      <td>3.6</td>\n",
              "      <td>1.4</td>\n",
              "      <td>0.2</td>\n",
              "    </tr>\n",
              "    <tr>\n",
              "      <th>...</th>\n",
              "      <td>...</td>\n",
              "      <td>...</td>\n",
              "      <td>...</td>\n",
              "      <td>...</td>\n",
              "    </tr>\n",
              "    <tr>\n",
              "      <th>145</th>\n",
              "      <td>6.7</td>\n",
              "      <td>3.0</td>\n",
              "      <td>5.2</td>\n",
              "      <td>2.3</td>\n",
              "    </tr>\n",
              "    <tr>\n",
              "      <th>146</th>\n",
              "      <td>6.3</td>\n",
              "      <td>2.5</td>\n",
              "      <td>5.0</td>\n",
              "      <td>1.9</td>\n",
              "    </tr>\n",
              "    <tr>\n",
              "      <th>147</th>\n",
              "      <td>6.5</td>\n",
              "      <td>3.0</td>\n",
              "      <td>5.2</td>\n",
              "      <td>2.0</td>\n",
              "    </tr>\n",
              "    <tr>\n",
              "      <th>148</th>\n",
              "      <td>6.2</td>\n",
              "      <td>3.4</td>\n",
              "      <td>5.4</td>\n",
              "      <td>2.3</td>\n",
              "    </tr>\n",
              "    <tr>\n",
              "      <th>149</th>\n",
              "      <td>5.9</td>\n",
              "      <td>3.0</td>\n",
              "      <td>5.1</td>\n",
              "      <td>1.8</td>\n",
              "    </tr>\n",
              "  </tbody>\n",
              "</table>\n",
              "<p>150 rows × 4 columns</p>\n",
              "</div>\n",
              "      <button class=\"colab-df-convert\" onclick=\"convertToInteractive('df-23dcf5bb-72c7-4ab6-a4e7-2626debc6db1')\"\n",
              "              title=\"Convert this dataframe to an interactive table.\"\n",
              "              style=\"display:none;\">\n",
              "        \n",
              "  <svg xmlns=\"http://www.w3.org/2000/svg\" height=\"24px\"viewBox=\"0 0 24 24\"\n",
              "       width=\"24px\">\n",
              "    <path d=\"M0 0h24v24H0V0z\" fill=\"none\"/>\n",
              "    <path d=\"M18.56 5.44l.94 2.06.94-2.06 2.06-.94-2.06-.94-.94-2.06-.94 2.06-2.06.94zm-11 1L8.5 8.5l.94-2.06 2.06-.94-2.06-.94L8.5 2.5l-.94 2.06-2.06.94zm10 10l.94 2.06.94-2.06 2.06-.94-2.06-.94-.94-2.06-.94 2.06-2.06.94z\"/><path d=\"M17.41 7.96l-1.37-1.37c-.4-.4-.92-.59-1.43-.59-.52 0-1.04.2-1.43.59L10.3 9.45l-7.72 7.72c-.78.78-.78 2.05 0 2.83L4 21.41c.39.39.9.59 1.41.59.51 0 1.02-.2 1.41-.59l7.78-7.78 2.81-2.81c.8-.78.8-2.07 0-2.86zM5.41 20L4 18.59l7.72-7.72 1.47 1.35L5.41 20z\"/>\n",
              "  </svg>\n",
              "      </button>\n",
              "      \n",
              "  <style>\n",
              "    .colab-df-container {\n",
              "      display:flex;\n",
              "      flex-wrap:wrap;\n",
              "      gap: 12px;\n",
              "    }\n",
              "\n",
              "    .colab-df-convert {\n",
              "      background-color: #E8F0FE;\n",
              "      border: none;\n",
              "      border-radius: 50%;\n",
              "      cursor: pointer;\n",
              "      display: none;\n",
              "      fill: #1967D2;\n",
              "      height: 32px;\n",
              "      padding: 0 0 0 0;\n",
              "      width: 32px;\n",
              "    }\n",
              "\n",
              "    .colab-df-convert:hover {\n",
              "      background-color: #E2EBFA;\n",
              "      box-shadow: 0px 1px 2px rgba(60, 64, 67, 0.3), 0px 1px 3px 1px rgba(60, 64, 67, 0.15);\n",
              "      fill: #174EA6;\n",
              "    }\n",
              "\n",
              "    [theme=dark] .colab-df-convert {\n",
              "      background-color: #3B4455;\n",
              "      fill: #D2E3FC;\n",
              "    }\n",
              "\n",
              "    [theme=dark] .colab-df-convert:hover {\n",
              "      background-color: #434B5C;\n",
              "      box-shadow: 0px 1px 3px 1px rgba(0, 0, 0, 0.15);\n",
              "      filter: drop-shadow(0px 1px 2px rgba(0, 0, 0, 0.3));\n",
              "      fill: #FFFFFF;\n",
              "    }\n",
              "  </style>\n",
              "\n",
              "      <script>\n",
              "        const buttonEl =\n",
              "          document.querySelector('#df-23dcf5bb-72c7-4ab6-a4e7-2626debc6db1 button.colab-df-convert');\n",
              "        buttonEl.style.display =\n",
              "          google.colab.kernel.accessAllowed ? 'block' : 'none';\n",
              "\n",
              "        async function convertToInteractive(key) {\n",
              "          const element = document.querySelector('#df-23dcf5bb-72c7-4ab6-a4e7-2626debc6db1');\n",
              "          const dataTable =\n",
              "            await google.colab.kernel.invokeFunction('convertToInteractive',\n",
              "                                                     [key], {});\n",
              "          if (!dataTable) return;\n",
              "\n",
              "          const docLinkHtml = 'Like what you see? Visit the ' +\n",
              "            '<a target=\"_blank\" href=https://colab.research.google.com/notebooks/data_table.ipynb>data table notebook</a>'\n",
              "            + ' to learn more about interactive tables.';\n",
              "          element.innerHTML = '';\n",
              "          dataTable['output_type'] = 'display_data';\n",
              "          await google.colab.output.renderOutput(dataTable, element);\n",
              "          const docLink = document.createElement('div');\n",
              "          docLink.innerHTML = docLinkHtml;\n",
              "          element.appendChild(docLink);\n",
              "        }\n",
              "      </script>\n",
              "    </div>\n",
              "  </div>\n",
              "  "
            ]
          },
          "metadata": {},
          "execution_count": 5
        }
      ],
      "source": [
        "X = iris_df[\"data\"]\n",
        "X"
      ]
    },
    {
      "cell_type": "code",
      "execution_count": 6,
      "id": "3d7b8b4c-42cc-405d-97a8-cb04ceb3adc2",
      "metadata": {
        "colab": {
          "base_uri": "https://localhost:8080/"
        },
        "id": "3d7b8b4c-42cc-405d-97a8-cb04ceb3adc2",
        "outputId": "c8ad698a-441e-4a43-e785-51f48534929a"
      },
      "outputs": [
        {
          "output_type": "execute_result",
          "data": {
            "text/plain": [
              "0         setosa\n",
              "1         setosa\n",
              "2         setosa\n",
              "3         setosa\n",
              "4         setosa\n",
              "         ...    \n",
              "145    virginica\n",
              "146    virginica\n",
              "147    virginica\n",
              "148    virginica\n",
              "149    virginica\n",
              "Name: target, Length: 150, dtype: object"
            ]
          },
          "metadata": {},
          "execution_count": 6
        }
      ],
      "source": [
        "y = iris_df[\"target\"].replace({0: 'setosa', 1: 'versicolor', 2: 'virginica'})\n",
        "y"
      ]
    },
    {
      "cell_type": "code",
      "execution_count": 7,
      "id": "d545e0ea-9b9d-469b-9899-073647521f30",
      "metadata": {
        "id": "d545e0ea-9b9d-469b-9899-073647521f30"
      },
      "outputs": [],
      "source": [
        "from sklearn.naive_bayes import GaussianNB\n",
        "from sklearn.model_selection import train_test_split\n",
        "\n",
        "X_train, X_test, y_train, y_test = train_test_split(X, y, test_size=0.3)\n",
        "\n",
        "gnb = GaussianNB().fit(X_train, y_train)\n",
        "\n",
        "y_pred = gnb.predict(X_test)"
      ]
    },
    {
      "cell_type": "code",
      "execution_count": 8,
      "id": "d8e1b1e5-93f8-413e-b4c6-8d2aced36e84",
      "metadata": {
        "colab": {
          "base_uri": "https://localhost:8080/"
        },
        "id": "d8e1b1e5-93f8-413e-b4c6-8d2aced36e84",
        "outputId": "b117d070-a058-4a74-8b3a-6a29804fcb70"
      },
      "outputs": [
        {
          "output_type": "stream",
          "name": "stdout",
          "text": [
            "              precision    recall  f1-score   support\n",
            "\n",
            "      setosa       1.00      1.00      1.00        11\n",
            "  versicolor       0.94      0.94      0.94        16\n",
            "   virginica       0.94      0.94      0.94        18\n",
            "\n",
            "    accuracy                           0.96        45\n",
            "   macro avg       0.96      0.96      0.96        45\n",
            "weighted avg       0.96      0.96      0.96        45\n",
            "\n"
          ]
        }
      ],
      "source": [
        "from sklearn.metrics import classification_report\n",
        "\n",
        "print(classification_report(y_test, y_pred))"
      ]
    },
    {
      "cell_type": "markdown",
      "id": "0e5501a1-34b5-44b6-86ad-c2232d7b557b",
      "metadata": {
        "id": "0e5501a1-34b5-44b6-86ad-c2232d7b557b"
      },
      "source": [
        "### Persistencia de Modelos\n",
        "\n",
        "Podemos guardar un modelo de scikit-learn (ya sea un modelo simple o un pipeline con muchas transformaciones incluidas) usando `joblib`."
      ]
    },
    {
      "cell_type": "code",
      "execution_count": 9,
      "id": "81043cc4-5109-45b2-9838-aa625cb0d5d7",
      "metadata": {
        "colab": {
          "base_uri": "https://localhost:8080/"
        },
        "id": "81043cc4-5109-45b2-9838-aa625cb0d5d7",
        "outputId": "783ea664-8099-4dcd-fea5-f8ff497aeecc"
      },
      "outputs": [
        {
          "output_type": "execute_result",
          "data": {
            "text/plain": [
              "GaussianNB()"
            ]
          },
          "metadata": {},
          "execution_count": 9
        }
      ],
      "source": [
        "gnb"
      ]
    },
    {
      "cell_type": "code",
      "execution_count": 10,
      "id": "403eb0e4-ec9a-4056-8b61-8c315a80c775",
      "metadata": {
        "colab": {
          "base_uri": "https://localhost:8080/"
        },
        "id": "403eb0e4-ec9a-4056-8b61-8c315a80c775",
        "outputId": "89f2b166-386d-440e-e5d1-b01b66dd3564"
      },
      "outputs": [
        {
          "output_type": "execute_result",
          "data": {
            "text/plain": [
              "['iris_naive_bayes.joblib']"
            ]
          },
          "metadata": {},
          "execution_count": 10
        }
      ],
      "source": [
        "from joblib import dump, load\n",
        "\n",
        "# guardamos usando dump\n",
        "dump(gnb, 'iris_naive_bayes.joblib') "
      ]
    },
    {
      "cell_type": "code",
      "execution_count": 11,
      "id": "13a944e1-8ce2-403e-a84a-83166d16a53f",
      "metadata": {
        "colab": {
          "base_uri": "https://localhost:8080/"
        },
        "id": "13a944e1-8ce2-403e-a84a-83166d16a53f",
        "outputId": "84e0bd6d-8675-430a-d443-8c979929be68"
      },
      "outputs": [
        {
          "output_type": "execute_result",
          "data": {
            "text/plain": [
              "GaussianNB()"
            ]
          },
          "metadata": {},
          "execution_count": 11
        }
      ],
      "source": [
        "# cargamos usando load\n",
        "gnb_cargado = load('iris_naive_bayes.joblib') \n",
        "gnb_cargado"
      ]
    },
    {
      "cell_type": "code",
      "execution_count": 12,
      "id": "e8b6d4fc",
      "metadata": {
        "colab": {
          "base_uri": "https://localhost:8080/"
        },
        "id": "e8b6d4fc",
        "outputId": "06595c4f-7350-4be0-f095-47e4da505022"
      },
      "outputs": [
        {
          "output_type": "stream",
          "name": "stdout",
          "text": [
            "              precision    recall  f1-score   support\n",
            "\n",
            "      setosa       1.00      1.00      1.00        11\n",
            "  versicolor       0.94      0.94      0.94        16\n",
            "   virginica       0.94      0.94      0.94        18\n",
            "\n",
            "    accuracy                           0.96        45\n",
            "   macro avg       0.96      0.96      0.96        45\n",
            "weighted avg       0.96      0.96      0.96        45\n",
            "\n"
          ]
        }
      ],
      "source": [
        "from sklearn.metrics import classification_report\n",
        "\n",
        "y_pred = gnb_cargado.predict(X_test)\n",
        "\n",
        "print(classification_report(y_test, y_pred))\n"
      ]
    },
    {
      "cell_type": "code",
      "execution_count": 13,
      "id": "6b565ff9-f188-4c82-b296-f3ba9553ab26",
      "metadata": {
        "colab": {
          "base_uri": "https://localhost:8080/",
          "height": 81
        },
        "id": "6b565ff9-f188-4c82-b296-f3ba9553ab26",
        "outputId": "a8d6e425-7fa8-4d99-b6d9-0c894c0849d3"
      },
      "outputs": [
        {
          "output_type": "execute_result",
          "data": {
            "text/plain": [
              "    sepal length (cm)  sepal width (cm)  petal length (cm)  petal width (cm)\n",
              "88                5.6               3.0                4.1               1.3"
            ],
            "text/html": [
              "\n",
              "  <div id=\"df-0e8a210c-e02b-4637-938d-ce5615766187\">\n",
              "    <div class=\"colab-df-container\">\n",
              "      <div>\n",
              "<style scoped>\n",
              "    .dataframe tbody tr th:only-of-type {\n",
              "        vertical-align: middle;\n",
              "    }\n",
              "\n",
              "    .dataframe tbody tr th {\n",
              "        vertical-align: top;\n",
              "    }\n",
              "\n",
              "    .dataframe thead th {\n",
              "        text-align: right;\n",
              "    }\n",
              "</style>\n",
              "<table border=\"1\" class=\"dataframe\">\n",
              "  <thead>\n",
              "    <tr style=\"text-align: right;\">\n",
              "      <th></th>\n",
              "      <th>sepal length (cm)</th>\n",
              "      <th>sepal width (cm)</th>\n",
              "      <th>petal length (cm)</th>\n",
              "      <th>petal width (cm)</th>\n",
              "    </tr>\n",
              "  </thead>\n",
              "  <tbody>\n",
              "    <tr>\n",
              "      <th>88</th>\n",
              "      <td>5.6</td>\n",
              "      <td>3.0</td>\n",
              "      <td>4.1</td>\n",
              "      <td>1.3</td>\n",
              "    </tr>\n",
              "  </tbody>\n",
              "</table>\n",
              "</div>\n",
              "      <button class=\"colab-df-convert\" onclick=\"convertToInteractive('df-0e8a210c-e02b-4637-938d-ce5615766187')\"\n",
              "              title=\"Convert this dataframe to an interactive table.\"\n",
              "              style=\"display:none;\">\n",
              "        \n",
              "  <svg xmlns=\"http://www.w3.org/2000/svg\" height=\"24px\"viewBox=\"0 0 24 24\"\n",
              "       width=\"24px\">\n",
              "    <path d=\"M0 0h24v24H0V0z\" fill=\"none\"/>\n",
              "    <path d=\"M18.56 5.44l.94 2.06.94-2.06 2.06-.94-2.06-.94-.94-2.06-.94 2.06-2.06.94zm-11 1L8.5 8.5l.94-2.06 2.06-.94-2.06-.94L8.5 2.5l-.94 2.06-2.06.94zm10 10l.94 2.06.94-2.06 2.06-.94-2.06-.94-.94-2.06-.94 2.06-2.06.94z\"/><path d=\"M17.41 7.96l-1.37-1.37c-.4-.4-.92-.59-1.43-.59-.52 0-1.04.2-1.43.59L10.3 9.45l-7.72 7.72c-.78.78-.78 2.05 0 2.83L4 21.41c.39.39.9.59 1.41.59.51 0 1.02-.2 1.41-.59l7.78-7.78 2.81-2.81c.8-.78.8-2.07 0-2.86zM5.41 20L4 18.59l7.72-7.72 1.47 1.35L5.41 20z\"/>\n",
              "  </svg>\n",
              "      </button>\n",
              "      \n",
              "  <style>\n",
              "    .colab-df-container {\n",
              "      display:flex;\n",
              "      flex-wrap:wrap;\n",
              "      gap: 12px;\n",
              "    }\n",
              "\n",
              "    .colab-df-convert {\n",
              "      background-color: #E8F0FE;\n",
              "      border: none;\n",
              "      border-radius: 50%;\n",
              "      cursor: pointer;\n",
              "      display: none;\n",
              "      fill: #1967D2;\n",
              "      height: 32px;\n",
              "      padding: 0 0 0 0;\n",
              "      width: 32px;\n",
              "    }\n",
              "\n",
              "    .colab-df-convert:hover {\n",
              "      background-color: #E2EBFA;\n",
              "      box-shadow: 0px 1px 2px rgba(60, 64, 67, 0.3), 0px 1px 3px 1px rgba(60, 64, 67, 0.15);\n",
              "      fill: #174EA6;\n",
              "    }\n",
              "\n",
              "    [theme=dark] .colab-df-convert {\n",
              "      background-color: #3B4455;\n",
              "      fill: #D2E3FC;\n",
              "    }\n",
              "\n",
              "    [theme=dark] .colab-df-convert:hover {\n",
              "      background-color: #434B5C;\n",
              "      box-shadow: 0px 1px 3px 1px rgba(0, 0, 0, 0.15);\n",
              "      filter: drop-shadow(0px 1px 2px rgba(0, 0, 0, 0.3));\n",
              "      fill: #FFFFFF;\n",
              "    }\n",
              "  </style>\n",
              "\n",
              "      <script>\n",
              "        const buttonEl =\n",
              "          document.querySelector('#df-0e8a210c-e02b-4637-938d-ce5615766187 button.colab-df-convert');\n",
              "        buttonEl.style.display =\n",
              "          google.colab.kernel.accessAllowed ? 'block' : 'none';\n",
              "\n",
              "        async function convertToInteractive(key) {\n",
              "          const element = document.querySelector('#df-0e8a210c-e02b-4637-938d-ce5615766187');\n",
              "          const dataTable =\n",
              "            await google.colab.kernel.invokeFunction('convertToInteractive',\n",
              "                                                     [key], {});\n",
              "          if (!dataTable) return;\n",
              "\n",
              "          const docLinkHtml = 'Like what you see? Visit the ' +\n",
              "            '<a target=\"_blank\" href=https://colab.research.google.com/notebooks/data_table.ipynb>data table notebook</a>'\n",
              "            + ' to learn more about interactive tables.';\n",
              "          element.innerHTML = '';\n",
              "          dataTable['output_type'] = 'display_data';\n",
              "          await google.colab.output.renderOutput(dataTable, element);\n",
              "          const docLink = document.createElement('div');\n",
              "          docLink.innerHTML = docLinkHtml;\n",
              "          element.appendChild(docLink);\n",
              "        }\n",
              "      </script>\n",
              "    </div>\n",
              "  </div>\n",
              "  "
            ]
          },
          "metadata": {},
          "execution_count": 13
        }
      ],
      "source": [
        "sample = X_test.sample(1)\n",
        "sample"
      ]
    },
    {
      "cell_type": "code",
      "execution_count": 14,
      "id": "ae5f501a-4fc4-47e1-89b9-806f07b0345f",
      "metadata": {
        "colab": {
          "base_uri": "https://localhost:8080/"
        },
        "id": "ae5f501a-4fc4-47e1-89b9-806f07b0345f",
        "outputId": "e6f38534-9f6c-4481-ee60-437c89bb5271"
      },
      "outputs": [
        {
          "output_type": "execute_result",
          "data": {
            "text/plain": [
              "88    versicolor\n",
              "Name: target, dtype: object"
            ]
          },
          "metadata": {},
          "execution_count": 14
        }
      ],
      "source": [
        "y_test[sample.index]"
      ]
    },
    {
      "cell_type": "code",
      "execution_count": 15,
      "id": "3c356862-3d86-4618-a4b1-cbffd5862ffb",
      "metadata": {
        "colab": {
          "base_uri": "https://localhost:8080/"
        },
        "id": "3c356862-3d86-4618-a4b1-cbffd5862ffb",
        "outputId": "03ab712e-090d-4faa-c55e-4e4e3da3780c"
      },
      "outputs": [
        {
          "output_type": "execute_result",
          "data": {
            "text/plain": [
              "array(['versicolor'], dtype='<U10')"
            ]
          },
          "metadata": {},
          "execution_count": 15
        }
      ],
      "source": [
        "gnb_cargado.predict(sample)"
      ]
    },
    {
      "cell_type": "code",
      "execution_count": 16,
      "id": "87774e11-5c8f-49e1-ab77-039682c38605",
      "metadata": {
        "colab": {
          "base_uri": "https://localhost:8080/"
        },
        "id": "87774e11-5c8f-49e1-ab77-039682c38605",
        "outputId": "fe830350-da83-42ce-9a09-f9435abef489"
      },
      "outputs": [
        {
          "output_type": "execute_result",
          "data": {
            "text/plain": [
              "[[4.9, 3.1, 1.5, 0.1],\n",
              " [6.8, 2.8, 4.8, 1.4],\n",
              " [6.4, 2.8, 5.6, 2.1],\n",
              " [6.5, 3.0, 5.5, 1.8],\n",
              " [5.0, 3.6, 1.4, 0.2],\n",
              " [6.1, 2.8, 4.7, 1.2],\n",
              " [4.6, 3.6, 1.0, 0.2],\n",
              " [5.2, 3.5, 1.5, 0.2],\n",
              " [5.7, 2.6, 3.5, 1.0],\n",
              " [5.0, 2.0, 3.5, 1.0]]"
            ]
          },
          "metadata": {},
          "execution_count": 16
        }
      ],
      "source": [
        "X_test.sample(10).values.tolist()"
      ]
    }
  ],
  "metadata": {
    "kernelspec": {
      "display_name": "Python 3 (ipykernel)",
      "language": "python",
      "name": "python3"
    },
    "language_info": {
      "codemirror_mode": {
        "name": "ipython",
        "version": 3
      },
      "file_extension": ".py",
      "mimetype": "text/x-python",
      "name": "python",
      "nbconvert_exporter": "python",
      "pygments_lexer": "ipython3",
      "version": "3.9.7"
    },
    "toc": {
      "base_numbering": 1,
      "nav_menu": {},
      "number_sections": true,
      "sideBar": true,
      "skip_h1_title": true,
      "title_cell": "Table of Contents",
      "title_sidebar": "Contents",
      "toc_cell": false,
      "toc_position": {},
      "toc_section_display": true,
      "toc_window_display": false
    },
    "colab": {
      "provenance": []
    }
  },
  "nbformat": 4,
  "nbformat_minor": 5
}