{
  "cells": [
    {
      "cell_type": "markdown",
      "id": "f2787705-568d-4d9f-b316-3d26dda12bba",
      "metadata": {
        "id": "f2787705-568d-4d9f-b316-3d26dda12bba"
      },
      "source": [
        "# Clase 21: Introducción a Redes Neuronales\n",
        "\n",
        "**MDS7202: Laboratorio de Programación Científica para Ciencia de Datos**\n",
        "\n",
        "**Profesor: Matías Rojas**\n",
        "\n"
      ]
    },
    {
      "cell_type": "markdown",
      "source": [
        "Tal como las aves nos inspiraron a volar, es lógico poner atención al cerebro humano para inspirarnos en la creación de máquinas inteligentes. Así es como se crearon las primeras Redes Neuronales Artificiales (ANNs, por sus siglas en Inglés), modelos inspirados en las redes de neuronas encontradas en nuestro cerebro y que nos permiten resolver problemas tan complejos como los que típicamente resuelven los humanos.\n",
        "\n",
        "Entre otras aplicaciones, estas redes nos permiten clasificar imágenes con una gran precisión, crear poderosos sistema de reconocimiento de voz y obtener excelentes recomendaciones de videos en Youtube.\n",
        "\n",
        "¿Pero que son realmente estas redes neuronales y cómo podemos programar uno de estos modelos?"
      ],
      "metadata": {
        "id": "gs_ziEwleDNC"
      },
      "id": "gs_ziEwleDNC"
    },
    {
      "cell_type": "markdown",
      "id": "8140d11d-3dfb-4c84-a396-a42d5711ea26",
      "metadata": {
        "id": "8140d11d-3dfb-4c84-a396-a42d5711ea26"
      },
      "source": [
        "----\n",
        "\n",
        "## Perceptron\n",
        "\n",
        "Si bien existen estudios desde los años 40, la introducción más sólida al concepto de redes neuronales aparece bajo el nombre de **perceptrón**, uno de los modelos más simples de ANNs, propuesto por [Rosenblatt en 1957](http://www.ling.upenn.edu/courses/cogs501/Rosenblatt1958.pdf). \n",
        "\n",
        "El perceptron está basado en el concepto de Threshold Logic Unit (TLU), es decir, la utilización de un umbral para la toma de decisiones. Como se ve en la figura, este es un modelo donde los inputs y outputs son números (no necesariamente valores binarios), y cada conexión se encuentra asociada a un peso, que es el grado de importancia de cada valor de entrada. Luego, se calcula la suma ponderada de los valores de entrada y los pesos, y utilizando una función de activación/salto se entrega el valor 0 o 1 dependiendo el valor de la suma acumulada. Adicionalmente a los pesos de cada entrada, se agrega un parámetro llamado bias que afecta en el computo de la función de activación.\n",
        "\n",
        "<div align='center'>\n",
        "    <img src='https://i.ibb.co/nBr5PC6/perceptron.png' width=600/>\n",
        "</div>\n",
        "    \n",
        "<div align='center'>\n",
        "Fuente:\n",
        "    <a href='https://www.javatpoint.com/single-layer-perceptron-in-tensorflow'>javatpoint</a>.\n",
        "</div>\n",
        "\n",
        "<div align='center'>\n",
        "<img src='https://i.ibb.co/NYYPSdW/step.png' width='400' />\n",
        "</div>\n",
        "\n",
        "Podrán notar que el principal problema de los perceptrones es su poca expresibilidad, pues solo permite hacer separaciones lineales. El clásico ejemplo de esta limitación es el problema del XOR, donde no es posible trazar una única recta que pueda dividir ambas clases.\n",
        "\n",
        "\n",
        "\n",
        "    \n",
        "    \n"
      ]
    },
    {
      "cell_type": "markdown",
      "id": "240b4479-9a7c-4ba0-9252-c7657168fffe",
      "metadata": {
        "id": "240b4479-9a7c-4ba0-9252-c7657168fffe"
      },
      "source": [
        "### Ejemplo a mano\n",
        "\n",
        "En este ejemplo haremos un perceptrón que clasifique si un vector representa o no a un gato. El vector está compuesto por 4 valores binarios que responden a las siguientes preguntas:\n",
        "\n",
        "- ¿Tiene cola?\n",
        "- ¿Tiene dos orejas?\n",
        "- ¿Son adoptados como mascotas?\n",
        "- ¿Maulla?\n",
        "\n",
        "Si el vector está compuesto sólo de 1s, entonces corresponde a un gato."
      ]
    },
    {
      "cell_type": "markdown",
      "id": "d50e8b05-e545-464b-aac9-abb96795ab1e",
      "metadata": {
        "id": "d50e8b05-e545-464b-aac9-abb96795ab1e"
      },
      "source": [
        "Generamos entonces nuestros datos artificiales:"
      ]
    },
    {
      "cell_type": "code",
      "execution_count": null,
      "id": "88262027-a1f6-4c67-bd4d-f9467425db25",
      "metadata": {
        "id": "88262027-a1f6-4c67-bd4d-f9467425db25"
      },
      "outputs": [],
      "source": [
        "import numpy as np\n",
        "\n",
        "gato = [1, 1, 1, 1]\n",
        "persona = [0, 1, 0, 0]\n",
        "arbol = [0, 0, 0, 0]\n",
        "perro = [1, 1, 1, 0]"
      ]
    },
    {
      "cell_type": "code",
      "execution_count": null,
      "id": "f4a3dd10-3a3f-43f1-833c-5acab33e6912",
      "metadata": {
        "id": "f4a3dd10-3a3f-43f1-833c-5acab33e6912"
      },
      "outputs": [],
      "source": [
        "entradas = np.array([gato, persona, arbol, perro])\n",
        "etiquetas = np.array([1, 0, 0, 0])"
      ]
    },
    {
      "cell_type": "markdown",
      "id": "2510ccbc-3d9e-4b27-9d97-7e29df7ec02f",
      "metadata": {
        "id": "2510ccbc-3d9e-4b27-9d97-7e29df7ec02f"
      },
      "source": [
        "Seleccionamos un ejemplo a predecir"
      ]
    },
    {
      "cell_type": "code",
      "execution_count": null,
      "id": "c04433c2-0e8f-4605-af22-79dfdb0bfbf3",
      "metadata": {
        "id": "c04433c2-0e8f-4605-af22-79dfdb0bfbf3"
      },
      "outputs": [],
      "source": [
        "ejemplo = gato"
      ]
    },
    {
      "cell_type": "markdown",
      "id": "8cc12700-a90e-4f48-92ae-ddd47fa0e215",
      "metadata": {
        "id": "8cc12700-a90e-4f48-92ae-ddd47fa0e215"
      },
      "source": [
        "Definimos nuestros pesos"
      ]
    },
    {
      "cell_type": "code",
      "execution_count": null,
      "id": "1b349938-21f3-4579-ae1b-2613a05ad1a4",
      "metadata": {
        "id": "1b349938-21f3-4579-ae1b-2613a05ad1a4"
      },
      "outputs": [],
      "source": [
        "pesos = np.array([0.0, -0.01, 0.0, 0.03])\n",
        "sesgo = -0.01"
      ]
    },
    {
      "cell_type": "markdown",
      "id": "01064075-6ff9-4499-b107-6c845dba2a56",
      "metadata": {
        "id": "01064075-6ff9-4499-b107-6c845dba2a56"
      },
      "source": [
        "Calculamos la suma ponderada de los pesos por la entrada y añadimos el valor de sesgo. Comunmente a esto le llamamos *acumulación de información* o *carga*."
      ]
    },
    {
      "cell_type": "code",
      "execution_count": null,
      "id": "3a6a895f-7097-4f71-9926-5ba739efd16f",
      "metadata": {
        "id": "3a6a895f-7097-4f71-9926-5ba739efd16f"
      },
      "outputs": [],
      "source": [
        "np.dot(pesos, ejemplo) + sesgo  "
      ]
    },
    {
      "cell_type": "markdown",
      "id": "7a056293-08ec-4120-89c1-b9b73e9e3ef2",
      "metadata": {
        "id": "7a056293-08ec-4120-89c1-b9b73e9e3ef2"
      },
      "source": [
        "Noten que el sesgo define que hace el perceptrón en el caso que toda la entrada vale 0. En general, desplaza la función de entrada hacia arriba o hacia abajo.\n",
        "\n",
        "Otra forma de verlo (cuando es negativo) es cuanta información acumulada mínima requiero para activar la neurona."
      ]
    },
    {
      "cell_type": "code",
      "execution_count": null,
      "id": "cbc205b6-a9cb-425d-af87-31220c0d1772",
      "metadata": {
        "id": "cbc205b6-a9cb-425d-af87-31220c0d1772"
      },
      "outputs": [],
      "source": [
        "acumulacion_de_informacion = np.dot(pesos, ejemplo) + sesgo\n",
        "acumulacion_de_informacion"
      ]
    },
    {
      "cell_type": "markdown",
      "id": "3fcbd78a-a4f2-410e-a7db-9c38f790e07c",
      "metadata": {
        "id": "3fcbd78a-a4f2-410e-a7db-9c38f790e07c"
      },
      "source": [
        "Por último, clasificamos. \n",
        "\n",
        "- Si la suma es mayor que 0, retornamos 1.\n",
        "- Si no, retornamos 0"
      ]
    },
    {
      "cell_type": "code",
      "execution_count": null,
      "id": "e47b278e-6424-4b3b-a73e-3c5931d6b652",
      "metadata": {
        "id": "e47b278e-6424-4b3b-a73e-3c5931d6b652"
      },
      "outputs": [],
      "source": [
        "def funcion_de_activacion(x):\n",
        "    return 1 if x > 0 else 0"
      ]
    },
    {
      "cell_type": "code",
      "execution_count": null,
      "id": "136fd562-0d74-411f-a13e-398dd99165fa",
      "metadata": {
        "id": "136fd562-0d74-411f-a13e-398dd99165fa"
      },
      "outputs": [],
      "source": [
        "prediccion = funcion_de_activacion(acumulacion_de_informacion)\n",
        "prediccion"
      ]
    },
    {
      "cell_type": "markdown",
      "id": "b0130982-f823-4827-8157-433b942f317e",
      "metadata": {
        "id": "b0130982-f823-4827-8157-433b942f317e"
      },
      "source": [
        "### Aprendizaje en un Perceptrón y Descenso del Gradiente\n",
        "\n",
        "Entrenar un perceptron consiste en ir ajustando los pesos a medida que vemos los datos de entrenamiento. Comunmente, esto se logra a través del descenso del gradiente.\n",
        "\n",
        "Para explicar esta idea, primero definimos una función de pérdida o loss $\\mathcal{L}$. Esta función se encarga de cuantificar cuanto nos equivocamos al predecir nuestros ejemplos de entrenamiento.\n",
        "\n",
        "El descenso del gradiente simplemente es un **método para minimizar una función de pérdida** a partir de datos de entrenamiento:\n",
        "\n",
        "$$w_{n+1} = w_{n} - \\alpha \\cdot \\Delta \\mathcal{L} $$\n",
        "\n",
        "En este caso:\n",
        "- $w_n$ representa los pesos actuales. $w_{n+1}$ los pesos actualizados.\n",
        "- $\\alpha$ se denomina como tasa de aprendizaje o Learning Rate. Es un hiperparámetro que ajusta tanto se mueven los pesos en cada iteración de entrenamiento.\n",
        "- $\\Delta\\mathcal{L}$ es el gradiente de la función de pérdida $\\mathcal{L}$ (i.e., su derivada con respecto cada parámetro)\n",
        "\n",
        "\n",
        "\n"
      ]
    },
    {
      "cell_type": "markdown",
      "id": "4fc31584-aa4a-4dd3-a09b-8f32ac456930",
      "metadata": {
        "id": "4fc31584-aa4a-4dd3-a09b-8f32ac456930"
      },
      "source": [
        "#### Paréntesis: Tasa de Aprendizaje\n",
        "\n",
        "<div align='center'>\n",
        "<img src='https://i.ibb.co/YZ1M54w/learning-rates.png' width=900/>\n",
        "</div>\n",
        "\n",
        "<div align='center'>\n",
        "    Fuente: <a href='http://www.bdhammel.com/learning-rates/'>http://www.bdhammel.com/learning-rates/</a>\n",
        "</div>\n",
        "\n",
        "Veamos que sucede caso a caso. Una tasa de aprendizaje...\n",
        "\n",
        "- muy baja tomará mucho tiempo en converger.\n",
        "- alta saltará las mejores configuraciones \n",
        "- muy alta incluso podría diverger.\n"
      ]
    },
    {
      "cell_type": "markdown",
      "id": "3fc07686-8b44-4c10-a4a7-3f135188fe3e",
      "metadata": {
        "id": "3fc07686-8b44-4c10-a4a7-3f135188fe3e"
      },
      "source": [
        "\n",
        "#### Relacionado: Proyecciones de Funciones de Loss de Distintas Redes Neuronales\n",
        "\n",
        "<div align='center'>\n",
        "<img alt='Proyecciones de Funciones de Loss de Distintas Redes Neuronales' src='https://i.ibb.co/ys24LHg/proyecciones-loss.png' />\n",
        "</div>\n",
        "    \n",
        "<div align='center'>\n",
        "    Fuente: <a href='https://www.cs.umd.edu/~tomg/projects/landscapes/'>https://www.cs.umd.edu/~tomg/projects/landscapes/</a>\n",
        "</div>\n",
        "    \n",
        "    \n"
      ]
    },
    {
      "cell_type": "markdown",
      "id": "1061faa8-8070-442a-9e8b-99029a43edc7",
      "metadata": {
        "id": "1061faa8-8070-442a-9e8b-99029a43edc7"
      },
      "source": [
        "> **Pregunta:** Viendo las imágenes anteriores, ¿es posible que el descenso del gradiente no encuentre el optimo global?"
      ]
    },
    {
      "cell_type": "markdown",
      "id": "bef8dcb2-82ef-4a29-af65-c4180326b8bb",
      "metadata": {
        "id": "bef8dcb2-82ef-4a29-af65-c4180326b8bb"
      },
      "source": [
        "#### Siguiendo con el Descenso del Gradiente\n",
        "\n",
        "\n",
        "El descenso del gradiente simplemente es un método para minimizar una función de pérdida a partir de datos de entrenamiento:\n",
        "\n",
        "$$w_{n+1} = w_{n} - \\alpha \\cdot \\Delta \\mathcal{L} $$\n",
        "\n",
        "En este caso:\n",
        "- $w_n$ representa los pesos actuales. $w_{n+1}$ los pesos actualizados.\n",
        "- $\\alpha$ se denomina como tasa de aprendizaje o Learning Rate. Es un hiperparámetro que ajusta tanto se mueven los pesos en cada iteración de entrenamiento.\n",
        "- $\\Delta\\mathcal{L}$ es el gradiente de la función de pérdida $\\mathcal{L}$ (i.e., su derivada con respecto cada parámetro)\n",
        "\n",
        "\n",
        "\n",
        "En nuestro caso, usaremos la función de pérdida *suma de los errores cuadráticos* o *sum of squared errors* **SSE**: \n",
        "\n",
        "$$\\mathcal{L} = \\frac{1}{2}\\sum_i (y - \\hat{y})^2$$\n",
        "\n",
        "Además, recordemos que tenemos la siguiente expresión:\n",
        "\n",
        "$$\\mathcal{L} = \\frac{1}{2}\\sum_i (y - (wx + b))^2$$\n",
        "\n",
        "Por lo tanto (suponiendo que en cada iteración solo vemos un ejemplo (i.e., omitimos la sumatoria)), su gradiente (para cualquier peso $j$) es:\n",
        "\n",
        "\n",
        "\n",
        "$$\\frac{\\partial}{\\partial w_{j}}\\mathcal{L} = - (y - \\hat{y}) \\cdot x$$\n",
        "\n",
        "\n",
        "Así, el descenso del gradiente para entrenar nuestro perceptrón es:\n",
        "\n",
        "$$w_{n+1} = w_{n} + \\alpha \\cdot (y - \\hat{y}) \\cdot x$$"
      ]
    },
    {
      "cell_type": "markdown",
      "id": "7c7d952c-3517-4c95-b520-e1940618848d",
      "metadata": {
        "id": "7c7d952c-3517-4c95-b520-e1940618848d"
      },
      "source": [
        "Para ejemplificar lo dicho anteriormente, implementaremos un perceptrón:"
      ]
    },
    {
      "cell_type": "code",
      "execution_count": null,
      "id": "b10e3ed0-c902-4958-a971-a7d37e46a97b",
      "metadata": {
        "id": "b10e3ed0-c902-4958-a971-a7d37e46a97b"
      },
      "outputs": [],
      "source": [
        "# basado en # https://medium.com/@thomascountz/19-line-line-by-line-python-perceptron-b6f113b161f3\n",
        "\n",
        "import numpy as np\n",
        "\n",
        "\n",
        "def funcion_de_activacion(x):\n",
        "    return 1 if x > 0 else 0\n",
        "\n",
        "\n",
        "class Perceptron(object):\n",
        "    def __init__(self, dimensiones_input, epocas=100, tasa_aprendizaje=0.01):\n",
        "        self.epocas = epocas\n",
        "        self.tasa_aprendizaje = tasa_aprendizaje\n",
        "        # los pesos los guardamos como un arreglo que contiene el sesgo en el índice 0 y\n",
        "        # los pesos que multiplican al input desde el índice 1.\n",
        "        self.pesos = np.zeros(dimensiones_input + 1)\n",
        "\n",
        "    def predict(self, inputs):\n",
        "        acumulacion_de_informacion = np.dot(inputs, self.pesos[1:]) + self.pesos[0]\n",
        "        return funcion_de_activacion(acumulacion_de_informacion)\n",
        "\n",
        "    def fit(self, datos_entrenamiento, etiquetas):\n",
        "        # Una época es una pasada completa sobre el dataset de entrenamiento.\n",
        "        for _ in range(self.epocas):\n",
        "            for entrada, etiqueta in zip(datos_entrenamiento, etiquetas):\n",
        "                prediccion = self.predict(entrada)\n",
        "                self.pesos[1:] += (\n",
        "                    self.tasa_aprendizaje * (etiqueta - prediccion) * entrada\n",
        "                )\n",
        "                self.pesos[0] += self.tasa_aprendizaje * (etiqueta - prediccion)"
      ]
    },
    {
      "cell_type": "code",
      "execution_count": null,
      "id": "41e184a8-cc94-4eae-a0f0-ed4e53776ee5",
      "metadata": {
        "id": "41e184a8-cc94-4eae-a0f0-ed4e53776ee5"
      },
      "outputs": [],
      "source": [
        "p = Perceptron(4)"
      ]
    },
    {
      "cell_type": "code",
      "execution_count": null,
      "id": "1acf8607-a7c1-40bf-b3ce-91ecc36f281f",
      "metadata": {
        "id": "1acf8607-a7c1-40bf-b3ce-91ecc36f281f"
      },
      "outputs": [],
      "source": [
        "p.fit(entradas, etiquetas)"
      ]
    },
    {
      "cell_type": "code",
      "execution_count": null,
      "id": "2f48c593-0191-40cc-87ef-453086e86c0b",
      "metadata": {
        "id": "2f48c593-0191-40cc-87ef-453086e86c0b"
      },
      "outputs": [],
      "source": [
        "p.predict(gato)"
      ]
    },
    {
      "cell_type": "code",
      "execution_count": null,
      "id": "23ed00be-f72f-47c9-9337-5a15ceda0c0a",
      "metadata": {
        "id": "23ed00be-f72f-47c9-9337-5a15ceda0c0a"
      },
      "outputs": [],
      "source": [
        "p.predict(perro)"
      ]
    },
    {
      "cell_type": "code",
      "execution_count": null,
      "id": "537d246a-c2a0-45da-ba0c-e69c0e34f559",
      "metadata": {
        "id": "537d246a-c2a0-45da-ba0c-e69c0e34f559"
      },
      "outputs": [],
      "source": [
        "p.pesos"
      ]
    },
    {
      "cell_type": "markdown",
      "id": "052a311b-6b35-4066-b33a-d6acfb695784",
      "metadata": {
        "id": "052a311b-6b35-4066-b33a-d6acfb695784"
      },
      "source": [
        "> **Nota**: Una época es una pasada completa sobre el dataset de entrenamiento."
      ]
    },
    {
      "cell_type": "markdown",
      "id": "cc17f01c-c39a-4468-9d2b-a0a268092ac4",
      "metadata": {
        "id": "cc17f01c-c39a-4468-9d2b-a0a268092ac4"
      },
      "source": [
        "> **Pregunta:** ¿Cuales son los hiperparámetros de nuestro perceptrón? ¿Podemos variar la función de pérdida? ¿Podemos también variar la forma en que entrenamos?"
      ]
    },
    {
      "cell_type": "markdown",
      "id": "d1a74dce-3602-4f87-bb2a-ea7b7f5dd3ae",
      "metadata": {
        "id": "d1a74dce-3602-4f87-bb2a-ea7b7f5dd3ae"
      },
      "source": [
        "### Cantidad de datos que le entregamos al Descenso del Gradiente:\n",
        "\n",
        "El entrenamiento por medio del descenso del gradiente puede variar según la cantidad de datos que le entregamos en cada iteración. A continuación se muestran 3 enfoques:\n",
        "\n",
        "\n",
        "- Descenso del gradiente en lotes (o **batch**): En este caso entregamos todos los datos en una sola pasada. Puede estancar el aprendizaje debido a que siempre usaremos todas las muestras.\n",
        "\n",
        "\n",
        "- Descenso del Gradiente Estocástico (Stochastic Gradient Descent o **SGD**): Usamos una muestra aleatoria en cada iteración. El gradiente y la actualización de pesos se calcula en relación a esa muestra en particular, lo que dificulta el estancamiento. Sin embargo, implica lentitud en el proceso.\n",
        "\n",
        "- Descenso del gradiente Estocástico en mini-lotes (**mini-batch**): Mezcla entre las opciones anteriores. Ingresa un pequeño batch y actualiza los pesos sobre el gradiente calculado a partir de ese batch. Los ejemplos del batch son elegidos aleatoriamente.\n"
      ]
    },
    {
      "cell_type": "markdown",
      "id": "59344092-8264-42d4-8d7f-303fdad4a8db",
      "metadata": {
        "id": "59344092-8264-42d4-8d7f-303fdad4a8db"
      },
      "source": [
        "> **Pregunta**: ¿Por qué se usa descenso de gradiente y no otros métodos de optimización (como derivar e igualar a cero...)?"
      ]
    },
    {
      "cell_type": "markdown",
      "id": "397500a5-2231-4258-a929-4f2f593e613a",
      "metadata": {
        "id": "397500a5-2231-4258-a929-4f2f593e613a"
      },
      "source": [
        "---\n",
        "\n",
        "## Perceptrón Multicapa\n",
        "\n",
        "\n",
        "Sobre el modelo anterior, podemos construir uno más complejo llamado *perceptron multicapa* o *MultiLayer Perceptron* (**MLP**). Un MLP consiste en múltiples modelos de perceptron intecomunicadas. Cada uno de estos modelos se denota como *unidad* (*unit*) y se organizan en capas secuenciales.\n",
        "\n",
        "<div align='center'>\n",
        "<img alt='MLP esquema simple' src='https://i.ibb.co/QF01fGB/mlp-simple.png' width=600/>\n",
        "</div>\n",
        "\n",
        "\n",
        "<div align='center'>\n",
        "    Fuente: <a href='https://becominghuman.ai/multi-layer-perceptron-mlp-models-on-real-world-banking-data-f6dd3d7e998f/'>https://becominghuman.ai/multi-layer-perceptron-mlp-models-on-real-world-banking-data-f6dd3d7e998f/</a>\n",
        "</div>\n",
        "    \n",
        "\n",
        "En la figura:\n",
        "\n",
        "- La *capa input* corresponde a un conjunto de perceptrones que operan sobre el vector de entrada que distribuyen los valores del vector a la siguiente capa.\n",
        "\n",
        "- Las siguientes capas se denotan como *capas ocultas* y se contruyen de manera análoga a la capa input (o inicial). La primera capa oculta consiste en un conjunto de percetrones que operan sobre el output de la capa input. Sobre esta primera capa oculta pueden haber multiples capas ocultas que operan sobre el output de la capa oculta anterior. \n"
      ]
    },
    {
      "cell_type": "markdown",
      "id": "9172188a-da21-4ead-a85a-84f2935bc39b",
      "metadata": {
        "id": "9172188a-da21-4ead-a85a-84f2935bc39b"
      },
      "source": [
        "#### Propagación Hacia Adelante o *Feedforward*\n",
        "\n",
        "\n",
        "El proceso de generar una salida sobre la entrada de una capa anterior se denota *propagación hacia adelante* (*feedforward*) la propagación termina en una última capa denominada *capa output* que entrega el resultado final de la clasificación. \n",
        "\n",
        "Bajo el punto de vista del aprendizaje automático, las capas ocultas de un perceptron multicapa (red neuronal) generan abstracciones o características a partir de los datos sobre los cuales operan. \n",
        "\n"
      ]
    },
    {
      "cell_type": "markdown",
      "id": "8c896644-3964-47cc-b6e5-4279f63232f3",
      "metadata": {
        "id": "8c896644-3964-47cc-b6e5-4279f63232f3"
      },
      "source": [
        "---\n",
        "\n",
        "### `Pytorch`\n",
        "\n",
        "<div align='center'>\n",
        "<img alt='Pytorch logo' src='https://i.ibb.co/9V93Pbn/pytorch-logo.png' width=600/>\n",
        "</div>\n",
        "\n",
        "<br>\n",
        "\n",
        "Para trabajar con redes neuronales haremos uso de la librería **`Pytorch`**. Esta librería consiste en un conjunto de herramientas diseñadas para generar modelos basados en redes neuronales utilizando las capacidades de computo distribuido que ofrecen las GPU (unidades de procesamiento gráfico / tarjetas de video). Esto permite operaciones de vectorización aceleradas y distribuidas. Esta librería se importa como `torch`.\n",
        "\n",
        "**Ejemplo**\n",
        "\n",
        "Se implementa una red neuronal simple utilizando Pytorch. Para esto, se importa el módulo y se indica una semilla aleatoria."
      ]
    },
    {
      "cell_type": "code",
      "execution_count": null,
      "id": "e87b5f70-bd8a-4c7b-abe8-2f2a13f16c8f",
      "metadata": {
        "id": "e87b5f70-bd8a-4c7b-abe8-2f2a13f16c8f"
      },
      "outputs": [],
      "source": [
        "import torch\n",
        "\n",
        "# Se asigna un valor de reproductibilidad\n",
        "torch.manual_seed(6202)"
      ]
    },
    {
      "cell_type": "markdown",
      "id": "4efdb149-521b-4b75-93cd-d7b9c03f9334",
      "metadata": {
        "id": "4efdb149-521b-4b75-93cd-d7b9c03f9334"
      },
      "source": [
        "#### Dataset de Ejemplo: Vino 🍷\n",
        "\n",
        "Se carga el dataset sobre el cual trabajaremos, en este caso será un conjunto de datos de vinos. Este conjunto consta de 13 atributos continuos, cada vino posee un identificador dentro de 3 clases. La idea es asignar un tipo de vino a cada observación. "
      ]
    },
    {
      "cell_type": "code",
      "execution_count": null,
      "id": "45c9d4a8-b7ed-4275-9c23-9dd0dbe67c9c",
      "metadata": {
        "id": "45c9d4a8-b7ed-4275-9c23-9dd0dbe67c9c"
      },
      "outputs": [],
      "source": [
        "import pandas as pd\n",
        "\n",
        "names = [\n",
        "    \"class\",\n",
        "    \"Alcohol\",\n",
        "    \"Malic acid\",\n",
        "    \"Ash\",\n",
        "    \"Alcalinity of ash\",\n",
        "    \"Magnesium\",\n",
        "    \"Total phenols\",\n",
        "    \"Flavanoids\",\n",
        "    \"Nonflavanoid phenols\",\n",
        "    \"Proanthocyanins\",\n",
        "    \"Color intensity\",\n",
        "    \"Hue\",\n",
        "    \"OD280/OD315 of diluted wines\",\n",
        "    \"Proline\",\n",
        "]\n",
        "\n",
        "wine_data = pd.read_csv(\n",
        "    \"http://archive.ics.uci.edu/ml/machine-learning-databases/wine/wine.data\",\n",
        "    names=names,\n",
        ")\n",
        "\n",
        "wine_data.head()"
      ]
    },
    {
      "cell_type": "markdown",
      "id": "91f38cc7-0ed8-4a88-8520-b467e9037a20",
      "metadata": {
        "id": "91f38cc7-0ed8-4a88-8520-b467e9037a20"
      },
      "source": [
        "Se procede a hacer una separación en entrenamiento y test, se hará es una codificación dummy para la variable de respuesta y se estandarizan las variables numéricas"
      ]
    },
    {
      "cell_type": "code",
      "execution_count": null,
      "id": "1521b84a-6a79-4b5e-8767-ba816365ec31",
      "metadata": {
        "id": "1521b84a-6a79-4b5e-8767-ba816365ec31"
      },
      "outputs": [],
      "source": [
        "from sklearn.compose import ColumnTransformer\n",
        "from sklearn.pipeline import Pipeline\n",
        "from sklearn.preprocessing import OrdinalEncoder, StandardScaler\n",
        "\n",
        "response = [\"class\"]\n",
        "num_cols = wine_data.loc[:, \"Alcohol\":].columns.values\n",
        "\n",
        "data_transform = ColumnTransformer(\n",
        "    transformers=[\n",
        "        (\"normaliza\", StandardScaler(), num_cols),\n",
        "        (\"codifica\", OrdinalEncoder(), response),\n",
        "    ]\n",
        ")"
      ]
    },
    {
      "cell_type": "markdown",
      "id": "2c5e500e-c5ee-461f-93d4-1d7a8363fd4b",
      "metadata": {
        "id": "2c5e500e-c5ee-461f-93d4-1d7a8363fd4b"
      },
      "source": [
        "Para evitar fuga de información, se hace una separación en train y test para luego transformar los datos"
      ]
    },
    {
      "cell_type": "code",
      "execution_count": null,
      "id": "4d0036d6-745e-433f-8778-e909618fd792",
      "metadata": {
        "id": "4d0036d6-745e-433f-8778-e909618fd792"
      },
      "outputs": [],
      "source": [
        "from sklearn.model_selection import train_test_split\n",
        "\n",
        "data_train, data_test = train_test_split(wine_data, test_size=0.2)"
      ]
    },
    {
      "cell_type": "markdown",
      "id": "2336fb10-89a6-4a3d-bd6b-d75f5c517d67",
      "metadata": {
        "id": "2336fb10-89a6-4a3d-bd6b-d75f5c517d67"
      },
      "source": [
        "Se aplica el preprocesamiento sobre el conjunto train"
      ]
    },
    {
      "cell_type": "code",
      "execution_count": null,
      "id": "415bf9b0-b631-4aa6-9cfd-7f97edcd2ff6",
      "metadata": {
        "id": "415bf9b0-b631-4aa6-9cfd-7f97edcd2ff6"
      },
      "outputs": [],
      "source": [
        "data = data_transform.fit_transform(data_train)\n",
        "\n",
        "# Se obtienen las variables numericas y de respuesta\n",
        "\n",
        "X_train = data[:, :-1].copy()\n",
        "y_train = data[:, -1:].copy()"
      ]
    },
    {
      "cell_type": "code",
      "execution_count": null,
      "id": "947c48fa-8781-4766-973e-093a4dda442f",
      "metadata": {
        "id": "947c48fa-8781-4766-973e-093a4dda442f"
      },
      "outputs": [],
      "source": [
        "X_train.shape"
      ]
    },
    {
      "cell_type": "code",
      "execution_count": null,
      "id": "a1258f11-6650-4a29-9b4e-70cba81f8868",
      "metadata": {
        "id": "a1258f11-6650-4a29-9b4e-70cba81f8868"
      },
      "outputs": [],
      "source": [
        "y_train.shape"
      ]
    },
    {
      "cell_type": "markdown",
      "id": "89d53fa7-5d8e-45e7-a3bc-10dae80651d5",
      "metadata": {
        "id": "89d53fa7-5d8e-45e7-a3bc-10dae80651d5"
      },
      "source": [
        "#### MLP en `Pytorch`"
      ]
    },
    {
      "cell_type": "markdown",
      "id": "c513a481-bb23-4163-a61d-30bd8f770909",
      "metadata": {
        "id": "c513a481-bb23-4163-a61d-30bd8f770909"
      },
      "source": [
        "El perceptron multicapa que crearemos consiste en 2 capas ocultas y su función de activación tiene la forma:\n",
        "$$f(x) = max(0,x)$$\n",
        "\n",
        "Esta es una función de activación conocida y se denota como **ReLU (Rectified Linear Unit)**. \n",
        "\n",
        "Se definen los parámetros, para la función de activación se utiliza el módulo de redes neuronales de Pytorch, se puede acceder a este módulo por medio de `torch.nn`."
      ]
    },
    {
      "cell_type": "code",
      "execution_count": null,
      "id": "7f9c4b0c-c6ad-476c-99be-b57ed881f9f3",
      "metadata": {
        "id": "7f9c4b0c-c6ad-476c-99be-b57ed881f9f3"
      },
      "outputs": [],
      "source": [
        "# primero, definimos el tamaño de la  capa de entrada que es igual al tamaño del vector de la entrada\n",
        "# y el tamaño de la salida, que es igual al número de clases.\n",
        "input_dim, output_dim = (X_train.shape[1], 3)\n",
        "\n",
        "# Equivalente al output de la capa input\n",
        "input_dim_capas_ocultas = 5\n",
        "\n",
        "# por último definimos la función de activación.\n",
        "f_activation = torch.nn.ReLU()"
      ]
    },
    {
      "cell_type": "markdown",
      "id": "fb1dda06-1f6f-4818-a91d-eab45164beb0",
      "metadata": {
        "id": "fb1dda06-1f6f-4818-a91d-eab45164beb0"
      },
      "source": [
        "#### Capa de Entrada\n",
        "\n",
        "Para definir la primera capa, tenemos que tener en cuenta que buscamos una transformación de la forma $x \\mapsto w^t x$ que luego es clasificada por medio de $f(w^t x)$. Esto quiere decir que los parámetros a entrenar serán los vectores de peso $w$ asociados a cada unidad (perceptron) de cada capa (input, ocultas y output).\n",
        "\n",
        "`Pytorch` ofrece una abstracción para capas formadas por perceptrones de la forma $f(w^t x)$. Esta abstracción es la clase `Linear` (observe que $x \\mapsto w^t x$ es una transformación lineal).\n",
        "\n",
        "A continuación definimos la capa de entrada:"
      ]
    },
    {
      "cell_type": "code",
      "execution_count": null,
      "id": "f9459b4f-eeb2-4820-8d95-399c8a99004d",
      "metadata": {
        "id": "f9459b4f-eeb2-4820-8d95-399c8a99004d"
      },
      "outputs": [],
      "source": [
        "from torch.nn import Linear\n",
        "\n",
        "# in_features: tamaño del vector de entrada.\n",
        "# out_features: tamaño de la primera capa oculta.\n",
        "capa_input = Linear(in_features=input_dim, out_features=input_dim_capas_ocultas)"
      ]
    },
    {
      "cell_type": "markdown",
      "id": "a146b483-4c40-4bd6-95f0-2518787369df",
      "metadata": {
        "id": "a146b483-4c40-4bd6-95f0-2518787369df"
      },
      "source": [
        "#### Capas Ocultas\n",
        "\n",
        "Luego se definen las capas ocultas, estas también corresponden a transformaciones lineales sobre sus capas predecesoras. En este caso, cada capa oculta tendrá dimensión 5 como input y output. A continuación, definimos como ejemplo una capa oculta:"
      ]
    },
    {
      "cell_type": "code",
      "execution_count": null,
      "id": "5ac6b14e-6eac-40a2-bf01-02f49722edbc",
      "metadata": {
        "id": "5ac6b14e-6eac-40a2-bf01-02f49722edbc"
      },
      "outputs": [],
      "source": [
        "Linear(input_dim_capas_ocultas, input_dim_capas_ocultas)"
      ]
    },
    {
      "cell_type": "markdown",
      "id": "c4d74238-6f9d-47c7-877a-1f163e132098",
      "metadata": {
        "id": "c4d74238-6f9d-47c7-877a-1f163e132098"
      },
      "source": [
        "### Arquitectura de la Red\n",
        "\n",
        "\n",
        "```\n",
        "X  -> capa input -> ReLU() -> Co_1 -> ReLU() -> Co_2 -> ReLU() -> capa output -> predicción\n",
        "```\n",
        "\n"
      ]
    },
    {
      "cell_type": "markdown",
      "id": "ac3fbd55-e727-49a4-9254-7fcb8e4c506e",
      "metadata": {
        "id": "ac3fbd55-e727-49a4-9254-7fcb8e4c506e"
      },
      "source": [
        "Para programar el esquema anterior se hace uso de un diccionario ordenado `OrderedDict` de la librería `collections`. Este tipo de objetos opera de manera similar a las Pipelines de Scikit-learn, pues reciben un conjunto de tuplas del tipo `(identificador,objeto)`. Se procede a generar la arquitectura de la red:"
      ]
    },
    {
      "cell_type": "code",
      "execution_count": null,
      "id": "7bf8958f-e758-4ab2-b13b-4e78383946d2",
      "metadata": {
        "id": "7bf8958f-e758-4ab2-b13b-4e78383946d2"
      },
      "outputs": [],
      "source": [
        "from collections import OrderedDict\n",
        "\n",
        "n_capas_ocultas = 2\n",
        "\n",
        "# capa input\n",
        "input_ = (\"capa input\", capa_input)\n",
        "relu = (\"relu\", f_activation)\n",
        "\n",
        "# etapas (similar al pipeline)\n",
        "steps = [input_]\n",
        "\n",
        "# capas ocultas\n",
        "for i in range(n_capas_ocultas):\n",
        "\n",
        "    capa_i = (\n",
        "        f\"capa oculta_{i}\",\n",
        "        Linear(input_dim_capas_ocultas, input_dim_capas_ocultas),\n",
        "    )\n",
        "    relu_i = (f\"relu_{i}\", f_activation)\n",
        "\n",
        "    steps += [capa_i, relu_i]\n",
        "\n",
        "# capa output\n",
        "output = (\"capa output\", Linear(input_dim_capas_ocultas, output_dim))\n",
        "\n",
        "steps.extend([(output), (\"Softmax\", torch.nn.Softmax(dim=1))])\n",
        "\n",
        "# Se utiliza la estructura de diccionario ordenado\n",
        "steps = OrderedDict(steps)\n",
        "\n",
        "steps"
      ]
    },
    {
      "cell_type": "markdown",
      "id": "6e7b1ab7-ff74-420e-9a9b-ea50f01322c5",
      "metadata": {
        "id": "6e7b1ab7-ff74-420e-9a9b-ea50f01322c5"
      },
      "source": [
        "Luego, cuando ya se posee la arquitectura, se inicializa un objeto `Sequential` del módulo `nn`, este objeto permite modelar una red neuronal multicapa recibiendo como input los componentes de la arquitectura de manera ordenada."
      ]
    },
    {
      "cell_type": "code",
      "execution_count": null,
      "id": "66e16432-5fe9-40cb-bff4-7b487999191e",
      "metadata": {
        "id": "66e16432-5fe9-40cb-bff4-7b487999191e"
      },
      "outputs": [],
      "source": [
        "from torch.nn import Sequential\n",
        "\n",
        "# MLP -> multi layer perceptron\n",
        "mlp = Sequential(steps)\n",
        "mlp"
      ]
    },
    {
      "cell_type": "markdown",
      "id": "69b84e66-bb10-43ef-8fb7-ad277603130a",
      "metadata": {
        "id": "69b84e66-bb10-43ef-8fb7-ad277603130a"
      },
      "source": [
        "El resultado entregado por la capa output corresponde a un vector de tres dimensiones, se asigna la clase predicha a aquella componente con el mayor valor. "
      ]
    },
    {
      "cell_type": "markdown",
      "id": "e49e053b-5f97-44cb-9ea9-fae978643582",
      "metadata": {
        "id": "e49e053b-5f97-44cb-9ea9-fae978643582"
      },
      "source": [
        "### Funciones de Pérdida y Entropía Cruzada\n",
        "\n",
        "Luego de definir la red, es necesario definir la función de perdida. Al igual que las funciones de activación, también tenemos una serie de funciones de pérdida recomendadas para ciertos problemas en particular.\n",
        "\n",
        "<div align='center'>\n",
        "<img alt='MLP esquema simple' src='https://i.ibb.co/mFVpnyh/tipos-de-funciones-loss.png' width=600/>\n",
        "</div>\n",
        "\n",
        "<div align='center'>\n",
        "Fuente: <a href='https://towardsdatascience.com/deep-learning-which-loss-and-activation-functions-should-i-use-ac02f1c56aa8'>https://towardsdatascience.com/deep-learning-which-loss-and-activation-functions-should-i-use-ac02f1c56aa8</a>\n",
        "</div>\n",
        "\n",
        "<br>\n",
        "\n",
        "En este caso se utiliza la entropía cruzada. Este criterio permite comparar dos distribuciones de probabilidad $q$ (aproximación) y $p$ (real) en términos de la diferencia de información esperada (en bits por ejemplo) al utilizar la distribución $q$ para describir un eventos codificados, optimizados para $p$. Dado que se trabaja en un problema de clasificación (supervisado) se conoce la distribución real $p$ para una etiqueta  (ej: etiqueta (1,0,0), distribución (100%, 0, 0) ), por otra parte, la distribución aproximada viene dada por nuestro modelo. La entropía cruzada entre $p$ y $q$ se expresa según:\n",
        "$$\n",
        "H(p, q)=-\\sum_{x \\in \\mathcal{X}} p(x) \\log q(x)\n",
        "$$\n",
        "\n",
        "Se implementa mediante:"
      ]
    },
    {
      "cell_type": "code",
      "execution_count": null,
      "id": "52ddd04a-9ec1-4eb6-9bc5-f4015bcd9f05",
      "metadata": {
        "id": "52ddd04a-9ec1-4eb6-9bc5-f4015bcd9f05"
      },
      "outputs": [],
      "source": [
        "criterio = torch.nn.CrossEntropyLoss()"
      ]
    },
    {
      "cell_type": "markdown",
      "id": "b7138327-90dc-4ac0-8627-dc46be7db422",
      "metadata": {
        "id": "b7138327-90dc-4ac0-8627-dc46be7db422"
      },
      "source": [
        "Se debe seleccionar el optimizador a utilizar, en este caso será **descenso de gradiente estocástico**.  Se inicializa entregando dichos parámetros y los coeficientes sobre los que opera, en este caso, los parámetros de la red `mpl` a los cuales se acceede por medio del método `.parameters()`"
      ]
    },
    {
      "cell_type": "code",
      "execution_count": null,
      "id": "ea0b91d8-3574-4492-87e7-fd6d992324e5",
      "metadata": {
        "id": "ea0b91d8-3574-4492-87e7-fd6d992324e5"
      },
      "outputs": [],
      "source": [
        "optimizador = torch.optim.SGD(mlp.parameters(), lr=0.05, momentum=0.1)"
      ]
    },
    {
      "cell_type": "markdown",
      "id": "35567c6e-8fac-4b51-a4dc-c30ddee2f47f",
      "metadata": {
        "id": "35567c6e-8fac-4b51-a4dc-c30ddee2f47f"
      },
      "source": [
        "Finalmente, se puede entrenar la red definida, para ello se define una cantidad de *épocas* (*epochs*), esto se refiere a la cantidad de veces que se entrena utilizando el conjunto de entrenamiento. Este proceso tiene el siguiente orden:\n",
        "\n",
        "1. Genera un conjunto de inputs en un formato compatible.\n",
        "2. En cada época:\n",
        "    1. Inicializa los gradientes asociados al optimizador, esto evita que se acumulen gradientes entre épocas.\n",
        "    2. Se opera sobre los inputs para obtener las predicciones.\n",
        "    3. Se calcula la función de loss.\n",
        "    4. Se calcula el gradiente para cada parámetro. Este proceso se denomina como *propagación hacia atrás* (*backpropagation*).\n",
        "    5. Se actualizan los parámetros según los gradientes usados.\n",
        "    \n",
        "Se implementa el esquema anterior:"
      ]
    },
    {
      "cell_type": "code",
      "execution_count": null,
      "id": "d67185ad-a8c4-4d8c-8dd5-019bcba5423d",
      "metadata": {
        "id": "d67185ad-a8c4-4d8c-8dd5-019bcba5423d"
      },
      "outputs": [],
      "source": [
        "# Paso A - Inicializa los gradientes asociados al optimizador\n",
        "datos_input = torch.autograd.Variable(torch.Tensor(X_train))\n",
        "labels = torch.autograd.Variable(torch.Tensor(y_train.reshape([-1,])).long())"
      ]
    },
    {
      "cell_type": "code",
      "execution_count": null,
      "id": "0bfec8dc-e035-4dd1-804c-2e54cacbd294",
      "metadata": {
        "id": "0bfec8dc-e035-4dd1-804c-2e54cacbd294"
      },
      "outputs": [],
      "source": [
        "datos_input.shape"
      ]
    },
    {
      "cell_type": "code",
      "execution_count": null,
      "id": "346a371f-dd8f-408e-a453-2a3675f208c4",
      "metadata": {
        "id": "346a371f-dd8f-408e-a453-2a3675f208c4"
      },
      "outputs": [],
      "source": [
        "labels.shape"
      ]
    },
    {
      "cell_type": "code",
      "execution_count": null,
      "id": "384e2c83-33df-494c-a43b-470bc622c61a",
      "metadata": {
        "id": "384e2c83-33df-494c-a43b-470bc622c61a"
      },
      "outputs": [],
      "source": [
        "epocas = 100\n",
        "for ep in range(epocas):\n",
        "    # Paso A - Reiniciar los gradientes almacenados en el caso que existan\n",
        "    optimizador.zero_grad()\n",
        "    for i in range(20):\n",
        "        # Paso B - Calcular etiquetas según los pesos actuales\n",
        "        out = mlp(datos_input)\n",
        "        out.requires_grad_(True)\n",
        "        \n",
        "        # Paso C - Se calcula la función de loss.\n",
        "        loss = criterio(out, labels)\n",
        "\n",
        "        # Paso D - Ejecutar Backpropagation: Se calcula cuanto debe cambiar cada parámetro.\n",
        "        # según el valor de la loss.\n",
        "        loss.backward()\n",
        "        \n",
        "        # Paso E - Se actualizan los parámetros.\n",
        "        optimizador.step()\n",
        "\n",
        "    if ((ep + 1) % 10) == 0:\n",
        "        print(\"Epoca: \", ep + 1, \"Loss: \", loss.data)"
      ]
    },
    {
      "cell_type": "markdown",
      "id": "fdd7619d-f0d2-4047-b56e-068881912f80",
      "metadata": {
        "id": "fdd7619d-f0d2-4047-b56e-068881912f80"
      },
      "source": [
        "Se estudia el rendimiento en train y test"
      ]
    },
    {
      "cell_type": "code",
      "execution_count": null,
      "id": "f980596f-e9d7-40e8-804b-fa1a60e19851",
      "metadata": {
        "id": "f980596f-e9d7-40e8-804b-fa1a60e19851"
      },
      "outputs": [],
      "source": [
        "import numpy as np\n",
        "from sklearn.metrics import classification_report\n",
        "\n",
        "dt_test = data_transform.transform(data_test)\n",
        "\n",
        "X_test = dt_test[:, :-1]\n",
        "y_test = dt_test[:, -1:]\n",
        "\n",
        "f = lambda x: torch.argmax(mlp(x), dim=1)\n",
        "\n",
        "# Train error\n",
        "datos_input = torch.Tensor(X_train).float()\n",
        "preds_train = f(datos_input)\n",
        "\n",
        "print(\"Reporte train : \\n\", classification_report(y_train.reshape([-1,]), preds_train))"
      ]
    },
    {
      "cell_type": "code",
      "execution_count": null,
      "id": "0a74f3ff-2752-4b7d-850e-499e73d7957d",
      "metadata": {
        "id": "0a74f3ff-2752-4b7d-850e-499e73d7957d"
      },
      "outputs": [],
      "source": [
        "# Test Error\n",
        "datos_input = torch.Tensor(X_test).float()\n",
        "preds_test = f(datos_input)\n",
        "\n",
        "print(\"Reporte test : \\n\", classification_report(y_test.reshape([-1,]), preds_test))"
      ]
    },
    {
      "cell_type": "markdown",
      "id": "e7c7f35f-53ba-44f1-b7dc-6adaa2f5abc6",
      "metadata": {
        "id": "e7c7f35f-53ba-44f1-b7dc-6adaa2f5abc6"
      },
      "source": [
        "Viendo estos resultados, se puede decir que el clasificador entrenado fue un éxito."
      ]
    },
    {
      "cell_type": "markdown",
      "id": "b73bf7d3-b51b-41f9-92d2-d0c58b5bb833",
      "metadata": {
        "id": "b73bf7d3-b51b-41f9-92d2-d0c58b5bb833"
      },
      "source": [
        "Las redes neuronales pueden ser descritas como un modelo matemático de procesamiento de información. En general, una red neuronal puede considerarse como un sistema con las siguientes características:\n",
        "\n",
        "1. El procesamiento de la información ocurre en unidades llamadas neuronas.\n",
        "2. Las neuronas están conectadas e intercambian información (o señales) por medio de sus conexiones.\n",
        "3. Las conexiones entre neuronas pueden ser fuertes o débiles, dependiendo de como se procesa la información.\n",
        "4. Cada neurona tiene un estado interno determinado por todas las conexiones que posee.\n",
        "5. Cada neurina tiene una función de activación que opera sobre su estado, esta función determina la información que se comparte a otras neuronas.\n",
        "\n",
        "En términos operativos, una red neuronal posee una **arquitectura** que describe el conjunto de conexiones entre neurona y un proceso de **aprendizaje** asociado, que describe el proceso entrenamiento.\n",
        "\n"
      ]
    },
    {
      "cell_type": "markdown",
      "id": "a6ad14b1-142c-4412-b632-fbedc26aef0f",
      "metadata": {
        "id": "a6ad14b1-142c-4412-b632-fbedc26aef0f"
      },
      "source": [
        "Las **neuronas** por tanto, pueden ser definidas por medio de la siguiente relación:\n",
        "$$\n",
        "y=f\\left(\\sum_{i} x_{i} w_{i}+b\\right)\n",
        "$$\n",
        "\n",
        "Acá se hace el calculó $w^t x + b = \\sum_i x_i w_i + b$ sobre los inputs $x_i$ y los pesos $w_i$. Estos últimos, son valores numéricos que representan las conexiones entre neuronas, el peso $b$ se denomina *bias*. Luego se calcula el resultado de aplicar la función de activación $f(\\cdot)$. Existen distintos tipos de funciones de activación dentro de estas se pueden nombrar:\n",
        "\n",
        "* $f(x)=x$ la función identidad.\n",
        "* $f(x)=\\left\\{\\begin{array}{l}1 \\text { if } x \\geq 0 \\\\ 0 \\text { if } x<0\\end{array}\\right.$ la función de activación de umbral.\n",
        "* $f(x)=\\frac{1}{1+\\exp (-x)}$ la función sigmoide logistica, es una de las más utilizadas.\n",
        "* $f(x) =\\frac{1-\\exp (-x)}{1+\\exp (-x)}$ la función sigmoide bipolar, esta corresponde a una sigmoide escalada a $(-1,1)$.\n",
        "* $f(x) = \\frac{1-\\exp (-2 x)}{1+\\exp (-2 x)}$ la tangente hiperbólica. \n",
        "\n",
        "* $f(x)=\\left\\{\\begin{array}{l}x\\text { if } x \\geq 0 \\\\ 0 \\text { if } x<0\\end{array}\\right.$ La función de activación ReLU."
      ]
    },
    {
      "cell_type": "markdown",
      "id": "c5b1f660-6374-44dc-a962-68584bc751ce",
      "metadata": {
        "id": "c5b1f660-6374-44dc-a962-68584bc751ce"
      },
      "source": [
        "**Ejercicio**\n",
        "\n",
        "1. Existen variantes de la función de activación ReLU, investigue al menos 3 y compare sus diferencias."
      ]
    }
  ],
  "metadata": {
    "kernelspec": {
      "display_name": "Python 3",
      "language": "python",
      "name": "python3"
    },
    "language_info": {
      "codemirror_mode": {
        "name": "ipython",
        "version": 3
      },
      "file_extension": ".py",
      "mimetype": "text/x-python",
      "name": "python",
      "nbconvert_exporter": "python",
      "pygments_lexer": "ipython3",
      "version": "3.8.10"
    },
    "colab": {
      "provenance": [],
      "collapsed_sections": [
        "4fc31584-aa4a-4dd3-a09b-8f32ac456930",
        "9172188a-da21-4ead-a85a-84f2935bc39b"
      ]
    }
  },
  "nbformat": 4,
  "nbformat_minor": 5
}