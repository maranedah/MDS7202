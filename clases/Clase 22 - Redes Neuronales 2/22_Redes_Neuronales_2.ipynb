{
 "cells": [
  {
   "cell_type": "markdown",
   "id": "1b712acb-35c9-4137-a42d-f0e82e649b1d",
   "metadata": {},
   "source": [
    "# Clase 23: Redes Neuronales 2\n",
    "\n",
    "**MDS7202: Laboratorio de Programación Científica para Ciencia de Datos**\n",
    "\n",
    "**Profesor: Mauricio Araneda**\n"
   ]
  },
  {
   "cell_type": "markdown",
   "id": "f531ee05-818d-45da-990e-03f1fd9d2def",
   "metadata": {},
   "source": [
    "## Redes Neuronales\n",
    "\n",
    "Las redes neuronales pueden ser descritas como un modelo matemático de procesamiento de información compuesto por muchas funciones anidadas. Estas funciones están definidas por sus parámetros $w$.\n",
    "\n",
    "En general, una red neuronal puede considerarse como un sistema con las siguientes características:\n",
    "\n",
    "1. El procesamiento de la información ocurre en unidades llamadas neuronas.\n",
    "\n",
    "$$\n",
    "y=f\\left(\\sum_{i} x_{i} w_{i}+b\\right)\n",
    "$$\n",
    "\n",
    "<div align='center'>\n",
    "<img src='./resources/neuron.png' width=600/>\n",
    "</div>\n",
    "\n",
    "<div align='center'>\n",
    "   Fuente: <a href='https://www.researchgate.net/figure/The-structure-of-the-artificial-neuron_fig2_328733599\n",
    " '> https://www.researchgate.net/figure/The-structure-of-the-artificial-neuron_fig2_328733599\n",
    "</a>\n",
    "</div>\n",
    "\n",
    "<br>\n"
   ]
  },
  {
   "cell_type": "code",
   "execution_count": 1,
   "id": "097cab28",
   "metadata": {},
   "outputs": [],
   "source": [
    "import numpy as np\n",
    "# functions\n",
    "sign = lambda x: 1 if x > 0 else 0\n",
    "tanh = np.tanh\n",
    "sigmoid = lambda x: 1/(1 + np.exp(-x))"
   ]
  },
  {
   "cell_type": "code",
   "execution_count": 2,
   "id": "a691408d",
   "metadata": {},
   "outputs": [
    {
     "name": "stdout",
     "output_type": "stream",
     "text": [
      "Interior de la funcion: -1.0999999999999996\n",
      "Resultado: 0\n",
      "Clase correcta:  1\n"
     ]
    }
   ],
   "source": [
    "x = np.array([14, 0.8, 37, 4, 8])\n",
    "label = 1\n",
    "\n",
    "w = np.array([1.1, -8, -0.5, -0.8, 1.2]) # <-- TODA la magia del Deep Learning es mover estos valores de w !!!!\n",
    "b = 2\n",
    "\n",
    "xw = x*w\n",
    "sum_xw = xw.sum() #Tambien llamado \"estado interno de la neurona\"\n",
    "\n",
    "f = sign #Funcion de activacion\n",
    "\n",
    "\n",
    "print(\"Interior de la funcion:\", sum_xw + b)\n",
    "print(\"Resultado:\", f(sum_xw + b))\n",
    "print(\"Clase correcta: \", label)"
   ]
  },
  {
   "cell_type": "markdown",
   "id": "37a4ee6b",
   "metadata": {},
   "source": [
    "\n",
    "Acá se hace el calculó $w x + b = \\sum_i x_i w_i + b$ sobre los inputs $x_i$ y los pesos $w_i$. Estos últimos, son valores numéricos que representan las conexiones entre neuronas, el peso $b$ se denomina *bias*. Luego, la salida es el resultado de aplicar la función de activación $f(\\cdot)$ sobre $w x + b$.\n",
    "\n",
    "\n",
    "2. Las neuronas están conectadas e intercambian información (o señales) por medio de sus conexiones.\n",
    "3. Las conexiones entre neuronas pueden tener mas o menos influencia en el resultado dependiendo de los pesos de estas.\n",
    "4. Cada neurona tiene un estado interno determinado por todas las conexiones que llegan a ella.\n",
    "5. Cada neurona tiene una función de activación que opera sobre su estado, esta función determina la información que se comparte a otras neuronas.\n",
    "\n",
    "<div align='center'>\n",
    "<img src='./resources/nn.png' width=600/>\n",
    "</div>\n",
    "\n",
    "<div align='center'>\n",
    "   Fuente: <a href='https://www.researchgate.net/figure/Artificial-neural-network-architecture-ANN-i-h-1-h-2-h-n-o_fig1_321259051 '> https://www.researchgate.net/figure/Artificial-neural-network-architecture-ANN-i-h-1-h-2-h-n-o_fig1_321259051</a>\n",
    "</div>\n",
    "\n",
    "<br>\n"
   ]
  },
  {
   "cell_type": "markdown",
   "id": "8cf64ca5-8a18-4f12-8db0-6faf548ce682",
   "metadata": {},
   "source": [
    "## Funciones de activación\n",
    "---\n",
    "\n",
    "<div align='center'>\n",
    "<img src='./resources/activation_fn.png' width=600/>\n",
    "</div>\n",
    "\n",
    "<div align='center'>\n",
    "   Fuente: <a href='https://www.researchgate.net/figure/Various-forms-of-non-linear-activation-functions-Figure-adopted-from-Caffe-Tutorial_fig3_315667264'> https://www.researchgate.net/figure/Various-forms-of-non-linear-activation-functions-Figure-adopted-from-Caffe-Tutorial_fig3_315667264</a>\n",
    "</div>"
   ]
  },
  {
   "cell_type": "markdown",
   "id": "4d1cd382-45e9-4b72-9364-2f98547467cc",
   "metadata": {},
   "source": [
    "## Arquitecturas\n",
    "---\n",
    "Segun como se distribuyan las conexiones entre neuronas se definen distintas **arquitecturas**.\n",
    "\n",
    "El tipo de arquitectura depende principalmente del tipo de problema que se quiera resolver:\n",
    "- Clasificacion -> Redes Neuronales Feed Forward\n",
    "- Imagenes -> Redes Convolucionales\n",
    "- Texto -> Redes Recurrentes\n",
    "\n",
    "<div align='center'>\n",
    "<img src='./resources/nn_zoo.png'/>\n",
    "</div>\n",
    "\n",
    "<div align='center'>\n",
    "   Fuente: <a href='https://www.asimovinstitute.org/neural-network-zoo/'> https://www.asimovinstitute.org/neural-network-zoo/</a>\n",
    "</div>"
   ]
  },
  {
   "cell_type": "markdown",
   "id": "42e08e12-dccf-472a-a23c-bb82e657d4f6",
   "metadata": {},
   "source": [
    "## Aprendizaje\n",
    "---\n",
    "- Un proceso de **aprendizaje** asociado, que describe el proceso en el que la red aprende a resolver mejor la tarea entregada. La idea general es simple: \n",
    "\n",
    "\n",
    "  1. **Forward Propagation**: Predecir los ejemplos de entrenamiento (o forward).\n",
    "  2. **Backward Propagation**: Calcular un error y ajustar los parámetros de la red de forma proporcional al su valor sobre todos los pesos de la red (o backward). Tal como el caso del perceptrón, optimizamos estos valores usando descenso del gradiente pero de forma generalizada en cada capa. La idea es que se calculan los gradientes y luego se actualizan los pesos de cada unidad.\n",
    "  \n",
    "  Según wikipedia: \n",
    "  > Las salidas de error se propagan hacia atrás, partiendo de la capa de salida, hacia todas las neuronas de la capa oculta que contribuyen directamente a la salida. Sin embargo las neuronas de la capa oculta solo reciben una fracción de la señal total del error, basándose aproximadamente en la contribución relativa que haya aportado cada neurona a la salida original. Este proceso se repite, capa por capa, hasta que todas las neuronas de la red hayan recibido una señal de error que describa su contribución relativa al error total. "
   ]
  },
  {
   "cell_type": "markdown",
   "id": "305414b5-0ecd-47f1-9687-514b4eb8bdc8",
   "metadata": {},
   "source": [
    "### Aprendizaje en `Pytorch`\n",
    "\n",
    "En `Pytorch` es posible implementar reglas de actualización basadas en propagación hacia atrás de manera automática. Para ello, es necesario comprender los tipos de datos asociados a esta librería. \n",
    "\n",
    "En primer lugar, se tienen los **tensores**, estos son arreglos n dimensionales, soportan almacenamiento en GPU. Las operaciones y sintaxis de este tipo de objetos es muy similar a los arreglos de NumPy. \n",
    "\n",
    "**Ejemplo**\n",
    "\n",
    "Pytorch se mimetiza con NumPy en cuanto a la definición de sus métodos y compatibilidad cruzada, por ejemplo, para definir un arreglo de 2x2 se puede utilizar la función `randn` (análoga a la de NumPy)"
   ]
  },
  {
   "cell_type": "code",
   "execution_count": 3,
   "id": "70243f5f-6bd1-4582-8516-f2a2bd949e14",
   "metadata": {},
   "outputs": [
    {
     "name": "stderr",
     "output_type": "stream",
     "text": [
      "C:\\Users\\mauri\\miniconda3\\envs\\c1do1\\lib\\site-packages\\tqdm\\auto.py:22: TqdmWarning: IProgress not found. Please update jupyter and ipywidgets. See https://ipywidgets.readthedocs.io/en/stable/user_install.html\n",
      "  from .autonotebook import tqdm as notebook_tqdm\n"
     ]
    },
    {
     "data": {
      "text/plain": [
       "tensor([[-0.3181,  0.3377],\n",
       "        [ 0.8672, -0.4030]])"
      ]
     },
     "execution_count": 3,
     "metadata": {},
     "output_type": "execute_result"
    }
   ],
   "source": [
    "import numpy as np\n",
    "import torch\n",
    "\n",
    "x = torch.randn(2, 2)\n",
    "x"
   ]
  },
  {
   "cell_type": "code",
   "execution_count": 4,
   "id": "d0bf529d-2217-4a5f-bc6d-0b99357e497b",
   "metadata": {},
   "outputs": [
    {
     "data": {
      "text/plain": [
       "array([[-0.32055116,  0.74355652],\n",
       "       [ 1.03926835, -0.15982263]])"
      ]
     },
     "execution_count": 4,
     "metadata": {},
     "output_type": "execute_result"
    }
   ],
   "source": [
    "x = np.random.randn(2, 2)\n",
    "x"
   ]
  },
  {
   "cell_type": "markdown",
   "id": "aa24cf0b-4bb3-4d40-894a-119ca504cf25",
   "metadata": {},
   "source": [
    "Se pueden importar arreglos de numpy de manera bastante sencilla"
   ]
  },
  {
   "cell_type": "code",
   "execution_count": 5,
   "id": "f6d03681-6006-4038-b3ed-42a8c8fd281e",
   "metadata": {},
   "outputs": [
    {
     "data": {
      "text/plain": [
       "tensor([[ 0.4359, -1.2461],\n",
       "        [-0.2001,  0.3537]], dtype=torch.float64)"
      ]
     },
     "execution_count": 5,
     "metadata": {},
     "output_type": "execute_result"
    }
   ],
   "source": [
    "x = np.random.randn(2, 2)\n",
    "x = torch.from_numpy(x)\n",
    "x"
   ]
  },
  {
   "cell_type": "markdown",
   "id": "34b06555-f844-4ddf-a4fb-e2f20dacc14e",
   "metadata": {},
   "source": [
    "### Uso de GPU\n",
    "---\n",
    "\n",
    "La función `torch.cuda.is_available()` permite detectar si existe una GPU disponble para computo. En caso afirmativo, se pueden cargar tensores en la GPU para su posterior computo, para ello, se utiliza la función `torch.device()` y el método `.to()` de los objetos `Tensor`.\n",
    "\n",
    "**Ejemplo**\n"
   ]
  },
  {
   "cell_type": "code",
   "execution_count": 6,
   "id": "2d1f2e80-a13b-4e66-9539-f48b96dc1eba",
   "metadata": {},
   "outputs": [
    {
     "data": {
      "text/plain": [
       "True"
      ]
     },
     "execution_count": 6,
     "metadata": {},
     "output_type": "execute_result"
    }
   ],
   "source": [
    "torch.cuda.is_available()"
   ]
  },
  {
   "cell_type": "code",
   "execution_count": 7,
   "id": "5ce48d4e-3df5-48eb-bd81-5c0257abfa76",
   "metadata": {},
   "outputs": [
    {
     "data": {
      "text/plain": [
       "tensor([[0., 0.],\n",
       "        [0., 0.]])"
      ]
     },
     "execution_count": 7,
     "metadata": {},
     "output_type": "execute_result"
    }
   ],
   "source": [
    "x = torch.empty((2, 2))\n",
    "x"
   ]
  },
  {
   "cell_type": "markdown",
   "id": "79611f9b-ffb7-43a4-89e6-ad690c500d27",
   "metadata": {},
   "source": [
    "se modifica `x` de manera inplace en la CPU"
   ]
  },
  {
   "cell_type": "code",
   "execution_count": 8,
   "id": "2cbec916-6614-4dde-8823-97fa1ae54635",
   "metadata": {},
   "outputs": [
    {
     "data": {
      "text/plain": [
       "tensor([[1., 1.],\n",
       "        [1., 1.]])"
      ]
     },
     "execution_count": 8,
     "metadata": {},
     "output_type": "execute_result"
    }
   ],
   "source": [
    "x.add_(1)"
   ]
  },
  {
   "cell_type": "markdown",
   "id": "b5e3f2f7-07b7-450f-98ec-d19aa276d389",
   "metadata": {},
   "source": [
    "Se define un flujo en la CPU"
   ]
  },
  {
   "cell_type": "code",
   "execution_count": 9,
   "id": "cb34cef3-26ae-4b74-9ecc-867a2bd611b4",
   "metadata": {},
   "outputs": [
    {
     "name": "stdout",
     "output_type": "stream",
     "text": [
      "z en GPU: \n",
      " tensor([[2., 2.],\n",
      "        [2., 2.]], device='cuda:0')\n",
      "z en CPU:\n",
      " tensor([[2., 2.],\n",
      "        [2., 2.]], dtype=torch.float64)\n"
     ]
    }
   ],
   "source": [
    "# Se detecta la presencia de una GPU\n",
    "if torch.cuda.is_available():\n",
    "    # Se obtiene un objeto que apunta a la GPU descubierta\n",
    "    device = torch.device(\"cuda\")\n",
    "else:\n",
    "    # en el caso contrario,\n",
    "    device = torch.device(\"cpu\")\n",
    "\n",
    "# Se crea un tensor y se carga en el dispositivo especificado en device\n",
    "y = torch.ones_like(x, device=device)  #\n",
    "\n",
    "# Se envia un vector a la GPU luego de ser definido\n",
    "x = x.to(device)\n",
    "\n",
    "# Se obtiene un resultado en la GPU y se transfiere a la CPU\n",
    "z = x + y\n",
    "print(\"z en GPU: \\n\", z)\n",
    "print(\"z en CPU:\\n\", z.to(\"cpu\", torch.double))"
   ]
  },
  {
   "cell_type": "code",
   "execution_count": 10,
   "id": "879518a1-a62f-4164-9b44-532909a7658f",
   "metadata": {},
   "outputs": [
    {
     "data": {
      "text/plain": [
       "device(type='cuda')"
      ]
     },
     "execution_count": 10,
     "metadata": {},
     "output_type": "execute_result"
    }
   ],
   "source": [
    "device"
   ]
  },
  {
   "cell_type": "markdown",
   "id": "58072d32-a868-4c58-beda-d49e56716a12",
   "metadata": {},
   "source": [
    "### Autograd \n",
    "---\n",
    "El motor central en las redes neuronales de PyTorch es la librería  `autograd`. Esta entrega herramientas de diferenciacion automatica para todas las operaciones hechas sobre objetos tipo `Tensor`. \n",
    "\n",
    "\n",
    "Como se estudio anteriormente, los tensores son objetos similares a los arreglos de NumPy en cuanto a sus métodos y manejo. Aparte de permitir el computo en GPU, poseen el atributo booleano `.requires_grad`. Si para un tensor, tal atributo tiene el valor `True`, se comienzan a registrar todas operaciones aplicadas aplicadas sobre este. Tal registro se lleva a cabo de manera a automática, generando una estructura jeraquica codificada en un grafo denotado como **DCG** (grafo dinámico computacional). \n",
    "\n"
   ]
  },
  {
   "cell_type": "markdown",
   "id": "d5f9eb35-492f-426e-8ec8-d186e624715a",
   "metadata": {},
   "source": [
    "### Grafo Dinámico Computacional (DCG)\n",
    "\n",
    "Un **DCG** grafo es grafo acíclico y dirigido, sus hojas son los tensores de **input** y las raíces son los tensores de respuesta luego de la última operación **output**. \n",
    "\n",
    "Estan diseñados para **actualizar los valores de w de forma automatica**. Como lo hace? El grafo dinamico permite detectar que funciones generaron el estado interno de cada neurona. Si sabemos que funciones lo generaron, podemos derivar estas funciones para saber si influencia en los resultados y movernos de acuerdo a estos patrones.\n",
    "\n",
    "En resumen: el grafo permite calcular gradientes para cada parámetro.\n",
    "\n",
    "\n",
    "<div align='center'>\n",
    "<img src='./resources/grafo_comp.png' width=600/>\n",
    "</div>\n",
    "\n",
    "\n",
    "\n",
    "Cada tensor del cual se lleva un registro, tiene el atributo `.grad_fn` que referencia al objeto de clase `Function` que dio origen a tal tensor. En el caso de tensores creados \"a mano\", `.grad_fn`será `None` a menos que especifiquemos lo contrario. \n",
    "\n"
   ]
  },
  {
   "cell_type": "markdown",
   "id": "13fac441-ab21-43cc-bbcc-1b18203cdfba",
   "metadata": {},
   "source": [
    "**Ejemplo**\n",
    "\n",
    "Creamos dos tensores con algunos valores"
   ]
  },
  {
   "cell_type": "code",
   "execution_count": 11,
   "id": "13e51af4-2a70-483d-b7b5-18b373704025",
   "metadata": {},
   "outputs": [],
   "source": [
    "a = torch.tensor([2.0, 3.0], requires_grad=True)\n",
    "b = torch.tensor([6.0, 4.0], requires_grad=True)"
   ]
  },
  {
   "cell_type": "code",
   "execution_count": 12,
   "id": "f0b71ca8-733a-48cf-b076-c307ee2142b7",
   "metadata": {},
   "outputs": [
    {
     "data": {
      "text/plain": [
       "tensor([2., 3.], requires_grad=True)"
      ]
     },
     "execution_count": 12,
     "metadata": {},
     "output_type": "execute_result"
    }
   ],
   "source": [
    "a"
   ]
  },
  {
   "cell_type": "code",
   "execution_count": 13,
   "id": "32b1fa94-93d6-4dcb-8fa6-142185afb602",
   "metadata": {},
   "outputs": [
    {
     "data": {
      "text/plain": [
       "tensor([6., 4.], requires_grad=True)"
      ]
     },
     "execution_count": 13,
     "metadata": {},
     "output_type": "execute_result"
    }
   ],
   "source": [
    "b"
   ]
  },
  {
   "cell_type": "markdown",
   "id": "ac9c2ef7-bb4f-4f62-bf16-be008cd493fe",
   "metadata": {},
   "source": [
    "Y luego los operamos según:\n",
    "$$Q = 3a ^3 - b ^ 2$$    \n",
    "    "
   ]
  },
  {
   "cell_type": "code",
   "execution_count": 14,
   "id": "cb3bb52b-cfc4-4773-9752-e96a9d49fb45",
   "metadata": {},
   "outputs": [],
   "source": [
    "Q = 3 * a ** 3 - b ** 2"
   ]
  },
  {
   "cell_type": "code",
   "execution_count": 15,
   "id": "e387e5df-0fb0-4bee-aa5a-094b6e7f1902",
   "metadata": {},
   "outputs": [
    {
     "data": {
      "text/plain": [
       "tensor([-12.,  65.], grad_fn=<SubBackward0>)"
      ]
     },
     "execution_count": 15,
     "metadata": {},
     "output_type": "execute_result"
    }
   ],
   "source": [
    "Q"
   ]
  },
  {
   "cell_type": "markdown",
   "id": "bb101410-abbe-42e0-9605-aecdb5f76294",
   "metadata": {},
   "source": [
    "Los gradientes de esta operación serán:\n",
    "    \n",
    "$$\\frac{\\partial Q}{a} = 9a ^ 2$$\n",
    "y \n",
    "$$\\frac{\\partial Q}{b} = -2b$$\n",
    " "
   ]
  },
  {
   "cell_type": "markdown",
   "id": "3a00455d-c8be-4cc4-bc96-32015c2e6c8d",
   "metadata": {},
   "source": [
    "Por lo tanto, el grafo generado será: \n",
    "    \n",
    "<div align='center'>\n",
    "<img src='./resources/ej_1.png' width=600/>\n",
    "</div>\n"
   ]
  },
  {
   "cell_type": "markdown",
   "id": "fb7f5e42-02d7-436a-a69f-5ac4874c4950",
   "metadata": {},
   "source": [
    "Al llamar a `Q.backward()`, `autograd` calcula automáticamente los gradientes para `a` y `b`"
   ]
  },
  {
   "cell_type": "code",
   "execution_count": 16,
   "id": "4d2b8607-a1d4-481f-8400-21433ce18a20",
   "metadata": {},
   "outputs": [],
   "source": [
    "external_grad = torch.tensor([1.0, 1.0])\n",
    "\n",
    "Q.backward(gradient=external_grad)"
   ]
  },
  {
   "cell_type": "markdown",
   "id": "9cf56a98-e543-4191-baf9-3e38734e805b",
   "metadata": {},
   "source": [
    "Como el resultado tiene dos elementos, las derivadas parciales serán calculadas en cada dimensión.\n",
    "\n",
    "Noten que en el caso anterior entregamos un gradiente externo a través de `external_grad`. Esto es en la práctica, entregarle los valores iniciales a `backward()` para que luego los propague. Fijense que la derivada parcial de Q respecto a si mismo es: \n",
    "\n",
    "\n",
    "$$\\frac{\\partial Q}{\\partial Q} = 1$$\n",
    "\n",
    "\n",
    "Luego, al ser evaluados, los valores serán: \n",
    "\n",
    "\n",
    "<div align='center'>\n",
    "<img src='./resources/ej_2.png' width=600/>\n",
    "</div>"
   ]
  },
  {
   "cell_type": "code",
   "execution_count": 17,
   "id": "e6cda080-f849-4447-8440-780c67a9802a",
   "metadata": {},
   "outputs": [
    {
     "data": {
      "text/plain": [
       "tensor([-12.,  65.], grad_fn=<SubBackward0>)"
      ]
     },
     "execution_count": 17,
     "metadata": {},
     "output_type": "execute_result"
    }
   ],
   "source": [
    "Q"
   ]
  },
  {
   "cell_type": "code",
   "execution_count": 18,
   "id": "3fa3bb8c-a50b-4d8c-b54c-bc15c3de5bc7",
   "metadata": {},
   "outputs": [
    {
     "data": {
      "text/plain": [
       "tensor([36., 81.])"
      ]
     },
     "execution_count": 18,
     "metadata": {},
     "output_type": "execute_result"
    }
   ],
   "source": [
    "a.grad"
   ]
  },
  {
   "cell_type": "code",
   "execution_count": 19,
   "id": "209ce5c4-6d25-411e-bb85-72de3938835d",
   "metadata": {},
   "outputs": [
    {
     "data": {
      "text/plain": [
       "tensor([-12.,  -8.])"
      ]
     },
     "execution_count": 19,
     "metadata": {},
     "output_type": "execute_result"
    }
   ],
   "source": [
    "b.grad"
   ]
  },
  {
   "cell_type": "markdown",
   "id": "111edf22-d249-4a04-bdc2-1d176ee43e03",
   "metadata": {},
   "source": [
    "> **Nota:** Para hacer operaciones sin registrar gradientes se utiliza el context manager `torch.no_grad()`."
   ]
  },
  {
   "cell_type": "code",
   "execution_count": 20,
   "id": "80254d50-70a9-4c8e-9282-f7a4fb693636",
   "metadata": {},
   "outputs": [
    {
     "name": "stdout",
     "output_type": "stream",
     "text": [
      "Se requiere gradiente en y: True\n",
      "Se requiere gradiente en y (context manager):  False\n"
     ]
    }
   ],
   "source": [
    "x = torch.tensor(25.0, requires_grad=True)\n",
    "y = x * 2\n",
    "\n",
    "print(\"Se requiere gradiente en y:\", y.requires_grad)\n",
    "\n",
    "with torch.no_grad():\n",
    "    y = x * 2\n",
    "    print(\"Se requiere gradiente en y (context manager): \", y.requires_grad)"
   ]
  },
  {
   "cell_type": "markdown",
   "id": "a8eb54f9-87a9-45f1-a144-c8c81dfefea9",
   "metadata": {},
   "source": [
    "## Aprendizaje Profundo\n",
    "\n",
    "El aprendizaje profundo o *deep learning* consiste en la aplicación de modelos basados en redes neuronales con múltiples capas ocultas. Este tipo de redes presenta la ventaja pues sus estructuras no solo permiten predecir el output de un modelo, sino que también aprender característcas en los datos, es decir, generar representaciones abstractas de los datos de entrada. \n",
    "\n",
    "En la práctica, los algoritmos de aprendizaje profundo son redes neuronales consistentes de neuronas y capas. Para diferenciarlos, es necesario observar la arquitectura y sus procesos de aprendizaje. Acá podemos distinguir a grandes rasgos las redes MLP o feedforward, convolucionales, Recurrentes y autoencoders. \n",
    "\n",
    "Antes de pasar a estudiar dichas arquitecturas, se discutirán algunos aspectos referentes al proceso de aprendizaje que en este tipo de algoritmos se relaciona estrechamente con los métodos de optimización a utilizar. \n",
    "\n",
    "Ya se aplicó el algoritmo de **descenso de gradiente estocástico SGD** en combinación con backpropagation. Este algoritmo puede ser modificado al introducir **momentum**. El algorimto SGD se puede resumir de la siguiente manera:\n",
    "\n",
    "* Se sigue la dinámica de actualización $w \\rightarrow w-\\lambda \\nabla(J(w))$, donde $\\lambda$ se denota como *learning rate*. \n",
    "\n",
    "* Para añadir momentum, se puede añadir un *peso de actualización* de la forma:\n",
    "$$\n",
    "\\triangle w \\rightarrow \\mu \\cdot \\triangle w-\\lambda(\\nabla J(w))\n",
    "$$\n",
    "\n",
    "Donde $\\triangle w$ representa el vector de actualización añadido a $w$ en la iteración anterior, $\\mu$ es un parámetro que determina la dependencia de nuevos valores para $w$ en función valores anteriores. $\\mu \\cdot \\triangle w$ se denota como *momentum*. \n",
    "\n",
    "* Finalmente se crea una nueva regla de actualización mediante:\n",
    "$$\n",
    "w \\rightarrow w+\\Delta w\n",
    "$$\n",
    "\n",
    "**Ejercicio**\n",
    "\n",
    "1. ¿Qué ventajas puede proporcionar añadir la componente de momentum?\n",
    "\n",
    "2. Otro algoritmo útil es **Adam**, investigue sobre su funcionamiento y ventajas. [link](https://arxiv.org/abs/1412.6980)"
   ]
  },
  {
   "cell_type": "markdown",
   "id": "91f21370-c6c9-48f8-8b29-de72ffbd72cf",
   "metadata": {},
   "source": [
    "### Redes Neuronales Convolucionales\n",
    "\n",
    "Las redes neuronales convolucionales CNN (por sus siglas en ingles) fueron para resolver problemas de *visión computacional*. Aquí se busca obtener conocimiento por medio del manejo de representaciones interpretables de manera óptica por humanos (imagenes y videos por ejemplo). Tal proceso de obtención de información posee características bastante especificas y difíciles de codificar en una máquina. P\n",
    "\n",
    "Por ejemplo, en el contexto de imagenes, se puede asumir que píxeles cercanos (bajo cierta métrica) se relacionan de mejor manera y que por tanto su aglomeración tiene sentido, por otra parte, el significado de una imagen puede depender fuertemente del contexto de ciertas estructuras o patrones abstractos difíciles de programar en un software. \n",
    "\n",
    "Una red neuronal múlticapa, en su forma más sencilla, considera a los datos de entrada como arreglos y a priori no saca provecho de la estructura de su input. En el ejemplo de las imagenes, tal red no puede distinguir vecinos posicionales (píxeles cercanos) pues recibe como input un arreglo unidimensional. En este contexto, nacen las CNN's, estas permiten sacar provecho de la estructura (especialmente en imágenes) haciendo posible mejorar la interacción entre neuronas cercanas. En problemas visuales, esto consiste en hacer que las neuronas procesen información originada en píxeles cercanos entre si, para lograr esto se hace uso de **capas convolucionales**.\n",
    "\n",
    "Una capa convolucional consiste de un conjunto de filtros o *kernels*. Estos a la vez, consisten en un conjunto de pesos (a aprender), cada kernel es aplicado en *areas* de los datos de entrada. En la siguiente animación ([fuente](https://m-alcu.github.io/)) se puede observar un kernel de 3x3x3 aplicado sobre una imagen de 9x9x3, en ambos casos, el último índice es 3 y corresponde a la cantidad de canales de color asociados a la imagen procesada.\n",
    "\n",
    "<div align='center'>\n",
    "<img src='https://m-alcu.github.io/assets/cntk103d_conv2d_final.gif' width=600/>\n",
    "</div>\n",
    "\n",
    "Si la imagen es la capa input de la red, la acción del kernel consiste en asociar cada dato de entrada con un peso, en el ejemplo de la animación, el kernel aplicado posee 3x3x3 pesos que se *comparten* en cada región procesada de la imagen. El output de esta aplicación es una suma ponderada entre los píxeles de entrada y los pesos del filtro. Al recorrer toda la imagen, se tiene un nuevo conjunto de inputs sobre los cuales es posible operar con una función de activación u otra capa de neuronas (convolcional o simplemente lineal-conectada).\n",
    "\n",
    "La idea intuitiva del kernel es de extraer alguna caracteística especifica de la imagen input (contornos, agrupaciones de colores, formas, etc...).  Gracias a que los pesos del kernel se mantienen mientras recorre la imagen, se logra una reducción en la cantidad de parámetros necesarios para entrenar una capa de la red. En algunas oportunidades, los kernels entrenados (conjuntos de pesos optimizados según alguna función de pérdida) pueden ser interpretables.\n"
   ]
  },
  {
   "cell_type": "code",
   "execution_count": 21,
   "id": "270fe3a6-561e-48cc-988b-9259b694c246",
   "metadata": {},
   "outputs": [],
   "source": [
    "import torch\n",
    "import torch.nn as nn\n",
    "import torchvision\n",
    "import torchvision.transforms as transforms\n",
    "from sklearn.metrics import confusion_matrix\n",
    "from torch.autograd import Variable\n",
    "from torch.utils.data import DataLoader, Dataset"
   ]
  },
  {
   "cell_type": "code",
   "execution_count": 22,
   "id": "78054a12-ccad-423d-9d39-d773a4da460e",
   "metadata": {},
   "outputs": [
    {
     "data": {
      "text/plain": [
       "device(type='cuda', index=0)"
      ]
     },
     "execution_count": 22,
     "metadata": {},
     "output_type": "execute_result"
    }
   ],
   "source": [
    "device = torch.device(\"cuda:0\" if torch.cuda.is_available() else \"cpu\")\n",
    "device"
   ]
  },
  {
   "cell_type": "markdown",
   "id": "18350454-8562-48f9-aa79-46c8793e73a8",
   "metadata": {},
   "source": [
    "---\n",
    "\n",
    "#### `Datasets` en `Pytorch`\n",
    "\n",
    "Pytorch no solo facilita la creación de redes neuronales. También provee varias utilidades y datasets conocidos en interfaces muy sencillas de usar. Tal es el caso de los `Datasets`.\n",
    "\n",
    "Los `datasets` son clases que manejan de forma eficiente y proveen un interfaz estandar para los conjuntos de datos y sus respectivas etiquetas en  `pytorch`. Tanto audio, como texto y video cuentan con ellos. La documentación asociada se encuenta en el siguiente link: https://pytorch.org/tutorials/beginner/basics/data_tutorial.html\n",
    "\n",
    "Existen dos formas de crear un `dataset`:\n",
    "\n",
    "1. Cargar un dataset predefinido.\n",
    "2. Crear un dataset personalizado.\n"
   ]
  },
  {
   "cell_type": "markdown",
   "id": "e8605596-f3d7-4d11-97eb-72a5acda0780",
   "metadata": {},
   "source": [
    "#### Fashion MNIST\n",
    "\n",
    "En esta ocación, crearemos una red neuronal convolucional para resolver el problema del dataset `Fashion MNIST` (https://research.zalando.com/project/fashion_mnist/fashion_mnist/). \n",
    "\n",
    "\n",
    "> Fashion-MNIST is a dataset of Zalando’s article images consisting of a training set of 60,000 examples and a test set of 10,000 examples. Each example is a 28x28 grayscale image, associated with a label from 10 classes. Fashion-MNIST is intended to serve as a direct drop-in replacement of the original MNIST dataset for benchmarking machine learning algorithms. \n",
    "\n",
    "\n",
    "<div align='center'>\n",
    "<img src='./resources/fashion_mnist.png'    />\n",
    "</div>\n",
    "\n",
    "El ejercicio estará basado en https://www.kaggle.com/pankajj/fashion-mnist-with-pytorch-93-accuracy"
   ]
  },
  {
   "cell_type": "markdown",
   "id": "c73cbdff-fc8d-4f9d-af72-43884dbed0ce",
   "metadata": {},
   "source": [
    "En el siguiente link pueden encontrar todos los datasets de imágenes disponibles en `pytorch`: https://pytorch.org/vision/stable/datasets.html\n",
    "\n",
    "<center>\n",
    "<img src='./resources/fashion_mnist_dataset.png' width=600/>\n",
    "</center>"
   ]
  },
  {
   "cell_type": "code",
   "execution_count": 23,
   "id": "8d71cacd-e7cc-4fdc-bbfb-321593e652de",
   "metadata": {},
   "outputs": [],
   "source": [
    "train_set = torchvision.datasets.FashionMNIST(\n",
    "    \"./data\", download=True, transform=transforms.Compose([transforms.ToTensor()]),\n",
    ")\n",
    "\n",
    "test_set = torchvision.datasets.FashionMNIST(\n",
    "    \"./data\",\n",
    "    download=True,\n",
    "    train=False,\n",
    "    transform=transforms.Compose([transforms.ToTensor()]),\n",
    ")"
   ]
  },
  {
   "cell_type": "code",
   "execution_count": 24,
   "id": "06adbcb4-9e36-4da6-a0cb-a2d55c4d2024",
   "metadata": {},
   "outputs": [
    {
     "data": {
      "text/plain": [
       "Dataset FashionMNIST\n",
       "    Number of datapoints: 60000\n",
       "    Root location: ./data\n",
       "    Split: Train\n",
       "    StandardTransform\n",
       "Transform: Compose(\n",
       "               ToTensor()\n",
       "           )"
      ]
     },
     "execution_count": 24,
     "metadata": {},
     "output_type": "execute_result"
    }
   ],
   "source": [
    "train_set"
   ]
  },
  {
   "cell_type": "code",
   "execution_count": 25,
   "id": "838491ca-c7cf-4ccb-94b8-c16527ad8ded",
   "metadata": {},
   "outputs": [
    {
     "data": {
      "text/plain": [
       "Dataset FashionMNIST\n",
       "    Number of datapoints: 10000\n",
       "    Root location: ./data\n",
       "    Split: Test\n",
       "    StandardTransform\n",
       "Transform: Compose(\n",
       "               ToTensor()\n",
       "           )"
      ]
     },
     "execution_count": 25,
     "metadata": {},
     "output_type": "execute_result"
    }
   ],
   "source": [
    "test_set"
   ]
  },
  {
   "cell_type": "code",
   "execution_count": 26,
   "id": "0f1635b9-6c02-458f-99b1-c3cb9a0b743e",
   "metadata": {},
   "outputs": [
    {
     "data": {
      "image/png": "[encoded data removed]",
      "text/plain": [
       "<Figure size 576x576 with 9 Axes>"
      ]
     },
     "metadata": {
      "needs_background": "light"
     },
     "output_type": "display_data"
    }
   ],
   "source": [
    "import matplotlib.pyplot as plt\n",
    "\n",
    "labels_map = {\n",
    "    0: \"T-Shirt\",\n",
    "    1: \"Trouser\",\n",
    "    2: \"Pullover\",\n",
    "    3: \"Dress\",\n",
    "    4: \"Coat\",\n",
    "    5: \"Sandal\",\n",
    "    6: \"Shirt\",\n",
    "    7: \"Sneaker\",\n",
    "    8: \"Bag\",\n",
    "    9: \"Ankle Boot\",\n",
    "}\n",
    "\n",
    "\n",
    "def output_label(label):\n",
    "    input = label.item() if type(label) == torch.Tensor else label\n",
    "    return labels_map[input]\n",
    "\n",
    "\n",
    "figure = plt.figure(figsize=(8, 8))\n",
    "cols, rows = 3, 3\n",
    "for i in range(1, cols * rows + 1):\n",
    "    sample_idx = torch.randint(len(train_set), size=(1,)).item()\n",
    "    img, label = train_set[sample_idx]\n",
    "    figure.add_subplot(rows, cols, i)\n",
    "    plt.title(labels_map[label])\n",
    "    plt.axis(\"off\")\n",
    "    plt.imshow(img.squeeze(), cmap=\"gray\")\n",
    "plt.show()"
   ]
  },
  {
   "cell_type": "markdown",
   "id": "5ed07a10-0e2f-4099-b04c-14f514c075bf",
   "metadata": {},
   "source": [
    "#### `Dataloaders` para iterar sobre el `Dataset`\n",
    "\n",
    "Usar Stochastic gradient descent (SGD) (i.e., entenar de 1 a 1 usando ejemplos aleatorios) permite encontrar óptimos locales relativamente buenos, ¡pero es muy lento!.\n",
    "\n",
    "Una forma de solucionar esto es usar mini-batches, es decir, un grupo de ejemplos seleccionados aleatoriamente. Para este fin, `pytorch` provee de `DataLoaders`, las cuales son clases que nos permiten generar mini-batches de forma muy sencilla.\n",
    "\n"
   ]
  },
  {
   "cell_type": "code",
   "execution_count": 27,
   "id": "353fbdff-01cd-4765-8831-ebe782c6be27",
   "metadata": {},
   "outputs": [],
   "source": [
    "train_loader = torch.utils.data.DataLoader(train_set, batch_size=100, shuffle=True)\n",
    "test_loader = torch.utils.data.DataLoader(test_set, batch_size=100, shuffle=True)"
   ]
  },
  {
   "cell_type": "code",
   "execution_count": 28,
   "id": "009e40c1-0493-47f9-84c4-85b060bb5c03",
   "metadata": {},
   "outputs": [
    {
     "name": "stdout",
     "output_type": "stream",
     "text": [
      "Feature batch shape: torch.Size([100, 1, 28, 28])\n",
      "Labels batch shape: torch.Size([100])\n"
     ]
    },
    {
     "data": {
      "image/png": "[encoded data removed]",
      "text/plain": [
       "<Figure size 432x288 with 1 Axes>"
      ]
     },
     "metadata": {
      "needs_background": "light"
     },
     "output_type": "display_data"
    },
    {
     "name": "stdout",
     "output_type": "stream",
     "text": [
      "Label: Bag\n"
     ]
    }
   ],
   "source": [
    "# Por ejemplo, para mostrar una imagen en particular:\n",
    "\n",
    "# obtenemos el batch\n",
    "train_features, train_labels = next(iter(train_loader))\n",
    "\n",
    "print(f\"Feature batch shape: {train_features.size()}\")\n",
    "print(f\"Labels batch shape: {train_labels.size()}\")\n",
    "\n",
    "# obtenemos el primer elemento\n",
    "img = train_features[0].squeeze()\n",
    "label = train_labels[0]\n",
    "plt.imshow(img, cmap=\"gray\")\n",
    "plt.show()\n",
    "print(f\"Label: {output_label(label)}\")"
   ]
  },
  {
   "cell_type": "code",
   "execution_count": 29,
   "id": "ef191e0b-d86f-4eb6-b460-49ec29babb1b",
   "metadata": {},
   "outputs": [],
   "source": [
    "# reiniciamos por si acaso...\n",
    "train_loader = torch.utils.data.DataLoader(train_set, batch_size=100, shuffle=True)\n",
    "test_loader = torch.utils.data.DataLoader(test_set, batch_size=100, shuffle=True)"
   ]
  },
  {
   "cell_type": "markdown",
   "id": "e7d2def5-1710-4865-9dac-75e28f8cadab",
   "metadata": {},
   "source": [
    "#### La red\n",
    "\n",
    "En este caso, vamos a implementar nuestra red como una clase. Para que `pytorch` la reconozca como tal, esta debe extender la clase `nn.Module`.\n",
    "\n",
    "La red estará compuesta por las siguientes capas:\n",
    "\n",
    "1. 1 capa secuencial compuestas por:\n",
    "   - Una convoluciónde $3x3$ con padding 1 y salto (stride) de 1.\n",
    "   - Normalización de Batch.\n",
    "   - Función de Activación ReLU.\n",
    "   - Max Pooling de 2*2 y salto (stride) 2.\n",
    "\n",
    "2. 1 capa secuencial compuestas por:\n",
    "   - Una convoluciónde $3x3$ con padding 0 y salto (stride) de 1.\n",
    "   - Normalización de Batch.\n",
    "   - Función de Activación ReLU.\n",
    "   - Max Pooling de 2*2 y salto (stride) 2.\n",
    "   \n",
    "3. Aplanamiento de la salida convolucional.\n",
    "\n",
    "4. 3 Capas fully-connected.La última tiene salida de tamaño 10 con Dropout.\n",
    "\n",
    "\n",
    "Más información acerca de padding, stride y max-pooling: https://speakerdeck.com/mloey/convolutional-neural-network-models?slide=8\n"
   ]
  },
  {
   "cell_type": "code",
   "execution_count": 30,
   "id": "0fca492a-fe0f-4f33-8e2e-3f3e2e4a3fac",
   "metadata": {},
   "outputs": [],
   "source": [
    "class FashionCNN(nn.Module):\n",
    "    def __init__(self):\n",
    "        super(FashionCNN, self).__init__()\n",
    "\n",
    "        self.layer1 = nn.Sequential(\n",
    "            nn.Conv2d(in_channels=1, out_channels=32, kernel_size=3, padding=1),\n",
    "            nn.BatchNorm2d(32),\n",
    "            nn.ReLU(),\n",
    "            nn.MaxPool2d(kernel_size=2, stride=2),\n",
    "        )\n",
    "\n",
    "        self.layer2 = nn.Sequential(\n",
    "            nn.Conv2d(in_channels=32, out_channels=64, kernel_size=3),\n",
    "            nn.BatchNorm2d(64),\n",
    "            nn.ReLU(),\n",
    "            nn.MaxPool2d(2),\n",
    "        )\n",
    "\n",
    "        self.fc1 = nn.Linear(in_features=64 * 6 * 6, out_features=600)\n",
    "        self.relu_1 = nn.ReLU()\n",
    "        self.drop = nn.Dropout(0.25)\n",
    "        self.fc2 = nn.Linear(in_features=600, out_features=120)\n",
    "        self.relu_2 = nn.ReLU()\n",
    "        self.fc3 = nn.Linear(in_features=120, out_features=10)\n",
    "\n",
    "    def forward(self, x):\n",
    "        out = self.layer1(x)\n",
    "        out = self.layer2(out)\n",
    "        out = out.view(out.size(0), -1)\n",
    "        out = self.fc1(out)\n",
    "        out = self.relu_1(out)\n",
    "        out = self.drop(out)\n",
    "        out = self.fc2(out)\n",
    "        out = self.relu_2(out)\n",
    "        out = self.fc3(out)\n",
    "        # noten que al optimizar con CrossEntropyLoss no necesitamos que la salida sea probabilidad.\n",
    "        # es decir, no necesitamos poner un softmax previo a la salida\n",
    "        return out"
   ]
  },
  {
   "cell_type": "code",
   "execution_count": 31,
   "id": "ffb9b016-2328-4c92-a32a-556395f188d8",
   "metadata": {},
   "outputs": [
    {
     "name": "stdout",
     "output_type": "stream",
     "text": [
      "FashionCNN(\n",
      "  (layer1): Sequential(\n",
      "    (0): Conv2d(1, 32, kernel_size=(3, 3), stride=(1, 1), padding=(1, 1))\n",
      "    (1): BatchNorm2d(32, eps=1e-05, momentum=0.1, affine=True, track_running_stats=True)\n",
      "    (2): ReLU()\n",
      "    (3): MaxPool2d(kernel_size=2, stride=2, padding=0, dilation=1, ceil_mode=False)\n",
      "  )\n",
      "  (layer2): Sequential(\n",
      "    (0): Conv2d(32, 64, kernel_size=(3, 3), stride=(1, 1))\n",
      "    (1): BatchNorm2d(64, eps=1e-05, momentum=0.1, affine=True, track_running_stats=True)\n",
      "    (2): ReLU()\n",
      "    (3): MaxPool2d(kernel_size=2, stride=2, padding=0, dilation=1, ceil_mode=False)\n",
      "  )\n",
      "  (fc1): Linear(in_features=2304, out_features=600, bias=True)\n",
      "  (relu_1): ReLU()\n",
      "  (drop): Dropout(p=0.25, inplace=False)\n",
      "  (fc2): Linear(in_features=600, out_features=120, bias=True)\n",
      "  (relu_2): ReLU()\n",
      "  (fc3): Linear(in_features=120, out_features=10, bias=True)\n",
      ")\n"
     ]
    }
   ],
   "source": [
    "model = FashionCNN()\n",
    "model.to(device)\n",
    "\n",
    "error = nn.CrossEntropyLoss()\n",
    "\n",
    "learning_rate = 0.001\n",
    "optimizer = torch.optim.Adam(model.parameters(), lr=learning_rate)\n",
    "print(model)"
   ]
  },
  {
   "cell_type": "markdown",
   "id": "48314337-a1b5-44d7-9dff-d3cdda10023d",
   "metadata": {},
   "source": [
    "\n",
    "Making a model of our CNN class\n",
    "\n",
    "    Creating a object(model in the code)\n",
    "    Transfering it into GPU if available.\n",
    "    Defining a Loss function. we're using CrossEntropyLoss() here.\n",
    "    Using Adam algorithm for optimization purpose.\n",
    "\n"
   ]
  },
  {
   "cell_type": "code",
   "execution_count": 32,
   "id": "4b7baadd-2d1f-4509-a29f-ad7455f46f2c",
   "metadata": {},
   "outputs": [
    {
     "name": "stdout",
     "output_type": "stream",
     "text": [
      "Iteration: 500, Loss: 0.32347896695137024, Accuracy: 87.87999725341797%\n",
      "Iteration: 1000, Loss: 0.18642112612724304, Accuracy: 89.3499984741211%\n",
      "Iteration: 1500, Loss: 0.13182774186134338, Accuracy: 90.8699951171875%\n",
      "Iteration: 2000, Loss: 0.23782339692115784, Accuracy: 90.50999450683594%\n",
      "Iteration: 2500, Loss: 0.11306600272655487, Accuracy: 91.25%\n",
      "Iteration: 3000, Loss: 0.2028452754020691, Accuracy: 91.29000091552734%\n"
     ]
    }
   ],
   "source": [
    "num_epochs = 5\n",
    "count = 0\n",
    "# Lists for visualization of loss and accuracy\n",
    "loss_list = []\n",
    "iteration_list = []\n",
    "accuracy_list = []\n",
    "\n",
    "# Lists for knowing classwise accuracy\n",
    "predictions_list = []\n",
    "labels_list = []\n",
    "\n",
    "for epoch in range(num_epochs):\n",
    "    for images, labels in train_loader:\n",
    "        # Transfering images and labels to GPU if available\n",
    "        images, labels = images.to(device), labels.to(device)\n",
    "\n",
    "        train = Variable(images.view(100, 1, 28, 28))\n",
    "        labels = Variable(labels)\n",
    "\n",
    "        # Forward pass\n",
    "        outputs = model(train)\n",
    "        loss = error(outputs, labels)\n",
    "\n",
    "        # Initializing a gradient as 0 so there is no mixing of gradient among the batches\n",
    "        optimizer.zero_grad()\n",
    "\n",
    "        # Propagating the error backward\n",
    "        loss.backward()\n",
    "\n",
    "        # Optimizing the parameters\n",
    "        optimizer.step()\n",
    "\n",
    "        count += 1\n",
    "\n",
    "        # Testing the model\n",
    "\n",
    "        if not (count % 50):  # It's same as \"if count % 50 == 0\"\n",
    "            total = 0\n",
    "            correct = 0\n",
    "\n",
    "            for images, labels in test_loader:\n",
    "                images, labels = images.to(device), labels.to(device)\n",
    "                labels_list.append(labels)\n",
    "\n",
    "                test = Variable(images.view(100, 1, 28, 28))\n",
    "\n",
    "                outputs = model(test)\n",
    "\n",
    "                predictions = torch.max(outputs, 1)[1].to(device)\n",
    "                predictions_list.append(predictions)\n",
    "                correct += (predictions == labels).sum()\n",
    "\n",
    "                total += len(labels)\n",
    "\n",
    "            accuracy = correct * 100 / total\n",
    "            loss_list.append(loss.data)\n",
    "            iteration_list.append(count)\n",
    "            accuracy_list.append(accuracy)\n",
    "\n",
    "        if not (count % 500):\n",
    "            print(\n",
    "                \"Iteration: {}, Loss: {}, Accuracy: {}%\".format(\n",
    "                    count, loss.data, accuracy\n",
    "                )\n",
    "            )"
   ]
  },
  {
   "cell_type": "code",
   "execution_count": 33,
   "id": "300a6a4e-7cce-4441-b3f3-694027f1c843",
   "metadata": {
    "tags": []
   },
   "outputs": [],
   "source": [
    "from itertools import chain\n",
    "\n",
    "predictions_l = [predictions_list[i].tolist() for i in range(len(predictions_list))]\n",
    "labels_l = [labels_list[i].tolist() for i in range(len(labels_list))]\n",
    "predictions_l = list(chain.from_iterable(predictions_l))\n",
    "labels_l = list(chain.from_iterable(labels_l))"
   ]
  },
  {
   "cell_type": "code",
   "execution_count": 34,
   "id": "bae3226a-409b-4674-924a-f0c889f0b546",
   "metadata": {},
   "outputs": [
    {
     "name": "stdout",
     "output_type": "stream",
     "text": [
      "Classification report for CNN :\n",
      "              precision    recall  f1-score   support\n",
      "\n",
      "           0       0.83      0.85      0.84     60000\n",
      "           1       0.99      0.98      0.98     60000\n",
      "           2       0.83      0.85      0.84     60000\n",
      "           3       0.88      0.90      0.89     60000\n",
      "           4       0.83      0.81      0.82     60000\n",
      "           5       0.98      0.97      0.97     60000\n",
      "           6       0.71      0.68      0.70     60000\n",
      "           7       0.94      0.95      0.94     60000\n",
      "           8       0.98      0.97      0.97     60000\n",
      "           9       0.96      0.96      0.96     60000\n",
      "\n",
      "    accuracy                           0.89    600000\n",
      "   macro avg       0.89      0.89      0.89    600000\n",
      "weighted avg       0.89      0.89      0.89    600000\n",
      "\n",
      "\n"
     ]
    }
   ],
   "source": [
    "from sklearn.metrics import classification_report, confusion_matrix\n",
    "\n",
    "confusion_matrix(labels_l, predictions_l)\n",
    "print(\n",
    "    \"Classification report for CNN :\\n%s\\n\"\n",
    "    % (classification_report(labels_l, predictions_l))\n",
    ")"
   ]
  },
  {
   "cell_type": "code",
   "execution_count": null,
   "id": "59aefe33",
   "metadata": {},
   "outputs": [],
   "source": []
  },
  {
   "cell_type": "code",
   "execution_count": null,
   "id": "b7ea7473",
   "metadata": {},
   "outputs": [],
   "source": []
  },
  {
   "cell_type": "code",
   "execution_count": null,
   "id": "ac7036fa",
   "metadata": {},
   "outputs": [],
   "source": []
  },
  {
   "cell_type": "code",
   "execution_count": null,
   "id": "afc7b604",
   "metadata": {},
   "outputs": [],
   "source": []
  }
 ],
 "metadata": {
  "kernelspec": {
   "display_name": "Python 3 (ipykernel)",
   "language": "python",
   "name": "python3"
  },
  "language_info": {
   "codemirror_mode": {
    "name": "ipython",
    "version": 3
   },
   "file_extension": ".py",
   "mimetype": "text/x-python",
   "name": "python",
   "nbconvert_exporter": "python",
   "pygments_lexer": "ipython3",
   "version": "3.10.4"
  }
 },
 "nbformat": 4,
 "nbformat_minor": 5
}
