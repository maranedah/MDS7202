{
  "cells": [
    {
      "cell_type": "markdown",
      "id": "9327f25f",
      "metadata": {
        "id": "9327f25f"
      },
      "source": [
        "# Clase 10: Trabajando Con Distintos Tipos de Datos\n",
        "\n",
        "**MDS7202: Laboratorio de Programación Científica para Ciencia de Datos**\n",
        "\n",
        "**Profesor: Matías Rojas**\n",
        "\n",
        "## Objetivos de la Clase\n",
        "\n",
        "- Comprender los métodos que nos entrega la librería Pandas para manejar datos de texto, temporales, ordinales y categóricos.\n",
        "\n",
        "### Roadmap\n",
        "\n",
        "\n",
        "**Unidad 2: Manejo de Datos con Pandas y AED**\n",
        "\n",
        "- [X] Introducción a Manejo de Datos Tabulares con Pandas\n",
        "- [X] Reorganización, Multi-Índices y Agregación de Datos.\n",
        "- [X] Concatenación y Combinación de Múltiples Fuentes de Datos.\n",
        "- [ ] Trabajo con strings y datos temporales, categóricos y ordinales en Pandas."
      ]
    },
    {
      "cell_type": "code",
      "execution_count": null,
      "id": "1dcf9355",
      "metadata": {
        "id": "1dcf9355"
      },
      "outputs": [],
      "source": [
        "import pandas as pd"
      ]
    },
    {
      "cell_type": "markdown",
      "id": "fa11886b-f0a5-44d7-8feb-aa74b59e8258",
      "metadata": {
        "id": "fa11886b-f0a5-44d7-8feb-aa74b59e8258"
      },
      "source": [
        "## Datasets de Hoy\n"
      ]
    },
    {
      "cell_type": "markdown",
      "id": "5c9afa10-9287-4b63-bf1b-8f699cc9a7ca",
      "metadata": {
        "id": "5c9afa10-9287-4b63-bf1b-8f699cc9a7ca"
      },
      "source": [
        "### Dataset de Temperaturas Globales\n",
        "\n",
        "![wbg_climate](https://i.ibb.co/Rvxt0rH/wbg-climate.png)\n",
        "\n",
        "\n",
        "https://climateknowledgeportal.worldbank.org/download-data"
      ]
    },
    {
      "cell_type": "code",
      "execution_count": null,
      "id": "00acad00-8a60-4dcd-8d00-ed63d4becf82",
      "metadata": {
        "id": "00acad00-8a60-4dcd-8d00-ed63d4becf82"
      },
      "outputs": [],
      "source": [
        "temp_df = pd.read_csv(\"https://raw.githubusercontent.com/maranedah/MDS7202/main/clases/Clase%2010%20-%20Trabajando%20Con%20Distintos%20Tipos%20de%20Datos/resources/temperature.csv\")\n",
        "temp_df.head(3)"
      ]
    },
    {
      "cell_type": "code",
      "execution_count": null,
      "id": "12a20681-022d-4bf7-9696-0cfc34979d6e",
      "metadata": {
        "id": "12a20681-022d-4bf7-9696-0cfc34979d6e"
      },
      "outputs": [],
      "source": [
        "# setear opciones para mostrar todas las filas y columnas\n",
        "# cuidado al ejecutar esto en sus notebooks, se puede quedar pegado el navegador!\n",
        "pd.set_option(\"display.max_colwidth\", None)\n",
        "pd.set_option(\"display.max_colwidth\", None)"
      ]
    },
    {
      "cell_type": "markdown",
      "id": "cabf8b6a",
      "metadata": {
        "id": "cabf8b6a"
      },
      "source": [
        "---\n",
        "\n",
        "## 1.- Strings\n",
        "\n",
        "Es común que los datasets que trabajemos en la vida real incluyan por lo menos una columna que contiene texto y que nos puede útil a la hora de construir modelos de aprendizaje automático. Sin embargo, dado que el texto en su naturaleza no estructurada es difícil de trabajar, ya que contiene un montón de palabras mal escritas, símbolos extraños, y otros elementos, su preprocesamiento se vuelve complejo.\n",
        "\n",
        "Las `Series` de pandas implementan diversos métodos de procesamiento de string que permiten operar facilmente con estos. Por lo general, estos métodos son una réplica de los métodos originales de la clase built-in `string`.\n",
        "\n",
        "<div align='center'>\n",
        "<img src='https://i.ibb.co/vYGMFP5/pets.jpg' alt='Mascotas' width=600/>\n",
        "</div>"
      ]
    },
    {
      "cell_type": "code",
      "execution_count": null,
      "id": "185d95a9",
      "metadata": {
        "id": "185d95a9"
      },
      "outputs": [],
      "source": [
        "mascotas = [\n",
        "    (\n",
        "        \"Perro\",\n",
        "        \"El perro (Canis familiaris o Canis lupus familiaris, dependiendo de si se lo considera una especie por \"\n",
        "        \"derecho propio o una subespecie del lobo),1​2​3​ llamado perro doméstico o can,4​ y en algunos lugares\"\n",
        "        \" coloquialmente llamado chucho,5​ tuso,6​ choco,7​ entre otros; es un mamífero carnívoro de la familia de \"\n",
        "        \"los cánidos, que constituye una especie del género Canis.8​9​ En el 2013, la población mundial estimada \"\n",
        "        \"de perros estaba entre setecientos millones y novecientos ochenta y siete millones.10​11​ Su tamaño \"\n",
        "        \"(o talla), su forma y su pelaje es muy diverso, según la raza. Posee un oído y un olfato muy desarrollados,\"\n",
        "        \" y este último es su principal órgano sensorial. Su longevidad media es de diez a trece años,12​13​14​ \"\n",
        "        \"dependiendo de la raza. \",\n",
        "    ),\n",
        "    (\n",
        "        \"Gato\",\n",
        "        \"El gato doméstico1​2​ (Felis silvestris catus), llamado popularmente gato, y de forma coloquial minino,\"\n",
        "        \"3​ michino,4​ michi,5​ micho,6​ mizo,7​ miz,8​ morroño9​ o morrongo,10​ entre otros nombres, es un mamífero \"\n",
        "        \"carnívoro de la familia Felidae. Es una subespecie domesticada por la convivencia con el ser humano. \"\n",
        "        \"El gato se comunica a través de vocalizaciones. Las más populares son su característico maullido y el \"\n",
        "        \"ronroneo, pero puede aullar, gemir, gruñir y bufar.11​Los gatos desarrollaron el maullido con la única \"\n",
        "        \"finalidad de poder comunicarse con el ser humano. Además, adopta poses o expresiones que informan, \"\n",
        "        \"a sus congéneres, sus enemigos o sus cuidadores, de su ánimo o sus intenciones. \",\n",
        "    ),\n",
        "    (\n",
        "        \"Hamster\",\n",
        "        \"Los cricetinos (Cricetinae) son una subfamilia de roedores, conocidos comúnmente como hámsteres (un germanismo)\"\n",
        "        \".2​3​ Se han identificado diecinueve especies actuales, agrupadas en siete géneros. La mayoría son originarias \"\n",
        "        \"de Oriente Medio y del sureste de los Estados Unidos. Todas las especies se caracterizan por las bolsas \"\n",
        "        \"expansibles, llamadas abazones, ubicadas en el interior de la boca y que van desde las mejillas hasta los hombros.\"\n",
        "        \" Al ser muy fáciles de criar en cautividad, son ampliamente usados como animales de laboratorio y como mascotas. \",\n",
        "    ),\n",
        "    (\n",
        "        \"Cuy\",\n",
        "        \"Cavia porcellus, conocida como cuy, cuye, cuyo, cobaya, cobayo, acure, güimo o conejillo de Indias, es una especie \"\n",
        "        \"híbrida doméstica de roedor histricomorfo de la familia Caviidae. Es el resultado del cruce milenario de varias \"\n",
        "        \"especies del género Cavia realizado en la región andina de América del Sur, habiéndose encontrado registros \"\n",
        "        \"arqueológicos en Colombia, Ecuador, Perú y Bolivia. Fue una ofrenda en tiempos antiguos para su Dios.1​ \",\n",
        "    ),\n",
        "    (\n",
        "        \"Canario\",\n",
        "        \"El canario doméstico (Serinus canaria domestica)3​4​ es una subespecie desarrollada durante siglos de selección\"\n",
        "        \" en cautividad partiendo de ejemplares del canario silvestre o canario salvaje (Serinus canaria), una especie \"\n",
        "        \"de ave del orden paseriforme de la familia de los fringílidos, endémica de las islas Canarias, Azores y Madeira.5​6​\"\n",
        "        \"Es el ave doméstica criada como animal de compañía más abundante del mundo junto con el periquito. A pesar de esto, \"\n",
        "        \"no se conocen poblaciones asilvestradas. \",\n",
        "    ),\n",
        "]\n",
        "mascotas_df = pd.DataFrame(mascotas, columns=[\"nombre\", \"descripcion\"])\n",
        "mascotas_df"
      ]
    },
    {
      "cell_type": "code",
      "execution_count": null,
      "id": "6c2a64bd",
      "metadata": {
        "id": "6c2a64bd"
      },
      "outputs": [],
      "source": [
        "desc_perro = mascotas_df.loc[0, \"descripcion\"]\n",
        "desc_perro"
      ]
    },
    {
      "cell_type": "markdown",
      "id": "388719ff",
      "metadata": {
        "id": "388719ff"
      },
      "source": [
        "### Métodos de la Clase String\n",
        "\n",
        "Como se dijo anteriormente, la mayoría de los métodos para string que implementa pandas sobre las `Series` son una réplica de los métodos implementados por la clase `String`. \n",
        "\n",
        "A continuación veremos un par de ejemplos de los métodos de strings y como utilizar estos métodos sobre una serie."
      ]
    },
    {
      "cell_type": "code",
      "execution_count": null,
      "id": "95e61cff",
      "metadata": {
        "id": "95e61cff"
      },
      "outputs": [],
      "source": [
        "len(desc_perro)"
      ]
    },
    {
      "cell_type": "code",
      "execution_count": null,
      "id": "b97db599",
      "metadata": {
        "id": "b97db599"
      },
      "outputs": [],
      "source": [
        "desc_perro.lower()"
      ]
    },
    {
      "cell_type": "code",
      "execution_count": null,
      "id": "c7a687ee",
      "metadata": {
        "id": "c7a687ee"
      },
      "outputs": [],
      "source": [
        "desc_perro.upper()"
      ]
    },
    {
      "cell_type": "code",
      "execution_count": null,
      "id": "0e0ff0b4",
      "metadata": {
        "id": "0e0ff0b4"
      },
      "outputs": [],
      "source": [
        "desc_perro.title()"
      ]
    },
    {
      "cell_type": "code",
      "execution_count": null,
      "id": "0c6f6d83",
      "metadata": {
        "id": "0c6f6d83"
      },
      "outputs": [],
      "source": [
        "desc_perro.split(\" \")"
      ]
    },
    {
      "cell_type": "code",
      "execution_count": null,
      "id": "fa3f7ef8",
      "metadata": {
        "id": "fa3f7ef8"
      },
      "outputs": [],
      "source": [
        "\"-\".join([\"Este\", \"string\", \"(ya no)\", \"esta\", \"separado\"])"
      ]
    },
    {
      "cell_type": "code",
      "execution_count": null,
      "id": "4d4843eb",
      "metadata": {
        "id": "4d4843eb"
      },
      "outputs": [],
      "source": [
        "\"perro\" in desc_perro"
      ]
    },
    {
      "cell_type": "code",
      "execution_count": null,
      "id": "e298012d",
      "metadata": {
        "id": "e298012d"
      },
      "outputs": [],
      "source": [
        "\"gato\" in desc_perro"
      ]
    },
    {
      "cell_type": "markdown",
      "id": "6d9834dc",
      "metadata": {
        "id": "6d9834dc"
      },
      "source": [
        "### Strings En Las Series"
      ]
    },
    {
      "cell_type": "code",
      "execution_count": null,
      "id": "78d21062",
      "metadata": {
        "id": "78d21062"
      },
      "outputs": [],
      "source": [
        "mascotas_df[\"descripcion\"]"
      ]
    },
    {
      "cell_type": "markdown",
      "id": "f15e4c15",
      "metadata": {
        "id": "f15e4c15"
      },
      "source": [
        "#### Len, Lower, Upper, Title y Capitalize"
      ]
    },
    {
      "cell_type": "code",
      "execution_count": null,
      "id": "8d9ff791-3a0b-490c-a237-012323d90ae1",
      "metadata": {
        "id": "8d9ff791-3a0b-490c-a237-012323d90ae1"
      },
      "outputs": [],
      "source": [
        "mascotas_df[\"descripcion\"].str"
      ]
    },
    {
      "cell_type": "code",
      "execution_count": null,
      "id": "73d97536",
      "metadata": {
        "id": "73d97536"
      },
      "outputs": [],
      "source": [
        "mascotas_df[\"descripcion\"].str.len()"
      ]
    },
    {
      "cell_type": "code",
      "execution_count": null,
      "id": "11fdef32",
      "metadata": {
        "id": "11fdef32"
      },
      "outputs": [],
      "source": [
        "mascotas_df[\"descripcion\"].str.lower()"
      ]
    },
    {
      "cell_type": "code",
      "execution_count": null,
      "id": "f657a04d",
      "metadata": {
        "id": "f657a04d"
      },
      "outputs": [],
      "source": [
        "mascotas_df[\"descripcion\"].str.upper()"
      ]
    },
    {
      "cell_type": "code",
      "execution_count": null,
      "id": "c94f097b",
      "metadata": {
        "id": "c94f097b"
      },
      "outputs": [],
      "source": [
        "mascotas_df[\"descripcion\"].str.title()"
      ]
    },
    {
      "cell_type": "code",
      "execution_count": null,
      "id": "eae9a001",
      "metadata": {
        "id": "eae9a001"
      },
      "outputs": [],
      "source": [
        "mascotas_df[\"descripcion\"].str.capitalize()"
      ]
    },
    {
      "cell_type": "code",
      "source": [
        "mascotas_df['title'] = mascotas_df[\"descripcion\"].str.title()"
      ],
      "metadata": {
        "id": "KLmN2rOj5dLG"
      },
      "id": "KLmN2rOj5dLG",
      "execution_count": null,
      "outputs": []
    },
    {
      "cell_type": "code",
      "source": [
        "mascotas_df.head()"
      ],
      "metadata": {
        "id": "J7ZzglYc1zhk"
      },
      "id": "J7ZzglYc1zhk",
      "execution_count": null,
      "outputs": []
    },
    {
      "cell_type": "markdown",
      "id": "432ca609",
      "metadata": {
        "id": "432ca609"
      },
      "source": [
        "#### Contains, Split y Join"
      ]
    },
    {
      "cell_type": "code",
      "execution_count": null,
      "id": "dfa6cde7",
      "metadata": {
        "id": "dfa6cde7"
      },
      "outputs": [],
      "source": [
        "mascotas_df[\"descripcion\"].str.contains(\"perro\")"
      ]
    },
    {
      "cell_type": "code",
      "execution_count": null,
      "id": "e16db4ef",
      "metadata": {
        "id": "e16db4ef"
      },
      "outputs": [],
      "source": [
        "mascotas_df[\"descripcion\"].str.contains(\"gato\")"
      ]
    },
    {
      "cell_type": "code",
      "execution_count": null,
      "id": "8791410b",
      "metadata": {
        "id": "8791410b"
      },
      "outputs": [],
      "source": [
        "mascotas_df[\"descripcion\"].str.split(\" \")"
      ]
    },
    {
      "cell_type": "code",
      "execution_count": null,
      "id": "26faa609",
      "metadata": {
        "id": "26faa609"
      },
      "outputs": [],
      "source": [
        "mascotas_df[\"descripcion\"].str.split(\" \").str.join(\"|\")"
      ]
    },
    {
      "cell_type": "markdown",
      "id": "d33bec55",
      "metadata": {
        "id": "d33bec55"
      },
      "source": [
        "#### Replace"
      ]
    },
    {
      "cell_type": "code",
      "execution_count": null,
      "id": "814d624c-d65c-4893-a8dc-372face40283",
      "metadata": {
        "id": "814d624c-d65c-4893-a8dc-372face40283"
      },
      "outputs": [],
      "source": [
        "mascotas_df[\"descripcion\"]"
      ]
    },
    {
      "cell_type": "code",
      "execution_count": null,
      "id": "3a46de96",
      "metadata": {
        "id": "3a46de96"
      },
      "outputs": [],
      "source": [
        "mascotas_df[\"descripcion\"].str.replace(\"(\", \"\", regex=False).str.replace(\n",
        "    \")\", \"\", regex=False\n",
        ")"
      ]
    },
    {
      "cell_type": "markdown",
      "id": "d5c46509",
      "metadata": {
        "id": "d5c46509"
      },
      "source": [
        "##### Expresiones Regulares\n",
        "\n",
        "> Según [`re` de `python`](https://docs.python.org/3/library/re.html): *A regular expression (or RE) specifies a set of strings that matches it; the functions in this module let you check if a particular string matches a given regular expression (or if a given regular expression matches a particular string, which comes down to the same thing).*\n",
        "\n",
        "\n",
        "- https://www.programiz.com/python-programming/regex\n",
        "\n",
        "- https://regex101.com/"
      ]
    },
    {
      "cell_type": "code",
      "execution_count": null,
      "id": "72893cfe",
      "metadata": {
        "id": "72893cfe"
      },
      "outputs": [],
      "source": [
        "mascotas_df[\"descripcion\"].str.replace(\"\\(|\\)|,\", \"\", regex=True)"
      ]
    },
    {
      "cell_type": "code",
      "execution_count": null,
      "id": "1ee089bc",
      "metadata": {
        "scrolled": true,
        "id": "1ee089bc"
      },
      "outputs": [],
      "source": [
        "mascotas_df[\"descripcion\"].str.replace(\"\\d{1,3}\", \"\", regex=True)"
      ]
    },
    {
      "cell_type": "markdown",
      "id": "a107b3ff",
      "metadata": {
        "id": "a107b3ff"
      },
      "source": [
        "### Paréntesis: Método `apply`\n",
        "\n",
        "Este método permite aplicar una función sobre una serie (o sobre las filas o columnas de un DataFrame)"
      ]
    },
    {
      "cell_type": "code",
      "execution_count": null,
      "id": "dd1930e0",
      "metadata": {
        "scrolled": true,
        "id": "dd1930e0"
      },
      "outputs": [],
      "source": [
        "mascotas_df[\"descripcion\"].apply(lambda x: \"gato\" in x)"
      ]
    },
    {
      "cell_type": "code",
      "execution_count": null,
      "id": "687b15bc",
      "metadata": {
        "id": "687b15bc"
      },
      "outputs": [],
      "source": [
        "import unicodedata\n",
        "\n",
        "\n",
        "def strip_accents_ascii(s):\n",
        "    \"\"\"Transform accentuated unicode symbols into ascii or nothing\n",
        "    Warning: this solution is only suited for languages that have a direct\n",
        "    transliteration to ASCII symbols.\n",
        "    See also\n",
        "    --------\n",
        "    strip_accents_unicode\n",
        "        Remove accentuated char for any unicode symbol.\n",
        "    \"\"\"\n",
        "    nkfd_form = unicodedata.normalize(\"NFKD\", s)\n",
        "    return nkfd_form.encode(\"ASCII\", \"ignore\").decode(\"ASCII\")"
      ]
    },
    {
      "cell_type": "code",
      "execution_count": null,
      "id": "b33254cf-1fa3-4ea2-8a03-3a69e79855c0",
      "metadata": {
        "id": "b33254cf-1fa3-4ea2-8a03-3a69e79855c0"
      },
      "outputs": [],
      "source": [
        "mascotas_df[\"descripcion\"]"
      ]
    },
    {
      "cell_type": "code",
      "execution_count": null,
      "id": "ed4812ac",
      "metadata": {
        "id": "ed4812ac"
      },
      "outputs": [],
      "source": [
        "mascotas_df[\"descripcion\"].apply(strip_accents_ascii)"
      ]
    },
    {
      "cell_type": "markdown",
      "id": "d93f922c",
      "metadata": {
        "id": "d93f922c"
      },
      "source": [
        "Aplicación sobre DataFrames:"
      ]
    },
    {
      "cell_type": "code",
      "execution_count": null,
      "id": "19bb4c37",
      "metadata": {
        "id": "19bb4c37"
      },
      "outputs": [],
      "source": [
        "mascotas_df"
      ]
    },
    {
      "cell_type": "code",
      "execution_count": null,
      "id": "c6788dde",
      "metadata": {
        "id": "c6788dde"
      },
      "outputs": [],
      "source": [
        "mascotas_df.apply(lambda x: x[\"nombre\"] + \" - \" + x[\"descripcion\"], axis=1)"
      ]
    },
    {
      "cell_type": "markdown",
      "id": "d4263b07",
      "metadata": {
        "id": "d4263b07"
      },
      "source": [
        "#### Preprocesamiento Completo"
      ]
    },
    {
      "cell_type": "code",
      "execution_count": null,
      "id": "c6c4b682",
      "metadata": {
        "id": "c6c4b682"
      },
      "outputs": [],
      "source": [
        "mascotas_df[\"descripcion\"]"
      ]
    },
    {
      "cell_type": "code",
      "execution_count": null,
      "id": "5bdece33",
      "metadata": {
        "id": "5bdece33"
      },
      "outputs": [],
      "source": [
        "(\n",
        "    mascotas_df[\"descripcion\"]\n",
        "    .apply(lambda x: strip_accents_ascii(x))\n",
        "    .str.replace(\"\\(|\\)|,|\\d{1,3}|;|\\.\", \" \", regex=True)\n",
        "    .str.replace(r\"\\s+\", \" \", regex=True)\n",
        "    .str.strip()\n",
        "    .str.lower()\n",
        ")"
      ]
    },
    {
      "cell_type": "markdown",
      "id": "a5ae19de",
      "metadata": {
        "id": "a5ae19de"
      },
      "source": [
        "#### Concatenación"
      ]
    },
    {
      "cell_type": "code",
      "execution_count": null,
      "id": "2a92420d",
      "metadata": {
        "id": "2a92420d"
      },
      "outputs": [],
      "source": [
        "desc_limpia = (\n",
        "    mascotas_df[\"descripcion\"]\n",
        "    .apply(lambda x: strip_accents_ascii(x))\n",
        "    .str.replace(\"\\(|\\)|,|\\d{1,3}|;|\\.\", \" \", regex=True)\n",
        "    .str.replace(r\"\\s+\", \" \", regex=True)\n",
        "    .str.strip()\n",
        "    .str.lower()\n",
        ")\n",
        "\n",
        "\n"
      ]
    },
    {
      "cell_type": "code",
      "source": [
        "desc_limpia"
      ],
      "metadata": {
        "id": "0wzUdYI_AcvH"
      },
      "id": "0wzUdYI_AcvH",
      "execution_count": null,
      "outputs": []
    },
    {
      "cell_type": "code",
      "source": [
        "# s1 + s2 + ... + sn\n",
        "desc_limpia.str.cat(sep=\"|\")"
      ],
      "metadata": {
        "id": "wRjUjPQ28YSh"
      },
      "id": "wRjUjPQ28YSh",
      "execution_count": null,
      "outputs": []
    },
    {
      "cell_type": "markdown",
      "id": "b47a19fa-77f0-4abd-90c9-f438d3ba51a2",
      "metadata": {
        "id": "b47a19fa-77f0-4abd-90c9-f438d3ba51a2"
      },
      "source": [
        "---\n",
        "\n",
        "## 2.- Datos Temporales"
      ]
    },
    {
      "cell_type": "markdown",
      "id": "4c9933be-bbfc-4fa7-b963-c927ed645c75",
      "metadata": {
        "id": "4c9933be-bbfc-4fa7-b963-c927ed645c75"
      },
      "source": [
        "### Módulo Datetime\n",
        "\n",
        "Módulo built-in de python enfocado en manejar fechas y horas."
      ]
    },
    {
      "cell_type": "code",
      "execution_count": null,
      "id": "2b2f2c45-32b9-4813-b140-15bc4a522cff",
      "metadata": {
        "id": "2b2f2c45-32b9-4813-b140-15bc4a522cff"
      },
      "outputs": [],
      "source": [
        "import datetime"
      ]
    },
    {
      "cell_type": "markdown",
      "id": "9e9063b6-c306-41d0-83a7-4f011534ecd0",
      "metadata": {
        "id": "9e9063b6-c306-41d0-83a7-4f011534ecd0"
      },
      "source": [
        "#### Date\n",
        "\n",
        "Objeto que almacena día, mes y año."
      ]
    },
    {
      "cell_type": "code",
      "execution_count": null,
      "id": "b2a5d214-5070-4cfc-aa08-c809c0c9cf81",
      "metadata": {
        "id": "b2a5d214-5070-4cfc-aa08-c809c0c9cf81"
      },
      "outputs": [],
      "source": [
        "date_object = datetime.date.today()\n",
        "date_object"
      ]
    },
    {
      "cell_type": "code",
      "execution_count": null,
      "id": "c6ad7148-abd1-4800-9800-92c5a9154bb5",
      "metadata": {
        "id": "c6ad7148-abd1-4800-9800-92c5a9154bb5"
      },
      "outputs": [],
      "source": [
        "date_object.day"
      ]
    },
    {
      "cell_type": "code",
      "execution_count": null,
      "id": "93d940d7-328e-4dbf-bb7a-133f4b764e5c",
      "metadata": {
        "id": "93d940d7-328e-4dbf-bb7a-133f4b764e5c"
      },
      "outputs": [],
      "source": [
        "date_object.month"
      ]
    },
    {
      "cell_type": "code",
      "execution_count": null,
      "id": "84e2f758-6a7a-4eec-a046-b7137b96cd1b",
      "metadata": {
        "id": "84e2f758-6a7a-4eec-a046-b7137b96cd1b"
      },
      "outputs": [],
      "source": [
        "date_object.year"
      ]
    },
    {
      "cell_type": "markdown",
      "id": "28f628ac-322d-4934-9ffa-df7afce926a0",
      "metadata": {
        "id": "28f628ac-322d-4934-9ffa-df7afce926a0"
      },
      "source": [
        "#### Datetime\n",
        "\n",
        "Almacena segundos, minutos, hora, día, mes y año. También puede contener timezone."
      ]
    },
    {
      "cell_type": "code",
      "execution_count": null,
      "id": "19ed10ec-bfe4-4420-a871-caa310508f4c",
      "metadata": {
        "id": "19ed10ec-bfe4-4420-a871-caa310508f4c"
      },
      "outputs": [],
      "source": [
        "datetime_object = datetime.datetime.now()\n",
        "datetime_object"
      ]
    },
    {
      "cell_type": "markdown",
      "id": "1ede2a4f-263d-4354-b1ba-ccb7b4e6eb54",
      "metadata": {
        "id": "1ede2a4f-263d-4354-b1ba-ccb7b4e6eb54"
      },
      "source": [
        "#### Instanciar nuevos Date y Datetimes"
      ]
    },
    {
      "cell_type": "code",
      "execution_count": null,
      "id": "2a195750-6552-4cc4-bf73-f272ffdd63d6",
      "metadata": {
        "id": "2a195750-6552-4cc4-bf73-f272ffdd63d6"
      },
      "outputs": [],
      "source": [
        "d = datetime.date(2022, 9, 21)\n",
        "print(d)"
      ]
    },
    {
      "cell_type": "code",
      "execution_count": null,
      "id": "552c62d5-e254-424c-8af7-1779ff47b183",
      "metadata": {
        "id": "552c62d5-e254-424c-8af7-1779ff47b183"
      },
      "outputs": [],
      "source": [
        "print(\"Año:\", d.year)\n",
        "print(\"Mes:\", d.month)\n",
        "print(\"Día:\", d.day)"
      ]
    },
    {
      "cell_type": "code",
      "execution_count": null,
      "id": "0564bbaa-8a96-48bf-9926-d7b91699be56",
      "metadata": {
        "id": "0564bbaa-8a96-48bf-9926-d7b91699be56"
      },
      "outputs": [],
      "source": [
        "d = datetime.datetime(2022, 9, 21, 14, 59, 55, 2)\n",
        "print(d)"
      ]
    },
    {
      "cell_type": "code",
      "execution_count": null,
      "id": "0bea4dcf-0259-47cf-b3ae-acb6349a66f5",
      "metadata": {
        "id": "0bea4dcf-0259-47cf-b3ae-acb6349a66f5"
      },
      "outputs": [],
      "source": [
        "print(\"Hora:\", d.hour)\n",
        "print(\"Minuto:\", d.minute)\n",
        "print(\"Segundo:\", d.second)\n",
        "print(\"Microsegundo:\", d.microsecond)"
      ]
    },
    {
      "cell_type": "markdown",
      "id": "a70d1aa9-1778-4b92-b18b-ad1bd0791d79",
      "metadata": {
        "id": "a70d1aa9-1778-4b92-b18b-ad1bd0791d79"
      },
      "source": [
        "Obviamente, estos objetos cuentan con las restricciones pertinentes "
      ]
    },
    {
      "cell_type": "code",
      "execution_count": null,
      "id": "62c8d446-0348-4efc-9687-3f6587556b46",
      "metadata": {
        "id": "62c8d446-0348-4efc-9687-3f6587556b46"
      },
      "outputs": [],
      "source": [
        "datetime.datetime(-1, 4, 19, 10, 59, 55)"
      ]
    },
    {
      "cell_type": "code",
      "execution_count": null,
      "id": "9d77a6ae-f64a-42d3-ae21-3290d83715a2",
      "metadata": {
        "id": "9d77a6ae-f64a-42d3-ae21-3290d83715a2"
      },
      "outputs": [],
      "source": [
        "datetime.datetime(99999, 4, 19, 10, 59, 55)"
      ]
    },
    {
      "cell_type": "code",
      "source": [
        "datetime.datetime(2020, 4, 19, 10, 60, 55)"
      ],
      "metadata": {
        "id": "4mbtxa_ABlZR"
      },
      "id": "4mbtxa_ABlZR",
      "execution_count": null,
      "outputs": []
    },
    {
      "cell_type": "markdown",
      "id": "8f93adec-b51b-4f22-824b-a9fc2d31e5de",
      "metadata": {
        "id": "8f93adec-b51b-4f22-824b-a9fc2d31e5de"
      },
      "source": [
        "Relacionado: https://es.wikipedia.org/wiki/Problema_del_a%C3%B1o_2000\n",
        "\n",
        "\n",
        "El problema del año 2000, fue un bug o error de software causado por la costumbre que habían adoptado los programadores de omitir la centuria en el año para el almacenamiento de fechas (generalmente para economizar memoria), asumiendo que el software solo funcionaría durante los años cuyos números comenzaran con 19XX\n",
        "\n",
        "\n",
        "![Antes](https://www.sopitas.com/wp-content/uploads/2016/04/ss.gif)\n"
      ]
    },
    {
      "cell_type": "markdown",
      "id": "598efa1a-1d72-4adf-acdc-b119816a8fbd",
      "metadata": {
        "id": "598efa1a-1d72-4adf-acdc-b119816a8fbd"
      },
      "source": [
        "¿Y los años bisiestos?"
      ]
    },
    {
      "cell_type": "code",
      "execution_count": null,
      "id": "3ac621c8-fa75-43c8-b14e-ef6ee392dcd0",
      "metadata": {
        "id": "3ac621c8-fa75-43c8-b14e-ef6ee392dcd0"
      },
      "outputs": [],
      "source": [
        "datetime.datetime(2020, 2, 29)"
      ]
    },
    {
      "cell_type": "code",
      "execution_count": null,
      "id": "e7497b7d-631a-4696-bb55-e55049ee870f",
      "metadata": {
        "id": "e7497b7d-631a-4696-bb55-e55049ee870f"
      },
      "outputs": [],
      "source": [
        "datetime.datetime(2021, 2, 29)"
      ]
    },
    {
      "cell_type": "markdown",
      "id": "e77ed491-9401-4aea-a2bc-506e81093891",
      "metadata": {
        "id": "e77ed491-9401-4aea-a2bc-506e81093891"
      },
      "source": [
        "##### Desde timestamp\n",
        "\n",
        "`A Unix timestamp is the number of seconds between a particular date and January 1, 1970 at UTC.`"
      ]
    },
    {
      "cell_type": "code",
      "execution_count": null,
      "id": "6eb446b2-ab0b-4c15-8902-12cc9aa498e1",
      "metadata": {
        "id": "6eb446b2-ab0b-4c15-8902-12cc9aa498e1"
      },
      "outputs": [],
      "source": [
        "timestamp = datetime.date.fromtimestamp(1326244364)\n",
        "print(\"Date =\", timestamp)"
      ]
    },
    {
      "cell_type": "markdown",
      "id": "ec68bbdf-f6e3-4df7-b488-bb3759cfb49f",
      "metadata": {
        "id": "ec68bbdf-f6e3-4df7-b488-bb3759cfb49f"
      },
      "source": [
        "> **Pregunta ❓**: ¿Podemos sumar o restar fechas?"
      ]
    },
    {
      "cell_type": "code",
      "execution_count": null,
      "id": "cbf27631-8017-4abb-8839-e2c90d874863",
      "metadata": {
        "id": "cbf27631-8017-4abb-8839-e2c90d874863"
      },
      "outputs": [],
      "source": [
        "delta = datetime.datetime(1, 1, 1)\n",
        "delta"
      ]
    },
    {
      "cell_type": "code",
      "execution_count": null,
      "id": "0a2b3440-ea2a-4cfa-aa88-81f2a2c858c6",
      "metadata": {
        "id": "0a2b3440-ea2a-4cfa-aa88-81f2a2c858c6"
      },
      "outputs": [],
      "source": [
        "d"
      ]
    },
    {
      "cell_type": "code",
      "execution_count": null,
      "id": "35c6272b-c378-4f63-8d43-f9ef8de004df",
      "metadata": {
        "id": "35c6272b-c378-4f63-8d43-f9ef8de004df"
      },
      "outputs": [],
      "source": [
        "d + delta"
      ]
    },
    {
      "cell_type": "markdown",
      "id": "88b93cfe-3f0d-4a78-a0b2-abb6091c335c",
      "metadata": {
        "id": "88b93cfe-3f0d-4a78-a0b2-abb6091c335c"
      },
      "source": [
        "#### TimeDelta\n",
        "\n",
        "Permide sumar semanas, días, horas, etc... a objetos `date` y `datetime`."
      ]
    },
    {
      "cell_type": "code",
      "execution_count": null,
      "id": "19c06b94-474c-4054-8b0e-fdacda3bb445",
      "metadata": {
        "id": "19c06b94-474c-4054-8b0e-fdacda3bb445"
      },
      "outputs": [],
      "source": [
        "d"
      ]
    },
    {
      "cell_type": "code",
      "execution_count": null,
      "id": "8d72de31-484a-430c-9c69-b1704b077ea2",
      "metadata": {
        "id": "8d72de31-484a-430c-9c69-b1704b077ea2"
      },
      "outputs": [],
      "source": [
        "from datetime import timedelta\n",
        "\n",
        "t1 = timedelta(weeks=2)\n",
        "t1"
      ]
    },
    {
      "cell_type": "code",
      "execution_count": null,
      "id": "7456f6ea-55f2-428e-8865-9142ea755d5f",
      "metadata": {
        "id": "7456f6ea-55f2-428e-8865-9142ea755d5f"
      },
      "outputs": [],
      "source": [
        "d - t1"
      ]
    },
    {
      "cell_type": "markdown",
      "id": "5c5ff81b-685b-4d5f-9a64-57405ca7653b",
      "metadata": {
        "id": "5c5ff81b-685b-4d5f-9a64-57405ca7653b"
      },
      "source": [
        "¿Y tiempos negativos?"
      ]
    },
    {
      "cell_type": "code",
      "execution_count": null,
      "id": "3c53e689-8967-4775-8b93-3756caf3edf3",
      "metadata": {
        "id": "3c53e689-8967-4775-8b93-3756caf3edf3"
      },
      "outputs": [],
      "source": [
        "t2 = timedelta(minutes=-1)"
      ]
    },
    {
      "cell_type": "code",
      "execution_count": null,
      "id": "e60ec2a2-459c-49f5-9c78-6c1c05189414",
      "metadata": {
        "id": "e60ec2a2-459c-49f5-9c78-6c1c05189414"
      },
      "outputs": [],
      "source": [
        "d + t2"
      ]
    },
    {
      "cell_type": "code",
      "execution_count": null,
      "id": "1c0925cc-f88a-424b-be3b-2d3914b467c5",
      "metadata": {
        "id": "1c0925cc-f88a-424b-be3b-2d3914b467c5"
      },
      "outputs": [],
      "source": [
        "d - t2"
      ]
    },
    {
      "cell_type": "markdown",
      "id": "55de533a-ea34-4d9b-af59-4da1d3ae3c4b",
      "metadata": {
        "id": "55de533a-ea34-4d9b-af59-4da1d3ae3c4b"
      },
      "source": [
        "¿Cambios de mes?"
      ]
    },
    {
      "cell_type": "code",
      "execution_count": null,
      "id": "19be7712-2603-4215-a8ce-c504c54780f2",
      "metadata": {
        "id": "19be7712-2603-4215-a8ce-c504c54780f2"
      },
      "outputs": [],
      "source": [
        "t3 = timedelta(days=1)"
      ]
    },
    {
      "cell_type": "code",
      "execution_count": null,
      "id": "424f2c13-962f-46e6-9d02-049476af9e78",
      "metadata": {
        "id": "424f2c13-962f-46e6-9d02-049476af9e78"
      },
      "outputs": [],
      "source": [
        "t3 + datetime.date(2020, 2, 28)"
      ]
    },
    {
      "cell_type": "code",
      "execution_count": null,
      "id": "fccef8ee-08f5-46e9-94f3-90ff1157cd6a",
      "metadata": {
        "id": "fccef8ee-08f5-46e9-94f3-90ff1157cd6a"
      },
      "outputs": [],
      "source": [
        "t3 + datetime.date(2021, 2, 28)"
      ]
    },
    {
      "cell_type": "code",
      "source": [
        "d"
      ],
      "metadata": {
        "id": "C3Vaf4KCApax"
      },
      "id": "C3Vaf4KCApax",
      "execution_count": null,
      "outputs": []
    },
    {
      "cell_type": "markdown",
      "id": "d857fbc1-c587-48e5-89e9-e9a63f0b8338",
      "metadata": {
        "id": "d857fbc1-c587-48e5-89e9-e9a63f0b8338"
      },
      "source": [
        "#### Formatear a string"
      ]
    },
    {
      "cell_type": "code",
      "execution_count": null,
      "id": "7788c00c-e055-48a3-99f0-a558406e7abc",
      "metadata": {
        "id": "7788c00c-e055-48a3-99f0-a558406e7abc"
      },
      "outputs": [],
      "source": [
        "s1 = d.strftime(\"%d/%m/%Y, %H:%M:%S\")\n",
        "# dd/mm/YY H:M:S format\n",
        "s1"
      ]
    },
    {
      "cell_type": "code",
      "execution_count": null,
      "id": "13e643b3-bb57-4cd2-8e77-90056f509c5a",
      "metadata": {
        "id": "13e643b3-bb57-4cd2-8e77-90056f509c5a"
      },
      "outputs": [],
      "source": [
        "s1 = d.strftime(\"%d/%m/%Y\")\n",
        "# dd/mm/YY H:M:S format\n",
        "s1"
      ]
    },
    {
      "cell_type": "code",
      "execution_count": null,
      "id": "7ababef0-2180-4fff-a2fc-42287291fffe",
      "metadata": {
        "id": "7ababef0-2180-4fff-a2fc-42287291fffe"
      },
      "outputs": [],
      "source": [
        "s2 = d.strftime(\"%A %d %B %Y, %X\")\n",
        "# dd/mm/YY H:M:S format\n",
        "s2"
      ]
    },
    {
      "cell_type": "markdown",
      "id": "76cb1f50-f671-4848-a098-2af61e6665e9",
      "metadata": {
        "id": "76cb1f50-f671-4848-a098-2af61e6665e9"
      },
      "source": [
        "Referencia completa de formateo de fechas:\n",
        "\n",
        "https://www.programiz.com/python-programming/datetime/strftime"
      ]
    },
    {
      "cell_type": "markdown",
      "id": "ea7552c1-79f6-4532-89a5-2d878e4eb568",
      "metadata": {
        "id": "ea7552c1-79f6-4532-89a5-2d878e4eb568"
      },
      "source": [
        "---\n",
        "\n",
        "## 3.- Datos temporales en Pandas\n",
        "\n",
        "Pandas implementa su propio sistema de datetimes.\n",
        "`pd.to_datetimes` nos permite convertir una `Serie` o un `DataFrame` en una `Serie` de datetimes."
      ]
    },
    {
      "cell_type": "code",
      "execution_count": null,
      "id": "b0116ba2-64b3-469c-a41a-9f4b8b096d2b",
      "metadata": {
        "scrolled": true,
        "id": "b0116ba2-64b3-469c-a41a-9f4b8b096d2b"
      },
      "outputs": [],
      "source": [
        "temp_df.head(3)"
      ]
    },
    {
      "cell_type": "code",
      "execution_count": null,
      "id": "29cbce9c-7328-4ba5-bcdb-c012115feef4",
      "metadata": {
        "id": "29cbce9c-7328-4ba5-bcdb-c012115feef4"
      },
      "outputs": [],
      "source": [
        "import numpy as np\n",
        "\n",
        "dates = temp_df.loc[:, [\"Year\", \"Month\"]]\n",
        "dates[\"Day\"] = np.ones(dates.shape[0])\n",
        "dates"
      ]
    },
    {
      "cell_type": "code",
      "execution_count": null,
      "id": "f3d5657e-1635-4fdf-80df-67040086516b",
      "metadata": {
        "id": "f3d5657e-1635-4fdf-80df-67040086516b"
      },
      "outputs": [],
      "source": [
        "pd.to_datetime([1991, 'Jan', 1], yearfirst=True)"
      ]
    },
    {
      "cell_type": "markdown",
      "id": "63aa2947-888b-4330-9e47-19f6df06b969",
      "metadata": {
        "id": "63aa2947-888b-4330-9e47-19f6df06b969"
      },
      "source": [
        "### Paréntesis: Método `Map`\n",
        "\n",
        "Esta función permite hacer un `mapeo` (sustituir un valor por otro) sobre los elementos de una serie."
      ]
    },
    {
      "cell_type": "code",
      "execution_count": null,
      "id": "e36acc0a-7529-4b13-8fa6-30118261767d",
      "metadata": {
        "id": "e36acc0a-7529-4b13-8fa6-30118261767d"
      },
      "outputs": [],
      "source": [
        "dates[\"Month\"]"
      ]
    },
    {
      "cell_type": "code",
      "execution_count": null,
      "id": "e9ebd121-7dbb-4adc-b7c3-c7e66447ac70",
      "metadata": {
        "id": "e9ebd121-7dbb-4adc-b7c3-c7e66447ac70"
      },
      "outputs": [],
      "source": [
        "dates[\"Month\"].map(\n",
        "    {\n",
        "        \"Jan\": 1,\n",
        "        \"Feb\": 2,\n",
        "        \"Mar\": 3,\n",
        "        \"Apr\": 4,\n",
        "        \"May\": 5,\n",
        "        \"Jun\": 6,\n",
        "        \"Jul\": 7,\n",
        "        \"Aug\": 8,\n",
        "        \"Sep\": 9,\n",
        "        \"Oct\": 10,\n",
        "        \"Nov\": 11,\n",
        "        \"Dec\": 12,\n",
        "    }\n",
        ")"
      ]
    },
    {
      "cell_type": "code",
      "execution_count": null,
      "id": "a17639a8-5cff-4fd5-8f65-639728ddf1c3",
      "metadata": {
        "id": "a17639a8-5cff-4fd5-8f65-639728ddf1c3"
      },
      "outputs": [],
      "source": [
        "dates[\"Month\"] = dates[\"Month\"].map(\n",
        "    {\n",
        "        \"Jan\": 1,\n",
        "        \"Feb\": 2,\n",
        "        \"Mar\": 3,\n",
        "        \"Apr\": 4,\n",
        "        \"May\": 5,\n",
        "        \"Jun\": 6,\n",
        "        \"Jul\": 7,\n",
        "        \"Aug\": 8,\n",
        "        \"Sep\": 9,\n",
        "        \"Oct\": 10,\n",
        "        \"Nov\": 11,\n",
        "        \"Dec\": 12,\n",
        "    }\n",
        ")"
      ]
    },
    {
      "cell_type": "code",
      "execution_count": null,
      "id": "6018a4a0-0e0b-4ef1-834f-5e7dd87f0798",
      "metadata": {
        "id": "6018a4a0-0e0b-4ef1-834f-5e7dd87f0798"
      },
      "outputs": [],
      "source": [
        "dates"
      ]
    },
    {
      "cell_type": "code",
      "execution_count": null,
      "id": "b09cc74f-7704-46cd-bf8c-75c8c75d7660",
      "metadata": {
        "id": "b09cc74f-7704-46cd-bf8c-75c8c75d7660"
      },
      "outputs": [],
      "source": [
        "parsed_dates = pd.to_datetime(dates, yearfirst=True, infer_datetime_format=True)\n",
        "parsed_dates"
      ]
    },
    {
      "cell_type": "code",
      "execution_count": null,
      "id": "83683b37-0762-4511-bb98-79df38bc4d0e",
      "metadata": {
        "id": "83683b37-0762-4511-bb98-79df38bc4d0e"
      },
      "outputs": [],
      "source": [
        "temp_df[\"dates\"] = parsed_dates\n",
        "temp_df"
      ]
    },
    {
      "cell_type": "code",
      "execution_count": null,
      "id": "9cc18cc4-09f7-4d60-8a40-47eaaec9595a",
      "metadata": {
        "id": "9cc18cc4-09f7-4d60-8a40-47eaaec9595a"
      },
      "outputs": [],
      "source": [
        "temp_df.info()"
      ]
    },
    {
      "cell_type": "markdown",
      "id": "e468faaf-990c-4b55-958f-575befb54de1",
      "metadata": {
        "id": "e468faaf-990c-4b55-958f-575befb54de1"
      },
      "source": [
        "### Valores Inválidos\n",
        "\n",
        "Puede ocurrir que tengamos algún dato inválido que no podamos transformar a `datetime`.\n",
        "\n",
        "`pd.to_datetime` ofrece el siguiente parámetro para manejar estos problemas:\n",
        "\n",
        "`errors{‘ignore’, ‘raise’, ‘coerce’}, default ‘raise’`\n",
        "\n",
        "- If `raise`, then invalid parsing will raise an exception.\n",
        "\n",
        "- If `coerce`, then invalid parsing will be set as NaT.\n",
        "\n",
        "- If `ignore`, then invalid parsing will return the input.\n",
        "\n",
        "\n",
        "**Nota:** NaT = Not a Time\n"
      ]
    },
    {
      "cell_type": "code",
      "execution_count": null,
      "id": "a7241899-5c8d-44cc-bf6c-7c56cca953c8",
      "metadata": {
        "id": "a7241899-5c8d-44cc-bf6c-7c56cca953c8"
      },
      "outputs": [],
      "source": [
        "pd.to_datetime([\"2009/07/31\", \"asd\"], errors=\"coerce\")"
      ]
    },
    {
      "cell_type": "markdown",
      "id": "fc5da2c9-fa99-42cf-b6fa-1fe11a060e7e",
      "metadata": {
        "id": "fc5da2c9-fa99-42cf-b6fa-1fe11a060e7e"
      },
      "source": [
        "### Indexado\n",
        "\n",
        "Podemos fijar las fechas como índices y luego indexar por rangos de estas"
      ]
    },
    {
      "cell_type": "code",
      "execution_count": null,
      "id": "95312db5-bd24-4c25-a4ce-fdc6cf437863",
      "metadata": {
        "id": "95312db5-bd24-4c25-a4ce-fdc6cf437863"
      },
      "outputs": [],
      "source": [
        "temperaturas_por_fecha = temp_df.set_index(\"dates\")\n",
        "temperaturas_por_fecha"
      ]
    },
    {
      "cell_type": "code",
      "execution_count": null,
      "id": "a14be1c4-bbe4-49a5-9d8a-887cdccb4d2b",
      "metadata": {
        "id": "a14be1c4-bbe4-49a5-9d8a-887cdccb4d2b"
      },
      "outputs": [],
      "source": [
        "# Rango 1995-1-1 al 199-12-1\n",
        "temperaturas_por_fecha.loc[\"1995-1-1\":\"1999-12-1\"]"
      ]
    },
    {
      "cell_type": "code",
      "execution_count": null,
      "id": "f4f6a342-10af-4e3c-ae59-ebe427b3ed5a",
      "metadata": {
        "id": "f4f6a342-10af-4e3c-ae59-ebe427b3ed5a"
      },
      "outputs": [],
      "source": [
        "temperaturas_por_fecha.loc[\"1999-11-1\":\"1999-12-1\"]"
      ]
    },
    {
      "cell_type": "markdown",
      "id": "f139ee83-542a-4365-953d-be87f3dac7bc",
      "metadata": {
        "id": "f139ee83-542a-4365-953d-be87f3dac7bc"
      },
      "source": [
        "### Pandas Timedeltas\n",
        "\n",
        "En general podemos construir un `pd.Timedelta` con los parámetros:\n",
        "\n",
        "`weeks, days, hours, minutes, seconds, milliseconds, microseconds, nanoseconds`"
      ]
    },
    {
      "cell_type": "code",
      "execution_count": null,
      "id": "95e64e61-8231-4c47-8aba-26438b357c23",
      "metadata": {
        "id": "95e64e61-8231-4c47-8aba-26438b357c23"
      },
      "outputs": [],
      "source": [
        "ptd1 = pd.Timedelta(weeks=2)\n",
        "ptd1"
      ]
    },
    {
      "cell_type": "code",
      "execution_count": null,
      "id": "02d320eb-e93b-4b6a-aaaf-81f53d68b4f0",
      "metadata": {
        "id": "02d320eb-e93b-4b6a-aaaf-81f53d68b4f0"
      },
      "outputs": [],
      "source": [
        "temp_df[\"dates\"]"
      ]
    },
    {
      "cell_type": "code",
      "execution_count": null,
      "id": "b091c615-7b79-4ff7-a760-17781a0caa8c",
      "metadata": {
        "id": "b091c615-7b79-4ff7-a760-17781a0caa8c"
      },
      "outputs": [],
      "source": [
        "temp_df[\"dates\"] + ptd1"
      ]
    },
    {
      "cell_type": "markdown",
      "id": "0ea1fc60-a13e-4e09-8314-17b0db2ba02b",
      "metadata": {
        "id": "0ea1fc60-a13e-4e09-8314-17b0db2ba02b"
      },
      "source": [
        "Y podemos también hacer Broadcasting con `datetime.timedeltas`"
      ]
    },
    {
      "cell_type": "code",
      "execution_count": null,
      "id": "ab2cbd9d-244a-4f0a-8673-408849f608f2",
      "metadata": {
        "id": "ab2cbd9d-244a-4f0a-8673-408849f608f2"
      },
      "outputs": [],
      "source": [
        "temp_df[\"dates\"] + datetime.timedelta(days=1)"
      ]
    },
    {
      "cell_type": "markdown",
      "id": "9ea3da68-6c55-4973-a25f-94bbc0c6e3df",
      "metadata": {
        "id": "9ea3da68-6c55-4973-a25f-94bbc0c6e3df"
      },
      "source": [
        "---\n",
        "\n",
        "## 4.- Datos Categóricos"
      ]
    },
    {
      "cell_type": "markdown",
      "id": "14514485-cf95-49fb-84ea-7874f93dc36b",
      "metadata": {
        "id": "14514485-cf95-49fb-84ea-7874f93dc36b"
      },
      "source": [
        "Una variable categórica es un tipo de dato que puede tomar un número limitado (y usualmente fijo) de posibles valores.\n",
        "Ejemplos de esto: Género, clase social, tipo de sangre, etc...\n",
        "\n",
        "En general, guardar los datos como categóricos es mucho más eficiente que guardarlos como string. Según la referencia de pandas:\n",
        "\n",
        "> The memory usage of a Categorical is proportional to the number of categories plus the length of the data. In contrast, an object dtype is a constant times the length of the data.\n",
        "\n",
        "Como ejemplo, usaremos los continentes a los que pertenece cada país:"
      ]
    },
    {
      "cell_type": "code",
      "execution_count": null,
      "id": "0e7a888e-bdd9-4ea9-9b33-41145cd2e814",
      "metadata": {
        "id": "0e7a888e-bdd9-4ea9-9b33-41145cd2e814"
      },
      "outputs": [],
      "source": [
        "countries = pd.read_csv(\"https://raw.githubusercontent.com/maranedah/MDS7202/main/clases/Clase%2010%20-%20Trabajando%20Con%20Distintos%20Tipos%20de%20Datos/resources/country-and-continent.csv\")\n",
        "countries = countries.loc[:, [\"Continent_Name\", \"Country_Name\"]]\n",
        "countries"
      ]
    },
    {
      "cell_type": "markdown",
      "id": "778fa0ee-5033-46e4-8721-748e4d834b80",
      "metadata": {
        "id": "778fa0ee-5033-46e4-8721-748e4d834b80"
      },
      "source": [
        "Declaramos una variable como categórica transformando la serie a `category` con `.astype(\"category\")`:"
      ]
    },
    {
      "cell_type": "code",
      "execution_count": null,
      "id": "7c6f97cb-8698-4ed6-911e-d03739e4d223",
      "metadata": {
        "id": "7c6f97cb-8698-4ed6-911e-d03739e4d223"
      },
      "outputs": [],
      "source": [
        "countries[\"Continent_Name\"].unique()"
      ]
    },
    {
      "cell_type": "code",
      "execution_count": null,
      "id": "b8aa4e03-4332-4fe9-9a9e-7a79857e87a1",
      "metadata": {
        "id": "b8aa4e03-4332-4fe9-9a9e-7a79857e87a1"
      },
      "outputs": [],
      "source": [
        "countries[\"Continent_Name\"] = countries.loc[:, \"Continent_Name\"].astype(\"category\")\n",
        "countries[\"Continent_Name\"]"
      ]
    },
    {
      "cell_type": "markdown",
      "id": "dbca7c40-ea62-4286-a7d2-229f91cea9ba",
      "metadata": {
        "id": "dbca7c40-ea62-4286-a7d2-229f91cea9ba"
      },
      "source": [
        "Podemos acceder a las categorías con:"
      ]
    },
    {
      "cell_type": "code",
      "execution_count": null,
      "id": "fbe387a6-da16-435c-a9e1-89ebf7e1e5d8",
      "metadata": {
        "id": "fbe387a6-da16-435c-a9e1-89ebf7e1e5d8"
      },
      "outputs": [],
      "source": [
        "countries[\"Continent_Name\"].cat.categories"
      ]
    },
    {
      "cell_type": "markdown",
      "id": "03168590-ad3b-45bf-a057-0e073862c497",
      "metadata": {
        "id": "03168590-ad3b-45bf-a057-0e073862c497"
      },
      "source": [
        "### Operaciones con categorías"
      ]
    },
    {
      "cell_type": "markdown",
      "id": "2cef2aeb-250d-447f-b859-ce6ce346c434",
      "metadata": {
        "id": "2cef2aeb-250d-447f-b859-ce6ce346c434"
      },
      "source": [
        "Podemos renombrar categorías usando el método `rename_categories`:"
      ]
    },
    {
      "cell_type": "code",
      "execution_count": null,
      "id": "2449b616-49fb-4891-9da3-4c63af301637",
      "metadata": {
        "id": "2449b616-49fb-4891-9da3-4c63af301637"
      },
      "outputs": [],
      "source": [
        "# renombrar en español\n",
        "countries[\"Continent_Name\"] = countries[\"Continent_Name\"].cat.rename_categories(\n",
        "    [\n",
        "        \"Africa\",\n",
        "        \"Antarctica\",\n",
        "        \"Asia\",\n",
        "        \"Europa\",\n",
        "        \"América del Norte\",\n",
        "        \"Oceania\",\n",
        "        \"América del Sur\",\n",
        "    ]\n",
        ")\n",
        "\n",
        "countries[\"Continent_Name\"]"
      ]
    },
    {
      "cell_type": "code",
      "execution_count": null,
      "id": "af1898f3-9e72-4e29-a277-806ad00cff2a",
      "metadata": {
        "scrolled": true,
        "id": "af1898f3-9e72-4e29-a277-806ad00cff2a"
      },
      "outputs": [],
      "source": [
        "countries.sample(10)"
      ]
    },
    {
      "cell_type": "markdown",
      "id": "4e85e2b7-4605-4c34-a880-39c96fc28f64",
      "metadata": {
        "id": "4e85e2b7-4605-4c34-a880-39c96fc28f64"
      },
      "source": [
        "`rename_categories` también acepta diccionarios como entrada. La idea es que el diccionario vincule los nombres antiguos con los nuevos:"
      ]
    },
    {
      "cell_type": "code",
      "execution_count": null,
      "id": "4cfa769c-10c8-47ab-b502-1f3e3a76c01d",
      "metadata": {
        "id": "4cfa769c-10c8-47ab-b502-1f3e3a76c01d"
      },
      "outputs": [],
      "source": [
        "countries[\"Continent_Name\"] = countries[\"Continent_Name\"].cat.rename_categories(\n",
        "    {\n",
        "        \"Europa\": \"Europaa\",\n",
        "    }\n",
        ")"
      ]
    },
    {
      "cell_type": "code",
      "execution_count": null,
      "id": "5a7a033d-c69d-4e38-b189-a16940a7fe0f",
      "metadata": {
        "id": "5a7a033d-c69d-4e38-b189-a16940a7fe0f"
      },
      "outputs": [],
      "source": [
        "countries"
      ]
    },
    {
      "cell_type": "markdown",
      "id": "e142c34a-7ba0-417a-94f4-76c97e9c49fa",
      "metadata": {
        "id": "e142c34a-7ba0-417a-94f4-76c97e9c49fa"
      },
      "source": [
        "Se pueden agregar categorías"
      ]
    },
    {
      "cell_type": "code",
      "execution_count": null,
      "id": "1d6406ce-5478-4566-834e-c0b0df18cce2",
      "metadata": {
        "id": "1d6406ce-5478-4566-834e-c0b0df18cce2"
      },
      "outputs": [],
      "source": [
        "countries[\"Continent_Name\"].cat.add_categories([\"Atlantida\"])"
      ]
    },
    {
      "cell_type": "markdown",
      "id": "61279199-76d7-42ed-9c91-f47289e79ac5",
      "metadata": {
        "id": "61279199-76d7-42ed-9c91-f47289e79ac5"
      },
      "source": [
        "Como también eliminar las no usadas:"
      ]
    },
    {
      "cell_type": "code",
      "execution_count": null,
      "id": "aeb25bd4-6a02-407d-ba1e-5f5b9f750732",
      "metadata": {
        "id": "aeb25bd4-6a02-407d-ba1e-5f5b9f750732"
      },
      "outputs": [],
      "source": [
        "# Remover las no usadas\n",
        "countries[\"Continent_Name\"].cat.remove_unused_categories()"
      ]
    },
    {
      "cell_type": "markdown",
      "id": "77d6c042-8649-4222-8093-a6b7c67a44ca",
      "metadata": {
        "id": "77d6c042-8649-4222-8093-a6b7c67a44ca"
      },
      "source": [
        "O incluso, eliminar una categoría completa. Noten que esto transforma valores de esa categoría a `NaN`."
      ]
    },
    {
      "cell_type": "code",
      "execution_count": null,
      "id": "c9b45926-35cd-433c-bbf9-700c0be64839",
      "metadata": {
        "id": "c9b45926-35cd-433c-bbf9-700c0be64839"
      },
      "outputs": [],
      "source": [
        "# Como también remover una categoría completa.\n",
        "countries[\"Continent_Name\"].cat.remove_categories([\"Europaa\"])"
      ]
    },
    {
      "cell_type": "markdown",
      "id": "56a8e56a-8ad9-42c9-a3d6-89d72a551569",
      "metadata": {
        "id": "56a8e56a-8ad9-42c9-a3d6-89d72a551569"
      },
      "source": [
        "### Nota sobre memoria\n",
        "\n",
        "Como habíamos dicho, es mucho más eficiente guardar variables categóricas que strings.\n",
        "Podemos ver esto en el siguiente ejemplo:\n",
        "\n",
        "#### Usando Strings"
      ]
    },
    {
      "cell_type": "code",
      "execution_count": null,
      "id": "7dacbe58-e4be-4342-9afe-d45aa3542b3c",
      "metadata": {
        "id": "7dacbe58-e4be-4342-9afe-d45aa3542b3c"
      },
      "outputs": [],
      "source": [
        "# cuidado con este experimento, ocupa mucha memoria!\n",
        "df_pesado = pd.DataFrame(\n",
        "    [\"A\", \"B\", \"C\", \"D\", \"E\", \"F\", \"G\", \"H\", \"I\", \"J\"] * 10000000, columns=[\"var\"]\n",
        ")\n",
        "df_pesado"
      ]
    },
    {
      "cell_type": "code",
      "execution_count": null,
      "id": "e40ed6f7-0692-4443-894a-a79690cb6c08",
      "metadata": {
        "id": "e40ed6f7-0692-4443-894a-a79690cb6c08"
      },
      "outputs": [],
      "source": [
        "# strings no tienen .cat\n",
        "df_pesado[\"var\"].cat"
      ]
    },
    {
      "cell_type": "code",
      "execution_count": null,
      "id": "27f8808b-7c98-4d39-b3b4-8d4c1f104efd",
      "metadata": {
        "id": "27f8808b-7c98-4d39-b3b4-8d4c1f104efd"
      },
      "outputs": [],
      "source": [
        "# observen la cantidad de memoria.\n",
        "df_pesado.info()"
      ]
    },
    {
      "cell_type": "markdown",
      "id": "c64cd50e-e7bc-4d2d-9f7e-5c6097759744",
      "metadata": {
        "id": "c64cd50e-e7bc-4d2d-9f7e-5c6097759744"
      },
      "source": [
        "#### Usando Categorías"
      ]
    },
    {
      "cell_type": "code",
      "execution_count": null,
      "id": "960ea20a-2117-43c6-8c51-706121bd591d",
      "metadata": {
        "id": "960ea20a-2117-43c6-8c51-706121bd591d"
      },
      "outputs": [],
      "source": [
        "df_pesado = pd.DataFrame(\n",
        "    [\"A\", \"B\", \"C\", \"D\", \"E\", \"F\", \"G\", \"H\", \"I\", \"J\"] * 10000000, columns=[\"var\"]\n",
        ")\n",
        "\n",
        "df_pesado[\"var\"] = df_pesado[\"var\"].astype(\"category\")\n",
        "df_pesado"
      ]
    },
    {
      "cell_type": "code",
      "execution_count": null,
      "id": "95b8754e-f70b-4f33-8a80-5dfafdc4b249",
      "metadata": {
        "id": "95b8754e-f70b-4f33-8a80-5dfafdc4b249"
      },
      "outputs": [],
      "source": [
        "df_pesado[\"var\"].cat"
      ]
    },
    {
      "cell_type": "code",
      "execution_count": null,
      "id": "62793681-4350-410d-b8f4-87104b589819",
      "metadata": {
        "id": "62793681-4350-410d-b8f4-87104b589819"
      },
      "outputs": [],
      "source": [
        "df_pesado.info()"
      ]
    },
    {
      "cell_type": "markdown",
      "id": "3885c733-7060-4bba-9dc3-7332226b3a02",
      "metadata": {
        "id": "3885c733-7060-4bba-9dc3-7332226b3a02"
      },
      "source": [
        "### Un pequeño merge con los datos anteriores\n",
        "\n",
        "Notar que en esta versión se especificó sobre que variables hacer el merge en ambos datasets."
      ]
    },
    {
      "cell_type": "code",
      "source": [
        "temp_df"
      ],
      "metadata": {
        "id": "jSJsFuLhG0ti"
      },
      "id": "jSJsFuLhG0ti",
      "execution_count": null,
      "outputs": []
    },
    {
      "cell_type": "code",
      "execution_count": null,
      "id": "899a2c2f-06c4-4839-86b8-b84d15a4fdce",
      "metadata": {
        "id": "899a2c2f-06c4-4839-86b8-b84d15a4fdce"
      },
      "outputs": [],
      "source": [
        "temp_agg = temp_df.groupby(\"Country\").agg({\"Temperature\": [\"mean\", \"std\"]})\n",
        "temp_agg"
      ]
    },
    {
      "cell_type": "code",
      "execution_count": null,
      "id": "4f711ee1-430a-446a-ba82-0005009d99e3",
      "metadata": {
        "id": "4f711ee1-430a-446a-ba82-0005009d99e3"
      },
      "outputs": [],
      "source": [
        "countries"
      ]
    },
    {
      "cell_type": "code",
      "execution_count": null,
      "id": "b048e3b3-40b2-4220-ac8a-fc40ff8ee00f",
      "metadata": {
        "id": "b048e3b3-40b2-4220-ac8a-fc40ff8ee00f"
      },
      "outputs": [],
      "source": [
        "temp_agg.columns = temp_agg.columns.droplevel()\n",
        "temp_agg = temp_agg.reset_index()\n",
        "temp_agg.columns = [\"Country\", \"Mean temperature\", \"Std temperature\"]\n",
        "temp_agg\n",
        "\n",
        "merged_df = pd.merge(\n",
        "    temp_agg,\n",
        "    countries,\n",
        "    how=\"left\",\n",
        "    left_on=\"Country\",\n",
        "    right_on=\"Country_Name\",\n",
        ")\n",
        "\n",
        "merged_df"
      ]
    },
    {
      "cell_type": "markdown",
      "id": "f204aad7-258c-47a8-86ee-0a98d1aa78b0",
      "metadata": {
        "id": "f204aad7-258c-47a8-86ee-0a98d1aa78b0"
      },
      "source": [
        "---\n",
        "\n",
        "## 5.- Ordinales\n",
        "\n",
        "Son variables categóricas con un orden definido.\n",
        "\n",
        "Por ejemplo, hagamos una clasificación muy simple del clima a partir de la temperatura media. Para esto, calculemos cuartiles:\n",
        "\n",
        "> Nota: Los elementos meteorológicos a tomar en cuenta para definir un clima son la temperatura, la presión, el viento, la humedad y la precipitación. Referencias: https://es.wikipedia.org/wiki/Clima"
      ]
    },
    {
      "cell_type": "code",
      "execution_count": null,
      "id": "d0723f59-3a5c-40e3-b02b-c06cea0f44d8",
      "metadata": {
        "id": "d0723f59-3a5c-40e3-b02b-c06cea0f44d8"
      },
      "outputs": [],
      "source": [
        "mean_temp = merged_df[\"Mean temperature\"]\n",
        "mean_temp"
      ]
    },
    {
      "cell_type": "code",
      "execution_count": null,
      "id": "5e789fad-922f-4070-a3d1-4cef39e2018b",
      "metadata": {
        "id": "5e789fad-922f-4070-a3d1-4cef39e2018b"
      },
      "outputs": [],
      "source": [
        "mean_temp.describe()"
      ]
    },
    {
      "cell_type": "code",
      "execution_count": null,
      "id": "4f4d3df2-cc47-48b5-a995-c9847fd2b797",
      "metadata": {
        "id": "4f4d3df2-cc47-48b5-a995-c9847fd2b797"
      },
      "outputs": [],
      "source": [
        "clima_ordinal = pd.qcut(\n",
        "    mean_temp, 5, labels=[\"Polar\", \"Frio\", \"Templado\", \"Calido\", \"Muy Calido\"]\n",
        ")\n",
        "clima_ordinal"
      ]
    },
    {
      "cell_type": "markdown",
      "id": "9138c6bc-0e8e-415a-aaf1-d2dace9f0ebd",
      "metadata": {
        "id": "9138c6bc-0e8e-415a-aaf1-d2dace9f0ebd"
      },
      "source": [
        "#### Operaciones sobre Series Categóricas con Orden"
      ]
    },
    {
      "cell_type": "code",
      "execution_count": null,
      "id": "e99d925d-b729-4daf-b292-529c8ce2ebf0",
      "metadata": {
        "id": "e99d925d-b729-4daf-b292-529c8ce2ebf0"
      },
      "outputs": [],
      "source": [
        "clima_ordinal.value_counts()"
      ]
    },
    {
      "cell_type": "code",
      "execution_count": null,
      "id": "1f8375cc-366b-4a5b-a753-ef0bf7f26a9a",
      "metadata": {
        "id": "1f8375cc-366b-4a5b-a753-ef0bf7f26a9a"
      },
      "outputs": [],
      "source": [
        "clima_ordinal.min()"
      ]
    },
    {
      "cell_type": "code",
      "execution_count": null,
      "id": "2f265dfc-c927-40fd-a843-fe1a9345fec5",
      "metadata": {
        "id": "2f265dfc-c927-40fd-a843-fe1a9345fec5"
      },
      "outputs": [],
      "source": [
        "clima_ordinal.max()"
      ]
    },
    {
      "cell_type": "code",
      "execution_count": null,
      "id": "28d0ca34-90e1-44c2-b965-51c27af5ba63",
      "metadata": {
        "id": "28d0ca34-90e1-44c2-b965-51c27af5ba63"
      },
      "outputs": [],
      "source": [
        "clima_ordinal.mode()"
      ]
    },
    {
      "cell_type": "markdown",
      "id": "39d7ac40-6beb-403d-8b10-6c7d8b03538d",
      "metadata": {
        "id": "39d7ac40-6beb-403d-8b10-6c7d8b03538d"
      },
      "source": [
        "---\n",
        "\n",
        "### Ordenar y Filtrar usando Ordinales"
      ]
    },
    {
      "cell_type": "code",
      "execution_count": null,
      "id": "02f05096-1c5b-485a-92a2-48537d5e55ad",
      "metadata": {
        "id": "02f05096-1c5b-485a-92a2-48537d5e55ad"
      },
      "outputs": [],
      "source": [
        "merged_df[\"Temp Quartile\"] = clima_ordinal\n",
        "merged_df.head(3)"
      ]
    },
    {
      "cell_type": "code",
      "execution_count": null,
      "id": "998e4f6a-c7cc-4481-821c-477355d56186",
      "metadata": {
        "id": "998e4f6a-c7cc-4481-821c-477355d56186"
      },
      "outputs": [],
      "source": [
        "merged_df.info()"
      ]
    },
    {
      "cell_type": "code",
      "execution_count": null,
      "id": "42782f3e-460c-41a4-aae3-e2ca3a553c95",
      "metadata": {
        "id": "42782f3e-460c-41a4-aae3-e2ca3a553c95"
      },
      "outputs": [],
      "source": [
        "merged_df = merged_df.sort_values([\"Temp Quartile\", \"Mean temperature\"])\n",
        "merged_df"
      ]
    },
    {
      "cell_type": "code",
      "execution_count": null,
      "id": "322cce7c-2e50-4581-ad48-512e040f34d3",
      "metadata": {
        "id": "322cce7c-2e50-4581-ad48-512e040f34d3"
      },
      "outputs": [],
      "source": [
        "mask = merged_df[\"Temp Quartile\"] == \"Muy Calido\"\n",
        "mask"
      ]
    },
    {
      "cell_type": "code",
      "execution_count": null,
      "id": "18a15b5e-0557-4008-846f-772cfda5c64c",
      "metadata": {
        "id": "18a15b5e-0557-4008-846f-772cfda5c64c"
      },
      "outputs": [],
      "source": [
        "merged_df[mask]"
      ]
    },
    {
      "cell_type": "markdown",
      "id": "bab1ccc2-6242-43a5-9c41-57337fe11c93",
      "metadata": {
        "id": "bab1ccc2-6242-43a5-9c41-57337fe11c93"
      },
      "source": [
        "## Anexo: Cómo Combinar dos Filtros/Máscaras Booleanas\n",
        "\n",
        "Se puede usar las operaciones `|` (or) y `&` and para combinar dos máscaras.\n",
        "\n",
        "- `|` simboliza un ó lógico.\n",
        "- `&` simboliza un y lógico."
      ]
    },
    {
      "cell_type": "code",
      "execution_count": null,
      "id": "816c433b-806d-4746-a281-62dad7646d91",
      "metadata": {
        "id": "816c433b-806d-4746-a281-62dad7646d91"
      },
      "outputs": [],
      "source": [
        "mask_2 = (merged_df[\"Temp Quartile\"] < \"Frio\") | (\n",
        "    merged_df[\"Temp Quartile\"] == \"Templado\"\n",
        ")\n",
        "mask_2"
      ]
    },
    {
      "cell_type": "code",
      "execution_count": null,
      "id": "d26ef9b4-f9b5-47db-886d-59c8a6b09d6b",
      "metadata": {
        "id": "d26ef9b4-f9b5-47db-886d-59c8a6b09d6b"
      },
      "outputs": [],
      "source": [
        "merged_df[mask_2]"
      ]
    },
    {
      "cell_type": "code",
      "source": [],
      "metadata": {
        "id": "VJ23RXjQkfe1"
      },
      "id": "VJ23RXjQkfe1",
      "execution_count": null,
      "outputs": []
    }
  ],
  "metadata": {
    "kernelspec": {
      "display_name": "Python 3 (ipykernel)",
      "language": "python",
      "name": "python3"
    },
    "language_info": {
      "codemirror_mode": {
        "name": "ipython",
        "version": 3
      },
      "file_extension": ".py",
      "mimetype": "text/x-python",
      "name": "python",
      "nbconvert_exporter": "python",
      "pygments_lexer": "ipython3",
      "version": "3.9.7"
    },
    "toc": {
      "base_numbering": 1,
      "nav_menu": {},
      "number_sections": true,
      "sideBar": true,
      "skip_h1_title": true,
      "title_cell": "Table of Contents",
      "title_sidebar": "Contents",
      "toc_cell": true,
      "toc_position": {
        "height": "calc(100% - 180px)",
        "left": "10px",
        "top": "150px",
        "width": "274.833px"
      },
      "toc_section_display": true,
      "toc_window_display": false
    },
    "varInspector": {
      "cols": {
        "lenName": 16,
        "lenType": 16,
        "lenVar": 40
      },
      "kernels_config": {
        "python": {
          "delete_cmd_postfix": "",
          "delete_cmd_prefix": "del ",
          "library": "var_list.py",
          "varRefreshCmd": "print(var_dic_list())"
        },
        "r": {
          "delete_cmd_postfix": ") ",
          "delete_cmd_prefix": "rm(",
          "library": "var_list.r",
          "varRefreshCmd": "cat(var_dic_list()) "
        }
      },
      "types_to_exclude": [
        "module",
        "function",
        "builtin_function_or_method",
        "instance",
        "_Feature"
      ],
      "window_display": false
    },
    "colab": {
      "provenance": []
    }
  },
  "nbformat": 4,
  "nbformat_minor": 5
}