{
  "cells": [
    {
      "cell_type": "markdown",
      "metadata": {
        "id": "fvBfqSaUbUyr"
      },
      "source": [
        "#  Clase 3: Programación Funcional\n",
        "\n",
        "**MDS7202: Laboratorio de Programación Científica para Ciencia de Datos**\n",
        "\n",
        "*Profesor: Mauricio Araneda Hernandez*\n",
        "\n",
        "## Objetivos de la Clase:\n",
        "\n",
        "- Funciones y su sintaxis en Python\n",
        "- Scopes\n",
        "- Programación funcional: `lambdas`, `map`, `filter` y `reduce`\n",
        "- Referencias y Mutabilidad\n",
        "- Git\n"
      ]
    },
    {
      "cell_type": "markdown",
      "metadata": {
        "id": "bka1465tbUyu"
      },
      "source": [
        "---\n",
        "\n",
        "## Parte 1: Funciones\n",
        "\n",
        "\n",
        "Una función es un segmento de código separado del código principal, la cual puede ser ejecutada (de aquí en adelante, *invocada*) desde cualquier otro punto del programa (incluyendo de si misma).\n",
        "\n",
        "Las funciones por lo general toman parámetros, que en términos prácticos, son los datos sobre los cuales operarán."
      ]
    },
    {
      "cell_type": "markdown",
      "metadata": {
        "id": "pbRj1Xf8bUyv"
      },
      "source": [
        "### Sintaxis Básica\n",
        "\n",
        "En Python, una función se define por medio de la keyword `def` seguido por el nombre y los parámetros que recibirá de entrada la función. \n",
        "\n",
        "\n",
        "```python\n",
        "def función_1(parámetro_1, parámetro_2): \n",
        "    acción\n",
        "    ...\n",
        "\n",
        "```\n"
      ]
    },
    {
      "cell_type": "markdown",
      "metadata": {
        "id": "0nXQFOkxbUyv"
      },
      "source": [
        "#### Return\n",
        "\n",
        "La keyword ```return``` permite que valores definidos dentro de la función puedan ser retornadas hacia el exterior.  Una función definida sin ```return``` entrega como resultado el tipo de datos ```None```.\n",
        "\n",
        "```python\n",
        "def función_2(parámetro_1, parámetro_2): \n",
        "    acción\n",
        "    nuevo_valor = ...\n",
        "    ...\n",
        "    \n",
        "    return nuevo_valor\n",
        "\n",
        "```\n",
        "\n",
        "> **Nota 📝**: Parametro es el nombre de la variable dentro de la función. Argumento es el valor que le pasamos a el parámetro al momento de invocar la función. Se pueden usar indistintivamente.\n",
        "\n"
      ]
    },
    {
      "cell_type": "markdown",
      "metadata": {
        "id": "8mkN4iZxbUyw"
      },
      "source": [
        "#### Invocación \n",
        "\n",
        "Para invocar una función (*ejecutarla*), se utiliza el nombre de la función junto a dos paréntesis que encierran los argumentos.\n",
        "\n",
        "```python\n",
        "def función_2(parámetro_1, parámetro_2): \n",
        "    acción\n",
        "    nuevo_valor = ...\n",
        "    ...\n",
        "    \n",
        "    return nuevo_valor\n",
        "\n",
        "\n",
        "variable_1 = 1\n",
        "variable_2 = 2\n",
        "\n",
        "función_2(variable_1, variable_2)\n",
        "```\n",
        "\n",
        "\n",
        "Ya hemos estudiado funciones básicas de Python, como lo son `print()`, `type()` o `isinstance()`.\n"
      ]
    },
    {
      "cell_type": "markdown",
      "metadata": {
        "id": "MzzxGJaZbUyw"
      },
      "source": [
        "> **Ejemplo 📖**\n",
        "\n",
        "La función ```sumar(a, b)``` que suma dos número esta definida por:"
      ]
    },
    {
      "cell_type": "code",
      "execution_count": null,
      "metadata": {
        "ExecuteTime": {
          "end_time": "2021-03-24T19:33:30.473840Z",
          "start_time": "2021-03-24T19:33:30.452812Z"
        },
        "id": "fW74o74qbUyx"
      },
      "outputs": [],
      "source": [
        "def sumar(a, b):\n",
        "    c = a + b\n",
        "    return c"
      ]
    },
    {
      "cell_type": "code",
      "execution_count": null,
      "metadata": {
        "ExecuteTime": {
          "end_time": "2021-03-24T19:33:46.931701Z",
          "start_time": "2021-03-24T19:33:46.912703Z"
        },
        "scrolled": true,
        "id": "hCsV5eDJbUyx",
        "outputId": "6e3c0550-0fc7-4a5f-8a41-d7529f8b7adc"
      },
      "outputs": [
        {
          "data": {
            "text/plain": [
              "210"
            ]
          },
          "execution_count": 2,
          "metadata": {},
          "output_type": "execute_result"
        }
      ],
      "source": [
        "sumar(10, 200)"
      ]
    },
    {
      "cell_type": "markdown",
      "metadata": {
        "id": "nO3Bo0-GbUyy"
      },
      "source": [
        "> **Pregunta ❓:** ¿Qué sucede con la variable `c` definida dentro de la función?"
      ]
    },
    {
      "cell_type": "code",
      "execution_count": null,
      "metadata": {
        "ExecuteTime": {
          "end_time": "2021-03-24T19:35:09.838952Z",
          "start_time": "2021-03-24T19:35:09.828938Z"
        },
        "id": "HiUwLoqebUyz",
        "outputId": "75f0aedd-90b8-4f16-bb04-d861f4a597e5"
      },
      "outputs": [
        {
          "ename": "NameError",
          "evalue": "name 'c' is not defined",
          "output_type": "error",
          "traceback": [
            "\u001b[1;31m---------------------------------------------------------------------------\u001b[0m",
            "\u001b[1;31mNameError\u001b[0m                                 Traceback (most recent call last)",
            "Input \u001b[1;32mIn [3]\u001b[0m, in \u001b[0;36m<cell line: 1>\u001b[1;34m()\u001b[0m\n\u001b[1;32m----> 1\u001b[0m \u001b[43mc\u001b[49m\n",
            "\u001b[1;31mNameError\u001b[0m: name 'c' is not defined"
          ]
        }
      ],
      "source": [
        "c"
      ]
    },
    {
      "cell_type": "markdown",
      "metadata": {
        "id": "QCzJDLx3bUyz"
      },
      "source": [
        "### Elementos extra de la sintáxis de funciones\n",
        "\n",
        "#### Parámetros nombrados"
      ]
    },
    {
      "cell_type": "markdown",
      "metadata": {
        "id": "0aFsG8PQbUy0"
      },
      "source": [
        "Las funciones de python tambíen aceptan parámetros nombrados. Es decir, al invocar la función indicarle especificamente el valor de cada parámetro por su nombre."
      ]
    },
    {
      "cell_type": "code",
      "execution_count": null,
      "metadata": {
        "id": "qELRyEj6bUy0"
      },
      "outputs": [],
      "source": [
        "def sumar(a, b):\n",
        "    c = a + b\n",
        "    return c"
      ]
    },
    {
      "cell_type": "code",
      "execution_count": null,
      "metadata": {
        "ExecuteTime": {
          "end_time": "2021-03-24T19:36:06.139377Z",
          "start_time": "2021-03-24T19:36:06.120379Z"
        },
        "id": "j2kXNgnmbUy0",
        "outputId": "3c98cb98-6b98-40a3-fe76-2b0403704b94"
      },
      "outputs": [
        {
          "data": {
            "text/plain": [
              "30"
            ]
          },
          "execution_count": 6,
          "metadata": {},
          "output_type": "execute_result"
        }
      ],
      "source": [
        "sumar(a=10, b=20)"
      ]
    },
    {
      "cell_type": "code",
      "execution_count": null,
      "metadata": {
        "ExecuteTime": {
          "end_time": "2021-03-24T19:36:19.661112Z",
          "start_time": "2021-03-24T19:36:19.643112Z"
        },
        "id": "SZmGoSd7bUy0",
        "outputId": "67ba4f4f-ac53-4e55-94f4-5cb8ad0f281c"
      },
      "outputs": [
        {
          "ename": "TypeError",
          "evalue": "sumar() missing 1 required positional argument: 'a'",
          "output_type": "error",
          "traceback": [
            "\u001b[1;31m---------------------------------------------------------------------------\u001b[0m",
            "\u001b[1;31mTypeError\u001b[0m                                 Traceback (most recent call last)",
            "Input \u001b[1;32mIn [8]\u001b[0m, in \u001b[0;36m<cell line: 1>\u001b[1;34m()\u001b[0m\n\u001b[1;32m----> 1\u001b[0m \u001b[43msumar\u001b[49m\u001b[43m(\u001b[49m\u001b[43mb\u001b[49m\u001b[38;5;241;43m=\u001b[39;49m\u001b[38;5;241;43m40\u001b[39;49m\u001b[43m)\u001b[49m\n",
            "\u001b[1;31mTypeError\u001b[0m: sumar() missing 1 required positional argument: 'a'"
          ]
        }
      ],
      "source": [
        "sumar(b=40, a=20)"
      ]
    },
    {
      "cell_type": "markdown",
      "metadata": {
        "id": "ZR9kxv2mbUy1"
      },
      "source": [
        "#### Cero parámetros\n",
        "\n",
        "Una función puede ser ejecutada sin necesidad de tener parámetros.\n",
        "En este caso (idealmente) la función siempre debería hacer la misma acción."
      ]
    },
    {
      "cell_type": "code",
      "execution_count": null,
      "metadata": {
        "ExecuteTime": {
          "end_time": "2021-03-24T19:37:26.217558Z",
          "start_time": "2021-03-24T19:37:26.198563Z"
        },
        "id": "QWxCl6cVbUy1",
        "outputId": "55bb7fb1-4225-4329-95d5-f94b11828feb"
      },
      "outputs": [
        {
          "name": "stdout",
          "output_type": "stream",
          "text": [
            "Hola!😊\n"
          ]
        }
      ],
      "source": [
        "def hola_mundo():\n",
        "    print('Hola!😊')\n",
        "\n",
        "hola_mundo()"
      ]
    },
    {
      "cell_type": "markdown",
      "metadata": {
        "id": "uSf_P_aYbUy1"
      },
      "source": [
        "#### Valores por defecto"
      ]
    },
    {
      "cell_type": "markdown",
      "metadata": {
        "id": "tSy0EojobUy1"
      },
      "source": [
        "Los parámetros también pueden tener valores por defecto:\n",
        "\n",
        "\n",
        "> **Nota 📝:** Los parámetros con valores por defecto deben ser declarados a la derecha de todos aquellos parámetros sin valores predefinidos.\n"
      ]
    },
    {
      "cell_type": "code",
      "execution_count": null,
      "metadata": {
        "ExecuteTime": {
          "end_time": "2021-03-24T19:42:01.164527Z",
          "start_time": "2021-03-24T19:42:01.146528Z"
        },
        "id": "RWDg8-olbUy2"
      },
      "outputs": [],
      "source": [
        "def sumar_2(a, b):\n",
        "    c = a + b\n",
        "    return c"
      ]
    },
    {
      "cell_type": "code",
      "execution_count": null,
      "metadata": {
        "ExecuteTime": {
          "end_time": "2021-03-24T19:41:06.740132Z",
          "start_time": "2021-03-24T19:41:06.729133Z"
        },
        "id": "ADQcljCMbUy2",
        "outputId": "d46cdd00-3ae1-4865-8020-573cc8e8aa8f"
      },
      "outputs": [
        {
          "data": {
            "text/plain": [
              "12"
            ]
          },
          "execution_count": 11,
          "metadata": {},
          "output_type": "execute_result"
        }
      ],
      "source": [
        "sumar_2(10, 15, 23, 14)"
      ]
    },
    {
      "cell_type": "code",
      "execution_count": null,
      "metadata": {
        "ExecuteTime": {
          "end_time": "2021-03-24T19:41:13.816210Z",
          "start_time": "2021-03-24T19:41:13.803213Z"
        },
        "scrolled": true,
        "id": "ZEO71k79bUy2",
        "outputId": "e7cb86de-79d8-4f78-9451-7025821f45ea"
      },
      "outputs": [
        {
          "data": {
            "text/plain": [
              "2010"
            ]
          },
          "execution_count": 13,
          "metadata": {},
          "output_type": "execute_result"
        }
      ],
      "source": [
        "sumar_2(10, 2000)"
      ]
    },
    {
      "cell_type": "markdown",
      "metadata": {
        "id": "XXFP1strbUy3"
      },
      "source": [
        "> **Pregunta ❓**: ¿Puede una funcion tener un numero de parámetros variable?"
      ]
    },
    {
      "cell_type": "markdown",
      "metadata": {
        "id": "M6Ej3cJQbUy3"
      },
      "source": [
        "#### N parámetros\n",
        "\n",
        "Una función puede tomar n parámetros sin que esten previamente definidos. \n",
        "Esto se logra a través del parámetro `*args`, el cuál actua como una tupla:"
      ]
    },
    {
      "cell_type": "code",
      "execution_count": null,
      "metadata": {
        "ExecuteTime": {
          "end_time": "2021-03-24T19:40:13.564653Z",
          "start_time": "2021-03-24T19:40:13.555653Z"
        },
        "id": "35wOLQkXbUy3",
        "outputId": "d2ba9564-d2ee-42a9-d1be-c236247bdee9"
      },
      "outputs": [
        {
          "name": "stdout",
          "output_type": "stream",
          "text": [
            "Los parámetros entregados son: (1, 8, 17, 23, 26)\n"
          ]
        }
      ],
      "source": [
        "def funcion_n_parametros(*args):\n",
        "    # args= parámetros sin nombre\n",
        "    print('Los parámetros entregados son:', args)\n",
        "\n",
        "funcion_n_parametros(1, 8, 17, 23, 26)"
      ]
    },
    {
      "cell_type": "markdown",
      "metadata": {
        "id": "ErufOhJBbUy4"
      },
      "source": [
        "¿Cuál es la utilidad de esto?"
      ]
    },
    {
      "cell_type": "code",
      "execution_count": null,
      "metadata": {
        "id": "HiD4loPzbUy4"
      },
      "outputs": [],
      "source": [
        "def sumador(x, y, z):\n",
        "    return x + y + z"
      ]
    },
    {
      "cell_type": "code",
      "execution_count": null,
      "metadata": {
        "id": "DXN0zd1UbUy4",
        "outputId": "361021cb-2b44-42b4-c457-8cbec9a4d0e9"
      },
      "outputs": [
        {
          "data": {
            "text/plain": [
              "26"
            ]
          },
          "execution_count": 17,
          "metadata": {},
          "output_type": "execute_result"
        }
      ],
      "source": [
        "sumador(1, 8, 17)"
      ]
    },
    {
      "cell_type": "code",
      "execution_count": null,
      "metadata": {
        "id": "rJGAjZ8IbUy4",
        "outputId": "c50028fa-55d0-4017-e07a-ba00430ade48"
      },
      "outputs": [
        {
          "ename": "TypeError",
          "evalue": "sumador() takes 3 positional arguments but 4 were given",
          "output_type": "error",
          "traceback": [
            "\u001b[1;31m---------------------------------------------------------------------------\u001b[0m",
            "\u001b[1;31mTypeError\u001b[0m                                 Traceback (most recent call last)",
            "Input \u001b[1;32mIn [18]\u001b[0m, in \u001b[0;36m<cell line: 1>\u001b[1;34m()\u001b[0m\n\u001b[1;32m----> 1\u001b[0m \u001b[43msumador\u001b[49m\u001b[43m(\u001b[49m\u001b[38;5;241;43m1\u001b[39;49m\u001b[43m,\u001b[49m\u001b[43m \u001b[49m\u001b[38;5;241;43m8\u001b[39;49m\u001b[43m,\u001b[49m\u001b[43m \u001b[49m\u001b[38;5;241;43m17\u001b[39;49m\u001b[43m,\u001b[49m\u001b[43m \u001b[49m\u001b[38;5;241;43m23\u001b[39;49m\u001b[43m)\u001b[49m\n",
            "\u001b[1;31mTypeError\u001b[0m: sumador() takes 3 positional arguments but 4 were given"
          ]
        }
      ],
      "source": [
        "sumador(1, 8, 17, 23)"
      ]
    },
    {
      "cell_type": "code",
      "execution_count": null,
      "metadata": {
        "id": "RfIndYq8bUy5",
        "outputId": "5dc7c8ce-c81c-4bb5-c6c4-1008ec7decb4"
      },
      "outputs": [
        {
          "data": {
            "text/plain": [
              "49"
            ]
          },
          "execution_count": 20,
          "metadata": {},
          "output_type": "execute_result"
        }
      ],
      "source": [
        "def sumador(*args): \n",
        "    acum = 0\n",
        "    for i in args:\n",
        "        acum += i\n",
        "    return acum\n",
        "\n",
        "sumador(1, 8, 17, 23)"
      ]
    },
    {
      "cell_type": "code",
      "execution_count": null,
      "metadata": {
        "id": "EGptyJ9kbUy5",
        "outputId": "191d848c-19b6-4842-b6cb-1b3bf8bb2881"
      },
      "outputs": [
        {
          "data": {
            "text/plain": [
              "49"
            ]
          },
          "execution_count": 22,
          "metadata": {},
          "output_type": "execute_result"
        }
      ],
      "source": [
        "def sumador(lista_de_numeros):\n",
        "    acum = 0\n",
        "    for i in lista_de_numeros:\n",
        "        acum += i\n",
        "    return acum\n",
        "sumador([1, 8, 17, 23])"
      ]
    },
    {
      "cell_type": "markdown",
      "metadata": {
        "id": "qmFMsxtHbUy5"
      },
      "source": [
        "#### N Parámetros nombrados\n",
        "\n",
        "Las funciones también pueden tomar n parámetros nombrados a través de `**kwargs`, el cúal se comporta como un diccionario."
      ]
    },
    {
      "cell_type": "code",
      "execution_count": null,
      "metadata": {
        "id": "8h0AHTEDbUy5"
      },
      "outputs": [],
      "source": [
        "def generar_samples(n_samples, mu, sigma):\n",
        "    print(f\"N samples: {n_samples}\")\n",
        "    print(f\"Media: {mu}\")\n",
        "    print(f\"Desviacion Estandar: {sigma}\")"
      ]
    },
    {
      "cell_type": "code",
      "execution_count": null,
      "metadata": {
        "id": "rQARRe3cbUy6",
        "outputId": "2a42ff37-2dd5-45d1-a49c-ec943e46d4f3"
      },
      "outputs": [
        {
          "name": "stdout",
          "output_type": "stream",
          "text": [
            "N samples: 100\n",
            "Media: 5\n",
            "Desviacion Estandar: 0.3\n"
          ]
        }
      ],
      "source": [
        "d = {\n",
        "    'n_samples': 100,\n",
        "    'mu': 5,\n",
        "    'sigma': 0.3\n",
        "}\n",
        "generar_samples(**d)"
      ]
    },
    {
      "cell_type": "markdown",
      "metadata": {
        "id": "UtlGRLkibUy6"
      },
      "source": [
        "Este ultimo caso puede ser util para cuando se tienen funciones con muchos parametros y es mas facil declarar un diccionario con sus argumentos."
      ]
    },
    {
      "cell_type": "code",
      "execution_count": null,
      "metadata": {
        "id": "dF0jyzfCbUy6"
      },
      "outputs": [],
      "source": [
        "def funcion_kwargs(*args, **kwargs): \n",
        "    print(f\"Args: {args}\")\n",
        "    print(f\"Kwargs: {kwargs}\")"
      ]
    },
    {
      "cell_type": "code",
      "execution_count": null,
      "metadata": {
        "id": "No7ovandbUy6",
        "outputId": "6d6545d2-518d-4fbb-a097-caa9a78752ed"
      },
      "outputs": [
        {
          "name": "stdout",
          "output_type": "stream",
          "text": [
            "Args: ()\n",
            "Kwargs: {'freeze_params': True, 'n_samples': 8, 'deterministic': True}\n"
          ]
        }
      ],
      "source": [
        "dic = {\n",
        "    'freeze_params': True, \n",
        "    'n_samples': 8, \n",
        "    'deterministic': True\n",
        "}\n",
        "\n",
        "funcion_kwargs(**dic)"
      ]
    },
    {
      "cell_type": "code",
      "execution_count": null,
      "metadata": {
        "id": "GBfSb6XgbUy6",
        "outputId": "785ba67a-58ea-439f-f5ae-82486cb35adf"
      },
      "outputs": [
        {
          "name": "stdout",
          "output_type": "stream",
          "text": [
            "Args: (10, 25, True)\n",
            "Kwargs: {'freeze_params': True, 'n_samples': 8, 'deterministic': True}\n"
          ]
        }
      ],
      "source": [
        "dic = {\n",
        "    'freeze_params': True, \n",
        "    'n_samples': 8, \n",
        "    'deterministic': True\n",
        "}\n",
        "\n",
        "funcion_kwargs(10, 25, True, **dic)"
      ]
    },
    {
      "cell_type": "markdown",
      "metadata": {
        "id": "A9KeoqjsbUy7"
      },
      "source": [
        "#### Retornar múltiples valores"
      ]
    },
    {
      "cell_type": "markdown",
      "metadata": {
        "id": "YuH-i-vHbUy7"
      },
      "source": [
        "También se pueden retornar múltiples valores"
      ]
    },
    {
      "cell_type": "code",
      "execution_count": null,
      "metadata": {
        "ExecuteTime": {
          "end_time": "2021-03-24T19:42:52.488689Z",
          "start_time": "2021-03-24T19:42:52.470551Z"
        },
        "id": "9y9BHilVbUy7"
      },
      "outputs": [],
      "source": [
        "def operaciones(a, b):\n",
        "    suma = a+b\n",
        "    resta = a-b\n",
        "    mult = a*b\n",
        "    div = a/b\n",
        "    \n",
        "    return suma, resta, mult, div"
      ]
    },
    {
      "cell_type": "markdown",
      "metadata": {
        "id": "EDuobXQcbUy7"
      },
      "source": [
        "> **Pregunta ❓**: ¿Qué retorno cuando hay varias variables en el return?"
      ]
    },
    {
      "cell_type": "code",
      "execution_count": null,
      "metadata": {
        "ExecuteTime": {
          "end_time": "2021-03-24T19:43:07.637016Z",
          "start_time": "2021-03-24T19:43:07.624019Z"
        },
        "id": "r_qBge4nbUy7",
        "outputId": "82671990-cc5d-4d0c-9f82-534b79ca5f33"
      },
      "outputs": [
        {
          "data": {
            "text/plain": [
              "(7, 3, 10, 2.5)"
            ]
          },
          "execution_count": 29,
          "metadata": {},
          "output_type": "execute_result"
        }
      ],
      "source": [
        "operaciones(5,2)"
      ]
    },
    {
      "cell_type": "code",
      "execution_count": null,
      "metadata": {
        "id": "6S6E0FCxbUy7",
        "outputId": "4cb6fb78-cb99-4bc3-bbdd-0dc6a1027a04"
      },
      "outputs": [
        {
          "data": {
            "text/plain": [
              "7"
            ]
          },
          "execution_count": 30,
          "metadata": {},
          "output_type": "execute_result"
        }
      ],
      "source": [
        "suma, resta, mult, div = operaciones(5,2)\n",
        "\n",
        "suma"
      ]
    },
    {
      "cell_type": "code",
      "execution_count": null,
      "metadata": {
        "id": "oqC7qEXCbUy8",
        "outputId": "68476b7a-5a6b-4341-8946-712611ec0aab"
      },
      "outputs": [
        {
          "data": {
            "text/plain": [
              "3"
            ]
          },
          "execution_count": 31,
          "metadata": {},
          "output_type": "execute_result"
        }
      ],
      "source": [
        "resta"
      ]
    },
    {
      "cell_type": "code",
      "execution_count": null,
      "metadata": {
        "id": "fD8f4-pNbUy8",
        "outputId": "e3d35e93-e21f-4d8a-f1c3-a54b501f5acf"
      },
      "outputs": [
        {
          "data": {
            "text/plain": [
              "10"
            ]
          },
          "execution_count": 32,
          "metadata": {},
          "output_type": "execute_result"
        }
      ],
      "source": [
        "mult"
      ]
    },
    {
      "cell_type": "code",
      "execution_count": null,
      "metadata": {
        "id": "aIcnX15CbUy8",
        "outputId": "cf64f32e-e352-4d72-a729-f012e6766ccb"
      },
      "outputs": [
        {
          "data": {
            "text/plain": [
              "2.5"
            ]
          },
          "execution_count": 33,
          "metadata": {},
          "output_type": "execute_result"
        }
      ],
      "source": [
        "div"
      ]
    },
    {
      "cell_type": "code",
      "execution_count": null,
      "metadata": {
        "ExecuteTime": {
          "end_time": "2021-03-24T19:43:30.351313Z",
          "start_time": "2021-03-24T19:43:30.339306Z"
        },
        "scrolled": true,
        "id": "nL9s7cHzbUy8",
        "outputId": "7663e2f1-3d5b-4986-a7fa-06ae6d963262"
      },
      "outputs": [
        {
          "data": {
            "text/plain": [
              "tuple"
            ]
          },
          "execution_count": 34,
          "metadata": {},
          "output_type": "execute_result"
        }
      ],
      "source": [
        "type(operaciones(5,2))"
      ]
    },
    {
      "cell_type": "markdown",
      "metadata": {
        "id": "aoEn0oBsbUy8"
      },
      "source": [
        "----\n",
        "\n",
        "## Parte 2: Scopes \n",
        "\n",
        "En cada función se define un entorno de variables o *namespace*. Esto quiere decir, que para cada función existe un conjunto de variables (o nombres) los cuales solo funcionan dentro de la funcion. \n",
        "\n",
        "Esto permite definir el concepto de **scope**. El scope se define como un lugar delimitado en donde se define y son visibles un cierto conjunto de variables. \n",
        "\n",
        "Una de las implicancias de esta delimitación es que aquellas variables definidas dentro de un scope en particular no pueden interactuar con las de afuera de dicha área. \n"
      ]
    },
    {
      "cell_type": "markdown",
      "metadata": {
        "id": "LGH6Kw-ubUy8"
      },
      "source": [
        "\n",
        "En `Python` se pueden diferenciar 3 tipos de scopes:\n",
        "\n",
        "1. **Global**: variables (u objetos si se desea) definidas en el cuerpo del código.\n",
        "2. **Local**: variables definidas dentro de una función.\n",
        "3. **Built-in**: variables predefinidas por el modulo built-in's (como ```print()``` por ejemplo.)\n"
      ]
    },
    {
      "cell_type": "code",
      "execution_count": null,
      "metadata": {
        "ExecuteTime": {
          "end_time": "2021-03-24T19:45:21.182553Z",
          "start_time": "2021-03-24T19:45:21.172556Z"
        },
        "id": "5_HRH58FbUy9",
        "outputId": "ec639fff-360d-40b0-ee0b-bd42d599b3c2"
      },
      "outputs": [
        {
          "data": {
            "text/plain": [
              "25"
            ]
          },
          "execution_count": 37,
          "metadata": {},
          "output_type": "execute_result"
        }
      ],
      "source": [
        "def suma(a, b):\n",
        "    c = a + b\n",
        "    return c\n",
        "\n",
        "\n",
        "suma(10, 15)"
      ]
    },
    {
      "cell_type": "markdown",
      "metadata": {
        "id": "t1SGznerbUy9"
      },
      "source": [
        "Notemos que si intentamos inspeccionar `c`, el intérprete nos va a indicar que no está definida: "
      ]
    },
    {
      "cell_type": "code",
      "execution_count": null,
      "metadata": {
        "ExecuteTime": {
          "end_time": "2021-03-24T19:45:44.129517Z",
          "start_time": "2021-03-24T19:45:44.114528Z"
        },
        "id": "zKRax4egbUy9",
        "outputId": "efdd5319-371f-4e29-af84-a69b0b8abc35"
      },
      "outputs": [
        {
          "ename": "NameError",
          "evalue": "name 'c' is not defined",
          "output_type": "error",
          "traceback": [
            "\u001b[1;31m---------------------------------------------------------------------------\u001b[0m",
            "\u001b[1;31mNameError\u001b[0m                                 Traceback (most recent call last)",
            "Input \u001b[1;32mIn [38]\u001b[0m, in \u001b[0;36m<cell line: 1>\u001b[1;34m()\u001b[0m\n\u001b[1;32m----> 1\u001b[0m \u001b[43mc\u001b[49m\n",
            "\u001b[1;31mNameError\u001b[0m: name 'c' is not defined"
          ]
        }
      ],
      "source": [
        "c"
      ]
    },
    {
      "cell_type": "markdown",
      "metadata": {
        "id": "U3U-a7ilbUy9"
      },
      "source": [
        "Esto es porque `c` se definió dentro del scope de la función `suma` y no sobre el scope global."
      ]
    },
    {
      "cell_type": "markdown",
      "metadata": {
        "id": "-p-Fkp-kbUy9"
      },
      "source": [
        "> **Pregunta ❓**: ¿Qué sucederá en la siguiente celda?"
      ]
    },
    {
      "cell_type": "code",
      "execution_count": null,
      "metadata": {
        "ExecuteTime": {
          "end_time": "2021-03-24T19:47:02.624894Z",
          "start_time": "2021-03-24T19:47:02.608922Z"
        },
        "scrolled": true,
        "id": "HUdLKieXbUy9",
        "outputId": "444e6e3d-725e-4663-b06a-58a35b4b2bac"
      },
      "outputs": [
        {
          "data": {
            "text/plain": [
              "20"
            ]
          },
          "execution_count": 39,
          "metadata": {},
          "output_type": "execute_result"
        }
      ],
      "source": [
        "n = 5\n",
        "\n",
        "def suma_n(a):\n",
        "    n = 10\n",
        "    c = a + n\n",
        "    return c\n",
        "\n",
        "suma_n(10)"
      ]
    },
    {
      "cell_type": "code",
      "execution_count": null,
      "metadata": {
        "ExecuteTime": {
          "end_time": "2021-03-24T19:47:06.006789Z",
          "start_time": "2021-03-24T19:47:05.996789Z"
        },
        "scrolled": true,
        "id": "r8vQkuE6bUy9",
        "outputId": "250c9120-c639-4b43-a29b-22660af64112"
      },
      "outputs": [
        {
          "data": {
            "text/plain": [
              "5"
            ]
          },
          "execution_count": 40,
          "metadata": {},
          "output_type": "execute_result"
        }
      ],
      "source": [
        "n"
      ]
    },
    {
      "cell_type": "markdown",
      "metadata": {
        "id": "Zw3heKAibUy-"
      },
      "source": [
        "En este caso, la instrucción `n = 10` hace que `n` se modifique en el scope local de la función `suma_n`, pero esto no modifica el valor de `n` en el scope global (el de afuera).\n"
      ]
    },
    {
      "cell_type": "markdown",
      "metadata": {
        "ExecuteTime": {
          "end_time": "2021-03-24T14:20:27.993890Z",
          "start_time": "2021-03-24T14:20:27.978885Z"
        },
        "id": "IJ5QVxPxbUy-"
      },
      "source": [
        "#### Locals\n",
        "\n",
        "Pueden ver que variables hay en el scope local usando la función `locals()`"
      ]
    },
    {
      "cell_type": "code",
      "execution_count": null,
      "metadata": {
        "ExecuteTime": {
          "end_time": "2021-03-24T19:49:16.727056Z",
          "start_time": "2021-03-24T19:49:16.723056Z"
        },
        "id": "cU0d5R0VbUy-"
      },
      "outputs": [],
      "source": [
        "n = 5\n",
        "\n",
        "def suma_n(a):\n",
        "    n = 10\n",
        "    c = a + n\n",
        "    print(f'Las variables locales de la función son {locals()}')\n",
        "    return c\n"
      ]
    },
    {
      "cell_type": "code",
      "execution_count": null,
      "metadata": {
        "ExecuteTime": {
          "end_time": "2021-03-24T19:49:18.524853Z",
          "start_time": "2021-03-24T19:49:18.514853Z"
        },
        "id": "MV-QM154bUy-",
        "outputId": "7891a50b-2377-424e-da9a-44e62d37e172"
      },
      "outputs": [
        {
          "name": "stdout",
          "output_type": "stream",
          "text": [
            "Las variables locales de la función son {'a': 10, 'n': 10, 'c': 20}\n"
          ]
        },
        {
          "data": {
            "text/plain": [
              "20"
            ]
          },
          "execution_count": 42,
          "metadata": {},
          "output_type": "execute_result"
        }
      ],
      "source": [
        "suma_n(10)"
      ]
    },
    {
      "cell_type": "markdown",
      "metadata": {
        "id": "NmNKHwB2bUy-"
      },
      "source": [
        "> **Ejercicio 💻**\n",
        "\n",
        "Dentro de una función tambien se puede modificar el valor de una variable en el scope global. Consulte la keyword `global` y utilicela para programar esta funcionalidad. "
      ]
    },
    {
      "cell_type": "markdown",
      "metadata": {
        "id": "iPE7AaOBbUy-"
      },
      "source": [
        "---\n",
        "\n",
        "## Parte 3: Programación Funcional con Lambda: Map, Filter y Reduce\n",
        "\n",
        "<br>\n",
        "<br>\n",
        "\n",
        "<div align='center'>\n",
        "<img alt=\"Map, filter y reduce\" src=\"./resources/map_filter_reduce.jpeg\" width=600/>\n",
        "</div>\n",
        "<br>\n",
        "\n",
        "<div align='center'>Fuente: <a href='https://towardsdatascience.com/accelerate-your-python-list-handling-with-map-filter-and-reduce-d70941b19e52'>Map, Filter And Reduce In Pure Python</a><div/>\n"
      ]
    },
    {
      "cell_type": "markdown",
      "metadata": {
        "id": "vMHOyXvBbUy-"
      },
      "source": [
        "En ciencia de datos, la utilidad de las funciones ```lambda``` generalmente se asocia a las operaciones ```map()```, ```filter()``` y ```reduce()``` usando el modulo functools). Estás operaciones se denotan como **funciones de orden superior** pues reciben otra función como argumento. "
      ]
    },
    {
      "cell_type": "markdown",
      "metadata": {
        "id": "g1rKnK56bUy_"
      },
      "source": [
        "### Map\n",
        "\n",
        "```map()``` permite aplicar la función objetivo sobre una coleccion (como una lista) elemento por elemento, el resultado es un objeto tipo ```map``` que entre sus características es un iterable.\n"
      ]
    },
    {
      "cell_type": "code",
      "execution_count": null,
      "metadata": {
        "ExecuteTime": {
          "end_time": "2021-03-25T12:09:31.264131Z",
          "start_time": "2021-03-25T12:09:31.243101Z"
        },
        "scrolled": true,
        "id": "-u5mcUeybUy_",
        "outputId": "e675a6af-a48f-439c-d0cf-e51d0602dee2"
      },
      "outputs": [
        {
          "data": {
            "text/plain": [
              "[1, 4, 9, 16, 25, 36]"
            ]
          },
          "execution_count": 43,
          "metadata": {},
          "output_type": "execute_result"
        }
      ],
      "source": [
        "# Ejemplo iterativo usando for\n",
        "\n",
        "def al_cuadrado(x):\n",
        "    return x**2\n",
        "\n",
        "lista = [1, 2, 3, 4, 5, 6]\n",
        "lista_al_cuadrado = []\n",
        "\n",
        "for i in lista:\n",
        "    c = al_cuadrado(i)\n",
        "    lista_al_cuadrado.append(c)\n",
        "\n",
        "lista_al_cuadrado"
      ]
    },
    {
      "cell_type": "markdown",
      "metadata": {
        "id": "-3Az3laUbUy_"
      },
      "source": [
        "Podemos reescribir esta función usando `map` como:"
      ]
    },
    {
      "cell_type": "code",
      "execution_count": null,
      "metadata": {
        "ExecuteTime": {
          "end_time": "2021-03-25T12:09:33.167608Z",
          "start_time": "2021-03-25T12:09:33.146621Z"
        },
        "id": "-fNCkkO5bUy_",
        "outputId": "1aad2134-ed51-470b-e8ef-1fbd21fb6551"
      },
      "outputs": [
        {
          "data": {
            "text/plain": [
              "<map at 0x1d65c6b6100>"
            ]
          },
          "execution_count": 44,
          "metadata": {},
          "output_type": "execute_result"
        }
      ],
      "source": [
        "def al_cuadrado(x):\n",
        "    return x**2\n",
        "\n",
        "lista = [1, 2, 3, 4, 5, 6]\n",
        "map(al_cuadrado, lista)"
      ]
    },
    {
      "cell_type": "markdown",
      "metadata": {
        "id": "go8YPzeObUy_"
      },
      "source": [
        "Notemos que `map` retorna un iterable (un objeto que puede ser iterado, pero que aún no ha sido generado). Para evaluarlo, podemos utilizar la función `list`:"
      ]
    },
    {
      "cell_type": "code",
      "execution_count": null,
      "metadata": {
        "ExecuteTime": {
          "end_time": "2021-03-25T12:09:33.970383Z",
          "start_time": "2021-03-25T12:09:33.953344Z"
        },
        "scrolled": true,
        "id": "EZZpCZTBbUy_",
        "outputId": "87d4c79d-1488-458e-a81a-3514f95abf76"
      },
      "outputs": [
        {
          "data": {
            "text/plain": [
              "[1, 4, 9, 16, 25, 36]"
            ]
          },
          "execution_count": 45,
          "metadata": {},
          "output_type": "execute_result"
        }
      ],
      "source": [
        " # Retorna un iterable. Para evaluarlo, usar list(map)\n",
        "    \n",
        "def al_cuadrado(x):\n",
        "    return x**2\n",
        "\n",
        "lista = [1, 2, 3, 4, 5, 6]\n",
        "lista_al_cuadrado = list(map(al_cuadrado, lista))\n",
        "lista_al_cuadrado"
      ]
    },
    {
      "cell_type": "markdown",
      "metadata": {
        "id": "2zpP_76kbUy_"
      },
      "source": [
        "### Funciones lambda\n",
        "\n",
        "Cuando se trabaja con funciones simples, la notación ```def``` puede ser \n",
        "lenta e innecesaria. En este contexto, Python posee las funciones **lambda**. Estas se pueden considerar como un análogo de las funciones. \n",
        "\n",
        "> **Ejemplo 📖**\n",
        "\n",
        "La sintaxis es bastante sencilla. Por ejemplo, la función `al_cuadrado`"
      ]
    },
    {
      "cell_type": "code",
      "execution_count": null,
      "metadata": {
        "ExecuteTime": {
          "end_time": "2021-03-24T19:57:28.684940Z",
          "start_time": "2021-03-24T19:57:28.663933Z"
        },
        "scrolled": true,
        "id": "aF6rZAfxbUzA"
      },
      "outputs": [],
      "source": [
        "def al_cuadrado(x):\n",
        "    \n",
        "    return x**2\n",
        "\n",
        "al_cuadrado(10)"
      ]
    },
    {
      "cell_type": "markdown",
      "metadata": {
        "id": "_-GxkCV9bUzA"
      },
      "source": [
        "Esta se puede reemplazar por\n"
      ]
    },
    {
      "cell_type": "code",
      "execution_count": null,
      "metadata": {
        "ExecuteTime": {
          "end_time": "2021-03-24T19:58:33.315275Z",
          "start_time": "2021-03-24T19:58:33.306276Z"
        },
        "id": "Nj1UBEzWbUzA",
        "outputId": "aca8f71f-184f-4fbf-c49a-fbe23da686b2"
      },
      "outputs": [
        {
          "data": {
            "text/plain": [
              "100"
            ]
          },
          "execution_count": 46,
          "metadata": {},
          "output_type": "execute_result"
        }
      ],
      "source": [
        "al_cuadrado = lambda x: x ** 2\n",
        "\n",
        "al_cuadrado(10)"
      ]
    },
    {
      "cell_type": "code",
      "execution_count": null,
      "metadata": {
        "id": "Sh7Nlkp2bUzA",
        "outputId": "195422e3-9790-4c98-adf4-5558531822d5"
      },
      "outputs": [
        {
          "data": {
            "text/plain": [
              "19"
            ]
          },
          "execution_count": 47,
          "metadata": {},
          "output_type": "execute_result"
        }
      ],
      "source": [
        "suma = lambda x,y : x+y\n",
        "suma(4, 15)"
      ]
    },
    {
      "cell_type": "markdown",
      "metadata": {
        "id": "HUUkFdCpbUzA"
      },
      "source": [
        "Es decir, se sigue la sintaxis:\n",
        "\n",
        "```python\n",
        "lambda param_1, param_2, ..., param_n : accion\n",
        "```\n"
      ]
    },
    {
      "cell_type": "markdown",
      "metadata": {
        "id": "_PKl1y10bUzA"
      },
      "source": [
        "#### Map y funciones lambdas\n",
        "\n",
        "Podemos definir `al_cuadrado` en una sola linea usando una función lambda. Esto hace el código aún más compacto y funcional (y de paso, *anonimiza* la función):"
      ]
    },
    {
      "cell_type": "code",
      "execution_count": null,
      "metadata": {
        "id": "wUkXtTYBbUzA",
        "outputId": "13751e97-206e-4c85-de23-a33c0bd548b7"
      },
      "outputs": [
        {
          "data": {
            "text/plain": [
              "[1, 4, 9, 16, 25, 36]"
            ]
          },
          "execution_count": 49,
          "metadata": {},
          "output_type": "execute_result"
        }
      ],
      "source": [
        "lista = [1, 2, 3, 4, 5, 6]\n",
        "lista_al_cuadrado = list(map(lambda x: x**2, lista))\n",
        "lista_al_cuadrado"
      ]
    },
    {
      "cell_type": "markdown",
      "metadata": {
        "id": "ks0kprZqbUzA"
      },
      "source": [
        "> **Pregunta ❓**: ¿Cual es la diferencia entre Map y List Comprehension? ¿Se pueden obtener los mismos resultados con ambos acercamientos?"
      ]
    },
    {
      "cell_type": "code",
      "execution_count": null,
      "metadata": {
        "id": "HV7RKvcrbUzB",
        "outputId": "5ee3f346-bb17-4512-9409-abd32dabd956"
      },
      "outputs": [
        {
          "data": {
            "text/plain": [
              "[1, 4, 9, 16, 25, 36]"
            ]
          },
          "execution_count": 48,
          "metadata": {},
          "output_type": "execute_result"
        }
      ],
      "source": [
        "lista = [1, 2, 3, 4, 5, 6]\n",
        "lista_al_cuadrado = [x**2 for x in lista]\n",
        "lista_al_cuadrado"
      ]
    },
    {
      "cell_type": "markdown",
      "metadata": {
        "id": "YCeGgv1abUzB"
      },
      "source": [
        "### Filter\n",
        "\n",
        "La función ```filter()``` permite mantener elementos de un arreglo según el valor de verdad asociado a cada uno por la función objetivo.\n"
      ]
    },
    {
      "cell_type": "code",
      "execution_count": null,
      "metadata": {
        "ExecuteTime": {
          "end_time": "2021-03-25T12:09:39.968542Z",
          "start_time": "2021-03-25T12:09:39.962541Z"
        },
        "id": "VCOtVWlubUzB",
        "outputId": "55afe0a6-bbe3-410b-f058-b70b317c68f9"
      },
      "outputs": [
        {
          "data": {
            "text/plain": [
              "[2, 4, 6]"
            ]
          },
          "execution_count": 50,
          "metadata": {},
          "output_type": "execute_result"
        }
      ],
      "source": [
        "lista = [1, 2, 3, 4, 5, 6]\n",
        "\n",
        "# Mantener solo numeros pares\n",
        "list(filter(lambda x: x % 2 == 0, lista))"
      ]
    },
    {
      "cell_type": "code",
      "execution_count": null,
      "metadata": {
        "id": "jkCNBLbabUzB",
        "outputId": "ef92b614-41e7-419b-98f0-cf14c3f73e49"
      },
      "outputs": [
        {
          "data": {
            "text/plain": [
              "[4, 16, 36]"
            ]
          },
          "execution_count": 51,
          "metadata": {},
          "output_type": "execute_result"
        }
      ],
      "source": [
        "# combinando ambas operaciones:\n",
        "list(filter(lambda x: x % 2 == 0, map(lambda x: x**2, lista)))"
      ]
    },
    {
      "cell_type": "markdown",
      "metadata": {
        "id": "pXdCVzsBbUzB"
      },
      "source": [
        "En List Comprehension:"
      ]
    },
    {
      "cell_type": "code",
      "execution_count": null,
      "metadata": {
        "id": "GkMnTHMhbUzB",
        "outputId": "9d6a80be-19fe-43ad-a998-710b8e34638d"
      },
      "outputs": [
        {
          "data": {
            "text/plain": [
              "[4, 16, 36]"
            ]
          },
          "execution_count": 53,
          "metadata": {},
          "output_type": "execute_result"
        }
      ],
      "source": [
        "lista = [1, 2, 3, 4, 5, 6]\n",
        "[x**2 for x in lista if x**2 % 2 == 0]"
      ]
    },
    {
      "cell_type": "markdown",
      "metadata": {
        "id": "It5DNGXwbUzB"
      },
      "source": [
        "### Reduce\n",
        "\n",
        "`reduce()` permite acumular valores de izquierda a derecha según una función sobre algún iterable. La idea es reducir la lista a un solo valor según la función estipulada.\n",
        "El primer argumento de los 2 de la función a pasar es el valor acumulado y el segundo es el valor siguiente de la secuencia.\n",
        "\n",
        "> **Nota 📖**: Esta función debe ser *importada* desde el módulo `functools`.\n",
        "\n",
        "Por ejemplo:\n",
        "\n",
        "```python\n",
        "fun = lambda x, y: x + y\n",
        "functools.reduce(fun, [1, 2, ,3, 4, 5])\n",
        "```\n",
        "\n",
        "Al ejecutar esta línea, por cada iteración se calcula:\n",
        "\n",
        "0. `fun(0, 1)`\n",
        "1. `fun(1, 2)`\n",
        "2. `fun(fun(1, 2), 3)` \n",
        "3. `fun(fun(fun(1, 2), 3), 4)`\n",
        "4. `fun(fun(fun(fun(1, 2), 3), 4), 5)`\n",
        "\n",
        "Lo que en resumidas cuentas calcula:\n",
        "```python\n",
        "0 + ((((1+2)+3)+4)+5) = 15\n",
        "```\n",
        "`reduce` también tiene un tercer (opcional) argumento, `initializer`, si este es entregado se utiliza como primer elemento en el calculo acumulativo, por lo que si en el caso anterior se tuviera\n",
        "\n",
        "```python\n",
        "functools.reduce(fun, [1, 2, ,3, 4, 5], 8)\n",
        "```\n",
        "\n",
        "el resultado sería,\n",
        "\n",
        "```python\n",
        "8 + ((((1+2)+3)+4)+5) = 23\n",
        "```\n"
      ]
    },
    {
      "cell_type": "code",
      "execution_count": null,
      "metadata": {
        "ExecuteTime": {
          "end_time": "2021-03-25T12:09:41.245354Z",
          "start_time": "2021-03-25T12:09:41.226383Z"
        },
        "id": "JduMi1MKbUzC",
        "outputId": "58544abc-5c2d-4911-9590-1da0df72e4b1"
      },
      "outputs": [
        {
          "data": {
            "text/plain": [
              "15"
            ]
          },
          "execution_count": 54,
          "metadata": {},
          "output_type": "execute_result"
        }
      ],
      "source": [
        "# importamos la función usando la siguiente instrucción:\n",
        "from functools import reduce\n",
        "\n",
        "lista = [1, 2, 3, 4, 5]\n",
        "\n",
        "# Sumar todos los elementos\n",
        "reduce(lambda a, b: a + b, lista)"
      ]
    },
    {
      "cell_type": "code",
      "execution_count": null,
      "metadata": {
        "id": "svolsGigbUzC",
        "outputId": "0bba2961-0b65-45dd-be01-81da58d41050"
      },
      "outputs": [
        {
          "data": {
            "text/plain": [
              "23"
            ]
          },
          "execution_count": 55,
          "metadata": {},
          "output_type": "execute_result"
        }
      ],
      "source": [
        "reduce(lambda a, b: a + b, lista, 8)"
      ]
    },
    {
      "cell_type": "code",
      "execution_count": null,
      "metadata": {
        "id": "DAvNoWC5bUzC",
        "outputId": "1c6c16d0-238e-442f-c530-e593f1e5b7eb"
      },
      "outputs": [
        {
          "data": {
            "text/plain": [
              "120"
            ]
          },
          "execution_count": 56,
          "metadata": {},
          "output_type": "execute_result"
        }
      ],
      "source": [
        "lista = [1, 2, 3, 4, 5]\n",
        "\n",
        "reduce(lambda a, b: a * b, lista)"
      ]
    },
    {
      "cell_type": "markdown",
      "metadata": {
        "id": "nd9fvp8XbUzC"
      },
      "source": [
        "Otro ejemplo, combinando if else más reduce, podemos encontrar el máximo de una lista:m"
      ]
    },
    {
      "cell_type": "code",
      "execution_count": null,
      "metadata": {
        "ExecuteTime": {
          "end_time": "2021-03-25T12:09:41.918643Z",
          "start_time": "2021-03-25T12:09:41.898614Z"
        },
        "id": "MZs8kflwbUzC",
        "outputId": "0e3e8432-e3d9-424b-cb0c-db291ab3ffe7"
      },
      "outputs": [
        {
          "data": {
            "text/plain": [
              "30"
            ]
          },
          "execution_count": 57,
          "metadata": {},
          "output_type": "execute_result"
        }
      ],
      "source": [
        "# Encontrar el máximo\n",
        "lista = [1, 2, 30, 4, 5]\n",
        "\n",
        "reduce(lambda a, b: a if a > b else b, lista, 0)"
      ]
    },
    {
      "cell_type": "markdown",
      "metadata": {
        "id": "P-RpvINobUzD"
      },
      "source": [
        "---\n",
        "> **Ejercicios para practicar programación funcional 💻**\n",
        "\n",
        "1. En strings el método ```.upper()``` permite transformar el contenido en mayúsculas. Cree la función ```to_upper(texto)``` que toma un caracter (un string de largo 1) y retorna una versión en mayúsculas. Luego, utilice la función `map()` sobre cada caracter del string.\n",
        "\n",
        "\n",
        "2. El método ```.split()``` permite obtener todas las palabras de un string. Por otra parte, la función ```len()``` permite obtener el largo de un arreglo o cantidad de letras en una palabra. Cree la función `separador()` que separe un texto por espacios (`' '`) y quite todas aquellas palabras de tamaño 3 o menos usando `filter()`. \n",
        "\n",
        "3. Cree la función `mayus_r()` la cual transforme a mayúsculas todas las palabras que terminen en 'r'. Considere  además cada palabra como una lista y acceda la última letra con el slice correspondiente. Utilice ```map()``` más las herramientas que crea necesarias para resolver este problema.\n",
        "\n",
        "4. Cree la función `promedio(lista)` la cual calcule el promedio usando solo las funciones `reduce()` y `len()`\n",
        "\n",
        "4. Cree test unitarios independientes que prueben estas funciones.\n",
        "\n",
        "---"
      ]
    },
    {
      "cell_type": "code",
      "execution_count": null,
      "metadata": {
        "ExecuteTime": {
          "end_time": "2021-03-24T19:20:37.349511Z",
          "start_time": "2021-03-24T19:20:37.271Z"
        },
        "id": "Fnn7D1NqbUzD"
      },
      "outputs": [],
      "source": [
        "# Pueden usar este texto de ejemplo para hacer los ejercicios\n",
        "\n",
        "texto_ejemplo = \"\"\"\n",
        "Budín de zapallos italianos\n",
        "\n",
        "Una tradicional receta chilena, que siempre me ha gustado mucho.\n",
        "Acá estamos en plena temporada de zapallos italianos y aunque aún no he cosechado ninguno en casa, \n",
        "si lo he estado haciendo en una de las huertas donde trabajo de voluntaria. \n",
        "Esta receta ya estaba en el blog, pero la estoy re-publicando con fotos nuevas y mas lindas. \n",
        "¿Cuál es tu manera favorita de preparar los zapallos italianos?\n",
        "Recuerden siempre probar los zapallos crudos y descartarlos si están amargos, \n",
        "no hay nada peor que cocinarlos y descubrir al momento de servir que había uno malo.\n",
        "Fuente: https://www.enmicocinahoy.cl/pastel-zapallos-italianos/\"\"\""
      ]
    },
    {
      "cell_type": "code",
      "execution_count": null,
      "metadata": {
        "ExecuteTime": {
          "end_time": "2021-03-24T19:20:37.351510Z",
          "start_time": "2021-03-24T19:20:37.277Z"
        },
        "id": "RG1kB27HbUzD"
      },
      "outputs": [],
      "source": [
        "# solo nombres de las funciones, falta agregar sus parámetros.\n",
        "\n",
        "def to_upper():\n",
        "    pass\n",
        "\n",
        "def separador():\n",
        "    pass\n",
        "\n",
        "def mayus_r():\n",
        "    pass\n",
        "\n",
        "def promedio():\n",
        "    pass"
      ]
    },
    {
      "cell_type": "markdown",
      "metadata": {
        "id": "7ZSgc-y2bUzD"
      },
      "source": [
        "---"
      ]
    },
    {
      "cell_type": "markdown",
      "metadata": {
        "id": "0bj1VZlRbUzD"
      },
      "source": [
        "---\n",
        "\n",
        "## Parte 4: Referencias\n",
        "\n",
        "<br>\n",
        "\n",
        "Consideremos el siguiente ejemplo:"
      ]
    },
    {
      "cell_type": "code",
      "execution_count": null,
      "metadata": {
        "ExecuteTime": {
          "end_time": "2021-03-24T20:13:12.073503Z",
          "start_time": "2021-03-24T20:13:12.069502Z"
        },
        "id": "jrfNG50vbUzD"
      },
      "outputs": [],
      "source": [
        "lista_1 = [1, 2, 3, 4, 5]\n",
        "lista_2 = lista_1"
      ]
    },
    {
      "cell_type": "code",
      "execution_count": null,
      "metadata": {
        "ExecuteTime": {
          "end_time": "2021-03-24T20:13:12.747512Z",
          "start_time": "2021-03-24T20:13:12.736503Z"
        },
        "scrolled": true,
        "id": "oGmA19robUzE",
        "outputId": "e5c274db-ff09-4427-aea0-af5366141aba"
      },
      "outputs": [
        {
          "data": {
            "text/plain": [
              "[1, 2, 3, 4, 5, 10]"
            ]
          },
          "execution_count": 59,
          "metadata": {},
          "output_type": "execute_result"
        }
      ],
      "source": [
        "lista_1.append(10)\n",
        "lista_1"
      ]
    },
    {
      "cell_type": "code",
      "execution_count": null,
      "metadata": {
        "ExecuteTime": {
          "end_time": "2021-03-24T20:13:17.974439Z",
          "start_time": "2021-03-24T20:13:17.955440Z"
        },
        "scrolled": true,
        "id": "blmf9kdlbUzE",
        "outputId": "5efee75a-1f95-4ff1-a492-4329b6e694a7"
      },
      "outputs": [
        {
          "data": {
            "text/plain": [
              "[1, 2, 3, 4, 5, 10]"
            ]
          },
          "execution_count": 60,
          "metadata": {},
          "output_type": "execute_result"
        }
      ],
      "source": [
        "lista_2"
      ]
    },
    {
      "cell_type": "code",
      "execution_count": null,
      "metadata": {
        "id": "byKraS5wbUzE"
      },
      "outputs": [],
      "source": [
        "lista_2.append(100)"
      ]
    },
    {
      "cell_type": "code",
      "execution_count": null,
      "metadata": {
        "id": "aOxNpmkxbUzE",
        "outputId": "adcaf29e-877a-45bb-ba94-e76ffbb82556"
      },
      "outputs": [
        {
          "data": {
            "text/plain": [
              "[1, 2, 3, 4, 5, 10, 100]"
            ]
          },
          "execution_count": 62,
          "metadata": {},
          "output_type": "execute_result"
        }
      ],
      "source": [
        "lista_1"
      ]
    },
    {
      "cell_type": "markdown",
      "metadata": {
        "id": "6UlpzwNabUzE"
      },
      "source": [
        "> **Pregunta ❓:** ¿Por qué al modificar `lista_1`, los cambios también se ven reflejados en `lista_2`?"
      ]
    },
    {
      "cell_type": "markdown",
      "metadata": {
        "id": "ptPbs0rCbUzE"
      },
      "source": [
        "Cuando asignamos una lista a una variable, lo que guardamos en la misma es en realidad una referencia a la lista y no la lista en sí. \n",
        "\n",
        "> Referencia según la *RAE* : 9. f. Ling. Relación que se establece entre una expresión lingüística y aquello a lo que alude.\n",
        "\n",
        "Por lo tanto, al copiar la variable a otra lo que hicimos fue copiar la referencia y no sus valores. Podemos analizar las referencias de cada variable (lugar en la dirección de memoria donde se encuentran los datos) a través de la función `id`:"
      ]
    },
    {
      "cell_type": "code",
      "execution_count": null,
      "metadata": {
        "ExecuteTime": {
          "end_time": "2021-03-24T20:14:08.735748Z",
          "start_time": "2021-03-24T20:14:08.716745Z"
        },
        "id": "EeYvVCGhbUzF"
      },
      "outputs": [],
      "source": [
        "print(f'Identificador lista_1: {id(lista_1)}\\nIdentificador lista_2: {id(lista_2)}')"
      ]
    },
    {
      "cell_type": "markdown",
      "metadata": {
        "ExecuteTime": {
          "end_time": "2021-03-24T17:38:07.640881Z",
          "start_time": "2021-03-24T17:38:07.631840Z"
        },
        "id": "IBMxJRoTbUzF"
      },
      "source": [
        "> **Nota**: Si realmente queremos copiar un arreglo (y cuálquier colección y estructura compleja en general) debemos utilizar la función `deepcopy()`"
      ]
    },
    {
      "cell_type": "code",
      "execution_count": null,
      "metadata": {
        "ExecuteTime": {
          "end_time": "2021-03-24T20:17:00.249507Z",
          "start_time": "2021-03-24T20:17:00.243507Z"
        },
        "id": "5ZJa1wKKbUzF",
        "outputId": "1debcb76-b264-419d-b1da-aed334b89e3c"
      },
      "outputs": [
        {
          "data": {
            "text/plain": [
              "[1, 2, 3, 4, 5, 10]"
            ]
          },
          "execution_count": 63,
          "metadata": {},
          "output_type": "execute_result"
        }
      ],
      "source": [
        "from copy import deepcopy\n",
        "\n",
        "lista_1 = [1, 2, 3, 4, 5]\n",
        "\n",
        "lista_3 = deepcopy(lista_1)\n",
        "\n",
        "lista_1.append(10)\n",
        "\n",
        "lista_1"
      ]
    },
    {
      "cell_type": "code",
      "execution_count": null,
      "metadata": {
        "ExecuteTime": {
          "end_time": "2021-03-24T20:15:05.738891Z",
          "start_time": "2021-03-24T20:15:05.729897Z"
        },
        "scrolled": true,
        "tags": [],
        "id": "h6AQhrGLbUzF",
        "outputId": "857460fe-4cc0-491c-8827-5023c729b2e0"
      },
      "outputs": [
        {
          "data": {
            "text/plain": [
              "[1, 2, 3, 4, 5]"
            ]
          },
          "execution_count": 64,
          "metadata": {},
          "output_type": "execute_result"
        }
      ],
      "source": [
        "lista_3"
      ]
    },
    {
      "cell_type": "code",
      "execution_count": null,
      "metadata": {
        "ExecuteTime": {
          "end_time": "2021-03-24T20:15:13.563792Z",
          "start_time": "2021-03-24T20:15:13.547797Z"
        },
        "id": "T2oa0rm5bUzF"
      },
      "outputs": [],
      "source": [
        "print(f'Identificador lista_1: {id(lista_1)}\\nIdentificador lista_3: {id(lista_3)}')"
      ]
    },
    {
      "cell_type": "markdown",
      "metadata": {
        "id": "jIPt-HBebUzF"
      },
      "source": [
        "En general, Python asignará identificadores distintos cuando creemos listas y diccionarios:"
      ]
    },
    {
      "cell_type": "code",
      "execution_count": null,
      "metadata": {
        "ExecuteTime": {
          "end_time": "2021-03-24T20:18:45.314653Z",
          "start_time": "2021-03-24T20:18:45.302653Z"
        },
        "id": "o6C-03ysbUzF",
        "outputId": "ebfdb9ef-dda7-436a-e4e4-1b12f4f8093d"
      },
      "outputs": [
        {
          "name": "stdout",
          "output_type": "stream",
          "text": [
            "Identificador dict_1: 2020214211136\n",
            "Identificador dict_2: 2020214230080\n"
          ]
        }
      ],
      "source": [
        "d_1 = {'key_1': 'Hola'}\n",
        "d_2 = {'key_1': 'Hola'}\n",
        "\n",
        "print(f'Identificador dict_1: {id(d_1)}\\nIdentificador dict_2: {id(d_2)}')"
      ]
    },
    {
      "cell_type": "markdown",
      "metadata": {
        "ExecuteTime": {
          "end_time": "2021-03-24T17:51:53.481728Z",
          "start_time": "2021-03-24T17:51:53.472726Z"
        },
        "id": "HwqHwFRObUzG"
      },
      "source": [
        "¿Qué pasa ahora con los elementos inmutables como los strings?"
      ]
    },
    {
      "cell_type": "code",
      "execution_count": null,
      "metadata": {
        "ExecuteTime": {
          "end_time": "2021-03-24T20:18:04.170052Z",
          "start_time": "2021-03-24T20:18:04.163053Z"
        },
        "id": "iLNnc4PnbUzG",
        "outputId": "0e432636-9748-4268-a655-d8fc89c6dd13"
      },
      "outputs": [
        {
          "data": {
            "text/plain": [
              "2020214228656"
            ]
          },
          "execution_count": 66,
          "metadata": {},
          "output_type": "execute_result"
        }
      ],
      "source": [
        "s1 = 'Hola'\n",
        "id(s1)"
      ]
    },
    {
      "cell_type": "code",
      "execution_count": null,
      "metadata": {
        "ExecuteTime": {
          "end_time": "2021-03-24T20:18:04.916052Z",
          "start_time": "2021-03-24T20:18:04.898118Z"
        },
        "id": "RLbDn2JKbUzG",
        "outputId": "8f6a3d0f-3d90-4ffb-985b-5a876b0fbebc"
      },
      "outputs": [
        {
          "data": {
            "text/plain": [
              "2020214228656"
            ]
          },
          "execution_count": 67,
          "metadata": {},
          "output_type": "execute_result"
        }
      ],
      "source": [
        "s2 = 'Hola'\n",
        "id(s2)"
      ]
    },
    {
      "cell_type": "code",
      "execution_count": null,
      "metadata": {
        "ExecuteTime": {
          "end_time": "2021-03-24T20:18:46.450652Z",
          "start_time": "2021-03-24T20:18:46.441655Z"
        },
        "scrolled": true,
        "id": "dFclXa6fbUzG",
        "outputId": "ed84b37c-c0be-45ca-f8f6-9f97602dfa71"
      },
      "outputs": [
        {
          "data": {
            "text/plain": [
              "2020214228656"
            ]
          },
          "execution_count": 68,
          "metadata": {},
          "output_type": "execute_result"
        }
      ],
      "source": [
        "id(d_1['key_1'])"
      ]
    },
    {
      "cell_type": "markdown",
      "metadata": {
        "id": "6yxoYCiLbUzG"
      },
      "source": [
        "¿Y si le concatenamos otro string (similar al `append` del inicio)?"
      ]
    },
    {
      "cell_type": "code",
      "execution_count": null,
      "metadata": {
        "ExecuteTime": {
          "end_time": "2021-03-24T19:20:37.482510Z",
          "start_time": "2021-03-24T19:20:37.480Z"
        },
        "id": "wjx5Urd5bUzG",
        "outputId": "ecd53473-0796-4194-806d-5225909d6d8f"
      },
      "outputs": [
        {
          "data": {
            "text/plain": [
              "2020185546064"
            ]
          },
          "execution_count": 69,
          "metadata": {},
          "output_type": "execute_result"
        }
      ],
      "source": [
        "s3 = s1 + ', qué tal?'\n",
        "id(s3)"
      ]
    },
    {
      "cell_type": "markdown",
      "metadata": {
        "id": "_mcMLXHwbUzH"
      },
      "source": [
        "> **Pregunta ❓**: ¿Por qué no se conserva el id?"
      ]
    },
    {
      "cell_type": "markdown",
      "metadata": {
        "id": "8obFAnGubUzH"
      },
      "source": [
        "## Parte 5: Control de Versiones con Git 🔃\n",
        "\n",
        "Un **sistema de control de versiones (VCS)** es una herramienta que permite registrar cambios realizados en carpetas y archivos de un proyecto. Con tal registro es posible:\n",
        "\n",
        "- Regresar a un estado anterior para deshacer errores.\n",
        "- Colaborar de manera sincronizada a través de la nube.\n",
        "\n",
        "Al trabajar en equipo, un sistema de control de versiones ayuda a identificar:\n",
        "\n",
        "- Qué cambios fueron hechos.\n",
        "- Quién/nes hicieron los cambios.\n",
        "- Cuándo fueron hechos.\n",
        "\n",
        "**`Git`** es una herramienta de este tipo y es la que usaremos en el curso. Es software libre y lo pueden encontrar en https://git-scm.com/. \n",
        "\n",
        "<div align=\"center\">\n",
        "    <br>\n",
        "<img src=\"./resources/git_logo.png\" alt=\"Git\" width=200/>\n",
        "    <br>\n",
        "</div>"
      ]
    },
    {
      "cell_type": "markdown",
      "metadata": {
        "id": "GRT25dSebUzH"
      },
      "source": [
        "> **Pregunta ❓**: ¿Es el control de versiones y git solo para equipos?\n"
      ]
    },
    {
      "cell_type": "markdown",
      "metadata": {
        "id": "Z8fbDyATbUzH"
      },
      "source": [
        "### Formas de usar `git`\n",
        "\n",
        "Hay dos formas de utilizar git: \n",
        "\n",
        "1. Desde la consola de comandos.\n",
        "2. Desde alguna aplicación con interfaz visual (como [Github desktop](https://desktop.github.com/), [Gitkraken](https://www.gitkraken.com/) o incluso a través de plugins de su editor de código favorito).\n",
        "\n"
      ]
    },
    {
      "cell_type": "markdown",
      "metadata": {
        "ExecuteTime": {
          "end_time": "2021-03-17T12:47:07.420491Z",
          "start_time": "2021-03-17T12:47:07.404863Z"
        },
        "id": "ZQIcrlxVbUzI"
      },
      "source": [
        "---\n",
        "\n",
        "### Instalación e Inicialización\n",
        "\n",
        "La instalación de `git` la pueden hacer a través de:\n",
        "\n",
        "- Windows: Instalador que encuentran en la [página oficial](https://git-scm.com/downloads).\n",
        "- MacOS: \n",
        "\n",
        "```bash\n",
        "brew install git\n",
        "```\n",
        "\n",
        "- Linux (ubuntu): \n",
        "\n",
        "```bash\n",
        "sudo apt-get update\n",
        "sudo apt-get install git\n",
        "```\n",
        "\n",
        "\n",
        "Una vez realizada, es necesario configurar la identidad de quien lo va a utilizar.\n",
        "Esto se hace por medio de:\n",
        "    \n",
        "```https://git-scm.com/\n",
        "$ git config --global user.name \"Nombre-Usuario\"\n",
        "$ git config --global user.email mail@ejemplo.xyz\n",
        "```"
      ]
    },
    {
      "cell_type": "markdown",
      "metadata": {
        "id": "uSxzrPCSbUzI"
      },
      "source": [
        "\n",
        "## Repositorio\n",
        "\n",
        "Un repositorio es un conjunto de carpetas y archivos en el que se almacena el código de un proyecto más el historial de cambios de cada archivo. Git administra los registros a través de archivos en una carpeta oculta llamada `.git`.\n",
        "\n",
        "<img src=\"./resources/ejemplo_proyecto.jpg\" alt=\"Ejemplo de repositorio\" style=\"width: 600px;\"/>\n",
        "\n",
        "<center>Un ejemplo de un repositorio típico de un proyecto basado en python (Fuente: https://github.com/fabiommendes/python-boilerplate)</center>\n",
        "\n",
        "\n"
      ]
    },
    {
      "cell_type": "markdown",
      "metadata": {
        "id": "Ol_atfkibUzI"
      },
      "source": [
        "> **Pregunta ❓**: ¿Cuál es la funcionalidad de Github, Bitbucket, Gitlab, etc...?"
      ]
    },
    {
      "cell_type": "markdown",
      "metadata": {
        "id": "-OD9ENzbbUzJ"
      },
      "source": [
        "## Git es Distribuido\n",
        "\n",
        "<div align=\"center\">\n",
        "<img src=\"./resources/git_distributed.png\" alt=\"Git es distribuido\" style=\"width: 600px;\"/>\n",
        "<center>Fuente: https://www.edureka.co/blog/what-is-git/</center>\n",
        "</div>\n",
        "\n",
        "El repositorio central se encuentra en algún servidor (ejemplo: Github, Bitbucket,etc...)\n",
        "\n",
        "Cada programador mantiene una copia del repositorio en su computador local. Veremos las consecuencias de esto más adelante.\n",
        "    "
      ]
    },
    {
      "cell_type": "markdown",
      "metadata": {
        "ExecuteTime": {
          "end_time": "2021-03-17T14:13:48.551335Z",
          "start_time": "2021-03-17T14:13:48.535739Z"
        },
        "id": "51xZywcqbUzJ"
      },
      "source": [
        "\n",
        "\n",
        "## Primeros Pasos (`git init` y `git clone`)\n",
        " \n",
        "    \n",
        "- Para inicializar un repositorio desde cero, usamos:\n",
        "\n",
        "```bash\n",
        "git init nombre-del-repo\n",
        "```\n",
        "\n",
        "- Para clonar un repositorio (es decir, copiar un repositorio a tu almacenamiento local desde algún servidor github, gitlab, bitbucket u otro servidor de git):\n",
        "\n",
        "```bash\n",
        "git clone /ruta/al/repo.git\n",
        "```\n",
        "\n",
        "\n",
        "- Para inicializar un repositorio en algún servicio de repositorios remotos, como github.\n",
        "\n",
        "> Visitar la página del servicio."
      ]
    },
    {
      "cell_type": "markdown",
      "metadata": {
        "id": "n0urP2oibUzJ"
      },
      "source": [
        "### Estado del proyecto\n",
        "\n",
        "> **Nota 📓**: Desde aquí en adelante hablaremos solo de nuestro repositorio local (ejemplo_mds7202) a menos que se indique lo contrario.\n",
        "\n",
        "\n",
        "La idea general de git es ir guardando *snapshots/capturas* (**commits**) en el historial que registran y consolidan los cambios. Esto puede ser visto como un grafo en donde cada nodo es un **commit** o una captura de como se veía el repositorio en ese entonces:\n",
        "\n",
        "<img src=\"./resources/git_basico.png\" alt=\"Git básico\" width=600/>"
      ]
    },
    {
      "cell_type": "markdown",
      "metadata": {
        "id": "3lW36VIdbUzJ"
      },
      "source": [
        "### `git status`\n",
        "\n",
        "\n",
        "Una operación simple de entender es el comando ```status```. Este permite tener una idea del estado actual del repositorio. Este se ejecuta por medio del comando :\n",
        "\n",
        "```bash\n",
        "git status\n",
        "```\n",
        "\n",
        "\n",
        "Al clonar el repositorio, por defecto veremos el último commit. Por ejemplo, para el proyecto [ejemplo_MDS7202](https://github.com/pbadillatorrealba/ejemplo_MDS7202.git) que tiene ya varios archivos:\n",
        "\n",
        "<img src=\"./resources/ejemplo_repo_0.jpg\" alt=\"Ejemplo de un proyecto 2\" width=400/>\n",
        "\n",
        "\n",
        "Al ejecutar `git status`, la consola imprimirá: \n",
        "\n",
        "\n",
        "<img src=\"./resources/git_status_0.jpg\" alt=\"Git status\" width=700/>\n",
        "\n",
        "\n"
      ]
    },
    {
      "cell_type": "markdown",
      "metadata": {
        "id": "m_YZ9pwUbUzK"
      },
      "source": [
        "#### Cambios\n",
        "\n",
        "Supongamos que ahora agregamos los archivos `new_class.py` y `test_new_class.py` (recalcados en verde):\n",
        "\n",
        "\n",
        "<img src=\"./resources/ejemplo_repo_2.jpg\" alt=\"Ejemplo de un proyecto 2\" width=400/>\n",
        "\n",
        "\n",
        "Al ejecutar `git status` nos muestra:\n",
        "\n",
        "\n",
        "<img src=\"./resources/git_status_1.jpg\" alt=\"Git status\" width=600/>\n",
        "\n",
        "\n",
        "Como podrás haber visto, `git status` detectó cambios y los indicó en color rojo."
      ]
    },
    {
      "cell_type": "markdown",
      "metadata": {
        "id": "KsKzx6lgbUzK"
      },
      "source": [
        "\n",
        "## Ciclo de Vida de los Archivos 🗄️\n",
        "\n",
        "`Git` permite llevar un registro de los cambios del proyecto por medio de la asignación de ciclos de vida a los archivos.\n",
        "\n",
        "Visto de manera sencilla, se puede decir que en `git` existen 4 tipos de archivos:\n",
        "\n",
        "- no rastreados o `untracked`.\n",
        "- no modificados o `unmodified`.\n",
        "- modificados o `modified`.\n",
        "- listos para ser consilidados o `staged`.\n",
        "\n",
        "Las interacciones son las siguientes:\n",
        "\n",
        "<img src='./resources/lifecycle.png' width=600/>\n",
        "\n",
        "\n"
      ]
    },
    {
      "cell_type": "markdown",
      "metadata": {
        "id": "zwbL_q66bUzK"
      },
      "source": [
        "### Staging Area\n",
        "\n",
        "La staging area consiste en el conjunto de archivos modificados que aún no han sido aprobados para formar parte del repositorio ni de su registro de cambios, pero que están a un paso de serlos.\n",
        "\n",
        "\n",
        "Para que un archivo que ha sido modificado (`modified`) pase a ser parte de la staging area, debe estar *marcado* como `staged`. Esto puede ser realizado a través de `git add`:\n",
        "\n",
        "```bash \n",
        "# Caso de un archivo:\n",
        "git add path/to/file.py\n",
        "\n",
        "# Caso de una carpeta:\n",
        "git add path/*\n",
        "\n",
        "# Caso de todos los cambios:\n",
        "git add --all\n",
        "```\n",
        "\n",
        "Si agregamos `src/new_class.py` ahora ejecutamos `git status`, veremos algo como esto:\n",
        "\n",
        "<img src=\"./resources/git_status_2.jpg\" alt=\"Git status\" width=700/>\n",
        "\n",
        "\n",
        "> **Pregunta ❓**: ¿Qué pasa si agrego un archivo al staging area y después lo modifico?\n",
        "\n",
        "- Finalmente un archivo del repositorio puede no ser marcado como tracked, por lo que al modificarse, no pasa a ser parte del área de montaje. Este tipo de archivos de denota como **untracked**. "
      ]
    },
    {
      "cell_type": "markdown",
      "metadata": {
        "id": "PaC_TFgDbUzK"
      },
      "source": [
        "### Commit o Cómo Consolidar Archivos\n",
        "\n",
        "Realizar un commit permite es capturar una instantanea de los archivos `staged` del repositorio y agregarlos a su historial de cambios.\n",
        "\n",
        "Para ello utilizo:\n",
        "\n",
        "```bash\n",
        "git commit\n",
        "```\n",
        "\n",
        "Esto abrira un archivo en su editor de texto prederminado donde deberán dejar un mensaje de que cambios hicimos y porque. \n",
        "\n",
        "Si desean dejar una descripción pequeña de los cambios, simplemente podemos agregar el parámetro `-m`\n",
        "\n",
        "```bash\n",
        "git commit -m \"Mi mensaje aquí\"\n",
        "```\n",
        "\n",
        "Hacer un commit hará que los archivos `staged` pasen a ser `unmodified`.\n",
        "\n",
        "\n",
        "> **Pregunta ❓**: ¿Qué pasa con los archivos `untracked` hago un `commit`?"
      ]
    },
    {
      "cell_type": "markdown",
      "metadata": {
        "id": "_r0Q-8ngbUzL"
      },
      "source": [
        "## Comandos útiles\n"
      ]
    },
    {
      "cell_type": "markdown",
      "metadata": {
        "id": "s_Y6ap9vbUzL"
      },
      "source": [
        "#### `git log`\n",
        "\n",
        "Para observar el rgistro de cambios se utiliza ```git log```, al ejecutar este comando se aprecia la estructura de un commit: este consta de un autor, momento de realización de la modificación y un **hash** identificador del cambio. \n",
        "\n",
        "<img src=\"./resources/git_log.jpg\" alt=\"Git log\" width=600/>\n",
        "\n",
        "Observa que cada commit tiene su propio identificador **hash** (números y letas después de la palabra commit)."
      ]
    },
    {
      "cell_type": "markdown",
      "metadata": {
        "id": "jcNv9iYXbUzL"
      },
      "source": [
        "## Git Ignore"
      ]
    },
    {
      "cell_type": "markdown",
      "metadata": {
        "id": "aSx99rOBbUzL"
      },
      "source": [
        "En algunos proyectos, como producción de archivos en LaTex, se generan archivos colaterales como logs y pdfs. Es posible ignorar este tipo de archivos en el repositorio. Para ello se genera un archivo ```.gitignore``` en la carpeta raiz listando archivos y carpetas no deseados en cada linea.\n",
        "\n",
        "<img src=\"./resources/ejemplo_gitignore.jpg\" alt=\"Git log\" width=500/>\n",
        "\n"
      ]
    },
    {
      "cell_type": "markdown",
      "metadata": {
        "tags": [],
        "id": "-9SzzYaSbUzL"
      },
      "source": [
        "## Deshacer Cambios ⬅️\n",
        "\n",
        "#### Eliminar del area de montaje\n",
        "\n",
        "¿Qué ocurre si se agrega accidentalmente un archivo al área de montaje? \n",
        "\n",
        "```bash\n",
        "git reset HEAD\n",
        "```\n",
        "\n",
        "Nota: esto eliminará todos los archivos con cambios que hayan sido agregados al area de montaje.\n",
        "\n",
        "#### Deshacer cambios de un archivo:\n",
        "\n",
        "\n",
        "Si por otra parte, un archivo ```folder/file``` ya fue consolidado y se desean revertir los cambios al commit anterior, es posible usar el comando \n",
        "\n",
        "```bash\n",
        "git checkout -- folder/file\n",
        "```\n"
      ]
    },
    {
      "cell_type": "markdown",
      "metadata": {
        "id": "28NAp6QrbUzL"
      },
      "source": [
        "Al igual que ```diff```, el comando ```checkout``` puede realizar múltiples funciones. Es posible volver a una versión (commit) anterior de cierto archivo utilizando la sintaxis:\n",
        "\n",
        "```bash\n",
        "git checkout commit-hash folder/file\n",
        "```"
      ]
    },
    {
      "cell_type": "markdown",
      "metadata": {
        "ExecuteTime": {
          "end_time": "2021-03-17T16:30:52.265782Z",
          "start_time": "2021-03-17T16:30:52.234355Z"
        },
        "id": "4eDnZqx7bUzL"
      },
      "source": [
        "Y si quieres retornar todos los archivos a un commit anterior, puedes usar:\n",
        "    \n",
        "```bash\n",
        "git checkout commit-hash\n",
        "```"
      ]
    },
    {
      "cell_type": "markdown",
      "metadata": {
        "id": "OuYJSUL_bUzL"
      },
      "source": [
        "## Branches y Colaboración"
      ]
    },
    {
      "cell_type": "markdown",
      "metadata": {
        "id": "sr7RHRANbUzM"
      },
      "source": [
        "### Branches\n",
        "\n",
        "Una rama o **branch** es un mecanismo que nos permite trabajar en un ambiente independiente del código principal.\n",
        "\n",
        "\n",
        "<img src=\"./resources/branch.png\" alt=\"Branch\" width=500/>\n",
        "\n",
        "<center>Fuente: https://www.atlassian.com/es/git/tutorials/using-branches</center>\n",
        "\n",
        "Al crear una branch, se \"replican\" los elementos de la rama desde donde se originó. Todos los commits que hagamos se harán en la branch que creamos. Luego, podemos juntar los cambios a través de un `merge`.\n",
        "\n",
        "\n",
        "> **Pregunta ❓**: Imagínense que estamos construyendo una app para gestionar pedidos de comida. ¿Qué beneficios nos entrega trabajar con ramas?"
      ]
    },
    {
      "cell_type": "markdown",
      "metadata": {
        "id": "aUZGClc6bUzM"
      },
      "source": [
        "#### Comandos\n",
        "\n",
        "**Ver las ramas disponibles**\n",
        "\n",
        "\n",
        "```bash\n",
        "git branch\n",
        "```\n",
        "\n",
        "Permite ver las ramas disponibles en el repositorio.\n",
        "\n",
        "**Crear ramas**\n",
        "\n",
        "```bash\n",
        "git branch new-branch\n",
        "``` \n",
        "\n",
        "permite crear una rama con nombre *new-branch*. \n",
        "\n",
        "**Cambiar de ramas**\n",
        "\n",
        "Para cambiar a la nueva rama, hacemos uso de \n",
        "\n",
        "```bash\n",
        "git checkout new-branch\n",
        "```\n",
        "\n",
        "Para cambiar en general a cualquier rama:\n",
        "\n",
        "```bash\n",
        "git checkout <nombre-rama>\n",
        "```\n",
        "\n",
        "Un atajo para crear una nueva rama y acceder inmediatamente es el comando: \n",
        "\n",
        "```bash \n",
        "git checkout -b new-branch\n",
        "```"
      ]
    },
    {
      "cell_type": "markdown",
      "metadata": {
        "id": "_szTS9nebUzM"
      },
      "source": [
        "### Merge\n",
        "\n",
        "La gran ventaja de trabajar con ramas viene de unir posteriormente los resultados y registros, esto se denomina **merging**. Para unir dos ramas se utiliza el comando:\n",
        "\n",
        "```bash\n",
        "git merge source_branch destination_branch\n",
        "```\n",
        "\n",
        "<img src=\"./resources/merge.png\" alt=\"Gitflow\" width=600/>\n",
        "\n",
        "<center>Fuente: https://www.atlassian.com/es/git/tutorials/using-branches/git-merge<center/>\n",
        "   \n",
        "    \n",
        "<br>\n",
        "    \n",
        "Usando esta opción, git intentará unir el trabajo de ambas branch de forma automática.    \n",
        "    \n",
        "> **Pregunta ❓**: ¿Qué pasa cuando dos personas trabajan en las mismas lineas de código?"
      ]
    },
    {
      "cell_type": "markdown",
      "metadata": {
        "id": "RQU6IOGZbUzM"
      },
      "source": [
        "### Conflictos 😥\n",
        "\n",
        "Finalmente, es posible que existan colisiones en el trabajo realizado dentro de distintas ramas.\n",
        "Estas ocurren cuando 2 personas trabajan en las mismas lineas de código y luego intentan unir sus cambios. Estas colisiones se denominan **conflictos** .\n",
        "\n",
        "Comunmente uno deberá resolver estos conflictos a mano y luego subir los cambios.\n",
        "\n",
        "En el siguiente ejemplo se muestra que es lo que ocurre cuando git detecta conflicto que no pudo resolver por cuenta propia:"
      ]
    },
    {
      "cell_type": "markdown",
      "metadata": {
        "ExecuteTime": {
          "end_time": "2021-03-17T23:05:45.949593Z",
          "start_time": "2021-03-17T23:05:45.937593Z"
        },
        "id": "3xVXTpLlbUzM"
      },
      "source": [
        "<img src=\"./resources/git_conflicto.jpg\" alt=\"Gitflow\" width=750/>\n"
      ]
    },
    {
      "cell_type": "markdown",
      "metadata": {
        "ExecuteTime": {
          "end_time": "2021-03-17T23:08:17.147875Z",
          "start_time": "2021-03-17T23:08:17.136907Z"
        },
        "id": "pWDadxKVbUzM"
      },
      "source": [
        "Al usar un IDE (Entorno de desarrollo integrado) como `vscode`, tenemos cuatro opciones disponibles:\n",
        "    \n",
        "- Conservar los cambios actuales (los que están en la rama que hizo el merge)\n",
        "- Conservar los cambios entrantes (los que vienen en la rama entrante)\n",
        "- Aceptar ambos cambios\n",
        "- Resolver manualmente que conservar y que descartar."
      ]
    },
    {
      "cell_type": "markdown",
      "metadata": {
        "id": "mjY2knOJbUzN"
      },
      "source": [
        "---\n",
        "\n",
        "## Repositorios Remotos 📡\n",
        "\n",
        "Ya sabemos iniciar repositorios y clonarlos. \n",
        "En el segundo caso, `git` registra el repositorio original del cual se obtuvo un clon, tal repositorio original se denota como **remoto**. Tal información se almacena con un nombre y una dirección (local o url). \n",
        "\n",
        "El comando ```git clone ruta``` permite nombrar el repositorio clonado por medio de ```git clone ruta nombre_clon```. \n"
      ]
    },
    {
      "cell_type": "markdown",
      "metadata": {
        "id": "lvC3RyGwbUzN"
      },
      "source": [
        "La ventaja de este sistema de almacenamiento de rutas remotas, es que permite sincronizar el trabajo tanto en una máquina local, como en colaboraciones por medio de internet. \n",
        "\n",
        "#### Pull\n",
        "\n",
        "La comunicación entre repositorios se hace por medio de intrucciones especiales, una de ellas es ```pull```. \n",
        "\n",
        "```git pull``` permite obtener el registro de cambios de un repositorio remoto, e incluso, una rama de tal repositorio. La sintaxis es:\n",
        "\n",
        "```bash\n",
        "git pull repo_remoto rama\n",
        "```\n",
        "\n",
        "Con este comando, se toma toda la información del repositorio ```repo_remoto``` y se une directamente con el repositorio actual (*merging*)."
      ]
    },
    {
      "cell_type": "markdown",
      "metadata": {
        "id": "zP8i9bXHbUzN"
      },
      "source": [
        "#### Push\n",
        "\n",
        "Por otra parte, es posible enviar cambios a un repositorio remoto, esto se hace por medio de ```git push```. La sintaxis es análoga: \n",
        "\n",
        "```bash\n",
        "git push repo_remoto rama\n",
        "```"
      ]
    },
    {
      "cell_type": "markdown",
      "metadata": {
        "id": "FNrfjNmibUzN"
      },
      "source": [
        "## Flujo de trabajo de Gitflow 🤝\n",
        " \n",
        " "
      ]
    },
    {
      "cell_type": "markdown",
      "metadata": {
        "id": "JSUxaAmTbUzN"
      },
      "source": [
        "Existen varios tipos de flujos de trabajo usando branch. Uno de ellos es Gitflow.\n",
        "<div align=\"center\">\n",
        "    <img src=\"./resources/gitflow.png\" alt=\"Gitflow\" width=600/>\n",
        "    <div>\n",
        "    Fuente: <a href=\"https://www.atlassian.com/es/git/tutorials/comparing-workflows/gitflow-workflow\">\n",
        "Gitflow Workflow\n",
        "</a>\n",
        "    </div>\n",
        "</div>\n"
      ]
    },
    {
      "cell_type": "markdown",
      "metadata": {
        "ExecuteTime": {
          "end_time": "2021-03-17T17:08:45.600508Z",
          "start_time": "2021-03-17T17:08:45.584885Z"
        },
        "id": "M6B05OYEbUzO"
      },
      "source": [
        "Si tienen dudas o quieren profundizar aún mas en git, pueden visitar:\n",
        "    \n",
        "[https://www.atlassian.com/es/git/tutorials](https://www.atlassian.com/es/git/tutorials)\n",
        "\n",
        "Tiene exelentes tutoriales en español."
      ]
    },
    {
      "cell_type": "markdown",
      "metadata": {
        "id": "a8JeG0JebUzO"
      },
      "source": [
        "## Trunk Based 🤝"
      ]
    },
    {
      "cell_type": "markdown",
      "metadata": {
        "id": "pAVAlF5XbUzO"
      },
      "source": [
        "<div align=\"center\">\n",
        "<img src=\"./resources/trunk_based.png\">\n",
        "\n",
        "<div>\n",
        "Fuente: <a href='https://dev.to/marianocodes/por-que-trunk-based-development-i5n'> ¿Por qué Trunk-Based Development? </a>\n",
        "</div>\n",
        "</div>"
      ]
    },
    {
      "cell_type": "markdown",
      "metadata": {
        "id": "BQclql64bUzO"
      },
      "source": [
        "### Torpedo Git (por Atlassian)\n",
        "\n",
        "\n",
        "https://wac-cdn.atlassian.com/es/dam/jcr:e7e22f25-bba2-4ef1-a197-53f46b6df4a5/SWTM-2088_Atlassian-Git-Cheatsheet.pdf?cdnVersion=264"
      ]
    },
    {
      "cell_type": "markdown",
      "metadata": {
        "id": "OGXd7AIdbUzO"
      },
      "source": [
        "### Ejercicio \n",
        "\n",
        "\n",
        "> Ejercicio 📖: Clonar el repositorio del curso desde el repositorio remoto github: https://github.com/maranedah/MDS7202"
      ]
    },
    {
      "cell_type": "markdown",
      "metadata": {
        "id": "MhYDzLVabUzP"
      },
      "source": [
        "El elemento cambió porque le pasamos una referencia de la lista a la función. NO una copia de esta."
      ]
    }
  ],
  "metadata": {
    "kernelspec": {
      "display_name": "Python 3 (ipykernel)",
      "language": "python",
      "name": "python3"
    },
    "language_info": {
      "codemirror_mode": {
        "name": "ipython",
        "version": 3
      },
      "file_extension": ".py",
      "mimetype": "text/x-python",
      "name": "python",
      "nbconvert_exporter": "python",
      "pygments_lexer": "ipython3",
      "version": "3.9.12"
    },
    "nbTranslate": {
      "displayLangs": [
        "es",
        "en"
      ],
      "hotkey": "alt-t",
      "langInMainMenu": true,
      "sourceLang": "en",
      "targetLang": "es",
      "useGoogleTranslate": true
    },
    "toc": {
      "base_numbering": 1,
      "nav_menu": {},
      "number_sections": true,
      "sideBar": true,
      "skip_h1_title": false,
      "title_cell": "Table of Contents",
      "title_sidebar": "Contents",
      "toc_cell": false,
      "toc_position": {
        "height": "calc(100% - 180px)",
        "left": "10px",
        "top": "150px",
        "width": "269.717px"
      },
      "toc_section_display": true,
      "toc_window_display": false
    },
    "varInspector": {
      "cols": {
        "lenName": 16,
        "lenType": 16,
        "lenVar": 40
      },
      "kernels_config": {
        "python": {
          "delete_cmd_postfix": "",
          "delete_cmd_prefix": "del ",
          "library": "var_list.py",
          "varRefreshCmd": "print(var_dic_list())"
        },
        "r": {
          "delete_cmd_postfix": ") ",
          "delete_cmd_prefix": "rm(",
          "library": "var_list.r",
          "varRefreshCmd": "cat(var_dic_list()) "
        }
      },
      "types_to_exclude": [
        "module",
        "function",
        "builtin_function_or_method",
        "instance",
        "_Feature"
      ],
      "window_display": false
    },
    "colab": {
      "name": "03-Programacion_Funcional.ipynb",
      "provenance": []
    }
  },
  "nbformat": 4,
  "nbformat_minor": 0
}