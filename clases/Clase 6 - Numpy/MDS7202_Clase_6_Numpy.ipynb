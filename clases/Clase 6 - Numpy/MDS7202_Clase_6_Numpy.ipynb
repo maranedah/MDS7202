{
  "cells": [
    {
      "cell_type": "markdown",
      "metadata": {
        "id": "EX4KPQyX4hkI"
      },
      "source": [
        "# Clase 6: Numpy \n",
        "\n",
        "\n",
        "**MDS7202: Laboratorio de Programación Científica para Ciencia de Datos**\n",
        "\n",
        "**Profesor: Matías Rojas**\n"
      ]
    },
    {
      "cell_type": "markdown",
      "metadata": {
        "id": "S0a92Eym4hkJ"
      },
      "source": [
        "---\n",
        "\n",
        "## NumPy y SciPy: Librerías Científicas \n",
        "\n",
        "`Numpy` y `SciPy` son librerías de código abierto en Python que proveen rutinas matemáticas **precompiladas** y de alto rendimiento. \n",
        "\n",
        "Ambos paquetes son estándar a la hora de trabajar con operaciones numéricas, siendo `Numpy` la base para el trabajo con vectores y matrices, mientras que `SciPy` extiende dichas rutinas al incorporar algoritmos de análisis numérico, optimización, entre otras cosas.\n",
        "\n"
      ]
    },
    {
      "cell_type": "markdown",
      "metadata": {
        "ExecuteTime": {
          "end_time": "2021-03-31T14:02:43.200558Z",
          "start_time": "2021-03-31T14:02:43.188510Z"
        },
        "tags": [],
        "id": "5Yg5n5M_4hkJ"
      },
      "source": [
        "---\n",
        "\n",
        "# **Numpy** \n",
        "\n",
        "[NumPy (Numerical Python)](http://www.numpy.org/) es la librería fundamental para la computación científica en Python. Numpy implementa los llamados **arreglos multi-dimensionales**, los cuáles nos permiten realizar operaciones sobre vectores y matrices con una gran eficiencia. Para lograr esto, esta librería ejecuta rutinas pre-compiladas en el lenguaje de programación C.\n",
        "\n",
        "Su uso se ha vuelto un estándar en computación científica, en particular en ciencia de datos y machine learning. Su uso es similar a otras herramientas matemáticas como MATLAB, pero esta es **Open Source 👍**. Si vienes de MATLAB, puedes encontrar una guia rápida de transición a python [aqui](https://numpy.org/devdocs/user/numpy-for-matlab-users.html)."
      ]
    },
    {
      "cell_type": "markdown",
      "metadata": {
        "jp-MarkdownHeadingCollapsed": true,
        "tags": [],
        "id": "pXVMe1lF4hkK"
      },
      "source": [
        "### **Aplicaciones de Numpy**\n",
        "\n",
        "Primer imagen de un agujero negro: Dentro del pipeline utilizado para la generación de esta imagen, se utilizó un paquete de Python llamado **eht-imaging**, según la documentación entregada por los creadores de este paquete, NumPy fue el nucleo central al momento de procesar los arreglos en el procesamiento de datos.\n",
        "\n",
        "<img src=\"https://numpy.org/images/content_images/cs/bh_numpy_role.png\" alt=\"Casos de estudio\" style=\"width: 800px;\"/>\n"
      ]
    },
    {
      "cell_type": "markdown",
      "source": [
        "El análisis y predicción en el mundo de los deportes ha sido una de las principales aplicaciones del aprendizaje de máquinas, principalmente con el fin de mejorar las tácticas y el rendimiento de los equipos mediante el análisis del rendimiento de los rivales y de ellos mismos. En este contexto, muchos investigadores y compañías utilizas NumPy y otros paquetes de Python para el análisis estadístico, visualización de datos, entre otras aplicaciones.\n",
        "\n",
        "\n",
        "\n",
        "<img src=\"https://m.media-amazon.com/images/I/51sFC2M48CL._SL500_.jpg\" alt=\"Casos de estudio\" style=\"width: 300px;\"/>\n",
        "\n",
        "<img src=\"https://numpy.org/images/content_images/cs/cricket-pitch.png\" alt=\"Casos de estudio\" style=\"width: 800px;\"/>\n",
        "\n"
      ],
      "metadata": {
        "id": "RmDwFaTh7uKJ"
      }
    },
    {
      "cell_type": "markdown",
      "metadata": {
        "id": "4RzLdBhU4hkK"
      },
      "source": [
        "\n",
        "<img src=\"https://i.ibb.co/54WNxDC/numpy-ecosistema.jpg\" alt=\"Ecosistema de Numpy\" style=\"width: 800px;\"/>"
      ]
    },
    {
      "cell_type": "markdown",
      "source": [
        "## **Arreglos de NumPy v/s Listas de Python**"
      ],
      "metadata": {
        "id": "5boAp5zHAaXa"
      }
    },
    {
      "cell_type": "code",
      "source": [
        "import time \n",
        "import sys\n",
        "import numpy as np"
      ],
      "metadata": {
        "id": "wQODJvGCAyzh"
      },
      "execution_count": null,
      "outputs": []
    },
    {
      "cell_type": "markdown",
      "source": [
        "**Los arreglos de NumPy ocupan menos memoria**"
      ],
      "metadata": {
        "id": "GUJgPz_nAic5"
      }
    },
    {
      "cell_type": "code",
      "source": [
        "l1 = range(1000)\n",
        "\n",
        "print(f'Cantidad de bytes utilizado por la lista de python: {sys.getsizeof(5)*len(l1)}')\n",
        "\n",
        "l2 = np.arange(1000)\n",
        "\n",
        "print(f'Cantidad de bytes utilizado por el arreglo de NumPy: {l2.size*l2.itemsize}')"
      ],
      "metadata": {
        "id": "bRW8IreEAc9r"
      },
      "execution_count": null,
      "outputs": []
    },
    {
      "cell_type": "markdown",
      "source": [
        "**Las operaciones sobre arreglos de NumPy son más rápidas**"
      ],
      "metadata": {
        "id": "4fuRxzu2BS3p"
      }
    },
    {
      "cell_type": "code",
      "source": [
        "n = 1000000\n",
        "\n",
        "l1 = range(n)\n",
        "l2 = range(n)\n",
        "\n",
        "l3 = np.arange(n)\n",
        "l4 = np.arange(n)\n",
        "\n",
        "s = time.time()\n",
        "\n",
        "result = [x+y for x,y in zip(l1,l2)]\n",
        "\n",
        "print(f'Cantidad de milisegundos que toma la suma de elementos con listas de python: {1000*(time.time()-s)}')\n",
        "\n",
        "s = time.time()\n",
        "\n",
        "result = l3 + l4\n",
        "\n",
        "print(f'Cantidad de milisegundos que toma la suma de elementos con arreglos de NumPy: {1000*(time.time()-s)}')"
      ],
      "metadata": {
        "id": "urZRYNkaBX-F"
      },
      "execution_count": null,
      "outputs": []
    },
    {
      "cell_type": "markdown",
      "metadata": {
        "id": "HAZ6t_jz4hkK"
      },
      "source": [
        "## **Clase ndarray**\n",
        "\n",
        "**Arreglo** (según wikipedia): \n",
        "> Es una zona de almacenamiento contiguo (en la memoria RAM) que contiene una serie de elementos del mismo tipo.\n",
        "\n",
        "El núcleo de `numpy` es el objeto ndarray. Este objeto encapsula **arreglos n-dimensionales** de **tipos de datos homogeneos** e implementa **rutinas precompiladas** para el calculo de operaciones. \n",
        "\n",
        "Las principales características de estos arreglos son las siguientes:\n",
        "\n",
        "1. Arreglos de tamaño fijo: A diferencia de las listas de python que pueden crecer dinámicamente, los arreglos de numpy son estáticos. Modificar el tamaño de un arreglo implicará crear uno nuevo.\n",
        "2. Arreglos del mismo tipo de datos: Tipos de datos distintos tienen tamaños distintos. Al tener tipos de datos de igual tamaño, se puede manejar mejor la memoria RAM.\n",
        "3. Operaciones matemáticas eficientes: Los módulos precompilados ofrecen operaciones más eficientes sobre arreglos numpy que su equivalente de listas en python. \n",
        "4. Gran ecosistema: En general, la mayoría de librerías científicas están basadas en los arreglos de numpy. \n",
        "\n",
        "Notar que los array de NumPy no son equivalentes a los de Python de la clase array.array, ya que estos últimos sólo aplican para arreglos unidimensionales."
      ]
    },
    {
      "cell_type": "markdown",
      "metadata": {
        "id": "5aD3vHia4hkL"
      },
      "source": [
        "### **Vectorización**\n",
        "\n",
        "La vectorización describe la ausencia de cualquier ciclo o indexado explícito en el código. La idea es que todo se hace a través de funciones que operan \"detrás de escenas\" (en C).\n",
        "\n",
        "Ventajas:\n",
        "\n",
        "- El código vectorizado es mas consiso y facil de leer.\n",
        "\n",
        "- Menos lineas de código = Menos bugs.\n",
        "\n",
        "- La notación vectorizada \"recuerda\" en algo a la notación matemática. (Piensen en una suma de dos vectores implementado en for con respecto un `a + b`).\n"
      ]
    },
    {
      "cell_type": "code",
      "execution_count": null,
      "metadata": {
        "id": "sPxyHeJg4hkL"
      },
      "outputs": [],
      "source": [
        "a = [...]\n",
        "b = [...]\n",
        "c = [...]\n",
        "\n",
        "# ejemplo con iteraciones.\n",
        "for a_i, b_i in zip(a,b):\n",
        "    c.append(a_i + b_i)\n",
        "    \n",
        "# ejemplo vectorizado.\n",
        "c = a + b"
      ]
    },
    {
      "cell_type": "markdown",
      "metadata": {
        "id": "9JI0-P7d4hkM"
      },
      "source": [
        "### Primeros Pasos"
      ]
    },
    {
      "cell_type": "markdown",
      "metadata": {
        "id": "UyZq1hL04hkM"
      },
      "source": [
        "Importamos comunmente `numpy` usando el alias `np`."
      ]
    },
    {
      "cell_type": "code",
      "execution_count": null,
      "metadata": {
        "ExecuteTime": {
          "end_time": "2021-03-31T19:28:07.775507Z",
          "start_time": "2021-03-31T19:28:07.770496Z"
        },
        "id": "1ZC7sWw54hkM"
      },
      "outputs": [],
      "source": [
        "# alias comun es np\n",
        "import numpy as np"
      ]
    },
    {
      "cell_type": "markdown",
      "metadata": {
        "id": "7xKXoH1Q4hkM"
      },
      "source": [
        "#### Creación de arrays\n",
        "\n",
        "Existen varias formas de crear arreglos."
      ]
    },
    {
      "cell_type": "markdown",
      "metadata": {
        "ExecuteTime": {
          "end_time": "2021-03-31T14:48:06.295871Z",
          "start_time": "2021-03-31T14:48:06.275946Z"
        },
        "id": "qS-Xs72z4hkN"
      },
      "source": [
        "##### Inicializar a partir de listas de Python"
      ]
    },
    {
      "cell_type": "code",
      "execution_count": null,
      "metadata": {
        "ExecuteTime": {
          "end_time": "2021-03-31T19:28:08.541506Z",
          "start_time": "2021-03-31T19:28:08.518497Z"
        },
        "scrolled": true,
        "id": "JqyJ5zOE4hkN"
      },
      "outputs": [],
      "source": [
        "a = np.array([1, 2, 3])\n",
        "a"
      ]
    },
    {
      "cell_type": "markdown",
      "metadata": {
        "id": "ZhMpCW_44hkN"
      },
      "source": [
        "![Ejemplo ndarray](https://i.ibb.co/HB49wrV/np-array.png)"
      ]
    },
    {
      "cell_type": "markdown",
      "source": [
        "¿Qué pasará con el siguiente código?"
      ],
      "metadata": {
        "id": "3UO62nXlErFl"
      }
    },
    {
      "cell_type": "code",
      "source": [
        "ejemplo = np.array([1, 2, '3'])\n",
        "ejemplo"
      ],
      "metadata": {
        "id": "eivEO9NVEp-i"
      },
      "execution_count": null,
      "outputs": []
    },
    {
      "cell_type": "markdown",
      "metadata": {
        "id": "ZMeb8HQg4hkN"
      },
      "source": [
        "##### Crear _arrays_ llenos de ceros"
      ]
    },
    {
      "cell_type": "code",
      "execution_count": null,
      "metadata": {
        "ExecuteTime": {
          "end_time": "2021-03-31T19:28:37.593794Z",
          "start_time": "2021-03-31T19:28:37.573796Z"
        },
        "id": "sM0M6QI84hkO"
      },
      "outputs": [],
      "source": [
        "b = np.zeros(10)\n",
        "b"
      ]
    },
    {
      "cell_type": "markdown",
      "metadata": {
        "code_folding": [],
        "id": "cqFZfv7_4hkO"
      },
      "source": [
        "##### Crear _arrays_ de 1"
      ]
    },
    {
      "cell_type": "code",
      "execution_count": null,
      "metadata": {
        "ExecuteTime": {
          "end_time": "2021-03-31T19:28:42.996086Z",
          "start_time": "2021-03-31T19:28:42.984083Z"
        },
        "id": "_Q_hSWEG4hkO"
      },
      "outputs": [],
      "source": [
        "c = np.ones(10)\n",
        "c"
      ]
    },
    {
      "cell_type": "markdown",
      "metadata": {
        "id": "xVVANU3u4hkO"
      },
      "source": [
        "##### Y usar un simil de la función range"
      ]
    },
    {
      "cell_type": "code",
      "execution_count": null,
      "metadata": {
        "ExecuteTime": {
          "end_time": "2021-03-31T19:28:44.831364Z",
          "start_time": "2021-03-31T19:28:44.812336Z"
        },
        "id": "aVo_AmAW4hkO"
      },
      "outputs": [],
      "source": [
        "d = np.arange(2, 16, 2)  # de 2 al 15 (sin incluir) con un salto de 2 en 2.\n",
        "d"
      ]
    },
    {
      "cell_type": "code",
      "source": [
        "d = np.linspace(2, 16, 8)  \n",
        "d"
      ],
      "metadata": {
        "id": "Kyim2TlmGD1z"
      },
      "execution_count": null,
      "outputs": []
    },
    {
      "cell_type": "markdown",
      "metadata": {
        "id": "DD1mhyu44hkO"
      },
      "source": [
        "##### Y arreglos con valores aleatorios\n",
        "\n",
        "\n",
        "Esto genera un vector en donde cada elemento es un número $ \\sim \\text{unif}([0,1])$"
      ]
    },
    {
      "cell_type": "code",
      "execution_count": null,
      "metadata": {
        "ExecuteTime": {
          "end_time": "2021-03-31T19:29:14.620715Z",
          "start_time": "2021-03-31T19:29:14.609688Z"
        },
        "scrolled": true,
        "id": "8bV2eU6Y4hkO"
      },
      "outputs": [],
      "source": [
        "np.random.rand(3)"
      ]
    },
    {
      "cell_type": "markdown",
      "metadata": {
        "id": "MjHLUHDK4hkO"
      },
      "source": [
        "##### También podemos crear matrices"
      ]
    },
    {
      "cell_type": "code",
      "execution_count": null,
      "metadata": {
        "ExecuteTime": {
          "end_time": "2021-03-31T19:29:22.430505Z",
          "start_time": "2021-03-31T19:29:22.413506Z"
        },
        "id": "uLTCK-yD4hkO"
      },
      "outputs": [],
      "source": [
        "e = np.ones((5, 6))\n",
        "e "
      ]
    },
    {
      "cell_type": "code",
      "execution_count": null,
      "metadata": {
        "ExecuteTime": {
          "end_time": "2021-03-31T19:30:02.133772Z",
          "start_time": "2021-03-31T19:30:02.117772Z"
        },
        "id": "RyDi-4Dp4hkP"
      },
      "outputs": [],
      "source": [
        "m = np.array([[1, 2, 3], \n",
        "              [4, 5, 6], \n",
        "              [7, 8, 9], \n",
        "              [10, 11, 12]])\n",
        "m"
      ]
    },
    {
      "cell_type": "markdown",
      "metadata": {
        "id": "7pUlGkcL4hkP"
      },
      "source": [
        "> **Pregunta ❓** : ¿Qué sucede con el siguiente código?\n",
        "\n",
        "```python\n",
        "m2 = np.array([[1, 2, 3], [4, 5, 6], [7]])\n",
        "```"
      ]
    },
    {
      "cell_type": "code",
      "execution_count": null,
      "metadata": {
        "ExecuteTime": {
          "end_time": "2021-03-31T19:31:27.823705Z",
          "start_time": "2021-03-31T19:31:27.811708Z"
        },
        "id": "3QTFaRrX4hkP"
      },
      "outputs": [],
      "source": [
        "m2 = np.array([[1, 2, 3], \n",
        "               [4, 5, 6], \n",
        "               [7]])\n",
        "m2"
      ]
    },
    {
      "cell_type": "code",
      "execution_count": null,
      "metadata": {
        "id": "hA2t2Ka_4hkP"
      },
      "outputs": [],
      "source": [
        "np.array(['hola', 'chao'])"
      ]
    },
    {
      "cell_type": "markdown",
      "metadata": {
        "ExecuteTime": {
          "end_time": "2021-03-31T17:43:47.023395Z",
          "start_time": "2021-03-31T17:43:47.005551Z"
        },
        "id": "HBzSJvJ54hkP"
      },
      "source": [
        "> **Ejercicio ✏️**: Existen más alternativas para crear arreglos. Verifique las funciones `np.vstack` y `np.hstack` en la siguiente [referencia](https://numpy.org/devdocs/user/absolute_beginners.html#how-to-create-an-array-from-existing-data)."
      ]
    },
    {
      "cell_type": "markdown",
      "metadata": {
        "id": "ux-KBto04hkP"
      },
      "source": [
        "---\n",
        "\n",
        "De aquí en adelante, definiremos la siguiente matriz como una secuencia de 4 puntos tridimensionales que describen algún objeto tridimensional, como por ejemplo, un tetraedro:"
      ]
    },
    {
      "cell_type": "code",
      "execution_count": null,
      "metadata": {
        "id": "6-JI0kjt4hkP"
      },
      "outputs": [],
      "source": [
        "puntos = np.array([\n",
        "    [0, 0, 0],\n",
        "    [1, 0, 2],\n",
        "    [2, 1, 0],\n",
        "    [0, 2, 1]]\n",
        ")\n",
        "\n",
        "puntos"
      ]
    },
    {
      "cell_type": "code",
      "execution_count": null,
      "metadata": {
        "ExecuteTime": {
          "end_time": "2021-03-31T19:33:52.474692Z",
          "start_time": "2021-03-31T19:33:52.454692Z"
        },
        "id": "mis8FX1Z4hkP"
      },
      "outputs": [],
      "source": [
        "import plotly.graph_objects as go\n",
        "\n",
        "def plot_tetraedro(puntos):\n",
        "    fig = go.Figure(data=[go.Mesh3d(\n",
        "        x=puntos[:, 0],\n",
        "        y=puntos[:, 1],\n",
        "        z=puntos[:, 2],\n",
        "        opacity=0.5,\n",
        "        # indices de los puntos donde se dibujan caras.\n",
        "        # i=0, j=1, k=2 indica que se dibujará una\n",
        "        # cara en [0, 0, 0] -> [1, 0, 2] -> [2, 1, 0]\n",
        "        i=[0, 0, 0, 1],\n",
        "        j=[1, 2, 3, 2],\n",
        "        k=[2, 3, 1, 3],\n",
        "    )])\n",
        "    fig.show()\n",
        "    \n",
        "plot_tetraedro(puntos)"
      ]
    },
    {
      "cell_type": "markdown",
      "metadata": {
        "id": "aDrxVp-v4hkP"
      },
      "source": [
        "#### Axes\n",
        "\n",
        "En `numpy`, las dimensiones son llamadas ***axes***.\n",
        "\n",
        "Supongamos que la matriz que vimos antes (`puntos`) es un conjunto de cuatro puntos tridimensionales.\n",
        "- Un punto `[0, 0, 0]` es un arreglo de una sola dimensión (un solo axe).\n",
        "- Un conjunto de dos puntos `[[0, 0, 0], [1, 0, 2]],` es un arreglo de dos dimensiones (dos axes).\n",
        "\n",
        "> **Pregunta ❓**: `[[0, 0, 0], [1, 0, 2], [2, 1, 0]],` ¿Cuántos axes tiene?\n"
      ]
    },
    {
      "cell_type": "markdown",
      "metadata": {
        "id": "fYplZrlp4hkP"
      },
      "source": [
        "#### Atributos de la clase ndarray "
      ]
    },
    {
      "cell_type": "code",
      "execution_count": null,
      "metadata": {
        "ExecuteTime": {
          "end_time": "2021-03-31T19:36:04.611878Z",
          "start_time": "2021-03-31T19:36:04.597881Z"
        },
        "scrolled": true,
        "id": "Nw-A7vnp4hkP"
      },
      "outputs": [],
      "source": [
        "puntos"
      ]
    },
    {
      "cell_type": "markdown",
      "metadata": {
        "id": "aaA-WN6m4hkQ"
      },
      "source": [
        "##### `ndim`\n",
        "\n",
        "Podemos acceder al número de dimensiones o axes a través del atributo `ndim`"
      ]
    },
    {
      "cell_type": "code",
      "execution_count": null,
      "metadata": {
        "ExecuteTime": {
          "end_time": "2021-03-31T19:36:21.394474Z",
          "start_time": "2021-03-31T19:36:21.376477Z"
        },
        "scrolled": true,
        "id": "hcMj4HhF4hkQ"
      },
      "outputs": [],
      "source": [
        "puntos.ndim "
      ]
    },
    {
      "cell_type": "markdown",
      "metadata": {
        "id": "JIT5TTkn4hkQ"
      },
      "source": [
        "##### `shape`\n",
        "\n",
        "Shape es una tupla que indica el tamaño de cada dimension. Nota que la tupla tiene la misma cantidad de elementos que el número de dimensiones. \n",
        "\n",
        "En nuesto ejemplo, la dimensión 1 tiene tamaño 4 (4 puntos) y la segunda dimensión tiene 3 (coordenadas)."
      ]
    },
    {
      "cell_type": "code",
      "execution_count": null,
      "metadata": {
        "ExecuteTime": {
          "end_time": "2021-03-31T19:36:33.081198Z",
          "start_time": "2021-03-31T19:36:33.075199Z"
        },
        "id": "NcUi-WZP4hkQ"
      },
      "outputs": [],
      "source": [
        "puntos.shape"
      ]
    },
    {
      "cell_type": "markdown",
      "metadata": {
        "id": "SSQH3bAu4hkQ"
      },
      "source": [
        "##### `size`\n",
        "\n",
        "Es el número de elementos totales en nuestro arreglo"
      ]
    },
    {
      "cell_type": "code",
      "execution_count": null,
      "metadata": {
        "ExecuteTime": {
          "end_time": "2021-03-31T19:37:45.424587Z",
          "start_time": "2021-03-31T19:37:45.407587Z"
        },
        "id": "-n4Iy8Ky4hkQ"
      },
      "outputs": [],
      "source": [
        "puntos.size"
      ]
    },
    {
      "cell_type": "markdown",
      "metadata": {
        "id": "fXa__sVQ4hkQ"
      },
      "source": [
        "##### `dtype`\n",
        "\n",
        "El tipo de datos que tiene nuestro arreglo"
      ]
    },
    {
      "cell_type": "code",
      "execution_count": null,
      "metadata": {
        "ExecuteTime": {
          "end_time": "2021-03-31T19:37:52.676667Z",
          "start_time": "2021-03-31T19:37:52.669658Z"
        },
        "id": "3IiAT_CX4hkQ"
      },
      "outputs": [],
      "source": [
        "puntos.dtype"
      ]
    },
    {
      "cell_type": "markdown",
      "source": [
        "##### `itemsize`\n",
        "\n",
        "El tamaño en bytes de cada elemento que compone al arreglo"
      ],
      "metadata": {
        "id": "jGo8vwmmEA8j"
      }
    },
    {
      "cell_type": "code",
      "source": [
        "puntos.itemsize"
      ],
      "metadata": {
        "id": "gv2g5S01EKOT"
      },
      "execution_count": null,
      "outputs": []
    },
    {
      "cell_type": "markdown",
      "metadata": {
        "id": "ahjaAC_z4hkQ"
      },
      "source": [
        "#### Datos sobre múltiples dimensiones\n",
        "\n",
        "Supongamos que el tetraedro va creciendo aleatoriamente según pasa el tiempo.\n",
        "\n",
        "Es decir que tendrémos para cada $t$, un conjunto de cuatro puntos distintos. "
      ]
    },
    {
      "cell_type": "code",
      "execution_count": null,
      "metadata": {
        "id": "479_f9XN4hkQ"
      },
      "outputs": [],
      "source": [
        "puntos"
      ]
    },
    {
      "cell_type": "code",
      "execution_count": null,
      "metadata": {
        "ExecuteTime": {
          "end_time": "2021-03-31T19:39:19.543222Z",
          "start_time": "2021-03-31T19:39:19.533227Z"
        },
        "scrolled": true,
        "id": "eowgBIr04hkQ"
      },
      "outputs": [],
      "source": [
        "puntos_t1 = np.round(puntos + np.random.rand(4,3), 2)\n",
        "puntos_t1"
      ]
    },
    {
      "cell_type": "code",
      "execution_count": null,
      "metadata": {
        "id": "8u9jmGPM4hkQ"
      },
      "outputs": [],
      "source": [
        "plot_tetraedro(puntos_t1)"
      ]
    },
    {
      "cell_type": "code",
      "execution_count": null,
      "metadata": {
        "ExecuteTime": {
          "end_time": "2021-03-31T19:39:31.709916Z",
          "start_time": "2021-03-31T19:39:31.703922Z"
        },
        "scrolled": true,
        "id": "XikI8-364hkQ"
      },
      "outputs": [],
      "source": [
        "puntos_t2 = np.round(puntos_t1 + np.random.rand(4, 3), 2)\n",
        "puntos_t2"
      ]
    },
    {
      "cell_type": "code",
      "execution_count": null,
      "metadata": {
        "id": "8BbYjx7J4hkQ"
      },
      "outputs": [],
      "source": [
        "plot_tetraedro(puntos_t2)"
      ]
    },
    {
      "cell_type": "code",
      "execution_count": null,
      "metadata": {
        "ExecuteTime": {
          "end_time": "2021-03-31T19:39:32.623916Z",
          "start_time": "2021-03-31T19:39:32.616916Z"
        },
        "id": "9gTyJWbL4hkQ"
      },
      "outputs": [],
      "source": [
        "puntos_t3 = np.round(puntos_t2 + np.random.rand(4, 3), 2)\n",
        "puntos_t3"
      ]
    },
    {
      "cell_type": "code",
      "execution_count": null,
      "metadata": {
        "id": "ttTKkciM4hkR"
      },
      "outputs": [],
      "source": [
        "plot_tetraedro(puntos_t3)"
      ]
    },
    {
      "cell_type": "code",
      "execution_count": null,
      "metadata": {
        "id": "Bk5cytUk4hkR"
      },
      "outputs": [],
      "source": [
        "puntos_t4 = np.round(puntos_t3 + np.random.rand(4, 3), 2)\n",
        "puntos_t4"
      ]
    },
    {
      "cell_type": "code",
      "execution_count": null,
      "metadata": {
        "id": "T6_M9vc_4hkR"
      },
      "outputs": [],
      "source": [
        "plot_tetraedro(puntos_t4)"
      ]
    },
    {
      "cell_type": "markdown",
      "metadata": {
        "ExecuteTime": {
          "end_time": "2021-03-31T15:26:45.166466Z",
          "start_time": "2021-03-31T15:26:45.146319Z"
        },
        "id": "cC8NrNDH4hkR"
      },
      "source": [
        "> **Pregunta ❓**: ¿Cómo podemos agregar el tiempo a nuestro conjunto de datos?"
      ]
    },
    {
      "cell_type": "markdown",
      "metadata": {
        "id": "ybVERnih4hkR"
      },
      "source": [
        "La forma de agregar esta variable es agregar una nueva dimensión al arreglo. Es decir, ahora tener las dimensiones `(tiempo, puntos del tetraedro, valores)`"
      ]
    },
    {
      "cell_type": "code",
      "execution_count": null,
      "metadata": {
        "ExecuteTime": {
          "end_time": "2021-03-31T19:41:08.997055Z",
          "start_time": "2021-03-31T19:41:08.984057Z"
        },
        "id": "C5KKaVnP4hkR"
      },
      "outputs": [],
      "source": [
        "puntos_t = np.array([puntos, puntos_t1, puntos_t2, puntos_t3, puntos_t4])\n",
        "puntos_t"
      ]
    },
    {
      "cell_type": "code",
      "execution_count": null,
      "metadata": {
        "ExecuteTime": {
          "end_time": "2021-03-31T19:41:45.200738Z",
          "start_time": "2021-03-31T19:41:45.188739Z"
        },
        "id": "eV-M5bjY4hkR"
      },
      "outputs": [],
      "source": [
        "puntos_t.ndim"
      ]
    },
    {
      "cell_type": "code",
      "execution_count": null,
      "metadata": {
        "ExecuteTime": {
          "end_time": "2021-03-31T19:41:47.781740Z",
          "start_time": "2021-03-31T19:41:47.774739Z"
        },
        "id": "WHegreOQ4hkR"
      },
      "outputs": [],
      "source": [
        "puntos_t.shape"
      ]
    },
    {
      "cell_type": "markdown",
      "metadata": {
        "ExecuteTime": {
          "end_time": "2021-03-31T15:32:45.336152Z",
          "start_time": "2021-03-31T15:32:45.326056Z"
        },
        "id": "JmCGG_RY4hkR"
      },
      "source": [
        "Comunmente, los arreglos de más de dos dimensiones son conocidos como **tensores**."
      ]
    },
    {
      "cell_type": "markdown",
      "metadata": {
        "id": "XKo8WX0q4hkR"
      },
      "source": [
        "> **Pregunta ❓**: ¿Cómo podemos modelar datos como imágenes y videos en arreglos multidimensionales?\n",
        "\n",
        "> Propongan algún otro tipo de dato para modelarlo en este momento.\n"
      ]
    },
    {
      "cell_type": "markdown",
      "metadata": {
        "id": "6kBQsSIi4hkR"
      },
      "source": [
        "Ejemplo de imagen 8x8 en blanco negro."
      ]
    },
    {
      "cell_type": "code",
      "source": [
        "imagen = np.array([[0, 0, 0, 0, 0, 0, 0, 0],\n",
        "                   [0, 0, 0, 0, 0, 0, 0, 0],\n",
        "                   [0, 0, 0, 1, 1, 0, 0, 0],\n",
        "                   [0, 0, 1, 0, 0, 1, 0, 0],\n",
        "                   [0, 0, 0, 0, 0, 0, 0, 0],\n",
        "                   [0, 0, 0, 0, 0, 0, 1, 0],\n",
        "                   [0, 0, 0, 0, 0, 0, 1, 1],\n",
        "                   [0, 0, 0, 0, 0, 0, 0, 0]],\n",
        "                  dtype='uint8') * 255"
      ],
      "metadata": {
        "id": "n5DJ5J5ZJW2K"
      },
      "execution_count": null,
      "outputs": []
    },
    {
      "cell_type": "code",
      "execution_count": null,
      "metadata": {
        "id": "pYcO6bka4hkR"
      },
      "outputs": [],
      "source": [
        "import plotly.express as px\n",
        "px.imshow(imagen, binary_string=True)"
      ]
    },
    {
      "cell_type": "markdown",
      "metadata": {
        "id": "g9cvOibt4hkR"
      },
      "source": [
        "Por lo general, las imágenes tienen 3 canales: Rojo Verde y Azul (Red, Green and Blue = **RGB**)."
      ]
    },
    {
      "cell_type": "code",
      "execution_count": null,
      "metadata": {
        "ExecuteTime": {
          "end_time": "2021-03-31T21:54:09.103894Z",
          "start_time": "2021-03-31T21:54:09.099921Z"
        },
        "id": "j-DZ44VI4hkR"
      },
      "outputs": [],
      "source": [
        "imagen = [[0,0,0  ], [...], [...],\n",
        "          [0,0,255], [...], [...],\n",
        "         ]"
      ]
    },
    {
      "cell_type": "code",
      "execution_count": null,
      "metadata": {
        "ExecuteTime": {
          "end_time": "2021-03-31T21:54:08.365069Z",
          "start_time": "2021-03-31T21:54:08.353050Z"
        },
        "id": "gUZifS0t4hkR"
      },
      "outputs": [],
      "source": [
        "['Rojo', 'Verde', 'Azul']"
      ]
    },
    {
      "cell_type": "markdown",
      "metadata": {
        "ExecuteTime": {
          "end_time": "2021-03-31T21:54:10.060152Z",
          "start_time": "2021-03-31T21:54:10.044152Z"
        },
        "id": "mzu0Id6B4hkS"
      },
      "source": [
        "Los videos no son más que conjuntos de imágenes más audio. Si consideramos solo las imágenes, tendríamos:"
      ]
    },
    {
      "cell_type": "code",
      "execution_count": null,
      "metadata": {
        "ExecuteTime": {
          "end_time": "2021-03-31T21:47:46.325043Z",
          "start_time": "2021-03-31T21:47:46.317032Z"
        },
        "id": "xXMzQKy94hkS"
      },
      "outputs": [],
      "source": [
        "#video = [img1, img2, img3, ...]\n",
        "\n",
        "# El arreglo tendría las siguientes dimensiones: (tiempo, alto, ancho, canal)"
      ]
    },
    {
      "cell_type": "markdown",
      "metadata": {
        "id": "VKnbVdun4hkS"
      },
      "source": [
        "### Indexado\n",
        "\n",
        "\n",
        "El indexado es similar a las listas de python.\n",
        "\n",
        "![Indexado](https://i.ibb.co/z5XtRw9/np-indexing.png)\n",
        "<center>Fuente: https://numpy.org/devdocs/user/absolute_beginners.html </center>"
      ]
    },
    {
      "cell_type": "code",
      "execution_count": null,
      "metadata": {
        "ExecuteTime": {
          "end_time": "2021-03-31T19:50:22.160338Z",
          "start_time": "2021-03-31T19:50:22.150338Z"
        },
        "scrolled": true,
        "id": "Oe3k_Irs4hkS"
      },
      "outputs": [],
      "source": [
        "data = np.array([1, 2, 3])\n",
        "data"
      ]
    },
    {
      "cell_type": "code",
      "execution_count": null,
      "metadata": {
        "id": "-ogZ5RMd4hkS"
      },
      "outputs": [],
      "source": [
        "# indexador sin slice retorna solo un número\n",
        "data[1]"
      ]
    },
    {
      "cell_type": "code",
      "execution_count": null,
      "metadata": {
        "id": "2FTVws3Z4hkS"
      },
      "outputs": [],
      "source": [
        "# slice retorna arreglo\n",
        "data[1:2]"
      ]
    },
    {
      "cell_type": "code",
      "execution_count": null,
      "metadata": {
        "id": "W--Q7lv94hkS"
      },
      "outputs": [],
      "source": [
        "# slice retorna arreglo\n",
        "data[0:2]"
      ]
    },
    {
      "cell_type": "code",
      "execution_count": null,
      "metadata": {
        "id": "NjK1zT1L4hkS"
      },
      "outputs": [],
      "source": [
        "# desde el índice 1 hacia adelante\n",
        "data[1:]"
      ]
    },
    {
      "cell_type": "markdown",
      "metadata": {
        "id": "Ag_DjetP4hkS"
      },
      "source": [
        "Y multidimensional"
      ]
    },
    {
      "cell_type": "code",
      "execution_count": null,
      "metadata": {
        "ExecuteTime": {
          "end_time": "2021-03-31T19:50:32.269077Z",
          "start_time": "2021-03-31T19:50:32.253066Z"
        },
        "id": "ZQPMrj3F4hkS"
      },
      "outputs": [],
      "source": [
        "puntos_t"
      ]
    },
    {
      "cell_type": "code",
      "execution_count": null,
      "metadata": {
        "id": "B15nZ0Cz4hkS"
      },
      "outputs": [],
      "source": [
        "# 3 indexadores\n",
        "# el primero elige solo punto_t1 y punto_t2.\n",
        "# el segundo elige todos los vértices.\n",
        "# el tercero elige todas las coordenadas de los vertices.\n",
        "puntos_t[1:3][:][:]"
      ]
    },
    {
      "cell_type": "code",
      "execution_count": null,
      "metadata": {
        "ExecuteTime": {
          "end_time": "2021-03-31T19:51:43.335550Z",
          "start_time": "2021-03-31T19:51:43.315551Z"
        },
        "id": "6uvnvpYu4hkS"
      },
      "outputs": [],
      "source": [
        "# La operación anterior podemos resumirla en un solo indexador\n",
        "puntos_t[1:3, :, :]"
      ]
    },
    {
      "cell_type": "markdown",
      "source": [
        "Responder que nos entregan los siguientes comandos "
      ],
      "metadata": {
        "id": "atjr092ejOWu"
      }
    },
    {
      "cell_type": "code",
      "source": [
        "puntos_t"
      ],
      "metadata": {
        "id": "B_I7uCLWjJy2"
      },
      "execution_count": null,
      "outputs": []
    },
    {
      "cell_type": "code",
      "execution_count": null,
      "metadata": {
        "id": "j9RbGX-Z4hkS"
      },
      "outputs": [],
      "source": [
        "# Podemos obtener de todos los tetraedros solo su primer vértice:\n",
        "puntos_t[:, 0:2, :]"
      ]
    },
    {
      "cell_type": "code",
      "execution_count": null,
      "metadata": {
        "id": "CeKnP0fG4hkS"
      },
      "outputs": [],
      "source": [
        "# Y solo la coordenada z de todos los vértices\n",
        "puntos_t[:, :, 2:3]"
      ]
    },
    {
      "cell_type": "markdown",
      "metadata": {
        "id": "MLxN0Lfw4hkS"
      },
      "source": [
        "> **Pregunta ❓**: ¿Qué obtenemos en este caso?\n"
      ]
    },
    {
      "cell_type": "code",
      "execution_count": null,
      "metadata": {
        "id": "8atBbllT4hkS"
      },
      "outputs": [],
      "source": [
        "puntos_t"
      ]
    },
    {
      "cell_type": "code",
      "execution_count": null,
      "metadata": {
        "ExecuteTime": {
          "end_time": "2021-03-31T19:52:41.578061Z",
          "start_time": "2021-03-31T19:52:41.559026Z"
        },
        "scrolled": true,
        "id": "XPZ3qCFZ4hkS"
      },
      "outputs": [],
      "source": [
        "puntos_t[0:3, 1:2, 0:1]"
      ]
    },
    {
      "cell_type": "markdown",
      "metadata": {
        "id": "5yMLYUXr4hkT"
      },
      "source": [
        "> **Pregunta ❓**: ¿Y en este otro?\n"
      ]
    },
    {
      "cell_type": "code",
      "execution_count": null,
      "metadata": {
        "ExecuteTime": {
          "end_time": "2021-03-31T19:53:48.272219Z",
          "start_time": "2021-03-31T19:53:48.261221Z"
        },
        "scrolled": true,
        "id": "wxGiIA3h4hkT"
      },
      "outputs": [],
      "source": [
        "puntos_t[:, 0:1, 0:2]"
      ]
    },
    {
      "cell_type": "markdown",
      "metadata": {
        "id": "SpHoUcKJ4hkT"
      },
      "source": [
        "### Operaciones básicas sobre arreglos\n",
        "\n",
        "\n",
        "#### Ordenar y Concatenar"
      ]
    },
    {
      "cell_type": "markdown",
      "metadata": {
        "id": "pRfF6_ul4hkT"
      },
      "source": [
        "##### `sort`\n",
        "\n",
        "Retorna una copia del arreglo original ordenado."
      ]
    },
    {
      "cell_type": "code",
      "execution_count": null,
      "metadata": {
        "ExecuteTime": {
          "end_time": "2021-03-31T19:56:18.936414Z",
          "start_time": "2021-03-31T19:56:18.918414Z"
        },
        "id": "RO6xKTp34hkT"
      },
      "outputs": [],
      "source": [
        "arr = np.array([2, 1, 5, 3, 7, 4, 6, 8])\n",
        "\n",
        "np.sort(arr)"
      ]
    },
    {
      "cell_type": "markdown",
      "metadata": {
        "id": "R2BqQ88K4hkT"
      },
      "source": [
        "##### `concatenate`\n",
        "\n",
        "Concatena arreglos (similar a la operación `+`)"
      ]
    },
    {
      "cell_type": "code",
      "execution_count": null,
      "metadata": {
        "ExecuteTime": {
          "end_time": "2021-03-31T19:56:41.527163Z",
          "start_time": "2021-03-31T19:56:41.508161Z"
        },
        "id": "-9QXz-vM4hkT"
      },
      "outputs": [],
      "source": [
        "a = np.array([1, 2, 3, 4])\n",
        "b = np.array([5, 6, 7, 8])\n",
        "\n",
        "np.concatenate((a, b))"
      ]
    },
    {
      "cell_type": "code",
      "execution_count": null,
      "metadata": {
        "ExecuteTime": {
          "end_time": "2021-03-31T19:57:05.983719Z",
          "start_time": "2021-03-31T19:57:05.978718Z"
        },
        "id": "uI7CmA_U4hkT"
      },
      "outputs": [],
      "source": [
        "x = np.array([[1, 2], \n",
        "              [3, 4]])\n",
        "\n",
        "y = np.array([[5, 6], \n",
        "              [3,2]])\n",
        "\n",
        "np.concatenate((x, y))"
      ]
    },
    {
      "cell_type": "markdown",
      "metadata": {
        "ExecuteTime": {
          "end_time": "2021-03-31T15:41:58.386116Z",
          "start_time": "2021-03-31T15:41:58.376638Z"
        },
        "id": "cQtUv_Iw4hkT"
      },
      "source": [
        "Se puede especificar la dimensión donde se desea concatenar"
      ]
    },
    {
      "cell_type": "code",
      "execution_count": null,
      "metadata": {
        "ExecuteTime": {
          "end_time": "2021-03-31T19:57:33.039395Z",
          "start_time": "2021-03-31T19:57:33.030394Z"
        },
        "id": "qyghpN_k4hkT"
      },
      "outputs": [],
      "source": [
        "x = np.array([[1, 2], \n",
        "              [3, 4]])\n",
        "\n",
        "z = np.array([[5, 6], \n",
        "              [7, 8]])\n",
        "\n",
        "np.concatenate((x, z), axis=0)  # idea: concatenar a las filas"
      ]
    },
    {
      "cell_type": "code",
      "execution_count": null,
      "metadata": {
        "ExecuteTime": {
          "end_time": "2021-03-31T19:58:03.361272Z",
          "start_time": "2021-03-31T19:58:03.317273Z"
        },
        "scrolled": true,
        "id": "TRqWNbcE4hkT"
      },
      "outputs": [],
      "source": [
        "np.concatenate((x, z), axis=1)  # idea: concatenar a las columnas"
      ]
    },
    {
      "cell_type": "markdown",
      "metadata": {
        "id": "8vXOzYT94hkT"
      },
      "source": [
        "#### Nota: Cómo leer documentación de python\n",
        "\n",
        "https://numpy.org/devdocs/reference/generated/numpy.concatenate.html#numpy.concatenate\n",
        "\n",
        "\n",
        "<img src=\"https://i.ibb.co/WtYgPPv/doc-1.jpg\" alt=\"Definición de la función\" width=600/>\n",
        "<img src=\"https://i.ibb.co/8NTNKZW/doc-2.jpg\" alt=\"Definición de la función\" width=600/>\n",
        "<img src=\"https://i.ibb.co/XbzGS1G/doc-3.jpg\" alt=\"Definición de la función\" width=600/>"
      ]
    },
    {
      "cell_type": "markdown",
      "metadata": {
        "id": "0yzzExbU4hkT"
      },
      "source": [
        "**Todo esto se encuentra en el docstring de la función!!!**"
      ]
    },
    {
      "cell_type": "code",
      "execution_count": null,
      "metadata": {
        "ExecuteTime": {
          "end_time": "2021-03-31T20:00:37.650382Z",
          "start_time": "2021-03-31T20:00:37.632384Z"
        },
        "id": "ktD6jRwY4hkT"
      },
      "outputs": [],
      "source": [
        "help(np.concatenate)"
      ]
    },
    {
      "cell_type": "markdown",
      "metadata": {
        "ExecuteTime": {
          "end_time": "2021-03-31T16:36:45.356085Z",
          "start_time": "2021-03-31T16:36:45.340502Z"
        },
        "id": "y-x4VoY54hkT"
      },
      "source": [
        "#### Operaciones aritméticas y lógicas\n",
        "\n",
        "Las operaciones aritméticas siempre operan elemento a elemento (**elementwise**)."
      ]
    },
    {
      "cell_type": "code",
      "execution_count": null,
      "metadata": {
        "ExecuteTime": {
          "end_time": "2021-03-31T20:01:37.037519Z",
          "start_time": "2021-03-31T20:01:37.020520Z"
        },
        "id": "H3yf_z234hkU"
      },
      "outputs": [],
      "source": [
        "a = np.array([20, 30, 40, 50])\n",
        "b = np.array([0, 1, 2, 3])"
      ]
    },
    {
      "cell_type": "code",
      "execution_count": null,
      "metadata": {
        "ExecuteTime": {
          "end_time": "2021-03-31T20:01:39.862519Z",
          "start_time": "2021-03-31T20:01:39.847522Z"
        },
        "id": "aYI5_fn14hkU"
      },
      "outputs": [],
      "source": [
        "a - b"
      ]
    },
    {
      "cell_type": "code",
      "execution_count": null,
      "metadata": {
        "ExecuteTime": {
          "end_time": "2021-03-31T20:01:47.153520Z",
          "start_time": "2021-03-31T20:01:47.142520Z"
        },
        "id": "zDT_XXzM4hkU"
      },
      "outputs": [],
      "source": [
        "a + b"
      ]
    },
    {
      "cell_type": "code",
      "execution_count": null,
      "metadata": {
        "ExecuteTime": {
          "end_time": "2021-03-31T20:01:51.141518Z",
          "start_time": "2021-03-31T20:01:51.131521Z"
        },
        "id": "vrOxPlUQ4hkU"
      },
      "outputs": [],
      "source": [
        "b ** 2"
      ]
    },
    {
      "cell_type": "code",
      "execution_count": null,
      "metadata": {
        "ExecuteTime": {
          "end_time": "2021-03-31T20:01:53.905519Z",
          "start_time": "2021-03-31T20:01:53.895521Z"
        },
        "id": "CisylkTH4hkU"
      },
      "outputs": [],
      "source": [
        "10 * b"
      ]
    },
    {
      "cell_type": "code",
      "execution_count": null,
      "metadata": {
        "ExecuteTime": {
          "end_time": "2021-03-31T20:02:25.006427Z",
          "start_time": "2021-03-31T20:02:24.996427Z"
        },
        "id": "AtmDyFbZ4hkU"
      },
      "outputs": [],
      "source": [
        "a * b"
      ]
    },
    {
      "cell_type": "code",
      "source": [
        "a"
      ],
      "metadata": {
        "id": "rRUZUwVA6ud-"
      },
      "execution_count": null,
      "outputs": []
    },
    {
      "cell_type": "code",
      "execution_count": null,
      "metadata": {
        "ExecuteTime": {
          "end_time": "2021-03-31T20:02:56.792025Z",
          "start_time": "2021-03-31T20:02:56.774027Z"
        },
        "id": "BY9Mw6Q34hkU"
      },
      "outputs": [],
      "source": [
        "a <= 20"
      ]
    },
    {
      "cell_type": "code",
      "execution_count": null,
      "metadata": {
        "ExecuteTime": {
          "end_time": "2021-03-31T20:03:17.377859Z",
          "start_time": "2021-03-31T20:03:17.363860Z"
        },
        "id": "A-xQ6aWg4hkU"
      },
      "outputs": [],
      "source": [
        "a > 20"
      ]
    },
    {
      "cell_type": "code",
      "execution_count": null,
      "metadata": {
        "ExecuteTime": {
          "end_time": "2021-03-31T20:03:50.741666Z",
          "start_time": "2021-03-31T20:03:50.724669Z"
        },
        "id": "_dAQi7Ed4hkU"
      },
      "outputs": [],
      "source": [
        "a < b"
      ]
    },
    {
      "cell_type": "code",
      "execution_count": null,
      "metadata": {
        "ExecuteTime": {
          "end_time": "2021-03-31T20:03:31.178003Z",
          "start_time": "2021-03-31T20:03:31.171004Z"
        },
        "scrolled": true,
        "id": "hUwZpBvE4hkU"
      },
      "outputs": [],
      "source": [
        "a == 20"
      ]
    },
    {
      "cell_type": "markdown",
      "metadata": {
        "ExecuteTime": {
          "end_time": "2021-03-31T16:39:12.400271Z",
          "start_time": "2021-03-31T16:39:12.384635Z"
        },
        "id": "9DopusTO4hkU"
      },
      "source": [
        "**Nota:** Para el caso del producto matricial, se ocupa `@`.\n",
        "\n"
      ]
    },
    {
      "cell_type": "markdown",
      "metadata": {
        "ExecuteTime": {
          "end_time": "2021-03-31T16:45:24.969756Z",
          "start_time": "2021-03-31T16:45:24.922910Z"
        },
        "id": "_BHLbH-94hkU"
      },
      "source": [
        "<img src=\"https://i.ibb.co/7SYmXvx/prod-matricial.jpg\" alt=\"Formula prod matricial\" style=\"width: 700px;\"/>"
      ]
    },
    {
      "cell_type": "code",
      "execution_count": null,
      "metadata": {
        "ExecuteTime": {
          "end_time": "2021-03-31T20:04:39.021057Z",
          "start_time": "2021-03-31T20:04:39.016020Z"
        },
        "id": "Z30AiZBd4hkU"
      },
      "outputs": [],
      "source": [
        "A = np.array([[1, 1],\n",
        "              [0, 1]])\n",
        "\n",
        "B = np.array([[2, 0],\n",
        "              [3, 4]])"
      ]
    },
    {
      "cell_type": "code",
      "execution_count": null,
      "metadata": {
        "ExecuteTime": {
          "end_time": "2021-03-31T19:06:18.368458Z",
          "start_time": "2021-03-31T19:06:18.352834Z"
        },
        "id": "aDeLLQEy4hkU"
      },
      "outputs": [],
      "source": [
        "A * B  # elementwise product"
      ]
    },
    {
      "cell_type": "code",
      "execution_count": null,
      "metadata": {
        "ExecuteTime": {
          "end_time": "2021-03-31T20:04:42.632337Z",
          "start_time": "2021-03-31T20:04:42.625336Z"
        },
        "id": "df24oelE4hkV"
      },
      "outputs": [],
      "source": [
        "A @ B  # producto punto"
      ]
    },
    {
      "cell_type": "code",
      "execution_count": null,
      "metadata": {
        "ExecuteTime": {
          "end_time": "2021-03-31T20:04:47.938655Z",
          "start_time": "2021-03-31T20:04:47.922657Z"
        },
        "id": "z10liEWy4hkV"
      },
      "outputs": [],
      "source": [
        "A.dot(B)  # another matrix product"
      ]
    },
    {
      "cell_type": "markdown",
      "metadata": {
        "id": "TM2GUPRI4hkV"
      },
      "source": [
        "#### Operaciones sobre los elementos"
      ]
    },
    {
      "cell_type": "code",
      "execution_count": null,
      "metadata": {
        "id": "0Ughzew64hkV"
      },
      "outputs": [],
      "source": [
        "np.arange(0, 15, 1)"
      ]
    },
    {
      "cell_type": "code",
      "execution_count": null,
      "metadata": {
        "ExecuteTime": {
          "end_time": "2021-03-31T20:04:57.652357Z",
          "start_time": "2021-03-31T20:04:57.644359Z"
        },
        "id": "u44st8uN4hkV"
      },
      "outputs": [],
      "source": [
        "a = np.arange(0, 15, 1).reshape(3, 5)\n",
        "a"
      ]
    },
    {
      "cell_type": "code",
      "execution_count": null,
      "metadata": {
        "id": "P5YlTSGZ4hkV"
      },
      "outputs": [],
      "source": [
        "a = np.arange(0, 15, 1).reshape(-1, 5)\n",
        "a"
      ]
    },
    {
      "cell_type": "code",
      "execution_count": null,
      "metadata": {
        "ExecuteTime": {
          "end_time": "2021-03-31T20:05:32.620288Z",
          "start_time": "2021-03-31T20:05:32.602290Z"
        },
        "id": "zYE-pHlG4hkV"
      },
      "outputs": [],
      "source": [
        "a.sum()"
      ]
    },
    {
      "cell_type": "code",
      "execution_count": null,
      "metadata": {
        "ExecuteTime": {
          "end_time": "2021-03-31T20:05:49.513254Z",
          "start_time": "2021-03-31T20:05:49.498251Z"
        },
        "id": "c97jpMYM4hkV"
      },
      "outputs": [],
      "source": [
        "a.sum(axis=0)"
      ]
    },
    {
      "cell_type": "code",
      "execution_count": null,
      "metadata": {
        "ExecuteTime": {
          "end_time": "2021-03-31T20:06:02.477934Z",
          "start_time": "2021-03-31T20:06:02.457936Z"
        },
        "id": "tOj8He_h4hkV"
      },
      "outputs": [],
      "source": [
        "a.sum(axis=1)"
      ]
    },
    {
      "cell_type": "code",
      "execution_count": null,
      "metadata": {
        "ExecuteTime": {
          "end_time": "2021-03-31T20:06:19.293098Z",
          "start_time": "2021-03-31T20:06:19.289067Z"
        },
        "id": "yjPdfn4h4hkV"
      },
      "outputs": [],
      "source": [
        "a.min()"
      ]
    },
    {
      "cell_type": "code",
      "execution_count": null,
      "metadata": {
        "id": "7UWAQR5g4hkV"
      },
      "outputs": [],
      "source": [
        "a.min(axis=0)"
      ]
    },
    {
      "cell_type": "code",
      "execution_count": null,
      "metadata": {
        "ExecuteTime": {
          "end_time": "2021-03-31T20:06:22.387130Z",
          "start_time": "2021-03-31T20:06:22.368132Z"
        },
        "id": "g6jAI-Gw4hkV"
      },
      "outputs": [],
      "source": [
        "a.max()"
      ]
    },
    {
      "cell_type": "code",
      "execution_count": null,
      "metadata": {
        "ExecuteTime": {
          "end_time": "2021-03-31T19:06:18.515634Z",
          "start_time": "2021-03-31T19:06:18.499978Z"
        },
        "id": "jabnZkXG4hkV"
      },
      "outputs": [],
      "source": [
        "a.max(axis=1)"
      ]
    },
    {
      "cell_type": "markdown",
      "metadata": {
        "id": "EiNFS8qB4hkV"
      },
      "source": [
        "> **Pregunta ❓**: ¿Qué sucede cuando hay más de 2 dimensiones?"
      ]
    },
    {
      "cell_type": "code",
      "execution_count": null,
      "metadata": {
        "ExecuteTime": {
          "end_time": "2021-03-31T20:06:43.635522Z",
          "start_time": "2021-03-31T20:06:43.616522Z"
        },
        "id": "gioQgj974hkV"
      },
      "outputs": [],
      "source": [
        "puntos_t"
      ]
    },
    {
      "cell_type": "code",
      "execution_count": null,
      "metadata": {
        "ExecuteTime": {
          "end_time": "2021-03-31T20:07:12.449722Z",
          "start_time": "2021-03-31T20:07:12.445658Z"
        },
        "scrolled": true,
        "tags": [],
        "id": "0gnv-ZR14hkV"
      },
      "outputs": [],
      "source": [
        "# Idea: máximo sobre los vértices y los tetraedros que cambian en el tiempo\n",
        "# entrega el tetraedro más grande.\n",
        "\n",
        "m_a0 = puntos_t.max(axis=0, keepdims=True)\n",
        "print(m_a0.shape)\n",
        "print(m_a0)"
      ]
    },
    {
      "cell_type": "code",
      "execution_count": null,
      "metadata": {
        "ExecuteTime": {
          "end_time": "2021-03-31T20:08:15.830419Z",
          "start_time": "2021-03-31T20:08:15.812420Z"
        },
        "id": "hX3POGtN4hkV"
      },
      "outputs": [],
      "source": [
        "# Idea: máximo sobre el tiempo y sobre las coordenadas en particular\n",
        "# entrega el conjunto de coordenadas máximas por cada tetraedro\n",
        "m_a1 = puntos_t.max(axis=1, keepdims=True)\n",
        "print(m_a1.shape)\n",
        "print(m_a1)"
      ]
    },
    {
      "cell_type": "code",
      "execution_count": null,
      "metadata": {
        "ExecuteTime": {
          "end_time": "2021-03-31T20:08:19.636336Z",
          "start_time": "2021-03-31T20:08:19.631335Z"
        },
        "id": "0p-ZHmjA4hkW"
      },
      "outputs": [],
      "source": [
        "# Idea: máximo sobre el tiempo y el máximo de cada punto\n",
        "# entrega la coordenada máxima de cada vértice para todos los tetraedros en el tiempo\n",
        "\n",
        "m_a2 = puntos_t.max(axis=2, keepdims=True)\n",
        "print(m_a2.shape)\n",
        "print(m_a2)"
      ]
    },
    {
      "cell_type": "markdown",
      "metadata": {
        "id": "BxPE7caj4hkW"
      },
      "source": [
        "### Funciones Universales\n",
        "\n",
        "Operaciones elemento a elemento aplicadas a arreglos.\n",
        "\n",
        "Ejemplo:`sen, cos, exp, sqrt, log, etc...`"
      ]
    },
    {
      "cell_type": "code",
      "execution_count": null,
      "metadata": {
        "ExecuteTime": {
          "end_time": "2021-03-31T20:08:56.565077Z",
          "start_time": "2021-03-31T20:08:56.558077Z"
        },
        "id": "GrNhWxI14hkW"
      },
      "outputs": [],
      "source": [
        "B = np.arange(1, 5, 1)\n",
        "B"
      ]
    },
    {
      "cell_type": "code",
      "execution_count": null,
      "metadata": {
        "ExecuteTime": {
          "end_time": "2021-03-31T20:08:58.241091Z",
          "start_time": "2021-03-31T20:08:58.235076Z"
        },
        "id": "jsAJLHHW4hkW"
      },
      "outputs": [],
      "source": [
        "np.exp(B)"
      ]
    },
    {
      "cell_type": "code",
      "execution_count": null,
      "metadata": {
        "ExecuteTime": {
          "end_time": "2021-03-31T20:08:59.540077Z",
          "start_time": "2021-03-31T20:08:59.529077Z"
        },
        "id": "JbZrzO_-4hkW"
      },
      "outputs": [],
      "source": [
        "np.sqrt(B)"
      ]
    },
    {
      "cell_type": "code",
      "execution_count": null,
      "metadata": {
        "id": "YW5PuMG14hkW"
      },
      "outputs": [],
      "source": [
        "np.cos(B)"
      ]
    },
    {
      "cell_type": "code",
      "execution_count": null,
      "metadata": {
        "id": "g0Il1ocR4hkW"
      },
      "outputs": [],
      "source": [
        "np.tanh(B)"
      ]
    },
    {
      "cell_type": "markdown",
      "metadata": {
        "id": "PPFXnx2Y4hkW"
      },
      "source": [
        "### Reshape"
      ]
    },
    {
      "cell_type": "markdown",
      "metadata": {
        "id": "HxNfmbA-4hkW"
      },
      "source": [
        "Usando la función `reshape()` podemos darle un nuevo `shape` sin la necesidad de cambiar los datos.\n",
        "Lo importante es que el nuevo arreglo tenga la misma cantidad de elemento que la antigua.\n"
      ]
    },
    {
      "cell_type": "code",
      "execution_count": null,
      "metadata": {
        "ExecuteTime": {
          "end_time": "2021-03-31T20:09:28.790894Z",
          "start_time": "2021-03-31T20:09:28.772896Z"
        },
        "id": "2jLdFGxM4hkW"
      },
      "outputs": [],
      "source": [
        "a = np.arange(6)\n",
        "a"
      ]
    },
    {
      "cell_type": "code",
      "execution_count": null,
      "metadata": {
        "ExecuteTime": {
          "end_time": "2021-03-31T20:09:36.044622Z",
          "start_time": "2021-03-31T20:09:36.038624Z"
        },
        "id": "1xKdKP_C4hkW"
      },
      "outputs": [],
      "source": [
        "b = a.reshape(3, 2)\n",
        "b"
      ]
    },
    {
      "cell_type": "code",
      "execution_count": null,
      "metadata": {
        "ExecuteTime": {
          "end_time": "2021-03-31T20:09:45.202623Z",
          "start_time": "2021-03-31T20:09:45.195628Z"
        },
        "scrolled": true,
        "id": "YqcRRFxG4hkW"
      },
      "outputs": [],
      "source": [
        "c = a.reshape(1, 3, 2)  # Agregamos un nuevo axis.\n",
        "c"
      ]
    },
    {
      "cell_type": "markdown",
      "metadata": {
        "id": "KKNpp-Vl4hkW"
      },
      "source": [
        "También podemos agregar nuevos axis usando `np.newaxis`"
      ]
    },
    {
      "cell_type": "code",
      "execution_count": null,
      "metadata": {
        "ExecuteTime": {
          "end_time": "2021-03-31T20:09:57.969569Z",
          "start_time": "2021-03-31T20:09:57.959568Z"
        },
        "id": "H8VDM1MX4hkW"
      },
      "outputs": [],
      "source": [
        "a = np.array([1, 2, 3, 4, 5, 6])\n",
        "\n",
        "a.shape"
      ]
    },
    {
      "cell_type": "code",
      "execution_count": null,
      "metadata": {
        "ExecuteTime": {
          "end_time": "2021-03-31T20:10:03.613103Z",
          "start_time": "2021-03-31T20:10:03.596105Z"
        },
        "id": "SomO3DKS4hkW"
      },
      "outputs": [],
      "source": [
        "a2 = a[np.newaxis, :]\n",
        "\n",
        "a2.shape"
      ]
    },
    {
      "cell_type": "code",
      "execution_count": null,
      "metadata": {
        "ExecuteTime": {
          "end_time": "2021-03-31T20:10:14.698574Z",
          "start_time": "2021-03-31T20:10:14.691572Z"
        },
        "id": "Nv9kC0eX4hkW"
      },
      "outputs": [],
      "source": [
        "a2"
      ]
    },
    {
      "cell_type": "markdown",
      "metadata": {
        "id": "MMNBQy3D4hkW"
      },
      "source": [
        "Y con `expand_dims`."
      ]
    },
    {
      "cell_type": "code",
      "execution_count": null,
      "metadata": {
        "ExecuteTime": {
          "end_time": "2021-03-31T20:10:32.519770Z",
          "start_time": "2021-03-31T20:10:32.515771Z"
        },
        "scrolled": true,
        "id": "8zo6eUn94hkX"
      },
      "outputs": [],
      "source": [
        "b = np.expand_dims(a, axis=0)\n",
        "b.shape"
      ]
    },
    {
      "cell_type": "code",
      "execution_count": null,
      "metadata": {
        "ExecuteTime": {
          "end_time": "2021-03-31T20:10:42.115647Z",
          "start_time": "2021-03-31T20:10:42.110647Z"
        },
        "id": "l8V1O8_64hkX"
      },
      "outputs": [],
      "source": [
        "b"
      ]
    },
    {
      "cell_type": "code",
      "execution_count": null,
      "metadata": {
        "ExecuteTime": {
          "end_time": "2021-03-31T20:10:47.281925Z",
          "start_time": "2021-03-31T20:10:47.276926Z"
        },
        "id": "F-IZFLoP4hkX"
      },
      "outputs": [],
      "source": [
        "c = np.expand_dims(a, axis=1)\n",
        "c.shape"
      ]
    },
    {
      "cell_type": "code",
      "execution_count": null,
      "metadata": {
        "ExecuteTime": {
          "end_time": "2021-03-31T20:10:49.835980Z",
          "start_time": "2021-03-31T20:10:49.823970Z"
        },
        "id": "O-yY5qbq4hkX"
      },
      "outputs": [],
      "source": [
        "c"
      ]
    },
    {
      "cell_type": "markdown",
      "metadata": {
        "id": "jE-deBZp4hkX"
      },
      "source": [
        "En cuanto a las **funcionalidades básicas de álgebra lineal**, se encuentra la inversa una matriz:"
      ]
    },
    {
      "cell_type": "code",
      "execution_count": null,
      "metadata": {
        "ExecuteTime": {
          "end_time": "2021-03-31T19:06:18.869841Z",
          "start_time": "2021-03-31T19:06:18.854219Z"
        },
        "id": "g6YOm-Mm4hkX"
      },
      "outputs": [],
      "source": [
        "A = np.array([[1, -2, 2, 2], [0, 4, -2, 1], [1, -2, 4, 0], [1, -1, 2, 2]])\n",
        "A_inv = np.linalg.inv(A)\n",
        "\n",
        "print(\"A:\\n\", A, \"\\n\")\n",
        "print(\"Inversa de A:\\n\", A_inv)"
      ]
    },
    {
      "cell_type": "markdown",
      "metadata": {
        "id": "ieIcXwpe4hkX"
      },
      "source": [
        "La matriz identidad"
      ]
    },
    {
      "cell_type": "code",
      "execution_count": null,
      "metadata": {
        "ExecuteTime": {
          "end_time": "2021-03-31T19:06:18.901092Z",
          "start_time": "2021-03-31T19:06:18.869841Z"
        },
        "id": "B7_RTAgm4hkX"
      },
      "outputs": [],
      "source": [
        "# Identidad matricial\n",
        "\n",
        "I1 = np.matmul(A, A_inv)\n",
        "I2 = np.eye(4)  # Matriz identidad de dimension 4x4\n",
        "\n",
        "print(\"I1:\\n\", I1, \"\\n\")\n",
        "print(\"I2:\\n\", I2)"
      ]
    },
    {
      "cell_type": "markdown",
      "metadata": {
        "id": "1n_IrMzM4hkX"
      },
      "source": [
        "### Stacks\n",
        "\n",
        "\n",
        "Vertical stack: Se posiciona el arreglo de la izquierda por \n",
        "sobre el derecho. \n",
        "\n"
      ]
    },
    {
      "cell_type": "code",
      "execution_count": null,
      "metadata": {
        "ExecuteTime": {
          "end_time": "2021-03-31T19:06:18.916718Z",
          "start_time": "2021-03-31T19:06:18.901092Z"
        },
        "id": "Qb89a7mL4hkX"
      },
      "outputs": [],
      "source": [
        "X = np.array([1, 2, 3])\n",
        "Y = np.ones_like(X)\n",
        "\n",
        "np.vstack([X, Y])"
      ]
    },
    {
      "cell_type": "markdown",
      "metadata": {
        "id": "S0O9hH1l4hkX"
      },
      "source": [
        "Usando esto podemos acomodar nuevos valores para, por ejemplo, aplicar regresión lineal."
      ]
    },
    {
      "cell_type": "code",
      "execution_count": null,
      "metadata": {
        "ExecuteTime": {
          "end_time": "2021-03-31T19:06:18.938861Z",
          "start_time": "2021-03-31T19:06:18.916718Z"
        },
        "id": "SFCREvYH4hkX"
      },
      "outputs": [],
      "source": [
        "Z = np.vstack([X,Y])\n",
        "Z"
      ]
    },
    {
      "cell_type": "code",
      "source": [
        "Z.T"
      ],
      "metadata": {
        "id": "aUMsSD5D8Xnm"
      },
      "execution_count": null,
      "outputs": []
    },
    {
      "cell_type": "markdown",
      "metadata": {
        "id": "Q8EpEG-P4hkX"
      },
      "source": [
        "por otra parte `.hstack()`, que opera de manera similar a `.vstack()` pero de manera horizontal."
      ]
    },
    {
      "cell_type": "code",
      "execution_count": null,
      "metadata": {
        "ExecuteTime": {
          "end_time": "2021-03-31T19:06:18.954488Z",
          "start_time": "2021-03-31T19:06:18.938861Z"
        },
        "id": "gtoMalp14hkX"
      },
      "outputs": [],
      "source": [
        "Z = np.hstack([X,Y])\n",
        "Z"
      ]
    },
    {
      "cell_type": "markdown",
      "metadata": {
        "id": "fbIQ0yNF4hkX"
      },
      "source": [
        "###  Queries\n",
        "\n",
        "Selección de datos por medio de consultas, en este caso lógicas."
      ]
    },
    {
      "cell_type": "code",
      "execution_count": null,
      "metadata": {
        "id": "nRza8VKt4hkX"
      },
      "outputs": [],
      "source": [
        "a = np.array([[1, 2, 3, 4], \n",
        "              [5, 6, 7, 8], \n",
        "              [9, 10, 11, 12]])"
      ]
    },
    {
      "cell_type": "code",
      "execution_count": null,
      "metadata": {
        "id": "9Ha_hs3L4hkX"
      },
      "outputs": [],
      "source": [
        "a > 3"
      ]
    },
    {
      "cell_type": "code",
      "execution_count": null,
      "metadata": {
        "ExecuteTime": {
          "end_time": "2021-03-31T19:06:18.985738Z",
          "start_time": "2021-03-31T19:06:18.970115Z"
        },
        "scrolled": true,
        "id": "BiyPVQ6-4hkX"
      },
      "outputs": [],
      "source": [
        "mayor3 = a[a > 3]\n",
        "mayor3"
      ]
    },
    {
      "cell_type": "markdown",
      "metadata": {
        "id": "gY1OTFuU4hkY"
      },
      "source": [
        "### Vistas y Copias"
      ]
    },
    {
      "cell_type": "markdown",
      "metadata": {
        "id": "Qdx2V6mQ4hkY"
      },
      "source": [
        "Recuerden que los nombres son referencias!"
      ]
    },
    {
      "cell_type": "code",
      "execution_count": null,
      "metadata": {
        "ExecuteTime": {
          "end_time": "2021-03-31T20:11:52.773279Z",
          "start_time": "2021-03-31T20:11:52.763281Z"
        },
        "id": "EHPoKAvU4hkY"
      },
      "outputs": [],
      "source": [
        "a = np.array([[0, 1, 2, 3], \n",
        "              [4, 5, 6, 7], \n",
        "              [8, 9, 10, 11]])\n",
        "\n",
        "b = a  \n",
        "b is a"
      ]
    },
    {
      "cell_type": "code",
      "execution_count": null,
      "metadata": {
        "ExecuteTime": {
          "end_time": "2021-03-31T20:11:59.736477Z",
          "start_time": "2021-03-31T20:11:59.725477Z"
        },
        "id": "62V_H8tD4hkY"
      },
      "outputs": [],
      "source": [
        "b[0,0] = 999\n",
        "a"
      ]
    },
    {
      "cell_type": "markdown",
      "metadata": {
        "id": "oVMEqpxv4hkY"
      },
      "source": [
        "**View**\n",
        "\n",
        "View crea un nuevo arreglo con los mismos datos, pero no le pertenecen"
      ]
    },
    {
      "cell_type": "code",
      "execution_count": null,
      "metadata": {
        "ExecuteTime": {
          "end_time": "2021-03-31T19:06:19.039138Z",
          "start_time": "2021-03-31T19:06:19.016994Z"
        },
        "id": "GjFvu9uh4hkY"
      },
      "outputs": [],
      "source": [
        "a = np.array([[0, 1, 2, 3], \n",
        "              [4, 5, 6, 7], \n",
        "              [8, 9, 10, 11]])\n",
        "\n",
        "c = a.view()\n",
        "\n",
        "c is a        "
      ]
    },
    {
      "cell_type": "code",
      "execution_count": null,
      "metadata": {
        "ExecuteTime": {
          "end_time": "2021-03-31T19:06:19.054764Z",
          "start_time": "2021-03-31T19:06:19.039138Z"
        },
        "id": "UHfRkApy4hkY"
      },
      "outputs": [],
      "source": [
        "c.base is a     "
      ]
    },
    {
      "cell_type": "code",
      "execution_count": null,
      "metadata": {
        "ExecuteTime": {
          "end_time": "2021-03-31T19:06:19.086013Z",
          "start_time": "2021-03-31T19:06:19.070390Z"
        },
        "id": "E1huR4yl4hkY"
      },
      "outputs": [],
      "source": [
        "c[0,0] = 1234         \n",
        "a"
      ]
    },
    {
      "cell_type": "markdown",
      "metadata": {
        "id": "KibCChMs4hkY"
      },
      "source": [
        "**Copy**"
      ]
    },
    {
      "cell_type": "code",
      "execution_count": null,
      "metadata": {
        "ExecuteTime": {
          "end_time": "2021-03-31T20:12:31.395527Z",
          "start_time": "2021-03-31T20:12:31.386529Z"
        },
        "id": "gWVCLltZ4hkY"
      },
      "outputs": [],
      "source": [
        "a = np.array([[0, 1, 2, 3], \n",
        "              [4, 5, 6, 7], \n",
        "              [8, 9, 10, 11]])\n",
        "\n",
        "d = a.copy()         "
      ]
    },
    {
      "cell_type": "code",
      "execution_count": null,
      "metadata": {
        "ExecuteTime": {
          "end_time": "2021-03-31T20:12:33.985689Z",
          "start_time": "2021-03-31T20:12:33.965689Z"
        },
        "id": "hNoD8Fky4hkY"
      },
      "outputs": [],
      "source": [
        "d is a "
      ]
    },
    {
      "cell_type": "code",
      "execution_count": null,
      "metadata": {
        "ExecuteTime": {
          "end_time": "2021-03-31T20:12:45.854429Z",
          "start_time": "2021-03-31T20:12:45.835429Z"
        },
        "id": "QX4YZJ5h4hkY"
      },
      "outputs": [],
      "source": [
        "d[0,0] = 999\n",
        "d"
      ]
    },
    {
      "cell_type": "code",
      "execution_count": null,
      "metadata": {
        "ExecuteTime": {
          "end_time": "2021-03-31T20:12:49.834057Z",
          "start_time": "2021-03-31T20:12:49.824057Z"
        },
        "id": "rmQqhcI04hkY"
      },
      "outputs": [],
      "source": [
        "a"
      ]
    },
    {
      "cell_type": "markdown",
      "source": [
        "## **Broadcasting**"
      ],
      "metadata": {
        "id": "R6wC324yPsWm"
      }
    },
    {
      "cell_type": "markdown",
      "source": [
        "El Broadcasting es como numpy trata las operaciones entre arreglos con diferentes tamaños, como por ejemplo, un escalar por una matriz. Supongamos que queremos multiplicar los elementos de un arreglo por dos, tenemos estas opciones:"
      ],
      "metadata": {
        "id": "qTIsNhbwQh-1"
      }
    },
    {
      "cell_type": "code",
      "source": [
        "a = np.array([1.0, 2.0, 3.0])"
      ],
      "metadata": {
        "id": "XW1ctZbw-B1t"
      },
      "execution_count": null,
      "outputs": []
    },
    {
      "cell_type": "code",
      "source": [
        "b = np.array([2.0, 2.0, 2.0])\n",
        "a * b"
      ],
      "metadata": {
        "id": "JFKNHWzhQlbQ"
      },
      "execution_count": null,
      "outputs": []
    },
    {
      "cell_type": "code",
      "source": [
        "a*2"
      ],
      "metadata": {
        "id": "WJ3t2QgdQ67Q"
      },
      "execution_count": null,
      "outputs": []
    },
    {
      "cell_type": "markdown",
      "source": [
        "Si bien hicimos la misma operación, estas se diferencian en que en la primera operación hicimos un arreglo del mismo tamaño para multiplicar elemento a elemento y en la segunda ocupamos el escalar directamente. \n",
        "\n",
        "Ahora imagínense un arreglo de miles de millones de elementos y tener que multiplicarlos por dos de la primera forma. Obviamente la segúnda forma será mas eficiente y esto es lo que numpy implementa eficientemente a través del *broadcasting*."
      ],
      "metadata": {
        "id": "KtNR9cPHQqqG"
      }
    },
    {
      "cell_type": "markdown",
      "source": [
        "![Broadcasting en el ejemplo anterior](https://i.ibb.co/7vhq1Mg/boradcasting-1.gif)"
      ],
      "metadata": {
        "id": "AI23dXHYRCUI"
      }
    },
    {
      "cell_type": "markdown",
      "source": [
        "El broadcasting no se limita solo a escalares, si no también que podemos usarlos con arreglos. A continuación, un ejemplo de aquello:"
      ],
      "metadata": {
        "id": "v31VjX0GREk_"
      }
    },
    {
      "cell_type": "markdown",
      "source": [
        "![Broadcasting en el ejemplo anterior](https://i.ibb.co/G7xwWnx/boradcasting-2.gif)"
      ],
      "metadata": {
        "id": "n7al9y6gRGt8"
      }
    },
    {
      "cell_type": "markdown",
      "source": [
        "En este ejemplo, un caso en donde el broadcasting no funciona, ya que no calzan las dimensiones:"
      ],
      "metadata": {
        "id": "mxXm5dpWRI4A"
      }
    },
    {
      "cell_type": "markdown",
      "source": [
        "![Broadcasting en el ejemplo anterior](https://i.ibb.co/52kT9Rq/boradcasting-3.gif)"
      ],
      "metadata": {
        "id": "0qDP7NkhRLD8"
      }
    },
    {
      "cell_type": "code",
      "source": [
        "a = np.ones((4,3))\n",
        "a"
      ],
      "metadata": {
        "id": "N5b1IHZuRs9V"
      },
      "execution_count": null,
      "outputs": []
    },
    {
      "cell_type": "code",
      "source": [
        "a * 10"
      ],
      "metadata": {
        "id": "F2m1dKaZRvRg"
      },
      "execution_count": null,
      "outputs": []
    },
    {
      "cell_type": "code",
      "source": [
        "a * [10]"
      ],
      "metadata": {
        "id": "gOCTo1faRvnu"
      },
      "execution_count": null,
      "outputs": []
    },
    {
      "cell_type": "code",
      "source": [
        "a * [10, 20, 30]"
      ],
      "metadata": {
        "id": "ekSaONoSRyMB"
      },
      "execution_count": null,
      "outputs": []
    },
    {
      "cell_type": "code",
      "source": [
        "a"
      ],
      "metadata": {
        "id": "P5UmfnSOR6s_"
      },
      "execution_count": null,
      "outputs": []
    },
    {
      "cell_type": "code",
      "source": [
        "b = np.ones(4)\n",
        "b"
      ],
      "metadata": {
        "id": "YWGi4uvfR1Rg"
      },
      "execution_count": null,
      "outputs": []
    },
    {
      "cell_type": "code",
      "source": [
        "a+b"
      ],
      "metadata": {
        "id": "Ia2-CpROTC7q"
      },
      "execution_count": null,
      "outputs": []
    },
    {
      "cell_type": "code",
      "source": [
        "b[:, np.newaxis]"
      ],
      "metadata": {
        "id": "GrZJU7EoJ17O"
      },
      "execution_count": null,
      "outputs": []
    },
    {
      "cell_type": "code",
      "source": [
        "# a (4,3), b (4,1)\n",
        "a+b[:, np.newaxis]"
      ],
      "metadata": {
        "id": "l4BlGxT8R3Wf"
      },
      "execution_count": null,
      "outputs": []
    },
    {
      "cell_type": "code",
      "source": [
        "b[:, np.newaxis].shape"
      ],
      "metadata": {
        "id": "zM2SEeJiWIfU"
      },
      "execution_count": null,
      "outputs": []
    },
    {
      "cell_type": "markdown",
      "source": [
        "Más info el siguiente [link](https://numpy.org/doc/stable/user/basics.broadcasting.html)"
      ],
      "metadata": {
        "id": "S3wBfgJGUFNa"
      }
    }
  ],
  "metadata": {
    "kernelspec": {
      "display_name": "Python 3 (ipykernel)",
      "language": "python",
      "name": "python3"
    },
    "language_info": {
      "codemirror_mode": {
        "name": "ipython",
        "version": 3
      },
      "file_extension": ".py",
      "mimetype": "text/x-python",
      "name": "python",
      "nbconvert_exporter": "python",
      "pygments_lexer": "ipython3",
      "version": "3.9.7"
    },
    "nbTranslate": {
      "displayLangs": [
        "es",
        "en"
      ],
      "hotkey": "alt-t",
      "langInMainMenu": true,
      "sourceLang": "en",
      "targetLang": "es",
      "useGoogleTranslate": true
    },
    "toc": {
      "base_numbering": 1,
      "nav_menu": {},
      "number_sections": true,
      "sideBar": true,
      "skip_h1_title": false,
      "title_cell": "Table of Contents",
      "title_sidebar": "Contents",
      "toc_cell": false,
      "toc_position": {
        "height": "calc(100% - 180px)",
        "left": "10px",
        "top": "150px",
        "width": "294.4px"
      },
      "toc_section_display": true,
      "toc_window_display": true
    },
    "varInspector": {
      "cols": {
        "lenName": 16,
        "lenType": 16,
        "lenVar": 40
      },
      "kernels_config": {
        "python": {
          "delete_cmd_postfix": "",
          "delete_cmd_prefix": "del ",
          "library": "var_list.py",
          "varRefreshCmd": "print(var_dic_list())"
        },
        "r": {
          "delete_cmd_postfix": ") ",
          "delete_cmd_prefix": "rm(",
          "library": "var_list.r",
          "varRefreshCmd": "cat(var_dic_list()) "
        }
      },
      "types_to_exclude": [
        "module",
        "function",
        "builtin_function_or_method",
        "instance",
        "_Feature"
      ],
      "window_display": false
    },
    "colab": {
      "name": "MDS7202_Clase_6_Numpy.ipynb",
      "provenance": [],
      "collapsed_sections": [
        "aDrxVp-v4hkP"
      ]
    }
  },
  "nbformat": 4,
  "nbformat_minor": 0
}