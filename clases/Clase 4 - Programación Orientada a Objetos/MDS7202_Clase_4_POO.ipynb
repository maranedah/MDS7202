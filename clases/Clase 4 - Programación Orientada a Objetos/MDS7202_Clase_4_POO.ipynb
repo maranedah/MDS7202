{
  "cells": [
    {
      "cell_type": "markdown",
      "metadata": {
        "id": "SCLOaVhxXio2"
      },
      "source": [
        "# Clase 4: Programación Orientada a Objetos 💻\n",
        "\n",
        "**MDS7202: Laboratorio de Programación Científica para Ciencia de Datos**\n",
        "\n",
        "**Profesor: Matías Rojas**\n",
        "\n",
        "\n",
        "## Objetivos de la Clase 📕\n",
        "\n",
        "El objetivo de esta clase es comprender los fundamentos de la programación orientada a objetos (POO). En particular, buscaremos responder las siguientes preguntas:\n",
        "\n",
        "- ¿Qué son los paradigmas de programación?\n",
        "- ¿Qué son las clases, objetos, instancias, atributos y métodos?\n",
        "- ¿Cuáles son los principios básicos de la programación orientada a objetos?\n",
        "\n",
        "\n"
      ]
    },
    {
      "cell_type": "markdown",
      "metadata": {
        "id": "jaEc-y_9Xio5"
      },
      "source": [
        "## Paradigmas de Programación \n",
        "\n",
        "Una forma usual de clasificar lenguajes de programación es por medio de su **paradigma principal**.\n",
        "\n",
        "> Según la RAE, un paradigma es una *Teoría o conjunto de teorías cuyo núcleo central se acepta sin cuestionar y que suministra la base y modelo para resolver problemas y avanzar en el conocimiento.*\n",
        "\n",
        "\n",
        "![wtf](https://i.kym-cdn.com/entries/icons/original/000/018/489/nick-young-confused-face-300x256-nqlyaa.jpg)\n",
        "\n",
        "\n",
        "\n",
        "En palabras simples, un paradigma de programación puede ser definido como una manera o estilo de programación que está directamente relacionado con la sintaxis del lenguaje. Otra definición sería un conjunto de métodos sistemáticos aplicables en todos los niveles del diseño de programas para resolver problemas computacionales.\n",
        "\n",
        "Los paradigmas de programación principales son:\n",
        "\n",
        "* Imperativo: Se definen en el código, paso a paso, cada una de las instrucciones que se deben ejecutar en un programa.  \n",
        "  * Orientado a objetos: Todos los elementos de un programa son tratados como un objeto que cuenta con sus propios atributos y métodos.\n",
        "  * Procedural: Se divide el código en partes más pequeñas y manejables llamadas procedimientos o funciones. \n",
        "\n",
        "* Declarativo: Este paradigma no necesita definir algoritmos puesto que describe el problema en lugar de encontrar una solución al mismo. Se describe el resultado final que se busca, siendo más importante lo que se persigue que cómo se consigue. La programación declarativa tiene un alto grado de abstracción lo que hace que su código sea más difícil de comprender.\n",
        "  * Funcional: El código de los programas funcionales está dividido en una serie de funciones, que reciben datos, operan con ellos y devuelven un valor de salida.\n",
        "  * Lógico: Este tipo de programas aplica las reglas de la lógica matemática para ir resolviendo los problemas a los que se enfrenta.\n",
        "\n",
        "Python tiene en menos medida programación funcional\n",
        "\n",
        "\n",
        "En esta sección, estudiaremos las características de Python, que permiten implementar técnicas del paradigma orientado a objetos. "
      ]
    },
    {
      "cell_type": "markdown",
      "metadata": {
        "id": "AvhHAJqqXio6"
      },
      "source": [
        "> **Ejercicio ✏️**: Busque información y defina (con sus propias palabras) todos los paradigmas de programación que existen e indique con algún ejemplo cuáles de estos paradigmas están presentes en Python. "
      ]
    },
    {
      "cell_type": "markdown",
      "metadata": {
        "id": "2PgoIbruXio6"
      },
      "source": [
        "---\n",
        "\n",
        "## Programación Orientada a Objetos\n",
        "\n",
        "El paradigma de **programación orientado a objetos** (POO / OOP) permite estructurar programas, de manera tal que es posible **asociar acciones (métodos) y propiedades (atributos) a entidades llamadas objetos**. Las relaciones entre objetos encargados de procesar tareas de diversa índole permiten estructurar ordenadamente el programa y obtener de manera mas sencilla los resultados buscados. \n",
        "\n",
        "\n",
        "Por ejemplo, un *objeto* puede representar a una persona. En este caso, sus *atributos* podrían ser el `nombre`, la `edad`, la `ocupacion` y su lista de `amigos`. Por otro lado, sus comportamientos/*métodos* serán `saludar()`, `dormir()`, `practicar_ocupación()`, `pasarlo_bien()`. Notar que pueden haber relaciones entre objetos de tipo \"Persona\", por ejemplo, gracias al atributos amigos.\n",
        "\n",
        "\n",
        "\n",
        "![Ejemplo clase Persona](https://i.postimg.cc/qvMyxsXg/clase-persona.png)\n",
        "<center>Ejemplo clase persona y posibles objetos que podrían instanciarla</center>\n"
      ]
    },
    {
      "cell_type": "markdown",
      "metadata": {
        "id": "YhMAhH8xXio7"
      },
      "source": [
        "---\n",
        "\n",
        "## Clases en Python\n",
        "\n",
        "\n",
        "Una **clase** provee de la estructura sobre la cual se definirá un objeto. Esta en su formulación base no se encuentra provista de la información que se materializa con el objeto.\n",
        "\n",
        "\n",
        "### Declaración de clases\n",
        "\n",
        "En Python, las clases se definen siguiendo la sintaxis:\n",
        "\n",
        "```python\n",
        "class NombreDeLaClase:\n",
        "    ...\n",
        "```\n",
        "\n",
        "Siguen una estructura bastante similar a la de las funciones. La dinámica de scopes sigue la misma lógica que en funciones: todas las asignaciones a variables locales dentro de la clase, quedan en su scope local asociado (o *namespace*). \n",
        "\n",
        "Una práctica estándar es usar notación **Upper CamelCase**, es decir, cada palabra o abreviación al medio de la frase, que define el nombre de la clase, debe comenzar con mayúscula, sin hacer uso de espacios ni signos de puntuación.\n",
        "\n",
        "> **Ejemplo 📖**\n",
        "\n",
        "El tipo de clase más básico de Python se puede definir usando la orden ```pass```"
      ]
    },
    {
      "cell_type": "code",
      "execution_count": null,
      "metadata": {
        "ExecuteTime": {
          "end_time": "2021-03-29T19:27:06.881720Z",
          "start_time": "2021-03-29T19:27:06.874726Z"
        },
        "id": "61swI1vqXio8"
      },
      "outputs": [],
      "source": [
        "class Persona:\n",
        "  pass"
      ]
    },
    {
      "cell_type": "markdown",
      "metadata": {
        "id": "nrJ9TwgyXio-"
      },
      "source": [
        "Esta clase básicamente es la clase vacía, sin atributos (más que su nombre) y sin métodos. Para *instanciar un objeto (o instancia de la clase)* invocamos la clase y la asignamos a alguna variable. "
      ]
    },
    {
      "cell_type": "code",
      "execution_count": null,
      "metadata": {
        "id": "EVQO5QjLXio-"
      },
      "outputs": [],
      "source": [
        "matias = Persona() \n",
        "matias"
      ]
    },
    {
      "cell_type": "markdown",
      "metadata": {
        "id": "xLc5HJYZXipA"
      },
      "source": [
        "---\n",
        "\n",
        "### Atributos y Constructor\n",
        "\n",
        "Al trabajar con objetos es natural el concepto de **atributo**, los cuales representan características asociadas a los objetos. Para que los objetos de cierta clase posean atributos al momento de ser instanciados, estos se deben ser **inicializados**. \n",
        "\n",
        "#### Constructor\n",
        "\n",
        "Para inicializar atributos dentro de objetos se utiliza el **método constructor ```__init__()```**. Este método debe tener al menos un argumento (`self`) que es una referencia al objeto que se está instanciando en esa llamada, o dicho de una manera más simple es la conciencia que tiene el objeto de si mismo y con la cuál puede manejar sus atributos y sus métodos. \n",
        "\n",
        "> **Ejemplo 📖**\n",
        "\n",
        "Definimos la clase ```Persona```, esta clase posee los atributos ```nombre```, ```edad```, ```ocupación``` y ```amigos```.\n",
        "\n",
        "**Obs**: Mencionar que ```self``` es un nombre de variable usado *por convención*, en algunas implementaciones (más antiguas) se hace uso de la convención ```this```. "
      ]
    },
    {
      "cell_type": "code",
      "execution_count": null,
      "metadata": {
        "ExecuteTime": {
          "end_time": "2021-03-29T19:34:12.466917Z",
          "start_time": "2021-03-29T19:34:12.447917Z"
        },
        "id": "ye5QoI_8XipB"
      },
      "outputs": [],
      "source": [
        "class Persona:\n",
        "    '''Clase que representa una persona cualquiera'''\n",
        "\n",
        "    def __init__(self, nombre, edad, ocupacion, amigos):\n",
        "        self.nombre = nombre\n",
        "        self.edad = edad\n",
        "        self.ocupacion = ocupacion\n",
        "        self.amigos = amigos\n",
        "    \n",
        "\n"
      ]
    },
    {
      "cell_type": "markdown",
      "metadata": {
        "id": "9T_o43UVXipB"
      },
      "source": [
        "En este ejemplo, la clase ```persona``` entrega la base para que cada una de sus instancias tenga un dato asociado a `nombre`, `edad`, `ocupacion` y `amigos`.\n",
        "Para crear un objeto `Persona`, debemos instanciar la clase junto a sus parámetros."
      ]
    },
    {
      "cell_type": "code",
      "execution_count": null,
      "metadata": {
        "ExecuteTime": {
          "end_time": "2021-03-29T19:33:49.375119Z",
          "start_time": "2021-03-29T19:33:49.351121Z"
        },
        "id": "QRujTinRXipB"
      },
      "outputs": [],
      "source": [
        "mauricio = Persona('Mauricio', 24, 'profesor', [])"
      ]
    },
    {
      "cell_type": "code",
      "source": [
        "mauricio "
      ],
      "metadata": {
        "id": "8nBLgJqygI9H"
      },
      "execution_count": null,
      "outputs": []
    },
    {
      "cell_type": "markdown",
      "source": [
        "El método ```__repr__(self)``` permite obtener una representación del objeto de tipo String y no la dirección del objeto en la memoria"
      ],
      "metadata": {
        "id": "3tCVAk4JuEeX"
      }
    },
    {
      "cell_type": "markdown",
      "metadata": {
        "id": "_dqZ-jruXipC"
      },
      "source": [
        "Accedemos a sus atributos a través de la notación **{`objeto`}.{`atributo`}**"
      ]
    },
    {
      "cell_type": "code",
      "execution_count": null,
      "metadata": {
        "id": "o54k7_MxXipC"
      },
      "outputs": [],
      "source": [
        "mauricio.nombre"
      ]
    },
    {
      "cell_type": "code",
      "execution_count": null,
      "metadata": {
        "id": "sypMOgisXipC"
      },
      "outputs": [],
      "source": [
        "mauricio.edad"
      ]
    },
    {
      "cell_type": "code",
      "execution_count": null,
      "metadata": {
        "id": "vtgSqGqQXipC"
      },
      "outputs": [],
      "source": [
        "mauricio.ocupacion"
      ]
    },
    {
      "cell_type": "code",
      "source": [
        "mauricio.amigos"
      ],
      "metadata": {
        "id": "BE3etaK8uRpI"
      },
      "execution_count": null,
      "outputs": []
    },
    {
      "cell_type": "code",
      "execution_count": null,
      "metadata": {
        "id": "CvdFGi10XipD"
      },
      "outputs": [],
      "source": [
        "# instanciamos otra persona\n",
        "matias = Persona('Matías', 25, 'profe', [])\n",
        "matias"
      ]
    },
    {
      "cell_type": "code",
      "execution_count": null,
      "metadata": {
        "id": "1d1LfzOrXipD"
      },
      "outputs": [],
      "source": [
        "matias.nombre"
      ]
    },
    {
      "cell_type": "code",
      "execution_count": null,
      "metadata": {
        "id": "DOmFNH5eXipD"
      },
      "outputs": [],
      "source": [
        "matias.amigos"
      ]
    },
    {
      "cell_type": "markdown",
      "metadata": {
        "id": "GhbGYNtyXipE"
      },
      "source": [
        "Podemos asignar el valor de algún atributo usando **{`objeto`}.{`atributo`}** = **`valor`**"
      ]
    },
    {
      "cell_type": "code",
      "execution_count": null,
      "metadata": {
        "id": "HQdJ2LkLXipE"
      },
      "outputs": [],
      "source": [
        "mauricio.amigos"
      ]
    },
    {
      "cell_type": "code",
      "execution_count": null,
      "metadata": {
        "id": "KohvRvY3XipE"
      },
      "outputs": [],
      "source": [
        "mauricio.amigos = [matias]"
      ]
    },
    {
      "cell_type": "code",
      "execution_count": null,
      "metadata": {
        "id": "7jTvV8-2XipE"
      },
      "outputs": [],
      "source": [
        "mauricio.amigos"
      ]
    },
    {
      "cell_type": "code",
      "execution_count": null,
      "metadata": {
        "id": "KkYaZk6eXipF"
      },
      "outputs": [],
      "source": [
        "matias.amigos"
      ]
    },
    {
      "cell_type": "markdown",
      "metadata": {
        "id": "HOQlBTGGXipF"
      },
      "source": [
        "--- \n",
        "\n",
        "> **Ejercicios ✏️** \n",
        "\n",
        "1. ¿Cuáles de estos comandos son correctos y por qué? \n",
        "\n",
        "    a. ```sara = Persona('Sara', 29, 'estudiante', [])```  \n",
        "    \n",
        "    b. ```alberto = Persona(nombre = 'Alberto', edad = 25, ocupacion = 'estudiante', amigos = [])```\n",
        "\n",
        "    c. ```alberto = Persona(nombre = 'Alberto', edad = 25, ocupacion = 'estudiante', [])```\n",
        "\n",
        "    d. ```alberto = Persona('Alberto', edad = 25, ocupacion = 'estudiante', amigos = [])```\n",
        "    \n",
        "    e. ```alberto = Persona(nombre = 'Alberto', edad = '25', ocupacion = 'estudiante', amigos='')```  \n",
        "    \n",
        "    f. ```persona = Persona()``` \n",
        "    \n",
        "    \n",
        "2. Ejecute el siguiente código:\n",
        "```python\n",
        "ana = Persona('Ana', 23, 'estudiante', [])\n",
        "ana.hobbie = 'Catán'\n",
        "print(ana.hobbie)\n",
        "```\n",
        "\n",
        "Donde ```Persona``` se definió unas celdas más arriba. Si observa con detención, se creó el atributo ```hobbie``` \"directamente\" ¿Qué diferencia / ventaja / desventaja posee este método de creación de atributos versus el uso del constructor ```__init__()```?\n",
        "\n",
        "\n",
        "3. Las clases se comportan de la misma manera que las funciones en cuanto al manejo de variables por bloque (scope). Declare la clase ```Perro``` no modifique el método ```__init__()``` de esta clase, sin embargo, añada una variable ```patas = 4``` compartida por todos los objetos de la clase. \n",
        "\n",
        "```python\n",
        "class Perro:\n",
        "    patas = 4\n",
        "```\n",
        "Explique las implicancias de esta definición al instanciar cualquier objeto de la clase perro. (*hint*: este tipo de variables se denomina *variable de clase estática*, por consiguiente, las variables definidas por el constructor ```__init__()``` son *dinámicas*.)\n",
        "\n",
        "\n",
        "4. Como observó en el ejercicio 2, es posible sobreescribir el valor de un atributo accediendo a el directamente desde el objeto que lo posee. Defina el objeto ```cajero_de_metro```, que será una instancia de la clase ```CajeroAutomatico``` y sobreescriba el atributo  ```cajero_de_metro.dinero``` por -1, luego imprima en pantalla el valor de tal atributo. Clase por la cuál iniciar:\n",
        "\n",
        "```python\n",
        "class CajeroAutomatico:\n",
        "    def __init__(self):\n",
        "        self.dinero = 10000000\n",
        "```\n",
        "\n",
        "¿Es buena idea usar esta forma de acceder a los atributos? Basarse en la siguiente nota para responder:\n",
        "\n",
        "\n",
        "> **Nota 📝**: Por lo general se busca bloquear el acceso a atributos internos de un objeto, con el fin de garantizar integridad y control sobre los datos que se operan. Esto se denota como **encapsulación**."
      ]
    },
    {
      "cell_type": "markdown",
      "metadata": {
        "id": "brUMpQdYXipF"
      },
      "source": [
        "---\n",
        "\n",
        "#### Métodos\n",
        "\n",
        "Los métodos de una clase son simplemente funciones asociadas a su construcción. Ya se estudió el método especial ```__init__()```, este utiliza un bloque ```def``` para ser declarado, de manera similar se trabaja con métodos definidos por el usuario.\n",
        "\n",
        "\n",
        "> **Ejemplo 📖**\n"
      ]
    },
    {
      "cell_type": "code",
      "execution_count": null,
      "metadata": {
        "id": "PLAZad0tXipG"
      },
      "outputs": [],
      "source": [
        "class Persona:\n",
        "    '''Clase que representa una persona cualquiera'''\n",
        "\n",
        "    def __init__(self, nombre, edad, ocupacion, amigos):\n",
        "        self.nombre = nombre\n",
        "        self.edad = edad\n",
        "        self.ocupacion = ocupacion\n",
        "        self.amigos = []\n",
        "  \n",
        "        \n",
        "    def saludar(self):\n",
        "        print(f\"Hola!, soy {self.nombre} 👋\")\n",
        "        \n",
        "    def practicar_ocupacion(self):\n",
        "        print(f'Estoy practicando mi ocupacion: {self.ocupacion}')\n",
        "\n",
        "    def agregar_amigo(self, nuevo_amigo):\n",
        "        self.amigos.append(nuevo_amigo)\n",
        "        nuevo_amigo.amigos.append(self)\n",
        "        "
      ]
    },
    {
      "cell_type": "code",
      "execution_count": null,
      "metadata": {
        "id": "x5O4U2MXXipG"
      },
      "outputs": [],
      "source": [
        "juanita = Persona('Juanita', 24, 'Científica de Datos', [])\n",
        "ana = Persona('Ana', 23, 'estudiante', [])"
      ]
    },
    {
      "cell_type": "code",
      "execution_count": null,
      "metadata": {
        "id": "Yx3Jg5oLXipG"
      },
      "outputs": [],
      "source": [
        "juanita.saludar()"
      ]
    },
    {
      "cell_type": "code",
      "execution_count": null,
      "metadata": {
        "id": "JMfd1ERtXipG"
      },
      "outputs": [],
      "source": [
        "juanita.practicar_ocupacion()\n"
      ]
    },
    {
      "cell_type": "code",
      "execution_count": null,
      "metadata": {
        "id": "g2b07v-EXipH"
      },
      "outputs": [],
      "source": [
        "juanita.agregar_amigo(ana)"
      ]
    },
    {
      "cell_type": "code",
      "execution_count": null,
      "metadata": {
        "id": "3wTMeyLAXipH"
      },
      "outputs": [],
      "source": [
        "juanita.amigos"
      ]
    },
    {
      "cell_type": "code",
      "execution_count": null,
      "metadata": {
        "id": "FWrkeIezXipH"
      },
      "outputs": [],
      "source": [
        "ana.amigos"
      ]
    },
    {
      "cell_type": "markdown",
      "metadata": {
        "id": "L0Z9NIJ0XipH"
      },
      "source": [
        "#### Duck typing\n",
        "\n",
        "Python permite realizar **Duck typing** con sus objetos. Este término proviene del dicho \"If it walks like a duck and it quacks like a duck, then it must be a duck\" (si camina como pato y grazna como pato, entonces debe ser un pato). En programación esto implica que si un objeto tiene cierta funcionalidad (aka. métodos), esta puede ser utilizada sin importar su clase ni su objetivo real. \n",
        "\n",
        "Los siguientes ejercicios están diseñados para entender en duck typing en Python.\n",
        "\n",
        "\n",
        "> **Ejercicio ✏️**\n",
        "\n",
        "\n",
        "1. Defina la clase ```Pato``` con el atributo estático ```patas = 2```, defina además el método ```hablar()``` que imprime en pantalla ```Soy un patito inofensivo, cuack```. \n",
        "\n",
        "2. Defina la clase ```Bomba``` con los métodos: \n",
        "    1. ```explotar()```, este método imprime en pantalla ```Booom!```\n",
        "    2. ```hablar()```, este método imprime en pantalla ```3... 2... 1...``` y ejecuta el método ```explotar()```\n",
        "    \n",
        "3. Defina la clase ```Persona```, está clase tiene el atributo estático ```su_pato = None```. En su método constructor ```__init__()```, inicializa la variable ```nombre``` y luego imprime en pantalla ```[nombre] cruza la calle y te pide dinero para comprar un pato ```. La clase ```Persona``` tiene además los siguientes métodos:\n",
        "    1. ```toma_pato``` este método toma como input un objeto y lo asigna al atributo ```su_pato``` de la clase, luego imprime en pantalla ```[nombre] compra el pato y se va felizmente ```\n",
        "    2. ```hace_lo_suyo()``` imprime en pantalla ```[nombre] intenta hacer que el pato hable``` luego, si el atributo ```su_pato``` es distinto de ```None``` ejecuta ```su_pato.hablar()```.\n",
        " \n",
        "4. Defina los objetos de la clase ```Persona```, ```Bomba``` y ```Pato```. Suponiendo que definió ```per``` como el objeto ```Persona```, y ```pat``` como el objeto ```Pato```, ejecute ```per.toma_pato(pat)``` y ```per.hace_lo_suyo()```. Finalmente, si definió ```bomb``` como el objeto ```Bomba``` ejecute ```per.toma_pato(bomb)``` y ```per.hace_lo_suyo()```. Deduzca que el método ```hace_lo_suyo()``` es indiferente sobre el objeto que opera, siempre y cuando tenga implementado el método ```hablar```. Es decir, hace *duck typing*, manifestándose en la explosión de la bomba.\n",
        "    \n",
        "**Obs**: ```[nombre]``` debe ser reemplazado por el nombre del objeto instanciado, por ejemplo si ```obj=Persona('Jaime')```, se debe imprimir ```Jaime cruza la calle y ...```. \n",
        "\n",
        "*Hint*: Por lo menos para los objetos ```Bomba``` y ```Persona``` , defina un constructor ```__init__()```. \n",
        "\n",
        "*Este ejercicio fue adaptado de un comentario en [stackoverflow](https://stackoverflow.com/a/14532188). y busca mostrar por qué el duck typing puede ser \"malvado\".*"
      ]
    },
    {
      "cell_type": "markdown",
      "metadata": {
        "ExecuteTime": {
          "end_time": "2021-03-29T17:22:31.322706Z",
          "start_time": "2021-03-29T17:22:31.307706Z"
        },
        "id": "6KSPznnNXipH"
      },
      "source": [
        "### Nota interesante: Todo en Python son objetos\n",
        "\n",
        "Todos los tipos de datos básicos y funciones que hemos visto hasta ahora son objetos. Y la mayoría de estos objetos tienen algún método asociado"
      ]
    },
    {
      "cell_type": "code",
      "execution_count": null,
      "metadata": {
        "ExecuteTime": {
          "end_time": "2021-03-29T19:34:53.292227Z",
          "start_time": "2021-03-29T19:34:53.276229Z"
        },
        "id": "vG-CS7pQXipI"
      },
      "outputs": [],
      "source": [
        "a = []"
      ]
    },
    {
      "cell_type": "code",
      "execution_count": null,
      "metadata": {
        "ExecuteTime": {
          "end_time": "2021-03-29T19:35:07.611063Z",
          "start_time": "2021-03-29T19:35:07.591064Z"
        },
        "collapsed": true,
        "jupyter": {
          "outputs_hidden": true
        },
        "tags": [],
        "id": "O6Ubl9PJXipI"
      },
      "outputs": [],
      "source": [
        "help(a)"
      ]
    },
    {
      "cell_type": "code",
      "execution_count": null,
      "metadata": {
        "ExecuteTime": {
          "end_time": "2021-03-29T19:34:58.866417Z",
          "start_time": "2021-03-29T19:34:58.849385Z"
        },
        "id": "kBWu5KGhXipI"
      },
      "outputs": [],
      "source": [
        "# Esto es en verdad un método de la clase list\n",
        "a.append(1)"
      ]
    },
    {
      "cell_type": "code",
      "execution_count": null,
      "metadata": {
        "ExecuteTime": {
          "end_time": "2021-03-29T19:35:02.363094Z",
          "start_time": "2021-03-29T19:35:02.354095Z"
        },
        "id": "f5peQlNNXipI"
      },
      "outputs": [],
      "source": [
        "a"
      ]
    },
    {
      "cell_type": "code",
      "execution_count": null,
      "metadata": {
        "collapsed": true,
        "jupyter": {
          "outputs_hidden": true
        },
        "tags": [],
        "id": "f2UgJ2uyXipI"
      },
      "outputs": [],
      "source": [
        "help(1)"
      ]
    },
    {
      "cell_type": "code",
      "execution_count": null,
      "metadata": {
        "ExecuteTime": {
          "end_time": "2021-03-29T19:35:27.759397Z",
          "start_time": "2021-03-29T19:35:27.744398Z"
        },
        "collapsed": true,
        "jupyter": {
          "outputs_hidden": true
        },
        "tags": [],
        "id": "iiR41HP-XipJ"
      },
      "outputs": [],
      "source": [
        "help(map)"
      ]
    },
    {
      "cell_type": "code",
      "source": [
        "help('')"
      ],
      "metadata": {
        "id": "zK7UHNo8Nr6p"
      },
      "execution_count": null,
      "outputs": []
    },
    {
      "cell_type": "markdown",
      "metadata": {
        "id": "aanmOSUWXipJ"
      },
      "source": [
        "----\n",
        "\n",
        "## Principios Básicos de la POO\n",
        "\n",
        "POO no solo consiste en basar la programación en objetos. Estos deben también poder cumplir con los siguientes principios, los cuales veremos a continuación \n",
        "\n",
        "- Abstracción\n",
        "- Encapsulación\n",
        "- Polimorfismo\n",
        "- Herencia\n",
        "\n",
        "Todos estos los veremos a continuación.\n"
      ]
    },
    {
      "cell_type": "markdown",
      "metadata": {
        "id": "gEYO-MSeXipJ"
      },
      "source": [
        "---\n",
        "\n",
        "### Abstracción y Encapsulación \n",
        "Por lo general, los conceptos de abstracción, encapsulación e información oculta se utilizan como sinónimos, sin embargo, existe una diferencia entre ellos. \n",
        "\n",
        "- En primer lugar, **encapsulación** es el empaquetamiento de los datos del objeto para **esconderlos o restringir su acceso**. La idea de estos es evitar que estos cambien de manera accidental o sean accedidos por clases que no estaban autorizadas a ello.\n",
        "\n",
        "\n",
        "- La **abstracción** es el mecanismo por el cual representamos las características de un programa sin detallar la implementación de estos.\n",
        "\n",
        "\n",
        "En la mayoría de los lenguajes orientados a objetos, la encapsulación de datos se logra por medio de métodos que permiten el acceso a los datos, llamados **métodos _getter_**. Este tipo de métodos no cambian los valores asociados a atributos, sino que simplemente los *retornan*. Finalmente, para modificar la información y lograr encapsularla, hacen falta métodos modificadores (contraparte a los métodos *getter*). Estos se denominan **métodos _setter_**. \n",
        "\n",
        "> **Ejemplo 📖**\n",
        "\n",
        "Definimos la clase ```Cafetera``` esta posee un método *setter* y un método *getter* para el atributo pedido. "
      ]
    },
    {
      "cell_type": "code",
      "execution_count": null,
      "metadata": {
        "ExecuteTime": {
          "end_time": "2021-03-29T19:40:22.064853Z",
          "start_time": "2021-03-29T19:40:22.048855Z"
        },
        "code_folding": [],
        "id": "Iayx-0toXipJ"
      },
      "outputs": [],
      "source": [
        "class Cafetera:\n",
        "    \"\"\"Clase Cafetera que prepara ricos cafecitos.\"\"\"\n",
        "\n",
        "    tipos_cafe_admitidos = [\"expreso\", \"capuchino\", \"cortado\", \"doble\"]\n",
        "\n",
        "    def __init__(self):\n",
        "        self.pedido = None\n",
        "\n",
        "    # getter\n",
        "    def get_pedido(self):\n",
        "        return self.pedido\n",
        "\n",
        "    # setter\n",
        "    def set_pedido(self, nuevo_pedido):\n",
        "        \n",
        "        if nuevo_pedido in self.tipos_cafe_admitidos:\n",
        "            self.pedido = nuevo_pedido\n",
        "            \n",
        "        else:\n",
        "            raise ValueError(\n",
        "                'Error ❌: el tipo_cafe debe ser uno de: \"expreso\" '\n",
        "                f'\"capuchino\", \"cortado\" o \"doble\". Entregado: {nuevo_pedido}'\n",
        "            )\n",
        "\n",
        "    def trabajar(self):\n",
        "        if self.pedido is not None:\n",
        "            print(f\"☕☕ Preparando un café {self.pedido} ☕☕\")\n",
        "            print('Cafe está listo, puede tomarlo :)')\n",
        "\n",
        "        else:\n",
        "            print(\"No tengo pedidos pendientes... 😴😴😴\")"
      ]
    },
    {
      "cell_type": "markdown",
      "metadata": {
        "id": "dEBiwJqKXipK"
      },
      "source": [
        "> **Ejemplo 📖**"
      ]
    },
    {
      "cell_type": "code",
      "execution_count": null,
      "metadata": {
        "ExecuteTime": {
          "end_time": "2021-03-29T19:40:23.031854Z",
          "start_time": "2021-03-29T19:40:23.026856Z"
        },
        "scrolled": true,
        "id": "0KkHNYurXipK"
      },
      "outputs": [],
      "source": [
        "cafetera = Cafetera()\n",
        "cafetera"
      ]
    },
    {
      "cell_type": "code",
      "execution_count": null,
      "metadata": {
        "id": "c4j9xOGUXipK"
      },
      "outputs": [],
      "source": [
        "cafetera.set_pedido('capuchino')"
      ]
    },
    {
      "cell_type": "code",
      "execution_count": null,
      "metadata": {
        "id": "A7jfZbxBXipK"
      },
      "outputs": [],
      "source": [
        "cafetera.trabajar()"
      ]
    },
    {
      "cell_type": "code",
      "execution_count": null,
      "metadata": {
        "id": "KSPHrz7dXipK"
      },
      "outputs": [],
      "source": [
        "cafetera.set_pedido('moka')"
      ]
    },
    {
      "cell_type": "code",
      "execution_count": null,
      "metadata": {
        "id": "TY4LpzBsXipK"
      },
      "outputs": [],
      "source": [
        "cafetera.pedido = 'con veneno'"
      ]
    },
    {
      "cell_type": "code",
      "execution_count": null,
      "metadata": {
        "id": "YpzOM-85XipL"
      },
      "outputs": [],
      "source": [
        "cafetera.trabajar()"
      ]
    },
    {
      "cell_type": "markdown",
      "metadata": {
        "id": "cEeMYazQXipL"
      },
      "source": [
        "**Nota interesante**: Si bien, estos patrones getter/setters son comunes en lenguajes como `Java` o `C#`, `Python` desincentiva la creación de setters y getters y le da el favor al acceso directo de los atributos. \n",
        "\n",
        "Veremos en unos momentos más la manera *pythonica* de implementar getters y setters a través de *propiedades*."
      ]
    },
    {
      "cell_type": "code",
      "execution_count": null,
      "metadata": {
        "ExecuteTime": {
          "end_time": "2021-03-29T19:40:54.929595Z",
          "start_time": "2021-03-29T19:40:54.921595Z"
        },
        "id": "2Vn41S3FXipL"
      },
      "outputs": [],
      "source": [
        "import this"
      ]
    },
    {
      "cell_type": "markdown",
      "metadata": {
        "id": "GiWrFOrjXipL"
      },
      "source": [
        ">**There should be one-- and preferably only one --obvious way to do it.**"
      ]
    },
    {
      "cell_type": "markdown",
      "metadata": {
        "id": "761AWbRiXipL"
      },
      "source": [
        "---\n",
        "\n",
        "#### Atributos Públicos, Protegidos y Privados\n",
        "\n",
        "Como se puede evidenciar en el ejercicio anterior, no se puede evitar directamente acceder y modificar atributos, aún cuando se definen funciones setter y getter. \n",
        "\n",
        "En algunos lenguajes de programación es posible agregar grados de restricción a los datos por medio de atributos privados y protegidos. \n",
        "\n",
        "- Los atributos **privados** por convención solo deben ser accedidos por los objetos de la misma clase.\n",
        "\n",
        "\n",
        "- Los atributos **protegidos** pueden ser accedidos por otros objetos de la clase y del módulo, pero no de otros objetos fuera de estos.\n",
        "\n",
        "\n",
        "- Finalmente, cualquier atributo que pueden ser accedidos por cualquier segmento de código (por lo tanto \"no encapsulado\") son llamados **públicos**.\n",
        "\n",
        "<br>\n",
        "<div align='center'>\n",
        "    <strong>En Python NO EXISTE KEYWORD PARA LIMITAR EL ACCESO A LOS ATRIBUTOS. <strong/>\n",
        "</div>\n",
        "<br>\n",
        "    \n",
        "Existe la convención de que un atributo es privado o protegido al anteponer un `_` antes del nombre del atributo. **Esto es solo para uso de los desarrolladores, no tiene ninguna implicancia en la ejecución del código**\n",
        "    \n",
        "Ejemplo: \n",
        "\n",
        "```python\n",
        "class MaquinaDeCafe:\n",
        "    \"\"\"Clase MaquinaDeCafe con getter y setter.\"\"\"\n",
        "\n",
        "    tipos_cafe_admitidos = [\"expreso\", \"capuchino\", \"cortado\", \"doble\"]\n",
        "\n",
        "    def __init__(self):\n",
        "        self._pedido = None\n",
        "\n",
        "    # getter\n",
        "    def get_pedido(self):\n",
        "        return self._pedido\n",
        "\n",
        "    # setter\n",
        "    def set_pedido(self, nuevo_pedido):\n",
        "        if nuevo_pedido not in self.tipos_cafe_admitidos:\n",
        "            self._pedido = nuevo_pedido\n",
        "        else:\n",
        "            print(\n",
        "                '❌ Error ❌: el tipo_cafe debe ser uno de: \"expreso\" '\n",
        "                f'\"capuchino\", \"cortado\" o \"doble\". Entregado: {nuevo_pedido}'\n",
        "            )\n",
        "\n",
        "    def trabajar(self):\n",
        "        if self._pedido is not None:\n",
        "            print(f\"☕☕ Preparando un café {self._pedido} ☕☕\")\n",
        "\n",
        "        else:\n",
        "            print(\"No tengo pedidos pendientes... 😴😴😴\")\n",
        "```\n",
        "\n",
        "Si bien en varios lugares recomiendan la convención de usar `__atributo` (lo cual es llamado [mangled names](https://en.wikipedia.org/wiki/Name_mangling#Python)) para ocultar un atributo, esto **NO LO HACE PRIVADO**. Solo cambia su nombre para evitar conflictos con subclases, lo cual veremos más adelante."
      ]
    },
    {
      "cell_type": "markdown",
      "metadata": {
        "id": "ggs5snytXipM"
      },
      "source": [
        "> **Ejemplo 📖**\n",
        "\n",
        "Podemos mostrar que aún podemos acceder a un atributo aunque lo declaremos con `__` a través de la siguiente clase:"
      ]
    },
    {
      "cell_type": "code",
      "execution_count": null,
      "metadata": {
        "ExecuteTime": {
          "end_time": "2021-03-29T19:44:04.936225Z",
          "start_time": "2021-03-29T19:44:04.920225Z"
        },
        "id": "3IK_iNamXipM"
      },
      "outputs": [],
      "source": [
        "class Cafetera:\n",
        "    \"\"\"Clase Cafetera que prepara ricos cafecitos.\"\"\"\n",
        "\n",
        "    tipos_cafe_admitidos = [\"expreso\", \"capuchino\", \"cortado\", \"doble\"]\n",
        "\n",
        "    def __init__(self):\n",
        "        self._pedido = None\n",
        "\n",
        "    # getter\n",
        "    def get_pedido(self):\n",
        "        return self._pedido\n",
        "\n",
        "    # setter\n",
        "    def set_pedido(self, nuevo_pedido):\n",
        "        \n",
        "        if nuevo_pedido in self.tipos_cafe_admitidos:\n",
        "            self._pedido = nuevo_pedido\n",
        "            \n",
        "        else:\n",
        "            print(\n",
        "                '❌ Error ❌: el tipo_cafe debe ser uno de: \"expreso\" '\n",
        "                f'\"capuchino\", \"cortado\" o \"doble\". Entregado: {nuevo_pedido}'\n",
        "            )\n",
        "\n",
        "    def trabajar(self):\n",
        "        if self._pedido is not None:\n",
        "            print(f\"☕☕ Preparando un café {self._pedido} ☕☕\")\n",
        "\n",
        "        else:\n",
        "            print(\"No tengo pedidos pendientes... 😴😴😴\")\n",
        "\n"
      ]
    },
    {
      "cell_type": "markdown",
      "metadata": {
        "id": "nxXgJgd6XipM"
      },
      "source": [
        "Luego, instanciamos una cafetera:"
      ]
    },
    {
      "cell_type": "code",
      "execution_count": null,
      "metadata": {
        "ExecuteTime": {
          "end_time": "2021-03-29T19:44:05.945224Z",
          "start_time": "2021-03-29T19:44:05.930240Z"
        },
        "id": "48gxRwWJXipM"
      },
      "outputs": [],
      "source": [
        "cafetera = Cafetera()\n",
        "cafetera.set_pedido('doble')"
      ]
    },
    {
      "cell_type": "markdown",
      "metadata": {
        "id": "yIuRnIJMXipN"
      },
      "source": [
        "Noten que aún podemos acceder a este atributo:"
      ]
    },
    {
      "cell_type": "code",
      "execution_count": null,
      "metadata": {
        "ExecuteTime": {
          "end_time": "2021-03-29T19:44:35.569690Z",
          "start_time": "2021-03-29T19:44:35.553653Z"
        },
        "id": "LFmJCPS0XipN"
      },
      "outputs": [],
      "source": [
        "cafetera._pedido"
      ]
    },
    {
      "cell_type": "markdown",
      "metadata": {
        "id": "qbO4fTraXipO"
      },
      "source": [
        "Y incluso cambiarlo por algo inválido!!!"
      ]
    },
    {
      "cell_type": "code",
      "execution_count": null,
      "metadata": {
        "id": "jltOMwaIXipO"
      },
      "outputs": [],
      "source": [
        "cafetera._pedido = 'con pan con queso'"
      ]
    },
    {
      "cell_type": "code",
      "execution_count": null,
      "metadata": {
        "id": "-8BLciLJXipP"
      },
      "outputs": [],
      "source": [
        "cafetera.trabajar()"
      ]
    },
    {
      "cell_type": "markdown",
      "metadata": {
        "id": "3qYbx0iWXipP"
      },
      "source": [
        "---\n",
        "\n",
        "### Propiedades\n",
        "\n",
        "Abusar de métodos *getter-setter*, puede llevar a complejizar demasiado el código (recordar que el código se lee más de lo que se escribe) y además viola el principio de una sola forma de hacer las cosas. \n",
        "La solución que propone python al problema de encapsulación es rediseñar la clase por medio de **propiedades**. \n"
      ]
    },
    {
      "cell_type": "markdown",
      "metadata": {
        "id": "wUqjZ08ZXipP"
      },
      "source": [
        "\n",
        "Una propiedad es un tipo de atributo decorado, que permite controlar los métodos *setter* y *getter* sin sobrecargar la notación, manteniendo las cosas simples. Su sintaxis sigue el patrón:\n",
        "\n",
        "```python\n",
        "class ClaseEjemplo:\n",
        "    \n",
        "    # se define el atributo como publico.\n",
        "    def __init__(self,property_atr, **kwargs)\n",
        "        self.atributo = 0\n",
        "    \n",
        "    # Función getter decorada que \"protege\" el atributo\n",
        "    @property\n",
        "    def atributo(self):\n",
        "        return self.atributo\n",
        "    \n",
        "    # Setter decorado usando el atributo como función\n",
        "    @atributo.setter\n",
        "    def atributo(self,*args,**kwargs):\n",
        "        # Se asigna como privado\n",
        "        # verificar alguna condición o hacer alguna acción previa:\n",
        "        self.atributo = hacer_algo_antes(*args,**kwargs)\n",
        "```\n",
        "\n",
        "Hay que destacar que inicialmente el atributo a considerar como propiedad se inicializa como un atributo público en ```__init__```, luego se utiliza un método con el nombre del atributo para tener control sobre el *setter** asociado.\n",
        "\n",
        "> **Ejemplo 📖**\n",
        "\n",
        "Se modifica la clase ```Cafetera``` para restringir *pedido* sin sobrecargar con *setter* y *getters*."
      ]
    },
    {
      "cell_type": "code",
      "execution_count": null,
      "metadata": {
        "ExecuteTime": {
          "end_time": "2021-03-29T19:50:09.936724Z",
          "start_time": "2021-03-29T19:50:09.898725Z"
        },
        "id": "sxpc2whhXipQ"
      },
      "outputs": [],
      "source": [
        "class Cafetera:\n",
        "    \"\"\"Clase Cafetera que prepara ricos cafecitos.\"\"\"\n",
        "\n",
        "    tipos_cafe_admitidos = [\"expreso\", \"capuchino\", \"cortado\", \"doble\"]\n",
        "\n",
        "    def __init__(self):\n",
        "        self._pedido = None\n",
        "    \n",
        "    @property\n",
        "    def pedido(self):\n",
        "        return self._pedido\n",
        "        \n",
        "\n",
        "    @pedido.setter\n",
        "    def pedido(self, nuevo_pedido):\n",
        "        \n",
        "        if nuevo_pedido in self.tipos_cafe_admitidos:\n",
        "            self._pedido = nuevo_pedido\n",
        "            \n",
        "        else:\n",
        "            raise Exception(\n",
        "                'Error ❌: el tipo_cafe debe ser uno de: \"expreso\" '\n",
        "                f'\"capuchino\", \"cortado\" o \"doble\". Entregado: {nuevo_pedido}'\n",
        "            )\n",
        "\n",
        "    def trabajar(self):\n",
        "        if self._pedido is not None:\n",
        "            print(f\"☕☕ Preparando un café {self._pedido} ☕☕\")\n",
        "\n",
        "        else:\n",
        "            print(\"No tengo pedidos pendientes... 😴😴😴\")"
      ]
    },
    {
      "cell_type": "markdown",
      "metadata": {
        "id": "gSLB-LJCXipQ"
      },
      "source": [
        "En el siguiente ejemplo se aprecia como el *setter* es llamado cuando se ejecuta una asignación directa sobre el atributo (lo cual genera solo una manera de definir tal asignación sobre atributo) a la vez que no se pierde la lógica de la asignación."
      ]
    },
    {
      "cell_type": "code",
      "execution_count": null,
      "metadata": {
        "ExecuteTime": {
          "start_time": "2021-03-29T19:50:11.133Z"
        },
        "id": "c62eEYdOXipQ"
      },
      "outputs": [],
      "source": [
        "cafetera = Cafetera()\n",
        "cafetera.pedido = 'capuchino'"
      ]
    },
    {
      "cell_type": "code",
      "source": [
        "cafetera.pedido"
      ],
      "metadata": {
        "id": "aXH7nZy6j9e8"
      },
      "execution_count": null,
      "outputs": []
    },
    {
      "cell_type": "code",
      "execution_count": null,
      "metadata": {
        "id": "nllBoWSwXipR"
      },
      "outputs": [],
      "source": [
        "cafetera.trabajar()"
      ]
    },
    {
      "cell_type": "code",
      "execution_count": null,
      "metadata": {
        "ExecuteTime": {
          "end_time": "2021-03-29T19:49:07.354908Z",
          "start_time": "2021-03-29T19:49:07.337910Z"
        },
        "id": "n4_HKyFmXipR"
      },
      "outputs": [],
      "source": [
        "cafetera.pedido = 'con veneno'"
      ]
    },
    {
      "cell_type": "markdown",
      "metadata": {
        "id": "9J3JZVnZXipR"
      },
      "source": [
        "Definir propiedades es la manera *pythonica* de encapsular atributos **accesibles por el usuario**. "
      ]
    },
    {
      "cell_type": "markdown",
      "metadata": {
        "id": "IUVio5rqXipR"
      },
      "source": [
        "---\n",
        "\n",
        "### Herencia \n",
        "\n",
        "La herencia es una herramienta que permite obtener nuevas clases a partir de otras. Al hacer esto, se obtiene una jerarquía de clases, donde las clases de niveles más bajos adquieren atributos y métodos pre establecidos por las clases de jerarquías más altas. \n",
        "\n",
        "El beneficio directo de utilizar herencia, es poder de reciclar y modificar el comportamiento de una clase base. Más aún, una clase derivada puede añadir nuevas propiedades atributos y métodos, extendiendo la funcionalidad inicial. \n",
        "\n",
        "\n",
        "La sintaxis asociada al proceso de herencia se resume a continuación.\n",
        "\n",
        "```python\n",
        "class SubClase(ClaseBase):\n",
        "    hacer_cosas()\n",
        "    ...\n",
        "    \n",
        "```\n",
        "\n",
        "> **Ejemplo 📖**\n",
        "\n",
        "Se define la clase ```Estudiante``` que deriva la clase ```Persona```. "
      ]
    },
    {
      "cell_type": "code",
      "execution_count": null,
      "metadata": {
        "ExecuteTime": {
          "end_time": "2021-03-29T19:56:26.888564Z",
          "start_time": "2021-03-29T19:56:26.880565Z"
        },
        "id": "gJ0yebwvXipR"
      },
      "outputs": [],
      "source": [
        "class Persona:\n",
        "    '''Clase que representa una persona cualquiera'''\n",
        "\n",
        "    def __init__(self, nombre, edad, ocupacion, amigos):\n",
        "        self.nombre = nombre\n",
        "        self.edad = edad\n",
        "        self.ocupacion = ocupacion\n",
        "        self.amigos = []\n",
        "        \n",
        "    def saludar(self):\n",
        "        print(f\"Hola!, soy {self.nombre} 👋\")\n",
        "        \n",
        "    def practicar_ocupacion(self):\n",
        "        print(f'Estoy practicando mi ocupacion: {self.ocupacion}')\n",
        "\n",
        "    def agregar_amigo(self, nuevo_amigo):\n",
        "        self.amigos.append(nuevo_amigo)\n",
        "\n",
        "\n",
        "class Estudiante(Persona):\n",
        "    def __init__(self, nombre, edad, amigos):\n",
        "        super().__init__(nombre, edad, 'estudiante', amigos)\n",
        "        # Un objeto de esta clase ahora tendrá el atributo horas estudiadas.\n",
        "        self.horas_estudiadas = 0\n",
        "        \n",
        "    def estudiar(self):\n",
        "        self.horas_estudiadas = self.horas_estudiadas + 1\n",
        "        print(f'He estudiado {self.horas_estudiadas} hora(s) 📚')"
      ]
    },
    {
      "cell_type": "markdown",
      "metadata": {
        "id": "UuEnUD-SXipS"
      },
      "source": [
        "Aquí podemos observar como la clase `Piano` poseen los métodos `.nombre()` y `.tocar()` aún cuando este no se define de manera explicita.\n"
      ]
    },
    {
      "cell_type": "code",
      "execution_count": null,
      "metadata": {
        "id": "sV0iXxFcXipS"
      },
      "outputs": [],
      "source": [
        "ana = Estudiante('Ana', 23, [])"
      ]
    },
    {
      "cell_type": "code",
      "execution_count": null,
      "metadata": {
        "ExecuteTime": {
          "end_time": "2021-03-29T19:56:16.183484Z",
          "start_time": "2021-03-29T19:56:16.160484Z"
        },
        "id": "or1DnJ71XipS"
      },
      "outputs": [],
      "source": [
        "ana.saludar()"
      ]
    },
    {
      "cell_type": "code",
      "execution_count": null,
      "metadata": {
        "id": "vXCKaDGHXipS"
      },
      "outputs": [],
      "source": [
        "type(ana)"
      ]
    },
    {
      "cell_type": "markdown",
      "metadata": {
        "id": "kiBH8qyJXipS"
      },
      "source": [
        "La verdadera funcionalidad de la herencia es implementar nuevos atributos y métodos adicionales a la clase que se está extendiendo."
      ]
    },
    {
      "cell_type": "code",
      "execution_count": null,
      "metadata": {
        "ExecuteTime": {
          "end_time": "2021-03-29T19:54:02.443252Z",
          "start_time": "2021-03-29T19:54:01.670356Z"
        },
        "id": "G_tGqhSaXipT"
      },
      "outputs": [],
      "source": [
        "ana.estudiar()"
      ]
    },
    {
      "cell_type": "markdown",
      "metadata": {
        "id": "CgjuarGMXipT"
      },
      "source": [
        "> **Ejercicios ✏️**\n",
        "\n",
        "A lo largo de este curso se ha hecho uso de la función ```type()```, útil para saber el tipo de dato de un objeto en particular. Sin embargo, La documentación de PEP 8, dice explicitamente \n",
        "> \"Object type comparisons should always use ```isinstance()``` instead of comparing types directly\". \n",
        "\n",
        "Es decir, la buena práctica es utilizar ```isinstance()``` en lugar de ```type()```, la razón que soporta esta recomendación se explica por medio de la herencia de clases.\n",
        "\n",
        "1. Defina una clase base (```ClaseBase```) y una subclase (o clase derivada ```ClaseDerivada```). Suponiendo  ```obj_base``` es un objeto de la clase base y ```obj_derivado``` un objeto de la clase derivada compare los siguientes outputs: \n",
        "```python\n",
        "isinstance(obj_base, ClaseBase)\n",
        "isinstance(obj_derivado, ClaseBase)\n",
        "isinstance(obj_base, ClaseDerivada)\n",
        "isinstance(obj_derivado, ClaseDerivada)\n",
        "```\n",
        "Finalmente observe el comportamiento de:\n",
        "```python\n",
        "type(obj_derivado) == ClaseBase\n",
        "type(obj_base) == ClaseDerivada\n",
        "```\n",
        "Deduzca por qué en PEP 8 se recomienda utilizar ```isinstance()``` en reemplazo de ```type()```.\n",
        "\n",
        "\n",
        "*Hint*: Es razonable considerar que los números enteros negativos, como sub-clase de los enteros, sigan siendo considerados como miembros de la clase \"enteros\" por un type-checker. "
      ]
    },
    {
      "cell_type": "markdown",
      "metadata": {
        "id": "LbhiXsDPXipT"
      },
      "source": [
        "---\n",
        "\n",
        "### Polimorfismo\n",
        "\n",
        "El polimorfismo se refiere al principio por el que es posible enviar mensajes sintácticamente iguales a objetos de clases distintas. \n",
        "El único requisito que deben cumplir los objetos que se utilizan de manera polimórfica es saber responder al mensaje que se les envía. \n",
        "\n",
        "Esto es ampliamente utilizado en herencia, como pudimos ver en el ejemplo anterior. \n",
        "Anulación de métodos también es un buen ejemplo de esto.\n",
        "\n",
        "\n",
        "#### Anulación de métodos\n",
        "\n",
        "La anulación de métodos en herencia, consiste en modificar o redefinir los métodos de una clase base a una clase derivada. El nombre de esta operación proviene *method overriding*. \n",
        "\n",
        "> **Ejemplo 📖** \n",
        "\n",
        "Se define la clase ```Ciudadano```. Como clase derivada se define ```Medico```."
      ]
    },
    {
      "cell_type": "code",
      "execution_count": null,
      "metadata": {
        "ExecuteTime": {
          "end_time": "2021-03-29T19:59:54.370825Z",
          "start_time": "2021-03-29T19:59:54.354826Z"
        },
        "tags": [],
        "id": "ehxQAppyXipT"
      },
      "outputs": [],
      "source": [
        "class Persona:\n",
        "    '''Clase que representa una persona cualquiera'''\n",
        "\n",
        "    def __init__(self, nombre, edad, ocupacion, amigos):\n",
        "        self.nombre = nombre\n",
        "        self.edad = edad\n",
        "        self.ocupacion = ocupacion\n",
        "        self.amigos = []\n",
        "        \n",
        "    def saludar(self):\n",
        "        print(f\"Hola!, soy {self.nombre} 👋\")\n",
        "        \n",
        "    def practicar_ocupacion(self):\n",
        "        print(f'Estoy practicando mi ocupacion: {self.ocupacion}')\n",
        "\n",
        "    def agregar_amigo(self, nuevo_amigo):\n",
        "        self.amigos.append(nuevo_amigo)\n",
        "\n",
        "class Medico(Persona):\n",
        "    '''Clase derivada que ignora el metodo saludo.'''\n",
        "    \n",
        "    def saludar(self):\n",
        "        print('Bienvenido a mi consulta')\n",
        "        \n",
        "        if self.nombre[-1] == 'a':\n",
        "            print('Soy la doctora ' + self.nombre)\n",
        "        else:\n",
        "            print('Soy el doctor ' + self.nombre)\n",
        "            "
      ]
    },
    {
      "cell_type": "markdown",
      "metadata": {
        "id": "9pSmYpQ_XipT"
      },
      "source": [
        "Al ejecutar, comprobamos que el método ```.saludo()``` es ignorado por la subclase Medico."
      ]
    },
    {
      "cell_type": "code",
      "execution_count": null,
      "metadata": {
        "id": "0y8hsMgkXipT"
      },
      "outputs": [],
      "source": [
        "ana = Persona('Ana', 23, 'estudiante', [])\n",
        "ana.saludar()"
      ]
    },
    {
      "cell_type": "code",
      "execution_count": null,
      "metadata": {
        "id": "dnYAsfUpXipU"
      },
      "outputs": [],
      "source": [
        "type(ana)"
      ]
    },
    {
      "cell_type": "code",
      "execution_count": null,
      "metadata": {
        "id": "O-3uj9QBXipU"
      },
      "outputs": [],
      "source": [
        "alejandra = Medico('Alejandra', 55, 'Doctora', [])\n",
        "alejandra.saludar()"
      ]
    },
    {
      "cell_type": "code",
      "execution_count": null,
      "metadata": {
        "id": "j2t09idBXipU"
      },
      "outputs": [],
      "source": [
        "type(alejandra)"
      ]
    },
    {
      "cell_type": "markdown",
      "metadata": {
        "id": "vKeLZnGYXipU"
      },
      "source": [
        "---\n",
        "\n",
        "### Sobrecarga de Operadores y Métodos Mágicos\n",
        "\n",
        "Los métodos mágicos, corresponden a funciones especiales con nombres fijos, por lo general denotados por doble guión bajo. Estos métodos nos permiten utilizar operaciones estándar como +, *, - en nuestras clases personalizadas. Hasta el momento se ha estudiado el método ```__init__()``` que sobrecarga la inicialización de clases."
      ]
    },
    {
      "cell_type": "code",
      "execution_count": null,
      "metadata": {
        "id": "vdPGUO3DXipU"
      },
      "outputs": [],
      "source": [
        "class ClaseBasica:\n",
        "    pass\n",
        "\n",
        "\n",
        "siguiente_objeto = ClaseBasica() # invocar ClaseBasica() en verdad ejecuta el método definido en init."
      ]
    },
    {
      "cell_type": "code",
      "execution_count": null,
      "metadata": {
        "id": "RpV7Sop0XipV"
      },
      "outputs": [],
      "source": [
        "class ClaseInitSobrecargado:\n",
        "    def __init__(self):\n",
        "        print('Me estoy instanciado...')\n",
        "        \n",
        "        \n",
        "ClaseInitSobrecargado()"
      ]
    },
    {
      "cell_type": "markdown",
      "metadata": {
        "id": "tJQh4E7GXipV"
      },
      "source": [
        "Se aprecia que no es necesario especificar un método ```__init__()``` para que la clase tenga un constructor predeterminado. Por otra parte, el concepto de **sobrecarga de operadores**, este se aprecia en las siguientes operaciones ya utilizadas:"
      ]
    },
    {
      "cell_type": "code",
      "execution_count": null,
      "metadata": {
        "id": "qOdjRKN6XipV"
      },
      "outputs": [],
      "source": [
        "print(9 + 9)\n",
        "print([1, 2] + [3, 4, 5])\n",
        "print('nueve ' + 'nueve')"
      ]
    },
    {
      "cell_type": "markdown",
      "metadata": {
        "id": "I_n5lRWsXipV"
      },
      "source": [
        "El operador sobrecargado es ```+``` pues está habilitado para trabajar de manera *polimorfica*, es decir, en distintas clases o tipos de datos. Los métodos mágicos juegan un papel fundamental en la sobrecarga de operadores. \n",
        "\n",
        "> **Ejemplo 📖**\n",
        "\n",
        "El método mágico asociado al operador ```+``` es ```__add__()```. Por tanto, cada objeto sobre el cual se puede operar con ```+``` tiene su propia implementación de ```__add__()```, en el siguiente código se sobrecarga el operador para que actúe sobre objetos de la clase ```Estudiante```. "
      ]
    },
    {
      "cell_type": "code",
      "execution_count": null,
      "metadata": {
        "id": "2m5-ee9NXipV"
      },
      "outputs": [],
      "source": [
        "class Estudiante(Persona):\n",
        "    def __init__(self, nombre, edad, amigos):\n",
        "        super().__init__(nombre, edad, 'estudiante', amigos)\n",
        "        # Un objeto de esta clase ahora tendrá el atributo horas estudiadas.\n",
        "        self.horas_estudiadas = 0\n",
        "        \n",
        "    def estudiar(self):\n",
        "        self.horas_estudiadas = self.horas_estudiadas + 1\n",
        "        print(f'He estudiado {self.horas_estudiadas} hora(s) 📚')\n",
        "        \n",
        "    def __add__(self, hora_de_estudio):\n",
        "        self.horas_estudiadas += hora_de_estudio\n",
        "        print(f'Estudié {hora_de_estudio} hora(s) 😯')\n"
      ]
    },
    {
      "cell_type": "code",
      "execution_count": null,
      "metadata": {
        "id": "DfWPUq4SXipV"
      },
      "outputs": [],
      "source": [
        "ana = Estudiante('Ana', 23, [])\n",
        "\n",
        "ana + 10"
      ]
    },
    {
      "cell_type": "markdown",
      "metadata": {
        "id": "M3O3lEiqXipV"
      },
      "source": [
        "---\n",
        "\n",
        "> **Ejercicios ✏️**\n",
        "\n",
        "1. Nombre los métodos mágicos asociados a los operadores ```-```, ```*```, ```//```, ```/```, ```%```, ```+=```,```*=```, ```<```, ```==``` y ```>=```.\n",
        "\n",
        "2. Defina la clase ```Temp```. Esta clase modela unidades de medida de temperatura (°C,°F y K) y permite sumarlas obteniendo el resultado en kelvins. Para esto, implemente:\n",
        "    1. Un atributo protegido ```_temp_conv```, consistente en un diccionario con los valores de conversión (ej. ```{'C': 274.15}```).\n",
        "    2. Un constructor que inicializa los atributos ```.val``` (float) y ```.unit``` (str). A estos atributos se les debe asociar una propiedad y setter correspondiente, donde se comprueba que los valores ```val``` sean superiores a 0 K y que las unidades ```.unit``` solo puedan ser 'C','F' o 'K'. \n",
        "    3. Un método ```.to_kelvin()``` que utiliza los atributos ```__temp_conv```, ```unit``` y ```val``` y retorna el valor correspondiente en kelvin.\n",
        "    4. Una sobrecarga al operador suma, de manera tal, que se puedan sumar objetos ```Temp``` con unidades de medición arbitrarias y se retorne un objeto ```Temp``` con el resultado en kelvins.\n",
        "    5. Una sobrecarga al operador ```__str__``` (método que conversión a tipo de dato string) que retorne el resultado del método ```.to_kelvin()``` concatenado con ' K'.\n",
        "    6. Una sobrecarga al operador ```__repr__``` (método de representación de objetos) que retorne un string de la forma ```'Temp('+ str(self.val) + ',' + self.unit + ')'```.\n",
        "    7. Defina objetos t1 y t2 de la clase ```Temp``` luego defina un objeto t3 como la suma de t1 y t2. Ejecute ```print(t3)```, ```str(t3)``` y luego ejecute ```t3```, relacione los *outputs* con el funcionamiento de ```__str__``` y ```__repr__```."
      ]
    },
    {
      "cell_type": "markdown",
      "metadata": {
        "id": "ZJVYjem-XipW"
      },
      "source": [
        "---\n",
        "\n",
        "### Herencia Múltiple\n",
        "\n",
        "Se pueden pensar las relaciones de herencia entre clases como un grafo dirigido, donde los vértices son las clases involucradas y las aristas representan las relaciones de jerarquía `clase derivada --> clase base`. \n",
        "\n",
        "Hasta ahora, este grafo posee la estructura de un bosque, donde cada árbol tiene como raíz una clase base, con la cual se conectan las clases derivadas, que a la vez pueden ser clases bases de nuevas clases derivadas. Sin embargo, esta estructura es bastante rígida y no permite que una clase derivada tenga más que una clase base. Justamente, esta última idea se conoce como **herencia múltiple** y permite flexibilizar la estructura de relaciones `clase base - clase derivada`.\n",
        "\n",
        "\n",
        "![Herencia Múltiple](https://i.postimg.cc/xTQKcDXv/herencia-multiple.png)\n",
        "<center>Ejemplo Herencia Múltiple</center>\n",
        "\n",
        "\n",
        "En Python, este tipo de herencia se obtiene por medio de la sintaxis:\n",
        "\n",
        "```python\n",
        "class ClaseDerivada(ClaseBase1, ClaseBase2, ClaseBase3, ...)\n",
        "\n",
        "    do_stuff()\n",
        "    pass #opcional\n",
        "```\n"
      ]
    },
    {
      "cell_type": "markdown",
      "metadata": {
        "id": "LlGVPTPCXipW"
      },
      "source": [
        "\n",
        "> **Ejemplo 📖**\n",
        "\n",
        "Es conveniente pensar la herencia múltiple como una composición de clases, cada una de las cuales representa una parte de un todo. Estudiemos el siguiente ejemplo. \n",
        "\n",
        "La antigua serie de televisión *power rangers* basaba sus tramas en peleas épicas entre grandes monstruos y robots. La principal herramienta de los héroes de la serie era el *Mega Zord*, robot colosal formado por la unión de otros 5 robots zoomorfos llamados *Dino Zords*. \n",
        "\n",
        "\n",
        "\n",
        "Para entender las relaciones de herencia y herencia múltiple creamos clase ```DinoZord```. A partir de aquí existen 2 posibilidades claras:\n",
        "\n",
        "1. Se modela cada Dino Zord como un objeto de la clase ```DinoZord``` en cuyo caso, cada Dino Zord tendría la misma clase base, y una misma estructura de métodos y atributos. Finalmente, un Mega Zord sería una clase que hereda únicamente de la clase base ```DinoZord``` y se instancia entregando 5 objetos tipo ```DinoZord``` compatibles. En este modelo solo habrían relaciones de herencia simple. **Obs**: puede ser un buen ejercicio modelar este esquema de herencia.\n",
        "\n",
        "2. Se modelan cinco clases distintas, cada una siendo clase derivada de ```DinoZord```. Estas clases se denotan como ```Tyrannosaurus```, ```Mastodon```, ```Triceratops```, ```Sabertooth```,```Pterodactyl```. Gracias a este esquema es posible implementar métodos distintos para cada clase derivada, manteniendo un esquema de atributos y métodos base. Finalmente, se crea la Clase ```MegaZord```, la cual hereda de las cinco clases derivadas anteriores. Por lo anterior, ```MegaZord``` sería además una clase tipo ```DinoZord```, por lo que comparte atributos y métodos base con cada una de las 5 clases de las que hereda. Finalmente, ```MegaZord``` tiene sus propios métodos y puede ignorar métodos coumunes de su clase base.\n",
        "\n",
        "\n",
        "![Zords](https://i.postimg.cc/dt9GCHCz/zords.jpg)\n",
        "\n",
        "<center>Fuente: https://www.bandai.es/sites/default/files//styles/foto_producto/public/Zords%20Power%20Rangers%20Movie%2013.jpg?itok=x8qpqAFa</center>\n",
        "\n",
        "\n",
        "En este ejemplo implementaremos la segunda opción:"
      ]
    },
    {
      "cell_type": "code",
      "execution_count": null,
      "metadata": {
        "ExecuteTime": {
          "end_time": "2021-03-29T18:13:49.321464Z",
          "start_time": "2021-03-29T18:13:49.303464Z"
        },
        "id": "Bu41jJJTXipW"
      },
      "outputs": [],
      "source": [
        "# Se define la clase base Zord\n",
        "class DinoZord:\n",
        "    '''Clase base ejemplo.\n",
        "    '''\n",
        "    def __init__(self, nombre, color, habilidad, largo, ancho, velocidad):\n",
        "        self.nombre = nombre\n",
        "        self.color = color\n",
        "        self.habilidad = habilidad\n",
        "        self.largo = largo\n",
        "        self.ancho = ancho\n",
        "        self.velocidad = velocidad\n",
        "\n",
        "    # Método de ataque\n",
        "    def attack(self):\n",
        "        print(f'⚔️ {self.nombre.title()} ataca usando {self.habilidad} !! ⚔️')"
      ]
    },
    {
      "cell_type": "markdown",
      "metadata": {
        "id": "qsgB77MhXipW"
      },
      "source": [
        "Como se puede apreciar, esta clase posee métodos y atributos. La clase tiene el método ```.attack()``` y cada clase derivada podrá anular ester método.\n",
        "\n",
        "Luego se fabrican 5 clases, cada una derivada ```DinoZord```."
      ]
    },
    {
      "cell_type": "code",
      "execution_count": null,
      "metadata": {
        "ExecuteTime": {
          "end_time": "2021-03-29T18:18:38.697509Z",
          "start_time": "2021-03-29T18:18:38.689509Z"
        },
        "id": "OHevHti6XipX"
      },
      "outputs": [],
      "source": [
        "class Tyrannosaurus(DinoZord):\n",
        "    '''Clase derivada - Herencia simple'''\n",
        "\n",
        "    # Se utililiza el método constructor directamente desde la clase base\n",
        "    def __init__(self):\n",
        "        super().__init__(nombre='Tyrannosaurus Dinozord',\n",
        "                         color='red',\n",
        "                         habilidad='fire energy blasts',\n",
        "                         largo=45,\n",
        "                         ancho=96,\n",
        "                         velocidad=120)\n",
        "\n",
        "    # Método protegido de ensamblaje\n",
        "    def _modo(self):\n",
        "        if self.pilot:\n",
        "            print(self.pilot + ' dice: ensamblando torso y cabeza')\n",
        "\n",
        "    def boost_dexterity(self):\n",
        "        print('Zord con destreza mejorada')"
      ]
    },
    {
      "cell_type": "code",
      "execution_count": null,
      "metadata": {
        "ExecuteTime": {
          "end_time": "2021-03-29T18:18:39.516415Z",
          "start_time": "2021-03-29T18:18:39.500374Z"
        },
        "id": "-4mHRtQIXipX"
      },
      "outputs": [],
      "source": [
        "class Mastodon(DinoZord):\n",
        "    '''Clase derivada - Herencia simple'''\n",
        "\n",
        "    def __init__(self):\n",
        "        super().__init__(nombre='Mastodon Dinozord',\n",
        "                         color='black',\n",
        "                         habilidad='frigid blasts of cold air',\n",
        "                         largo=24.7,\n",
        "                         ancho=108,\n",
        "                         velocidad=120)\n",
        "\n",
        "    # Método protegido de ensamblaje\n",
        "    def _modo(self):\n",
        "        if self.pilot:\n",
        "            print(self.pilot + ' dice: ensamblando espalda y brazos')\n",
        "\n",
        "    def boost_strength(self):\n",
        "        print('Zord con fuerza mejorada')"
      ]
    },
    {
      "cell_type": "code",
      "execution_count": null,
      "metadata": {
        "ExecuteTime": {
          "end_time": "2021-03-29T18:18:40.164447Z",
          "start_time": "2021-03-29T18:18:40.146446Z"
        },
        "id": "QkzhSOUvXipX"
      },
      "outputs": [],
      "source": [
        "class Triceratops(DinoZord):\n",
        "    '''Clase derivada - Herencia simple'''\n",
        "\n",
        "    def __init__(self):\n",
        "        super().__init__(nombre='Triceratops Dinozord',\n",
        "                         color='blue',\n",
        "                         habilidad='laser shots',\n",
        "                         largo=37.3,\n",
        "                         ancho=141,\n",
        "                         velocidad=140)\n",
        "\n",
        "    # Método protegido de ensamblaje\n",
        "    def _modo(self):\n",
        "        if self.pilot:\n",
        "            print(self.pilot + ' dice: ensamblando pierna izquierda')\n",
        "\n",
        "    def boost_endurance(self):\n",
        "        print('Zord con resistencia mejorada')"
      ]
    },
    {
      "cell_type": "code",
      "execution_count": null,
      "metadata": {
        "ExecuteTime": {
          "end_time": "2021-03-29T18:18:41.503461Z",
          "start_time": "2021-03-29T18:18:41.498447Z"
        },
        "id": "rgBiL29bXipX"
      },
      "outputs": [],
      "source": [
        "class Sabertooth(DinoZord):\n",
        "    '''Clase derivada - Herencia simple'''\n",
        "\n",
        "    def __init__(self):\n",
        "        super().__init__(nombre='Sabertooth Tiger Dinozord',\n",
        "                         color='yellow',\n",
        "                         habilidad='large yellow laser',\n",
        "                         largo=37.3,\n",
        "                         ancho=141,\n",
        "                         velocidad=140)\n",
        "\n",
        "    # Método protegido de ensamblaje\n",
        "    def _modo(self):\n",
        "        if self.pilot:\n",
        "            print(self.pilot + ' dice: ensamblando pierna derecha')\n",
        "\n",
        "    def boost_agility(self):\n",
        "        print('Zord con agilidad mejorada')"
      ]
    },
    {
      "cell_type": "code",
      "execution_count": null,
      "metadata": {
        "ExecuteTime": {
          "end_time": "2021-03-29T18:18:42.443472Z",
          "start_time": "2021-03-29T18:18:42.435443Z"
        },
        "code_folding": [],
        "id": "D1mBkEYpXipX"
      },
      "outputs": [],
      "source": [
        "class Pterodactyl(DinoZord):\n",
        "    '''Clase derivada - Herencia simple'''\n",
        "\n",
        "    def __init__(self):\n",
        "        super().__init__(nombre='Pterodactyl Dinozord',\n",
        "                         color='pink',\n",
        "                         habilidad='twin lasers',\n",
        "                         largo=21,\n",
        "                         ancho=84,\n",
        "                         velocidad='match 2.5')\n",
        "\n",
        "    # Método protegido de ensamblaje\n",
        "    def _modo(self):\n",
        "        if self.pilot:\n",
        "            print(self.pilot + ' dice: ensamblando pecho')\n",
        "\n",
        "    def boost_defense(self):\n",
        "        print('Zord con defensa mejorada')"
      ]
    },
    {
      "cell_type": "markdown",
      "metadata": {
        "id": "srpdCJ1dXipX"
      },
      "source": [
        "En este caso, cada clase derivada tiene una estructura común dada por los diccionarios privados ```__construction_dict``` y ```__attribute_dict```. Más aún, se reutiliza el método constructor de la clase base \n",
        "```DinoZord```, para asignar sus atributos base a todo objeto instanciado (representado por ```self```). Más aún, cada clase derivada tiene un método protegido en común ```._modo()``` y un método propio único de cada subclase (ej. ```.boost_defense()```). \n",
        "\n",
        "Finalmente se crea un clase con herencia múltiple ```MegaZord```."
      ]
    },
    {
      "cell_type": "code",
      "execution_count": null,
      "metadata": {
        "ExecuteTime": {
          "end_time": "2021-03-29T18:23:52.115846Z",
          "start_time": "2021-03-29T18:23:52.099876Z"
        },
        "id": "PF5Y0ygiXipY"
      },
      "outputs": [],
      "source": [
        "class MegaZord(Tyrannosaurus, Mastodon, Triceratops, Sabertooth, Pterodactyl):\n",
        "    '''Clase derivada - Ejemplo herencia multiple'''\n",
        "\n",
        "    # Constructor\n",
        "\n",
        "    def __init__(self, tyrannosaurus, mastodon, triceratops, sabertooth,\n",
        "                 pterodactyl):\n",
        "\n",
        "        # Secuencia de ensamblaje\n",
        "        tyrannosaurus._modo()\n",
        "        mastodon._modo()\n",
        "        triceratops._modo()\n",
        "        sabertooth._modo()\n",
        "        pterodactyl._modo()\n",
        "        '''\n",
        "        Constructor de caracteristicas base usando la clase base DinoZord, \n",
        "        observe que no se declaro explicitamente como clase base al definir\n",
        "        MegaZord, sin embargo sus atributos se heredan.\n",
        "        \n",
        "        '''\n",
        "\n",
        "        DinoZord.__init__(self, nombre='Mega Zord',\n",
        "                          color='Multicolor',\n",
        "                          habilidad='Power Sword',\n",
        "                          largo=67,\n",
        "                          ancho=570,\n",
        "                          velocidad=140)\n",
        "\n",
        "        # variables de la clase\n",
        "        self._components = (tyrannosaurus, mastodon, triceratops, sabertooth,\n",
        "                            pterodactyl)\n",
        "        self._mode = 'tank_mode'\n",
        "\n",
        "        # asignación de piloto\n",
        "        self.pilot = [zord.pilot for zord in self._components]\n",
        "\n",
        "        # Fin secuencia de construcción\n",
        "        print()\n",
        "        print(f'⚔️ Megazord activado en {self._mode}! ⚔️')\n",
        "\n",
        "    ''' Metodos: overriding y metodos nuevos.'''\n",
        "\n",
        "    # method overriding\n",
        "    def _modo(self):\n",
        "        return self._mode\n",
        "\n",
        "    # Nueva funcionalidad: wrapper de métodos heredados por herencia multiple\n",
        "    def boost(self):\n",
        "        self.boost_dexterity()\n",
        "        self.boost_defense()\n",
        "        self.boost_agility()\n",
        "        self.boost_endurance()\n",
        "        self.boost_strength()\n",
        "\n",
        "    # Nueva funcionalidad: cambio de modo\n",
        "    def change_mode(self):\n",
        "        if self._mode == 'battle_mode':\n",
        "            print('Cambiando a Tank Mode')\n",
        "            self._mode = 'tank_mode'\n",
        "\n",
        "        else:\n",
        "            print('Cambiando a Battle Mode')\n",
        "            self._mode = 'battle_mode'"
      ]
    },
    {
      "cell_type": "markdown",
      "metadata": {
        "id": "tl9uiUMNXipY"
      },
      "source": [
        "En esta clase, al heredar sus atributos de clases tipo ```DinoZord``` tiene la misma estructura base que cada una de su clases base. Esto se ve en su método ```.__init__()``` donde nuevamente se hace uso del constructor ```DinoZord.__init__()``` sobre los diccionarios privados ```__construction_dict``` y ```__attribute_dict```. Así mismo, la clase ```MegaZord``` posee la variables privadas extra ```__components``` y ```__mode```. Donde para esa última, existe un método especial setter denominado ```.change_mode()```. En la clase ```MegaZord``` se ignora el método ```_modo()``` (*overriding*) transformándolo en un *getter* para la ```__mode```. Por último, la clase ```MegaZord```tiene el método ```.boost()``` que ejecuta todos lo métodos propios de cada clase base. \n",
        "\n",
        "Se crean 5 objetos del tipo ```Tyrannosaurus```, ```Mastodon```, ```Triceratops```, ```Sabertooth``` y ```Pterodactyl```, para cada uno, se define la propiedad piloto. Finalmente se crea un objeto tipo ```MegaZord``` utilizando los 5 objetos ```DynoZord```."
      ]
    },
    {
      "cell_type": "code",
      "execution_count": null,
      "metadata": {
        "ExecuteTime": {
          "end_time": "2021-03-29T18:23:29.815150Z",
          "start_time": "2021-03-29T18:23:29.800153Z"
        },
        "scrolled": true,
        "tags": [],
        "id": "MNgF0tXJXipY"
      },
      "outputs": [],
      "source": [
        "tyrannosaurus = Tyrannosaurus()\n",
        "tyrannosaurus.pilot = 'Jason Lee Scott'\n",
        "\n",
        "mastodon = Mastodon()\n",
        "mastodon.pilot = 'Zack Taylor'\n",
        "\n",
        "triceratops = Triceratops()\n",
        "triceratops.pilot = 'Billy Cranston'\n",
        "\n",
        "sabertooth = Sabertooth()\n",
        "sabertooth.pilot = 'Trini Kwan'\n",
        "\n",
        "pterodactyl = Pterodactyl()\n",
        "pterodactyl.pilot = 'Kimberly Hart'\n",
        "\n",
        "mega_zord = MegaZord(tyrannosaurus, mastodon,\n",
        "                     triceratops, sabertooth, pterodactyl)"
      ]
    },
    {
      "cell_type": "markdown",
      "metadata": {
        "id": "1LVbO6KKXipY"
      },
      "source": [
        "Se hacen pruebas sobre los métodos y atributos del objeto ```mega_zord```."
      ]
    },
    {
      "cell_type": "code",
      "execution_count": null,
      "metadata": {
        "ExecuteTime": {
          "end_time": "2021-03-29T18:24:11.533297Z",
          "start_time": "2021-03-29T18:24:11.525266Z"
        },
        "id": "0T2CkZ89XipZ"
      },
      "outputs": [],
      "source": [
        "# Asignación de piloto: propiedad compuesta\n",
        "print('Pilotos: ', mega_zord.pilot, '\\n')\n",
        "\n",
        "\n",
        "# method overriding\n",
        "print('Modo:')\n",
        "print(mega_zord._modo(), '\\n')\n",
        "\n",
        "# Metodos propios\n",
        "print('Metodo propio boost:')\n",
        "mega_zord.boost()\n",
        "print('\\nMetodo propio change mode:')\n",
        "mega_zord.change_mode()\n",
        "\n",
        "# Metodos de heredados:\n",
        "# DinoZord\n",
        "print('\\nAtaque: ')\n",
        "mega_zord.attack()\n",
        "\n",
        "# Tyrannosaurus, Mastodon, Triceratops, Sabertooth y Pterodactyl\n",
        "print('\\nMetodos heredados:')\n",
        "mega_zord.boost_dexterity()\n",
        "mega_zord.boost_defense()\n",
        "mega_zord.boost_agility()\n",
        "mega_zord.boost_endurance()\n",
        "mega_zord.boost_strength()"
      ]
    },
    {
      "cell_type": "markdown",
      "metadata": {
        "id": "L6tzhZhHXipZ"
      },
      "source": [
        "---\n",
        "\n",
        "> **Ejercicios ✏️**\n",
        "\n",
        "**Problema del Diamante**: Cómo se mencionó anteriormente, el sistema de herencia múltiple permite flexibilizar las relaciones de jerarquía  vistas como un grafo dirigido. En este contexto es posible que formen relaciones tipo diamante, donde una clase base da origen a múltiples clases derivadas donde a la vez, todas son clases base de una última clase derivada. Este fenómeno se dio en el ejemplo anterior. \n",
        "\n",
        "1. Defina la clase ```A```, con el método ```.show()```, el cual imprime en pantalla ```'método show de clase A'```. \n",
        "\n",
        "2. Defina las clases ```B1``` y ```B2```, la clase ```B1``` debe anular el método ```.show()``` imprimiendo en pantalla ```'método show de clase B1'```, mientras que la clase ```B2``` anula el mismo método imprimiendo en pantalla ```'método show de clase B2'```.\n",
        "\n",
        "3. Defina la clase ```C1``` que hereda de ```B1``` y ```B2``` (en ese orden), esta clase no añade atributos ni métodos. Defina la clase ```C2```que hereda de ```B2``` y ```B1```(en ese orden).\n",
        "\n",
        "4. Cree los objetos ```c1``` y ```c2``` de las clases ```C1``` y ```C2``` respectivamente.  ¿Qué resultado se espera de ejecutar ```c1.show()``` y ```c2.show()```?\n",
        "\n",
        "5. Cree la clase ```B3```, esta clase no es más que *proxy* de la clase ```A``` (no agrega/quita/modifica ningún atributo o método). A continuación cree la clase ```C3``` que hereda de ```B3``` y ```B1```. Instancie el objeto ```c3``` de a clase ```C3``` y ejecute ```c3.show()``` ¿Qué resultado se espera? pruebe cambiando el orden de herencia en ```C3```, conmutando entre ```B1``` con ```B3``` y```B2``` con ```B3```. ¿En qué se diferencia con el ejercicio 4?\n",
        "\n",
        "Python resuelve el problema del diamante mediante un método de resolución de ordenes *MRO*. La intención de este ejercicio es que usted comprenda tal mecanismo, observando el orden búsqueda y ejecución de métodos. ¿Podría identificar este fenómeno en el ejemplo de ```DinoZord``` - ```MegaZord```?"
      ]
    }
  ],
  "metadata": {
    "kernelspec": {
      "display_name": "Python 3 (ipykernel)",
      "language": "python",
      "name": "python3"
    },
    "language_info": {
      "codemirror_mode": {
        "name": "ipython",
        "version": 3
      },
      "file_extension": ".py",
      "mimetype": "text/x-python",
      "name": "python",
      "nbconvert_exporter": "python",
      "pygments_lexer": "ipython3",
      "version": "3.9.7"
    },
    "nbTranslate": {
      "displayLangs": [
        "es",
        "en"
      ],
      "hotkey": "alt-t",
      "langInMainMenu": true,
      "sourceLang": "en",
      "targetLang": "es",
      "useGoogleTranslate": true
    },
    "toc": {
      "base_numbering": 1,
      "nav_menu": {},
      "number_sections": true,
      "sideBar": true,
      "skip_h1_title": false,
      "title_cell": "Table of Contents",
      "title_sidebar": "Contents",
      "toc_cell": false,
      "toc_position": {
        "height": "calc(100% - 180px)",
        "left": "10px",
        "top": "150px",
        "width": "269.867px"
      },
      "toc_section_display": true,
      "toc_window_display": false
    },
    "varInspector": {
      "cols": {
        "lenName": 16,
        "lenType": 16,
        "lenVar": 40
      },
      "kernels_config": {
        "python": {
          "delete_cmd_postfix": "",
          "delete_cmd_prefix": "del ",
          "library": "var_list.py",
          "varRefreshCmd": "print(var_dic_list())"
        },
        "r": {
          "delete_cmd_postfix": ") ",
          "delete_cmd_prefix": "rm(",
          "library": "var_list.r",
          "varRefreshCmd": "cat(var_dic_list()) "
        }
      },
      "types_to_exclude": [
        "module",
        "function",
        "builtin_function_or_method",
        "instance",
        "_Feature"
      ],
      "window_display": false
    },
    "colab": {
      "name": "MDS7202_Clase_4_POO.ipynb",
      "provenance": [],
      "toc_visible": true,
      "collapsed_sections": [
        "brUMpQdYXipF",
        "L0Z9NIJ0XipH",
        "6KSPznnNXipH",
        "gEYO-MSeXipJ",
        "761AWbRiXipL",
        "3qYbx0iWXipP",
        "IUVio5rqXipR",
        "LbhiXsDPXipT",
        "vKeLZnGYXipU",
        "ZJVYjem-XipW"
      ]
    }
  },
  "nbformat": 4,
  "nbformat_minor": 0
}