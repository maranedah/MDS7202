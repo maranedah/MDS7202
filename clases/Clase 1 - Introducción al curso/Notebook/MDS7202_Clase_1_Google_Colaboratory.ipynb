{
  "nbformat": 4,
  "nbformat_minor": 0,
  "metadata": {
    "colab": {
      "name": "MDS7202-Clase-1-Google-Colaboratory.ipynb",
      "provenance": [],
      "collapsed_sections": []
    },
    "kernelspec": {
      "name": "python3",
      "display_name": "Python 3"
    },
    "language_info": {
      "name": "python"
    }
  },
  "cells": [
    {
      "cell_type": "markdown",
      "source": [
        "# Clase 1 - Google Colaboratory\n",
        "\n",
        "\n",
        "**MDS7202:  Laboratorio de Programación Científica para Ciencia de Datos**\n",
        "\n",
        "Profesores: Matías Rojas y Mauricio Araneda.\n",
        "\n",
        "\n",
        "## Objetivos de la clase 📚\n",
        "\n",
        "- Presentar el entorno de programación `Google Colab`.\n",
        "- Mostrar ejemplos celdas de texto y celdas de código."
      ],
      "metadata": {
        "id": "-gjt2GaX4xnl"
      }
    },
    {
      "cell_type": "markdown",
      "source": [
        "\n",
        "#¿Qué es Google Colaboratory?\n",
        "\n",
        "Google Colab es una herramienta web que te permite escribir y ejecutar código de Python en tu navegador con las siguientes características:\n",
        "\n",
        "- No requiere una configuración previa.\n",
        "- Entrega un acceso gratuito a una GPU.\n",
        "- Promueve la colaboración, se puede compartir fácilmente.\n",
        "\n",
        "En particular, esta aplicación esta basada en el uso de Notebooks de trabajo, los cuáles pueden contener código como también texto.\n"
      ],
      "metadata": {
        "id": "YmqR4YtL5gRr"
      }
    },
    {
      "cell_type": "markdown",
      "source": [
        "# Elementos principales."
      ],
      "metadata": {
        "id": "y_kX5cT8Jxh_"
      }
    },
    {
      "cell_type": "markdown",
      "source": [
        "## Celda\n",
        "Los notebooks están compuesto por una lista de celdas, donde cada puede contener una explicación textual o un código ejecutable."
      ],
      "metadata": {
        "id": "YhAZvSid8sAu"
      }
    },
    {
      "cell_type": "markdown",
      "source": [
        "### Celdas de código\n",
        "Abajo tenemos un ejemplo de una **celda de código**. Luego de que el botón superior nos indica que estamos conectados al entorno de ejecución, puedes ejecutar la celda de las siguientes formas:\n",
        "\n",
        "* Presionar el botón **Play** que se encuentra a la derecha de la celda.\n",
        "* Presionar las teclas **Cmd/Ctrl+Enter** para ejecutar la celda actual.\n",
        "* Presionar **Shift+Enter** para ejecutar la celda y moverse a la siguiente (en caso que no exista añade una nueva).\n",
        "* Presionar **Alt/Option+Enter** para ejecutar la celda y automáticamente insertar una celda de código."
      ],
      "metadata": {
        "id": "1DKisC9f84sR"
      }
    },
    {
      "cell_type": "code",
      "source": [
        "print(\"Esto es una celda de código\")"
      ],
      "metadata": {
        "id": "CGRGjjRk9qWk"
      },
      "execution_count": null,
      "outputs": []
    },
    {
      "cell_type": "markdown",
      "source": [
        "---\n",
        "\n",
        "### Celdas de texto - Markdown\n",
        "\n",
        "Es un lenguaje de marcado que permite escribir de forma programática texto con formato, imágenes, tablas, código, entre otros. Para ver el código markdown asociado a la celda, deben realizar doble click sobre una celda. A continuación se presentan algunos comandos útiles:"
      ],
      "metadata": {
        "id": "rW42F8sA5qMb"
      }
    },
    {
      "cell_type": "markdown",
      "source": [
        "Markdown | Preview\n",
        "--- | ---\n",
        "`**bold text**` | **bold text**\n",
        "`*italicized text*` or `_italicized text_` | *italicized text*\n",
        "`` `Monospace` `` | `Monospace`\n",
        "`~~strikethrough~~` | ~~strikethrough~~\n",
        "`[A link](https://www.google.com)` | [A link](https://www.google.com)\n",
        "`![An image](https://www.google.com/images/rss.png)` | ![An image](https://www.google.com/images/rss.png)\n",
        "\n",
        "\n",
        "---\n",
        "# Títulos.\n",
        "\n",
        "```markdown\n",
        "# Section 1\n",
        "# Section 2\n",
        "## Sub-section under Section 2\n",
        "### Sub-section under the sub-section under Section 2\n",
        "# Section 3\n",
        "```\n",
        "\n",
        "# Section 1\n",
        "# Section 2\n",
        "## Sub-section under Section 2\n",
        "### Sub-section under the sub-section under Section 2\n",
        "# Section 3\n",
        "\n",
        "\n",
        "---\n",
        "# Indentaciones \n",
        "\n",
        "```markdown\n",
        ">One level of indentation\n",
        "```\n",
        "\n",
        ">One level of indentation\n",
        "\n",
        "\n",
        "```markdown\n",
        ">>Two levels of indentation\n",
        "```\n",
        "\n",
        ">>Two levels of indentation\n",
        "\n",
        "---\n",
        "\n",
        "# Bloques de código\n",
        "\n",
        "````\n",
        "```python\n",
        "print(\"a\")\n",
        "```\n",
        "````\n",
        "\n",
        "```python\n",
        "print(\"a\")\n",
        "```\n",
        "\n",
        "---\n",
        "\n",
        "Listas ordenadas:\n",
        "```markdown\n",
        "1. One\n",
        "1. Two\n",
        "1. Three\n",
        "```\n",
        "1. One\n",
        "2. Two\n",
        "3. Three\n",
        "\n",
        "---\n",
        "\n",
        "Listas no ordenadas:\n",
        "```markdown\n",
        "* One\n",
        "* Two\n",
        "* Three\n",
        "```\n",
        "* One\n",
        "* Two\n",
        "* Three\n",
        "\n",
        "---\n",
        "\n",
        "Ecuaciones:\n",
        "\n",
        "```markdown\n",
        "$y=x^2$\n",
        "\n",
        "$e^{i\\pi} + 1 = 0$\n",
        "\n",
        "$e^x=\\sum_{i=0}^\\infty \\frac{1}{i!}x^i$\n",
        "\n",
        "$\\frac{n!}{k!(n-k)!} = {n \\choose k}$\n",
        "\n",
        "$A_{m,n} =\n",
        " \\begin{pmatrix}\n",
        "  a_{1,1} & a_{1,2} & \\cdots & a_{1,n} \\\\\n",
        "  a_{2,1} & a_{2,2} & \\cdots & a_{2,n} \\\\\n",
        "  \\vdots  & \\vdots  & \\ddots & \\vdots  \\\\\n",
        "  a_{m,1} & a_{m,2} & \\cdots & a_{m,n}\n",
        " \\end{pmatrix}$\n",
        "```\n",
        "\n",
        "$y=x^2$\n",
        "\n",
        "$e^{i\\pi} + 1 = 0$\n",
        "\n",
        "$e^x=\\sum_{i=0}^\\infty \\frac{1}{i!}x^i$\n",
        "\n",
        "$\\frac{n!}{k!(n-k)!} = {n \\choose k}$\n",
        "\n",
        "$A_{m,n} =\n",
        " \\begin{pmatrix}\n",
        "  a_{1,1} & a_{1,2} & \\cdots & a_{1,n} \\\\\n",
        "  a_{2,1} & a_{2,2} & \\cdots & a_{2,n} \\\\\n",
        "  \\vdots  & \\vdots  & \\ddots & \\vdots  \\\\\n",
        "  a_{m,1} & a_{m,2} & \\cdots & a_{m,n}\n",
        " \\end{pmatrix}$\n",
        "\n",
        "\n",
        " ---\n",
        "\n",
        "Tablas:\n",
        "```markdown\n",
        "First column name  | Second column name \n",
        "-------------------|------------------\n",
        "Row 1, Col 1       | Row 1, Col 2 \n",
        "Row 2, Col 1       | Row 2, Col 2 \n",
        "\n",
        "```\n",
        "\n",
        "First column name  | Second column name \n",
        "-------------------|------------------\n",
        "Row 1, Col 1       | Row 1, Col 2 \n",
        "Row 2, Col 1       | Row 2, Col 2 \n",
        "\n",
        "---\n",
        "\n",
        "Linea horizontal:\n",
        "```markdown\n",
        "---\n",
        "```\n",
        "\n",
        "---\n"
      ],
      "metadata": {
        "id": "SWZpY4XQ-cot"
      }
    },
    {
      "cell_type": "markdown",
      "source": [
        "# **Ejemplo de código**"
      ],
      "metadata": {
        "id": "8lP0yRVf--q7"
      }
    },
    {
      "cell_type": "code",
      "source": [
        "import plotly.express as px\n",
        "\n",
        "df = px.data.gapminder()\n",
        "df"
      ],
      "metadata": {
        "id": "2udQFg0K_QP7"
      },
      "execution_count": null,
      "outputs": []
    },
    {
      "cell_type": "code",
      "source": [
        "df.describe()"
      ],
      "metadata": {
        "id": "-5ED7UOa_Qgz"
      },
      "execution_count": null,
      "outputs": []
    },
    {
      "cell_type": "code",
      "source": [
        "import plotly.express as px\n",
        "df = px.data.gapminder().query(\"year==2007\")\n",
        "fig = px.choropleth(df, locations=\"iso_alpha\", color=\"continent\",\n",
        "                     hover_name=\"country\", \n",
        "                     projection=\"natural earth\")\n",
        "fig.show()"
      ],
      "metadata": {
        "id": "-TmdDqXd_R-E"
      },
      "execution_count": null,
      "outputs": []
    },
    {
      "cell_type": "code",
      "source": [
        "px.histogram(\n",
        "    df.query(\"year == 2007\"),\n",
        "    x='gdpPercap',\n",
        "    color=\"continent\", \n",
        "    hover_name=\"country\",\n",
        "    nbins=15,\n",
        "    facet_col='continent'\n",
        "    )"
      ],
      "metadata": {
        "id": "bT_Jlnh3_TXS"
      },
      "execution_count": null,
      "outputs": []
    },
    {
      "cell_type": "code",
      "source": [
        "df = px.data.gapminder()\n",
        "px.scatter(df.query(\"year==2007\"), \n",
        "           x=\"gdpPercap\", \n",
        "           y=\"lifeExp\", \n",
        "           size=\"pop\", \n",
        "           color=\"continent\", \n",
        "           hover_name=\"country\",\n",
        "           log_x=True, \n",
        "           size_max=55, \n",
        "           range_x=[100,100000], \n",
        "           range_y=[25,90])"
      ],
      "metadata": {
        "id": "r-V37M0N_Xuq"
      },
      "execution_count": null,
      "outputs": []
    }
  ]
}