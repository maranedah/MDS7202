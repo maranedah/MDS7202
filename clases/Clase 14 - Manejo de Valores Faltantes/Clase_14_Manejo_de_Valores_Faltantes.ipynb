{
  "cells": [
    {
      "cell_type": "markdown",
      "id": "2b3effdd",
      "metadata": {
        "id": "2b3effdd"
      },
      "source": [
        "# Clase 14: Manejo de Valores Faltantes\n",
        "\n",
        "**MDS7202: Laboratorio de Programación Científica para Ciencia de Datos**\n",
        "\n",
        "**Profesor: Matías Rojas**\n",
        "\n",
        "\n",
        "## Roadmap\n",
        "\n",
        "\n",
        "<img src='https://i.ibb.co/4tHWJRQ/etapas.png'/>\n"
      ]
    },
    {
      "cell_type": "markdown",
      "id": "004e4fbd",
      "metadata": {
        "id": "004e4fbd"
      },
      "source": [
        "## Objetivos de la Clase\n",
        "\n",
        "- Entender la complejidad de tener datos faltantes para los modelos.\n",
        "- Entender los distintos tipos de datos faltantes.\n",
        "- Explorar las opciones para solucionar el problema de datos faltantes.\n",
        "- Integrar los conocimientos adquiridos al pipeline."
      ]
    },
    {
      "cell_type": "markdown",
      "id": "d2e02d4b",
      "metadata": {
        "id": "d2e02d4b"
      },
      "source": [
        "## Retomando nuestro Pipeline\n",
        "\n",
        "\n",
        "Un pipeline es una lista de tuplas. \n",
        "\n",
        "- La lista contiene todos los pasos que se efectuan desde la entrada hasta la salida del pipeline\n",
        "- Cata tupla de la lista representa un subproceso del pipeline. Este debe estar compuesto por un nombre u la clase que corresponda.\n",
        "\n",
        "![Pipeline](https://i.ibb.co/bzkNpNS/pipeline.png)\n",
        "\n",
        "Por ejemplo, para la imágen anterior, el pipeline sería: \n",
        "\n",
        "```python\n",
        "pipe = Pipeline([('scaling', Scaler()),\n",
        "                 ('dimensionality_reduction', DimReductor()),\n",
        "                 ('predictive_model', Model())])\n",
        "```\n",
        "\n",
        "---\n",
        "\n",
        "### Dataset - House Pricing\n",
        "\n",
        "\n",
        "![House Pricing](https://storage.googleapis.com/kaggle-competitions/kaggle/5407/media/housesbanner.png)\n",
        "\n",
        "Fuente: https://www.kaggle.com/c/house-prices-advanced-regression-techniques\n",
        "\n",
        "El dataset **`house pricing`** consiste en 80 variables (79 variables explicativas más una variable objetivo) que describen aspectos fundamentales de hogares residenciales en la ciudad de *Ames, Iowa*. \n",
        "\n",
        "La variable objetivo es el precio final de cada hogar (regresión)"
      ]
    },
    {
      "cell_type": "code",
      "execution_count": null,
      "id": "a4169ba0",
      "metadata": {
        "scrolled": true,
        "id": "a4169ba0"
      },
      "outputs": [],
      "source": [
        "import pandas as pd\n",
        "\n",
        "df = pd.read_csv(\"https://raw.githubusercontent.com/maranedah/MDS7202/main/clases/Clase%2014%20-%20Manejo%20de%20Valores%20Faltantes/train.csv\", index_col=\"Id\")\n",
        "df.head()"
      ]
    },
    {
      "cell_type": "code",
      "execution_count": null,
      "id": "9e987066",
      "metadata": {
        "id": "9e987066"
      },
      "outputs": [],
      "source": [
        "cat_cols = [\n",
        "    \"MSZoning\",\n",
        "    \"Street\",\n",
        "    \"Alley\",\n",
        "    \"LandContour\",\n",
        "    \"LotConfig\",\n",
        "    \"Neighborhood\",\n",
        "    \"Condition1\",\n",
        "    \"Condition2\",\n",
        "    \"BldgType\",\n",
        "    \"HouseStyle\",\n",
        "    \"RoofStyle\",\n",
        "    \"RoofMatl\",\n",
        "    \"Exterior1st\",\n",
        "    \"Exterior2nd\",\n",
        "    \"MasVnrType\",\n",
        "    \"Foundation\",\n",
        "    \"Heating\",\n",
        "    \"CentralAir\",\n",
        "    \"Electrical\",\n",
        "    \"GarageType\",\n",
        "    \"PavedDrive\",\n",
        "    \"MiscFeature\",\n",
        "    \"SaleType\",\n",
        "    \"SaleCondition\",\n",
        "]\n",
        "\n",
        "ordinal_cols = [\n",
        "    \"LotShape\",\n",
        "    \"Utilities\",\n",
        "    \"LandSlope\",\n",
        "    \"ExterQual\",\n",
        "    \"ExterCond\",\n",
        "    \"BsmtQual\",\n",
        "    \"BsmtCond\",\n",
        "    \"BsmtExposure\",\n",
        "    \"BsmtFinType1\",\n",
        "    \"BsmtFinType2\",\n",
        "    \"HeatingQC\",\n",
        "    \"KitchenQual\",\n",
        "    \"Functional\",\n",
        "    \"FireplaceQu\",\n",
        "    \"GarageFinish\",\n",
        "    \"GarageQual\",\n",
        "    \"GarageCond\",\n",
        "    \"PoolQC\",\n",
        "    \"Fence\",\n",
        "]\n",
        "\n",
        "# Adquieren las categorias de cada variable\n",
        "ordinal_cat = [\n",
        "    [\"Reg\", \"IR1\", \"IR2\", \"IR3\"],\n",
        "    [\"AllPub\", \"NoSewr\", \"NoSeWa\", \"ELO\"],\n",
        "    [\"Gtl\", \"Mod\", \"Sev\"],\n",
        "    [\"Po\", \"Fa\", \"TA\", \"Gd\", \"Ex\"],\n",
        "    [\"Po\", \"Fa\", \"TA\", \"Gd\", \"Ex\"],\n",
        "    [\"NA\", \"Po\", \"Fa\", \"TA\", \"Gd\", \"Ex\"],\n",
        "    [\"NA\", \"Po\", \"Fa\", \"TA\", \"Gd\", \"Ex\"],\n",
        "    [\"NA\", \"No\", \"Mn\", \"Av\", \"Gd\"],\n",
        "    [\"NA\", \"Unf\", \"LwQ\", \"Rec\", \"BLQ\", \"ALQ\", \"GLQ\"],\n",
        "    [\"NA\", \"Unf\", \"LwQ\", \"Rec\", \"BLQ\", \"ALQ\", \"GLQ\"],\n",
        "    [\"Po\", \"Fa\", \"TA\", \"Gd\", \"Ex\"],\n",
        "    [\"Po\", \"Fa\", \"TA\", \"Gd\", \"Ex\"],\n",
        "    [\"Sal\", \"Sev\", \"Maj2\", \"Maj1\", \"Mod\", \"Min2\", \"Min1\", \"Typ\"],\n",
        "    [\"NA\", \"Po\", \"Fa\", \"TA\", \"Gd\", \"Ex\"],\n",
        "    [\"NA\", \"Unf\", \"RFn\", \"Fin\"],\n",
        "    [\"NA\", \"Po\", \"Fa\", \"TA\", \"Gd\", \"Ex\"],\n",
        "    [\"NA\", \"Po\", \"Fa\", \"TA\", \"Gd\", \"Ex\"],\n",
        "    [\"NA\", \"Fa\", \"TA\", \"Gd\", \"Ex\"],\n",
        "    [\"NA\", \"MnWw\", \"GdWo\", \"MnPrv\", \"GdPrv\"],\n",
        "]\n",
        "\n",
        "num_cols = [\n",
        "    \"MSSubClass\",\n",
        "    \"LotFrontage\",\n",
        "    \"LotArea\",\n",
        "    \"OverallQual\",\n",
        "    \"OverallCond\",\n",
        "    \"YearBuilt\",\n",
        "    \"YearRemodAdd\",\n",
        "    \"MasVnrArea\",\n",
        "    \"BsmtFinSF1\",\n",
        "    \"BsmtFinSF2\",\n",
        "    \"BsmtUnfSF\",\n",
        "    \"TotalBsmtSF\",\n",
        "    \"1stFlrSF\",\n",
        "    \"2ndFlrSF\",\n",
        "    \"LowQualFinSF\",\n",
        "    \"GrLivArea\",\n",
        "    \"BsmtFullBath\",\n",
        "    \"BsmtHalfBath\",\n",
        "    \"FullBath\",\n",
        "    \"HalfBath\",\n",
        "    \"BedroomAbvGr\",\n",
        "    \"KitchenAbvGr\",\n",
        "    \"TotRmsAbvGrd\",\n",
        "    \"Fireplaces\",\n",
        "    \"GarageYrBlt\",\n",
        "    \"GarageCars\",\n",
        "    \"GarageArea\",\n",
        "    \"WoodDeckSF\",\n",
        "    \"OpenPorchSF\",\n",
        "    \"EnclosedPorch\",\n",
        "    \"3SsnPorch\",\n",
        "    \"ScreenPorch\",\n",
        "    \"PoolArea\",\n",
        "    \"MiscVal\",\n",
        "    \"MoSold\",\n",
        "    \"YrSold\",\n",
        "]"
      ]
    },
    {
      "cell_type": "code",
      "execution_count": null,
      "id": "64c2f56c",
      "metadata": {
        "id": "64c2f56c"
      },
      "outputs": [],
      "source": [
        "from sklearn.compose import ColumnTransformer\n",
        "from sklearn.pipeline import Pipeline\n",
        "from sklearn.preprocessing import OneHotEncoder, OrdinalEncoder, StandardScaler"
      ]
    },
    {
      "cell_type": "code",
      "execution_count": null,
      "id": "771174da",
      "metadata": {
        "id": "771174da"
      },
      "outputs": [],
      "source": [
        "# Preprocesador Compuesto\n",
        "preprocessing = ColumnTransformer(\n",
        "    transformers=[\n",
        "        (\"standard_scaler\", StandardScaler(), num_cols),\n",
        "        (\n",
        "            \"category_one_hot\",\n",
        "            OneHotEncoder(sparse=False, handle_unknown=\"ignore\"),\n",
        "            cat_cols,\n",
        "        ),\n",
        "        (\"ordinal_encoder\", OrdinalEncoder(categories=ordinal_cat), ordinal_cols),\n",
        "    ]\n",
        ")"
      ]
    },
    {
      "cell_type": "code",
      "execution_count": null,
      "id": "2e6d9f1e",
      "metadata": {
        "id": "2e6d9f1e"
      },
      "outputs": [],
      "source": [
        "preprocessing.transformers[0][1]"
      ]
    },
    {
      "cell_type": "code",
      "execution_count": null,
      "id": "bc745903",
      "metadata": {
        "id": "bc745903"
      },
      "outputs": [],
      "source": [
        "pipe = Pipeline([(\"Preprocessing\", preprocessing)])\n",
        "pipe"
      ]
    },
    {
      "cell_type": "markdown",
      "id": "e249a2bc",
      "metadata": {
        "id": "e249a2bc"
      },
      "source": [
        "## Exploración de Datos Faltantes\n",
        "\n"
      ]
    },
    {
      "cell_type": "code",
      "execution_count": null,
      "id": "5ecdd9ab",
      "metadata": {
        "id": "5ecdd9ab"
      },
      "outputs": [],
      "source": [
        "# Instalamos el paquete usando conda o pip\n",
        "import sys\n",
        "\n",
        "import matplotlib.pyplot as plt\n",
        "\n",
        "try:\n",
        "    import missingno as msno\n",
        "except ImportError as e: \n",
        "    !{sys.executable} -m pip install --upgrade missingno # descomentar si se usa pip\n",
        "    \n",
        "import missingno as msno"
      ]
    },
    {
      "cell_type": "markdown",
      "id": "14bb5a04",
      "metadata": {
        "id": "14bb5a04"
      },
      "source": [
        "### Conteo de Datos no Nulos"
      ]
    },
    {
      "cell_type": "code",
      "execution_count": null,
      "id": "eaf5af47",
      "metadata": {
        "id": "eaf5af47"
      },
      "outputs": [],
      "source": [
        "import plotly.express as px\n",
        "\n",
        "conteo_nulos = (\n",
        "    (len(df) - df.isna().sum())\n",
        "    .to_frame(\"Obs\")\n",
        "    .reset_index()\n",
        "    .rename(columns={\"index\": \"Col\"})\n",
        ")\n",
        "\n",
        "px.bar(\n",
        "    conteo_nulos.sort_values(\"Obs\"),\n",
        "    x=\"Obs\",\n",
        "    y=\"Col\",\n",
        "    height=800,\n",
        "    title=\"Cantidad de Datos no Nulos por Columna\",\n",
        ")"
      ]
    },
    {
      "cell_type": "markdown",
      "id": "8ed76e05",
      "metadata": {
        "id": "8ed76e05"
      },
      "source": [
        "### Nullity Matrix\n",
        "\n",
        "Permite visualizar los datos faltantes a traves de barras. \n",
        "Cada espacio en gris representa una observación y cada espacio en blanco simboliza un dato faltante."
      ]
    },
    {
      "cell_type": "code",
      "execution_count": null,
      "id": "fcc3d1a5",
      "metadata": {
        "id": "fcc3d1a5"
      },
      "outputs": [],
      "source": [
        "msno.matrix(df.iloc[:, :40])"
      ]
    },
    {
      "cell_type": "code",
      "execution_count": null,
      "id": "dcb88d35",
      "metadata": {
        "id": "dcb88d35"
      },
      "outputs": [],
      "source": [
        "msno.matrix(df.iloc[:, 40:])"
      ]
    },
    {
      "cell_type": "code",
      "execution_count": null,
      "id": "190e46f2",
      "metadata": {
        "id": "190e46f2"
      },
      "outputs": [],
      "source": [
        "df.loc[:, [\"Fireplaces\", \"FireplaceQu\"]]"
      ]
    },
    {
      "cell_type": "markdown",
      "id": "822033a1",
      "metadata": {
        "id": "822033a1"
      },
      "source": [
        "> **Pregunta ❓**: ¿Qué representan las variables con mayor falta de información?\n",
        "\n",
        "\n"
      ]
    },
    {
      "cell_type": "markdown",
      "id": "b70e7214",
      "metadata": {
        "id": "b70e7214"
      },
      "source": [
        "### Mapa de Calor\n",
        "\n",
        "\n",
        "El mapa de calor se utiliza para identificar las correlaciones de nulidad (relación en la presencia de valores) entre las columnas. \n",
        "\n",
        "- Los valores cercanos a 1 indican que la presencia de valores nulos en una columna está correlacionada con la presencia de valores nulos en otra columna.\n",
        "\n",
        "- Los valores cercanos a -1 indican que la presencia de valores nulos en una columna está inversamente correlacionada con la presencia de valores nulos en otra columna. En otras palabras, cuando los valores nulos están presentes en una columna, hay valores de datos presentes en la otra columna, y viceversa.\n",
        "\n",
        "- Los valores cercanos a 0, indican que hay poca o ninguna relación entre la presencia de valores nulos en una columna en comparación con otra."
      ]
    },
    {
      "cell_type": "code",
      "execution_count": null,
      "id": "671c6444",
      "metadata": {
        "id": "671c6444"
      },
      "outputs": [],
      "source": [
        "import matplotlib.pyplot as plt\n",
        "\n",
        "msno.heatmap(df)"
      ]
    },
    {
      "cell_type": "markdown",
      "id": "64b43b41",
      "metadata": {
        "id": "64b43b41"
      },
      "source": [
        "## Manejo de valores faltantes\n",
        "\n",
        "Por lo general, existen razones prácticas y conceptuales a tener en cuenta cuando se trabaja con valores faltantes. \n",
        "\n",
        "### Conceptual\n",
        "\n",
        "**La falta de información introduce sesgos en los modelos de datos**, pues hace que las muestras obtenidas no sean representativas del fenómeno que se desea estudiar. Esto puede generar conclusiones sesgadas y puede llevar a tomar malas decisiones. \n",
        "\n",
        "### Práctica\n",
        "\n",
        "**Los valores faltantes son incompatibles con algunos modelos de aprendizaje automático**, debido a que estos modelos son parte de la razón fundamental de analizar un fenómeno por medio de datos,es que se necesita comprender bien los mecanismos de manejo de este tipo de valores. \n"
      ]
    },
    {
      "cell_type": "markdown",
      "id": "3a289169",
      "metadata": {
        "id": "3a289169"
      },
      "source": [
        "### Tipos de datos Faltantes\n",
        "\n",
        "Para el ejemplo, supongamos que efectuamos una encuesta a una población acerca de datos demográficos y de salarios.\n",
        "\n",
        "|  | MCAR | MAR | MNAR |\n",
        "|---|---|---|---|\n",
        "| **Nombre** | Missing completely at random | Missing at Random | Missing not at Random |\n",
        "| **Descripción** | Es el caso en que los datos faltantes son aleatorios y que esta falta no puede ser explicada por ninguna otra variable del dataset. <br>En este caso es util pensar que cualquier observación tiene una probabilidad de perderse y las que no están, simplemente se perdieron por azar. | Es el caso en que la perdida de datos está relacionado con alguna otra variable (no con si misma), pero la falta de información es aleatoria.<br>En este caso, la falta de información no es al azar.  | Es el caso en que los datos faltantes están relacionados con la variable en si. Es el peor tipo de dato faltante ya que lleva a calcular estadísticas descriptivas sesgadas. |\n",
        "| **Ejemplo** | Una de las preguntas en la encuesta era la altura, cuya respuesta era opcional. Al revisar los resultados de la encuesta, notas que falta el 37% de los valores `altura`.<br><br>En este caso, no hay ningún patrón de perdida, es simplemente aleatorio.  | A partir de los 50 años, las personas tienden a dejar de entregar información respecto a su sueldo.<br><br>El patrón de perdida en este caso es la edad: desde los 50 años, la información sobre el sueldo tiende a faltar aleatoriamente. | Personas con sueldos mayores a los 1.250.000$ tienden a no informar su sueldo.<br><br>El patrón de perdida de información en este caso es el sueldo en si y no se relaciona con ninguna otra variable. |\n",
        "| **Solución** | Eliminar las filas que no contengan los datos o imputar valores (por ejemplo, reemplazar los faltantes por la media, moda o mediana). | Imputar (en el ejemplo podría ser una regresión edad-sueldo) | Intentar recuperar esos datos de la fuente original del dataset, cruzar con otros datasets. |"
      ]
    },
    {
      "cell_type": "markdown",
      "id": "e6cd2129",
      "metadata": {
        "id": "e6cd2129"
      },
      "source": [
        "### Análisis de Algunas Variables Según Tipo"
      ]
    },
    {
      "cell_type": "code",
      "execution_count": null,
      "id": "4caa6a02",
      "metadata": {
        "id": "4caa6a02"
      },
      "outputs": [],
      "source": [
        "msno.matrix(df.iloc[:, :40])"
      ]
    },
    {
      "cell_type": "code",
      "execution_count": null,
      "id": "3a7519f3",
      "metadata": {
        "id": "3a7519f3"
      },
      "outputs": [],
      "source": [
        "df.loc[:, [\"Alley\"]]"
      ]
    },
    {
      "cell_type": "code",
      "execution_count": null,
      "id": "6776e89e",
      "metadata": {
        "id": "6776e89e"
      },
      "outputs": [],
      "source": [
        "df.loc[:, \"Alley\"].value_counts(dropna=False)"
      ]
    },
    {
      "cell_type": "code",
      "execution_count": null,
      "id": "b3dfc31e",
      "metadata": {
        "id": "b3dfc31e"
      },
      "outputs": [],
      "source": [
        "# Existirá relación con alguna otra variable?\n",
        "df.loc[:, [\"Street\", \"Alley\"]]"
      ]
    },
    {
      "cell_type": "code",
      "execution_count": null,
      "id": "d9affcdb",
      "metadata": {
        "id": "d9affcdb"
      },
      "outputs": [],
      "source": [
        "# Eliminamos los nulos para ver si hay alguna relación\n",
        "df.loc[:, [\"Street\", \"Alley\"]].dropna()"
      ]
    },
    {
      "cell_type": "markdown",
      "id": "8e72e0b8",
      "metadata": {
        "id": "8e72e0b8"
      },
      "source": [
        "> **Pregunta ❓:** ¿Qué tipo de dato faltante es?"
      ]
    },
    {
      "cell_type": "markdown",
      "id": "a39918e6-2546-4027-8c80-701ed9e6043e",
      "metadata": {
        "id": "a39918e6-2546-4027-8c80-701ed9e6043e"
      },
      "source": [
        "#### Alley (Callejón de Entrada)\n",
        "\n",
        "Type of alley access to property\n",
        "\n",
        "       Grvl\tGravel\n",
        "       Pave\tPaved\n",
        "       NA \tNo alley access"
      ]
    },
    {
      "cell_type": "markdown",
      "id": "47eeeb98",
      "metadata": {
        "id": "47eeeb98"
      },
      "source": [
        "### LotFrontage\n",
        "\n",
        "LotFrontage: Linear feet of street connected to property"
      ]
    },
    {
      "cell_type": "code",
      "execution_count": null,
      "id": "0afc7350",
      "metadata": {
        "id": "0afc7350"
      },
      "outputs": [],
      "source": [
        "df.loc[:, [\"LotFrontage\"]]"
      ]
    },
    {
      "cell_type": "code",
      "execution_count": null,
      "id": "6c03156f",
      "metadata": {
        "id": "6c03156f"
      },
      "outputs": [],
      "source": [
        "df.loc[df[\"LotFrontage\"].isna(), :]"
      ]
    },
    {
      "cell_type": "code",
      "execution_count": null,
      "id": "d76b7856",
      "metadata": {
        "id": "d76b7856"
      },
      "outputs": [],
      "source": [
        "msno.matrix(df.iloc[:, :40])"
      ]
    },
    {
      "cell_type": "code",
      "execution_count": null,
      "id": "dcc58cd1",
      "metadata": {
        "id": "dcc58cd1"
      },
      "outputs": [],
      "source": [
        "msno.matrix(df.iloc[:, 40:])"
      ]
    },
    {
      "cell_type": "markdown",
      "id": "fe380bdd",
      "metadata": {
        "id": "fe380bdd"
      },
      "source": [
        "### FireplaceQu"
      ]
    },
    {
      "cell_type": "code",
      "execution_count": null,
      "id": "96f0a123",
      "metadata": {
        "id": "96f0a123"
      },
      "outputs": [],
      "source": [
        "df.loc[:, [\"FireplaceQu\"]]"
      ]
    },
    {
      "cell_type": "code",
      "execution_count": null,
      "id": "c8554c68",
      "metadata": {
        "id": "c8554c68"
      },
      "outputs": [],
      "source": [
        "df.loc[:, [\"Fireplaces\", \"FireplaceQu\"]]"
      ]
    },
    {
      "cell_type": "markdown",
      "id": "52cb9a5d",
      "metadata": {
        "id": "52cb9a5d"
      },
      "source": [
        "## Tratamiento de Datos Faltantes\n",
        "\n",
        "### Eliminación (caso MCAR)\n",
        "\n",
        "Es el método más sencillo, se conoce tambien como **list-wise deletion** y consiste en eliminar filas o columnas de un dataset que presenten datos faltantes. Se puede acceder a este tipo de tratamiento por medio de `.dropna()` objetos de Pandas.\n",
        "\n",
        "En casos distintos (MAR o MNAR) su uso es contraindicado. Se recomiendan cuando el patrón de perdida de información observada (por ejemplo por medio de `mssingno`) es claramente aleatorio, y si además las variables con información faltante son 'pocas' y con 'pocos' valores faltantes. La definición de 'poco' varia en función del problema, pero una buena huerística puede ser inferior al 15% en variables de poca importancia.\n"
      ]
    },
    {
      "cell_type": "code",
      "execution_count": null,
      "id": "10291ae8",
      "metadata": {
        "id": "10291ae8"
      },
      "outputs": [],
      "source": [
        "df.dropna(subset=[\"LotFrontage\"])"
      ]
    },
    {
      "cell_type": "markdown",
      "id": "6469bdd6",
      "metadata": {
        "id": "6469bdd6"
      },
      "source": [
        "\n",
        "### Imputación (caso MCAR-MAR)\n",
        "\n",
        "Corresponde a las téncincas que permiten rellenar de información faltante por medio de estimaciones. Es usada comunmente cuando los datos faltantes son de caracter MAR.\n"
      ]
    },
    {
      "cell_type": "markdown",
      "id": "98c001d3",
      "metadata": {
        "id": "98c001d3"
      },
      "source": [
        "#### Imputación Simple\n",
        "\n",
        "Por lo general este tipo de imputación presenta un buen rendimiento empírico en tareas de ciencia de datos y es ampliamente recomendado. \n",
        "\n",
        "> **Nota:** aplicar este tipo de métodos puede afectar el calculo de varianzas y covarianzas. \n",
        "\n",
        "En `pandas` podemos aplicar este tipo de imputación por medio del método `.fillna()` ya sea entregando un valor precalculado (media, mediana, moda, etc...) o utilizando los argumentos `ffill` (usar el valor anterior)  y `bfill` (usar el valor siguiente). \n",
        "En `scikit-learn` por otra parte, podemos utilizar [`SimpleImputer`](https://scikit-learn.org/stable/modules/generated/sklearn.impute.SimpleImputer.html#sklearn.impute.SimpleImputer), el cual es una transformación, lo que hace este método compatible con los `Pipelines`."
      ]
    },
    {
      "cell_type": "markdown",
      "id": "1457a59d",
      "metadata": {
        "id": "1457a59d"
      },
      "source": [
        "Existen directrices a tener en cuenta al momento de tratar valores faltantes:"
      ]
    },
    {
      "cell_type": "markdown",
      "id": "c6e95996",
      "metadata": {
        "id": "c6e95996"
      },
      "source": [
        "**1. Variables categóricas**:\n",
        "\n",
        "    * Transformar valores faltantes en una nueva categoría.\n",
        "    * Utilizar códificación Dummy en variables categóricas"
      ]
    },
    {
      "cell_type": "code",
      "execution_count": null,
      "id": "ae6d94fc",
      "metadata": {
        "id": "ae6d94fc"
      },
      "outputs": [],
      "source": [
        "df[\"GarageType\"]"
      ]
    },
    {
      "cell_type": "code",
      "execution_count": null,
      "id": "7079c704",
      "metadata": {
        "id": "7079c704"
      },
      "outputs": [],
      "source": [
        "df[\"GarageType\"].value_counts(dropna=False)"
      ]
    },
    {
      "cell_type": "code",
      "execution_count": null,
      "id": "63295c8b",
      "metadata": {
        "id": "63295c8b"
      },
      "outputs": [],
      "source": [
        "df[\"GarageType\"].isna()"
      ]
    },
    {
      "cell_type": "code",
      "execution_count": null,
      "id": "db4bcad4",
      "metadata": {
        "id": "db4bcad4"
      },
      "outputs": [],
      "source": [
        "df[df[\"GarageType\"].isna()][\"GarageType\"]"
      ]
    },
    {
      "cell_type": "code",
      "execution_count": null,
      "id": "5a1cb67d",
      "metadata": {
        "id": "5a1cb67d"
      },
      "outputs": [],
      "source": [
        "garage_type = df[\"GarageType\"].fillna(\"NoGarage\")\n",
        "garage_type.value_counts()"
      ]
    },
    {
      "cell_type": "markdown",
      "id": "ef394448",
      "metadata": {
        "id": "ef394448"
      },
      "source": [
        "**2. Valores Ordinales**\n",
        "\n",
        "    * Agregar la categoría de valor faltante como orden inicial o final en categorias ordinales.\n"
      ]
    },
    {
      "cell_type": "code",
      "execution_count": null,
      "id": "7b75699f",
      "metadata": {
        "id": "7b75699f"
      },
      "outputs": [],
      "source": [
        "# ['Po', 'Fa', 'TA', 'Gd', 'Ex'],\n",
        "df[\"GarageCond\"]"
      ]
    },
    {
      "cell_type": "code",
      "execution_count": null,
      "id": "16cad5fd",
      "metadata": {
        "id": "16cad5fd"
      },
      "outputs": [],
      "source": [
        "df[\"GarageCond\"].value_counts(dropna=False)"
      ]
    },
    {
      "cell_type": "code",
      "execution_count": null,
      "id": "87024a68",
      "metadata": {
        "id": "87024a68"
      },
      "outputs": [],
      "source": [
        "garage_cond = df[\"GarageCond\"].fillna(\"NoGarage\")\n",
        "# Agregar después al Encoder NoGarage ['NoGarage', 'Po', 'Fa', 'TA', 'Gd', 'Ex'],\n",
        "garage_cond.value_counts()"
      ]
    },
    {
      "cell_type": "markdown",
      "id": "92079744",
      "metadata": {
        "id": "92079744"
      },
      "source": [
        "**3 Valores continuos**:\n",
        "\n",
        "    * En MAR notar que imputar los datos puede cambiar la distribución original y por ende, llevar a malos resultados."
      ]
    },
    {
      "cell_type": "code",
      "execution_count": null,
      "id": "8625883d",
      "metadata": {
        "id": "8625883d"
      },
      "outputs": [],
      "source": [
        "df[df[\"LotFrontage\"].isna()]"
      ]
    },
    {
      "cell_type": "code",
      "execution_count": null,
      "id": "cb929c82",
      "metadata": {
        "id": "cb929c82"
      },
      "outputs": [],
      "source": [
        "df[\"LotFrontage\"].describe()"
      ]
    },
    {
      "cell_type": "markdown",
      "id": "a7c5c17d",
      "metadata": {
        "id": "a7c5c17d"
      },
      "source": [
        "En este caso, usaremos `SimpleImputer`.\n",
        "\n",
        "La estrategia se define por el parámetro:\n",
        "\n",
        "`strategy`, default=’mean’\n",
        "\n",
        "    The imputation strategy.\n",
        "\n",
        "        If “mean”, then replace missing values using the mean along each column. Can only be used with numeric data.\n",
        "\n",
        "        If “median”, then replace missing values using the median along each column. Can only be used with numeric data.\n",
        "\n",
        "        If “most_frequent”, then replace missing using the most frequent value along each column. Can be used with strings or numeric data. If there is more than one such value, only the smallest is returned.\n",
        "\n",
        "        If “constant”, then replace missing values with fill_value. Can be used with strings or numeric data.\n"
      ]
    },
    {
      "cell_type": "code",
      "execution_count": null,
      "id": "e9dec0b0",
      "metadata": {
        "id": "e9dec0b0"
      },
      "outputs": [],
      "source": [
        "from sklearn.impute import SimpleImputer\n",
        "\n",
        "si = SimpleImputer(strategy=\"median\")\n",
        "\n",
        "imputed_lotfrontage = si.fit_transform(df.loc[:, [\"LotFrontage\"]])\n",
        "\n",
        "imputed_lotfrontage = pd.DataFrame(imputed_lotfrontage, columns=[\"ImputedLotFrontage\"])\n",
        "\n",
        "imputed_lotfrontage"
      ]
    },
    {
      "cell_type": "code",
      "execution_count": null,
      "id": "7e33d87e-a146-4b98-9e18-9d02ce5be25b",
      "metadata": {
        "id": "7e33d87e-a146-4b98-9e18-9d02ce5be25b"
      },
      "outputs": [],
      "source": [
        "imputed_lotfrontage.describe()"
      ]
    },
    {
      "cell_type": "code",
      "execution_count": null,
      "id": "2730c284",
      "metadata": {
        "id": "2730c284"
      },
      "outputs": [],
      "source": [
        "import plotly.express as px\n",
        "\n",
        "lf = pd.concat((df.loc[:, [\"LotFrontage\"]], imputed_lotfrontage))\n",
        "px.histogram(lf, barmode=\"group\")"
      ]
    },
    {
      "cell_type": "markdown",
      "id": "73a207c1",
      "metadata": {
        "id": "73a207c1"
      },
      "source": [
        "#### Imputación Multivariada\n",
        "\n",
        "Un problema de la imputación singular es que modela los datos como uno completo, sin considerar la incertidumbre inherente a todos los otros datos. Una solución para esto son los métodos de imputación múltiple.\n",
        "\n",
        "Un método de inmputación multiple estima los valores faltantes a partir de otros. Puede ser tanto univariada (solo considerando la variable objetivo) como multivariada.\n",
        "\n",
        "##### `IterativeImputer`\n",
        "\n",
        "Un enfoque sofisticado es el que plantea `IterativeImputer`, el cuál intenta modelar los valores faltantes a partir como función de los otros valores. El algoritmo que ocupa es el siguiente:\n",
        "\n",
        "En la primera iteración:\n",
        "- Por cada columna con datos faltantes:\n",
        "   - Se entrena un regresor que intenta predecir los valores de esa columna a partir de todas las otras. El regresor usa como target los valores no faltantes de la columna objetivo.\n",
        "   - Se reemplazan los valores faltantes por los predichos por el regresor.\n",
        "   \n",
        "Luego, se repite `max_iter` cantidad de veces el mismo procedimiento, usando los valores originales y también los valores predichos en la etapa anterior. La idea de esto es que este procedimiento iterativo vaya \"actualizando\" hasta que los valores predichos convergan.\n",
        "\n",
        "Su uso es experimental y se activa siguiendo la sintaxis:\n",
        "\n",
        "```python\n",
        "from sklearn.experimental import enable_iterative_imputer\n",
        "from sklearn.impute import IterativeImputer\n",
        "```\n",
        "\n",
        "**Ejemplo**\n",
        "\n",
        "Se utiliza el imputador iterativo para los estimadores de Random Forest y KNN.\n",
        "\n",
        "**NOTA IMPORTANTE**: El siguiente código es solo de ejemplo y se asume que todas las variables son MAR, puede que no sea correcto imputar estas features."
      ]
    },
    {
      "cell_type": "code",
      "execution_count": null,
      "id": "dbb8ccac",
      "metadata": {
        "id": "dbb8ccac"
      },
      "outputs": [],
      "source": [
        "import numpy as np\n",
        "\n",
        "only_numeric = df.select_dtypes(include=np.number).drop(\n",
        "    columns=[\n",
        "        \"YearBuilt\",\n",
        "        \"YearRemodAdd\",\n",
        "        \"YrSold\",\n",
        "        \"GarageYrBlt\",\n",
        "        \"SalePrice\",\n",
        "        \"MoSold\",\n",
        "        \"MSSubClass\",\n",
        "    ]\n",
        ")\n",
        "only_numeric"
      ]
    },
    {
      "cell_type": "markdown",
      "id": "29b4ecd9",
      "metadata": {
        "id": "29b4ecd9"
      },
      "source": [
        "##### IterativeImputer "
      ]
    },
    {
      "cell_type": "code",
      "execution_count": null,
      "id": "85404731",
      "metadata": {
        "id": "85404731"
      },
      "outputs": [],
      "source": [
        "from sklearn.ensemble import RandomForestRegressor\n",
        "from sklearn.experimental import enable_iterative_imputer\n",
        "from sklearn.impute import IterativeImputer"
      ]
    },
    {
      "cell_type": "code",
      "execution_count": null,
      "id": "76b163b2",
      "metadata": {
        "id": "76b163b2"
      },
      "outputs": [],
      "source": [
        "msno.matrix(only_numeric)"
      ]
    },
    {
      "cell_type": "code",
      "execution_count": null,
      "id": "0dc7162d",
      "metadata": {
        "id": "0dc7162d"
      },
      "outputs": [],
      "source": [
        "imputer = IterativeImputer(skip_complete=True, verbose=1, random_state=1)\n",
        "\n",
        "RF_imputed = imputer.fit_transform(only_numeric)\n",
        "RF_imputed = pd.DataFrame(RF_imputed, columns=only_numeric.columns)\n",
        "RF_imputed"
      ]
    },
    {
      "cell_type": "code",
      "execution_count": null,
      "id": "6d59dad4",
      "metadata": {
        "id": "6d59dad4"
      },
      "outputs": [],
      "source": [
        "msno.matrix(RF_imputed)"
      ]
    },
    {
      "cell_type": "code",
      "execution_count": null,
      "id": "6bd00dd9",
      "metadata": {
        "id": "6bd00dd9"
      },
      "outputs": [],
      "source": [
        "lf_imputed = RF_imputed.loc[:, [\"LotFrontage\"]]\n",
        "lf_imputed.columns = [\"LotFrontageImputed\"]\n",
        "\n",
        "lf = pd.concat((df.loc[:, [\"LotFrontage\"]], lf_imputed))\n",
        "px.histogram(lf, barmode=\"group\", nbins=50)"
      ]
    },
    {
      "cell_type": "code",
      "execution_count": null,
      "id": "6c316a5e",
      "metadata": {
        "id": "6c316a5e"
      },
      "outputs": [],
      "source": [
        "px.histogram(lf, barmode=\"group\", nbins=50, histnorm=\"probability\")"
      ]
    },
    {
      "cell_type": "markdown",
      "id": "051b4e92",
      "metadata": {
        "id": "051b4e92"
      },
      "source": [
        "##### KNNImputer\n",
        "\n",
        "Imputa usando k-Nearest Neighbors.\n",
        "\n",
        "Los valores imputados se calculan según el parámetro `weights`:\n",
        "\n",
        "- Si `weights=uniform`, se promedian los valores de los vecinos cercanos.\n",
        "- Si `weights=distance`, se ponderan los valores de los vecinos cercanos según la distancia al punto.\n",
        "\n",
        "<img src='https://i.ibb.co/Kjn0FWM/knn.png' width=400/> "
      ]
    },
    {
      "cell_type": "code",
      "execution_count": null,
      "id": "56823906",
      "metadata": {
        "id": "56823906"
      },
      "outputs": [],
      "source": [
        "from sklearn.impute import KNNImputer\n",
        "\n",
        "# en este caso, simplemente se promedian los valores cercanos.\n",
        "KNNimputer = KNNImputer(n_neighbors=2, weights=\"uniform\")\n",
        "KNN_imputed_data = KNNimputer.fit_transform(only_numeric)\n",
        "KNN_imputed_data = pd.DataFrame(KNN_imputed_data, columns=only_numeric.columns)"
      ]
    },
    {
      "cell_type": "code",
      "execution_count": null,
      "id": "bd46a79d",
      "metadata": {
        "id": "bd46a79d"
      },
      "outputs": [],
      "source": [
        "lf_imputed = KNN_imputed_data.loc[:, [\"LotFrontage\"]]\n",
        "lf_imputed.columns = [\"LotFrontageImputed\"]\n",
        "\n",
        "lf = pd.concat((df.loc[:, [\"LotFrontage\"]], lf_imputed))\n",
        "px.histogram(lf, barmode=\"group\", nbins=50)"
      ]
    },
    {
      "cell_type": "markdown",
      "id": "c63a4491",
      "metadata": {
        "id": "c63a4491"
      },
      "source": [
        "### Incluyendo la imputación en nuestra Pipeline\n",
        "\n",
        "Nota que ambos métodos pueden ser usados en un Pipeline."
      ]
    },
    {
      "cell_type": "code",
      "execution_count": null,
      "id": "b2d8264d",
      "metadata": {
        "id": "b2d8264d"
      },
      "outputs": [],
      "source": [
        "cat_cols = [\n",
        "    \"MSZoning\",\n",
        "    \"Street\",\n",
        "    \"Alley\",\n",
        "    \"LandContour\",\n",
        "    \"LotConfig\",\n",
        "    \"Neighborhood\",\n",
        "    \"Condition1\",\n",
        "    \"Condition2\",\n",
        "    \"BldgType\",\n",
        "    \"HouseStyle\",\n",
        "    \"RoofStyle\",\n",
        "    \"RoofMatl\",\n",
        "    \"Exterior1st\",\n",
        "    \"Exterior2nd\",\n",
        "    \"MasVnrType\",\n",
        "    \"Foundation\",\n",
        "    \"Heating\",\n",
        "    \"CentralAir\",\n",
        "    \"Electrical\",\n",
        "    \"GarageType\",\n",
        "    \"PavedDrive\",\n",
        "    \"MiscFeature\",\n",
        "    \"SaleType\",\n",
        "    \"SaleCondition\",\n",
        "]"
      ]
    },
    {
      "cell_type": "code",
      "execution_count": null,
      "id": "f98774bb",
      "metadata": {
        "id": "f98774bb"
      },
      "outputs": [],
      "source": [
        "# Preprocesador Compuesto: Inputación + Escalamiento/Codificación.\n",
        "\n",
        "# Pipeline Numerica\n",
        "num_pipe = Pipeline(\n",
        "    steps=[\n",
        "        (\"imputer_num\", KNNImputer(n_neighbors=2, weights=\"uniform\")),\n",
        "        (\"scaler\", StandardScaler()),\n",
        "    ]\n",
        ")\n",
        "\n",
        "# Pipeline categorica\n",
        "cat_pipe = Pipeline(\n",
        "    steps=[\n",
        "        (\"imputer_cat\", SimpleImputer(strategy=\"constant\", fill_value=\"missing\")),\n",
        "        (\"onehot\", OneHotEncoder(sparse=False, handle_unknown=\"ignore\")),\n",
        "    ]\n",
        ")\n",
        "\n",
        "# Pipeline Ordinal\n",
        "ord_pipe = Pipeline(\n",
        "    steps=[\n",
        "        (\"imputer_ord\", SimpleImputer(strategy=\"constant\", fill_value=\"NA\")),\n",
        "        (\"ordinal\", OrdinalEncoder(categories=ordinal_cat)),\n",
        "    ]\n",
        ")\n",
        "\n",
        "# Preprocesador Compuesto\n",
        "prep = ColumnTransformer(\n",
        "    transformers=[\n",
        "        (\"num\", num_pipe, num_cols),\n",
        "        (\"cat\", cat_pipe, cat_cols),\n",
        "        (\"ord\", ord_pipe, ordinal_cols),\n",
        "    ]\n",
        ")\n",
        "\n",
        "prep"
      ]
    }
  ],
  "metadata": {
    "kernelspec": {
      "display_name": "Python 3 (ipykernel)",
      "language": "python",
      "name": "python3"
    },
    "language_info": {
      "codemirror_mode": {
        "name": "ipython",
        "version": 3
      },
      "file_extension": ".py",
      "mimetype": "text/x-python",
      "name": "python",
      "nbconvert_exporter": "python",
      "pygments_lexer": "ipython3",
      "version": "3.9.7"
    },
    "toc": {
      "base_numbering": 1,
      "nav_menu": {},
      "number_sections": true,
      "sideBar": true,
      "skip_h1_title": true,
      "title_cell": "Table of Contents",
      "title_sidebar": "Contents",
      "toc_cell": true,
      "toc_position": {},
      "toc_section_display": true,
      "toc_window_display": false
    },
    "varInspector": {
      "cols": {
        "lenName": 16,
        "lenType": 16,
        "lenVar": 40
      },
      "kernels_config": {
        "python": {
          "delete_cmd_postfix": "",
          "delete_cmd_prefix": "del ",
          "library": "var_list.py",
          "varRefreshCmd": "print(var_dic_list())"
        },
        "r": {
          "delete_cmd_postfix": ") ",
          "delete_cmd_prefix": "rm(",
          "library": "var_list.r",
          "varRefreshCmd": "cat(var_dic_list()) "
        }
      },
      "types_to_exclude": [
        "module",
        "function",
        "builtin_function_or_method",
        "instance",
        "_Feature"
      ],
      "window_display": false
    },
    "colab": {
      "provenance": []
    }
  },
  "nbformat": 4,
  "nbformat_minor": 5
}