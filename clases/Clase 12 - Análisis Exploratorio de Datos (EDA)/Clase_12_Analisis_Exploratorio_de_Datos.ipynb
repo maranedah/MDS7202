{
  "cells": [
    {
      "cell_type": "markdown",
      "id": "ffe7e222",
      "metadata": {
        "id": "ffe7e222"
      },
      "source": [
        "# Clase 12 - Análisis Exploratorio de Datos\n",
        "\n",
        "**MDS7202: Laboratorio de Programación Científica para Ciencia de Datos**\n",
        "\n",
        "**Profesor: Matías Rojas**"
      ]
    },
    {
      "cell_type": "markdown",
      "id": "24aeb0c3",
      "metadata": {
        "id": "24aeb0c3"
      },
      "source": [
        "## Objetivos de la Clase \n",
        "\n",
        "![Etapas de un Proyecto de Ciencia de Datos](https://i.ibb.co/N2rNjrZ/etapas.png)\n",
        "\n",
        "Como hemos visto anteriomente, los datos son la materia prima para la contrucción de análisis estadísticos y modelos predictivos. Esto implica que las hipótesis y predicciones  elaboradas por dichos modelos estarán directamente relacionados con la calidad de los datos. Por ende, es crítico asegurar un preprocesado y una buena examinación de los datasets a trabajar.\n",
        "\n",
        "El contenido de esta cátedra, se centra en las técnicas esenciales para el preprocesado de datos usando las herramientas que hemos visto hasta el momento. \n",
        "\n",
        "\n"
      ]
    },
    {
      "cell_type": "markdown",
      "id": "c3bc1992",
      "metadata": {
        "tags": [],
        "id": "c3bc1992"
      },
      "source": [
        "## Análisis Exploratorio de Datos\n",
        "\n",
        "El análisis exploratorio de los datos (Exploratory data analysis [EDA] en inglés) consiste en realizar investigaciones iniciales sobre los datos **con el fin de descubrir sus patrones y anomalías, como también testear hipótesis que tengamos sobre estos**. Comunmente este análisis va de la mano de la **estadística descriptiva y de las visualizaciones**, que es lo que hemos estado trabajando hasta el momento en el curso.\n",
        "\n",
        "\n",
        "\n",
        "    \n",
        "<img src='https://i.ibb.co/5Fsrbxn/eda-related.png' alt='Gráficos en análisis exploratorio de datos'/>\n",
        "\n",
        "<div align='center'/>\n",
        "Análisis exploratorio de datos. \n",
        "<br>\n",
        "Fuente: <a href='https://towardsdatascience.com/exploratory-data-analysis-8fc1cb20fd15'>What is Exploratory Data Analysis?</a>\n",
        "</center>\n",
        "\n"
      ]
    },
    {
      "cell_type": "markdown",
      "id": "96c4ba23",
      "metadata": {
        "id": "96c4ba23"
      },
      "source": [
        "En general, podemos resumir este proceso en estas 4 etapas: \n",
        "\n",
        "1. **Entender el problema y el dataset con el que trabajaremos:** Este punto se aleja un poco del curso pero de todas maneras hay que tener clara la importancia del entendimieto del negocio/investigación.\n",
        "2. **Análisis Univariado**: Estudiar los patrones de las variables a través de estadísticas de resumen y análisis de la distribución de los datos. Aquí los datos se estudian de manera individual, sin considerar relaciones con otras variables.\n",
        "3. **Análisis Multivariado**: Estudiar como se comporta una variable con respecto a las otras.\n",
        "4. **Análisis y Limpieza de los Datos Faltantes.**\n",
        "\n",
        "\n"
      ]
    },
    {
      "cell_type": "markdown",
      "id": "09662fbf",
      "metadata": {
        "id": "09662fbf"
      },
      "source": [
        "### Repaso: Estadísticas de Resumen\n",
        "\n",
        "\n",
        "Las estadísticas de resumen son valores que explican propiedades y patrones de los datos. \n",
        "Ejemplo: \n",
        "    \n",
        "- Medidas de tendencia central (ver como se comportan los datos a través de valores centrales) como la media, mediana y moda.\n",
        "- Dispersión (miden la variabilidad de los datos) como el rango (máximo - mínimo), la desviación estándar y la varianza. \n",
        "- Percentiles y Cuartiles.\n",
        "\n",
        "En el caso en que estemos analizando de forma multivariada, podemos usar: \n",
        "\n",
        "- Correlación (mide el grado de asociación lineal entre dos variables).\n",
        "- Tablas de contingencia (conteo entre ocurrencias de variables categóricas).\n",
        "\n",
        "\n",
        "Información más teórica sobre estos temas la pueden encontrar en la siguiente clase de minería de datos: https://github.com/dccuchile/CC5206/blob/master/slides/Clase_3_explora.pdf\n"
      ]
    },
    {
      "cell_type": "markdown",
      "id": "4d099430",
      "metadata": {
        "tags": [],
        "id": "4d099430"
      },
      "source": [
        "## Problema de Esta Clase: House Pricing\n",
        "\n",
        "\n",
        "\n",
        "![House Pricing](https://storage.googleapis.com/kaggle-competitions/kaggle/5407/media/housesbanner.png)\n",
        "\n",
        "El dataset **`house pricing`** consiste en 80 variables (79 variables explicativas más una variable objetivo) que describen aspectos fundamentales de hogares residenciales en la ciudad de *Ames, Iowa*. \n",
        "\n",
        "La variable objetivo de este dataset es generar un modelo que prediga el precio final de cada hogar por medio de una regresión.\n",
        "\n",
        "Es un problema \"ultra conocido\"y pueden encontrar su descripción aquí: https://www.kaggle.com/c/house-prices-advanced-regression-techniques"
      ]
    },
    {
      "cell_type": "code",
      "execution_count": null,
      "id": "9a529536",
      "metadata": {
        "id": "9a529536"
      },
      "outputs": [],
      "source": [
        "import numpy as np\n",
        "import pandas as pd\n",
        "from scipy import stats\n",
        "from scipy.stats import norm\n",
        "\n",
        "# El conjunto a trabajar es el de entrenamiento\n",
        "df = pd.read_csv(\"https://raw.githubusercontent.com/maranedah/MDS7202/main/clases/Clase%2012%20-%20An%C3%A1lisis%20Exploratorio%20de%20Datos%20(EDA)/recursos/train.csv\", index_col=\"Id\")\n",
        "df"
      ]
    },
    {
      "cell_type": "code",
      "execution_count": null,
      "id": "d454ad76-3d93-4cc9-bd55-9e2d39abde04",
      "metadata": {
        "id": "d454ad76-3d93-4cc9-bd55-9e2d39abde04"
      },
      "outputs": [],
      "source": [
        "# Preprocesamiento\n",
        "\n",
        "# Etapa 1: Convertir mes y año a Datetime\n",
        "df[\"DateSold\"] = pd.to_datetime(\n",
        "    \"1/\" + df[\"MoSold\"].astype(str) + \"/\" + df[\"YrSold\"].astype(str), yearfirst=False\n",
        ")\n",
        "\n",
        "# Etapa 2: Generar cuartiles para los precios\n",
        "df[\"SalePriceQCut\"] = pd.qcut(\n",
        "    df[\"SalePrice\"], 4, [\"Low\", \"Low-Mid\", \"Mid-High\", \"High\"]\n",
        ")\n",
        "\n",
        "# Etapa 3: Convertir strings a categorías\n",
        "df = pd.concat(\n",
        "    [\n",
        "        df.select_dtypes([], [\"object\"]),\n",
        "        df.select_dtypes([\"object\"]).apply(pd.Series.astype, dtype=\"category\"),\n",
        "    ],\n",
        "    axis=1,\n",
        ")"
      ]
    },
    {
      "cell_type": "code",
      "execution_count": null,
      "id": "3c1b4604-013e-46bb-bd17-23045865b6ea",
      "metadata": {
        "id": "3c1b4604-013e-46bb-bd17-23045865b6ea"
      },
      "outputs": [],
      "source": [
        "df.columns"
      ]
    },
    {
      "cell_type": "code",
      "execution_count": null,
      "id": "d2a50028",
      "metadata": {
        "id": "d2a50028"
      },
      "outputs": [],
      "source": [
        "df = df.loc[\n",
        "    :,\n",
        "    [\n",
        "        # Terreno\n",
        "        \"LotArea\",      # Area del terreno\n",
        "        \"LandSlope\",    # Pendiente del terreno\n",
        "        \"Neighborhood\", # Barrio\n",
        "        \n",
        "        # Metadatos de la Vivienda\n",
        "        \"BldgType\",     # Tipo de vivienda\n",
        "        \"YearBuilt\",    # Año de construcción\n",
        "        \"YearRemodAdd\", # Año de remodelación\n",
        "        \"Utilities\",    # Agua, luz, etc...\n",
        "        \n",
        "        # Materiales\n",
        "        \"Foundation\",   # Fundación de la vivienda\n",
        "        \"RoofMatl\",     # Material del techo\n",
        "        \"RoofStyle\",    # Estilo del techo\n",
        "        \"Exterior1st\",  # Material del Exterior\n",
        "        \"ExterCond\",    # Condición del material exterior\n",
        "        \n",
        "        # Interior de la casa\n",
        "        \"GrLivArea\",    # Area habitable sobre el nivel del suelo.\n",
        "        \"1stFlrSF\",     # Area primer piso\n",
        "        \"2ndFlrSF\",     # Area segundo piso\n",
        "        \"FullBath\",     # Baños completos\n",
        "        'HalfBath',     # Baños de visita?\n",
        "        \"BedroomAbvGr\", # Piezas\n",
        "        \"KitchenAbvGr\", # Cocinas\n",
        "        \"KitchenQual\",  # Calidad de la cocina\n",
        "        \n",
        "        # Sótano\n",
        "        \"TotalBsmtSF\",  # Total sótano\n",
        "        \"BsmtCond\",     # Condición del sótano\n",
        "        \n",
        "        # Garaje\n",
        "        \"GarageType\",   # Tipo de garaje\n",
        "        \"GarageCars\",   # Cantidad de autos por garaje\n",
        "        \n",
        "        # Piscina\n",
        "        \"PoolArea\",     # Area de la piscina\n",
        "        \"PoolQC\",       # Calidad de la piscina\n",
        "        \n",
        "        # Calefacción y Aire\n",
        "        \"Heating\",      # Calefacción\n",
        "        \"HeatingQC\",    # Calidad de la Calefacción\n",
        "        \"CentralAir\",   # Aire Acondicionado Central\n",
        "        \n",
        "        # Calidad y Condición\n",
        "        \"OverallQual\",  # Calidad general\n",
        "        \"OverallCond\",  # Condición general actual\n",
        "        \n",
        "        # Datos de la venta\n",
        "        \"DateSold\",     # Mes y Año de venta\n",
        "        \"SaleType\",     # Tipo de venta\n",
        "        \"SaleCondition\",# Condición de la vivienda en la venta\n",
        "        \"SalePrice\",    # Precio de la venta\n",
        "        \"SalePriceQCut\",# Cuartiles del precio de la vivienda\n",
        "    ],\n",
        "]\n",
        "\n",
        "numeric = df.select_dtypes([\"int64\"]).columns\n",
        "categorical = df.select_dtypes([\"category\"]).columns"
      ]
    },
    {
      "cell_type": "code",
      "execution_count": null,
      "id": "cabb1ae3",
      "metadata": {
        "id": "cabb1ae3"
      },
      "outputs": [],
      "source": [
        "df.info()"
      ]
    },
    {
      "cell_type": "code",
      "execution_count": null,
      "id": "dc6932c2",
      "metadata": {
        "id": "dc6932c2"
      },
      "outputs": [],
      "source": [
        "df.head()"
      ]
    },
    {
      "cell_type": "markdown",
      "id": "f13e86b3",
      "metadata": {
        "id": "f13e86b3"
      },
      "source": [
        "---\n",
        "\n",
        "## 1. Perfilamiento Univariado\n",
        "\n",
        "El punto inicial para comprender la naturaleza de una variable, pasa por sumarizar sus valores usando estadísticas de resumen, caracterizar su distribución y (en el caso que aplique) analizar su relación con respecto a la variable objetivo. \n",
        "\n",
        "El objetivo final de esta etapa es comprender qué papel juega cada variable (de forma independiente) en la resolución del problema."
      ]
    },
    {
      "cell_type": "markdown",
      "id": "b72ff796",
      "metadata": {
        "id": "b72ff796"
      },
      "source": [
        "### Análisis de la Variable Dependiente \n",
        "\n",
        "El paso inicial es saber como se distribuye la variable dependiente, es decir, el precio de las casas.\n"
      ]
    },
    {
      "cell_type": "code",
      "execution_count": null,
      "id": "1ff4dc48",
      "metadata": {
        "id": "1ff4dc48"
      },
      "outputs": [],
      "source": [
        "df[[\"SalePrice\"]].describe()"
      ]
    },
    {
      "cell_type": "markdown",
      "id": "7ba3bc37",
      "metadata": {
        "id": "7ba3bc37"
      },
      "source": [
        "Este primer análisis lo haremos a través de un histograma en conjunto con un boxplot.\n",
        "\n",
        "\n",
        "1. Histograma: Permite ver la distribución de los datos.\n",
        "2. Boxplots: Se construyen usando los cuartiles. \n",
        "  - La caja muestra el primer y tercer cuartil. \n",
        "  - La mediana está mostrada en la división de la caja.\n",
        "  - El ancho de la caja es el rango intercuantílico (Q3 - Q1). \n",
        "  - Los brazos representan el rango intercuantílico * +/- 1.5. Los valores fuera de este rango pueden ser considerados datos fuera de la norma / outliers."
      ]
    },
    {
      "cell_type": "code",
      "execution_count": null,
      "id": "d6068ae0",
      "metadata": {
        "id": "d6068ae0"
      },
      "outputs": [],
      "source": [
        "import plotly.express as px\n",
        "\n",
        "px.histogram(\n",
        "    df, \n",
        "    x=\"SalePrice\", \n",
        "    title=\"Análisis de la variable SalePrice\", \n",
        "    marginal=\"box\"\n",
        ")"
      ]
    },
    {
      "cell_type": "markdown",
      "id": "d0a373ed-366b-44fe-80af-c54d622d7951",
      "metadata": {
        "id": "d0a373ed-366b-44fe-80af-c54d622d7951"
      },
      "source": [
        "Bajo estos gráficos podemos concluir que:\n",
        "    - La mayoría de las propiedades se concentran cerca del promedio de la distribución.\n",
        "    - Existen algunas propiedades muy caras que hacen que la cola de la distribución sea muy larga hacia la derecha. Esto se confirma con el boxplot, en donde existen muchos puntos outliers.\n",
        "    - Es relativamente uniforme a lo largo del dominio, salvo por algunas discontinudades, como por ejemplo en 170k a 180k.\n",
        "    - \n",
        "    "
      ]
    },
    {
      "cell_type": "markdown",
      "id": "b98bc1fa",
      "metadata": {
        "id": "b98bc1fa"
      },
      "source": [
        "### Caracterizar distribuciones\n",
        "\n",
        "Existen algunas medidas útiles para caracterizar la distribución de una variable (aplican bien cuando las distribuciones son normales).\n",
        "\n",
        "1. **Skewness**: Permite establecer el grado de simetría (o asimetría) que presenta una distribución de probabilidad de una variable aleatoria sin tener que hacer su representación gráfica. Coloquialmente, sería ver hacia que lado está inclinado el gráfico. En el caso anterior sería hacia el lado izquierdo.\n",
        "\n",
        "<div align='center'>\n",
        "    <img src='https://i.ibb.co/QYf6ZPF/skew.pngg' alt='Skewness' width=600/>\n",
        "</div>\n",
        "\n",
        "2. **Curtosis**: Determina el grado de concentración que presentan los valores en la región central de la distribución.\n",
        "\n",
        "<div align='center'>\n",
        "    <img src='https://encrypted-tbn0.gstatic.com/images?q=tbn%3AANd9GcT1n1f_pfBRWXsET7Zk8UbRnzKLDPqsBs5ESL_uh9aKmlDcIpkO' alt='Kurtosis' width=600/>\n",
        "</div>\n"
      ]
    },
    {
      "cell_type": "code",
      "execution_count": null,
      "id": "3aa36bd6",
      "metadata": {
        "id": "3aa36bd6"
      },
      "outputs": [],
      "source": [
        "# skewness and kurtosis\n",
        "print(\"Skewness: %f\" % df[\"SalePrice\"].skew())\n",
        "print(\"Kurtosis: %f\" % df[\"SalePrice\"].kurt())"
      ]
    },
    {
      "cell_type": "markdown",
      "id": "2484c6fe",
      "metadata": {
        "id": "2484c6fe"
      },
      "source": [
        "### Distribuciones de Variables Numéricas\n",
        "\n",
        "A continuación, generaremos histogramas que nos permitirán entender y visualizar la geometría de cada distribución."
      ]
    },
    {
      "cell_type": "code",
      "execution_count": null,
      "id": "aae5bde1-6d24-465f-b132-34b40fd1da0f",
      "metadata": {
        "id": "aae5bde1-6d24-465f-b132-34b40fd1da0f"
      },
      "outputs": [],
      "source": [
        "numeric"
      ]
    },
    {
      "cell_type": "code",
      "execution_count": null,
      "id": "9d589ddd",
      "metadata": {
        "id": "9d589ddd"
      },
      "outputs": [],
      "source": [
        "import plotly.graph_objects as go\n",
        "from plotly.subplots import make_subplots\n",
        "\n",
        "n_cols = 4\n",
        "\n",
        "fig = make_subplots(\n",
        "    rows=len(numeric) // n_cols + 1, cols=n_cols, subplot_titles=numeric\n",
        ")\n",
        "\n",
        "for idx, col in enumerate(numeric):\n",
        "    row_idx = idx // n_cols + 1\n",
        "    col_idx = idx % n_cols + 1\n",
        "    \n",
        "    hist = go.Histogram(x=df.loc[:, col], name=col, histnorm=\"probability\")\n",
        "    fig.add_trace(hist, row=row_idx, col=col_idx)\n",
        "\n",
        "fig.update_layout(\n",
        "    height=800,\n",
        "    title_text=\"Análisis Univariado de las Variables Numéricas\",\n",
        "    showlegend=False,\n",
        ")\n",
        "fig.show()"
      ]
    },
    {
      "cell_type": "markdown",
      "id": "77076ed7",
      "metadata": {
        "id": "77076ed7"
      },
      "source": [
        "### Distribuciones de Variables Categóricas\n",
        "\n",
        "Para las variables categóricas, se genera un conteo de valores únicos."
      ]
    },
    {
      "cell_type": "code",
      "execution_count": null,
      "id": "442f8d94",
      "metadata": {
        "id": "442f8d94"
      },
      "outputs": [],
      "source": [
        "import plotly.graph_objects as go\n",
        "from plotly.subplots import make_subplots\n",
        "\n",
        "n_cols = 4\n",
        "\n",
        "fig = make_subplots(\n",
        "    rows=len(categorical) // n_cols + 1, cols=n_cols, subplot_titles=categorical\n",
        ")\n",
        "\n",
        "for idx, col in enumerate(categorical):\n",
        "    row_idx = idx // n_cols + 1\n",
        "    col_idx = idx % n_cols + 1\n",
        "\n",
        "    data = df.loc[:, col]\n",
        "    hist = go.Histogram(x=data, name=col)\n",
        "    fig.add_trace(hist, row=row_idx, col=col_idx)\n",
        "\n",
        "fig.update_layout(\n",
        "    height=1200,\n",
        "    title_text=\"Análisis Univariado de las Variables Categoricas\",\n",
        "    showlegend=False,\n",
        ")\n",
        "fig.show()"
      ]
    },
    {
      "cell_type": "markdown",
      "id": "7d3b69d1",
      "metadata": {
        "id": "7d3b69d1"
      },
      "source": [
        "Al observar las distribuciones, es importante buscar si existe variabilidad dentro de estas, pues por lo general, una variable con un único valor casi seguro, no aporta información a la dinámica de los datos.\n",
        "\n"
      ]
    },
    {
      "cell_type": "markdown",
      "id": "fc77c876-6e91-4c9b-9162-be8ef5662b46",
      "metadata": {
        "id": "fc77c876-6e91-4c9b-9162-be8ef5662b46"
      },
      "source": [
        "## 2. Perfilamiento Multivariado\n",
        "\n",
        "La idea del perfilamiento multivariado es estudiar las relaciones entre las distintas variables del dataset.\n"
      ]
    },
    {
      "cell_type": "markdown",
      "id": "c1ddf810-8155-4d6d-a002-1fe3f75c0a80",
      "metadata": {
        "id": "c1ddf810-8155-4d6d-a002-1fe3f75c0a80"
      },
      "source": [
        "### Scatter Matrix\n",
        "\n",
        "Una scatter matrix nos permite ver relaciones entre las distintas variables que componen un dataset a través de múltiples scatter plots:"
      ]
    },
    {
      "cell_type": "code",
      "execution_count": null,
      "id": "14fb1b84",
      "metadata": {
        "id": "14fb1b84"
      },
      "outputs": [],
      "source": [
        "variables_interes = [\n",
        "    \"GrLivArea\",\n",
        "    \"TotalBsmtSF\",\n",
        "    \"1stFlrSF\",\n",
        "    \"2ndFlrSF\",\n",
        "    \"FullBath\",\n",
        "    \"YearBuilt\",\n",
        "    \"OverallQual\",\n",
        "]"
      ]
    },
    {
      "cell_type": "code",
      "execution_count": null,
      "id": "9c40028e-8669-4c5c-a953-51457df715ca",
      "metadata": {
        "id": "9c40028e-8669-4c5c-a953-51457df715ca"
      },
      "outputs": [],
      "source": [
        "df.columns"
      ]
    },
    {
      "cell_type": "code",
      "execution_count": null,
      "id": "27170224",
      "metadata": {
        "id": "27170224"
      },
      "outputs": [],
      "source": [
        "fig = px.scatter_matrix(\n",
        "    df.sort_values(by=\"SalePriceQCut\", ascending=True),\n",
        "    dimensions=variables_interes,\n",
        "    height=1200,\n",
        "    title=\"Análisis Bivariado\",\n",
        "    color='SalePriceQCut'\n",
        ")\n",
        "fig.update_traces(diagonal_visible=False)\n",
        "fig.show()"
      ]
    },
    {
      "cell_type": "markdown",
      "id": "8310bf21-dd57-4461-8fff-a8351401895b",
      "metadata": {
        "id": "8310bf21-dd57-4461-8fff-a8351401895b"
      },
      "source": [
        "La última fila de esta visualización entrega una idea de la relación entre las variables de interés.  Dentro de las interacciones entre variables, se observa que 'GrLivArea' y 'TotalBsmtSf' se comportan de manera similar contra 'OverllQuall', esperandose cierta tendencia creciente en ambos casos."
      ]
    },
    {
      "cell_type": "markdown",
      "id": "8ad91d93-cca8-4fc5-ba10-6d6bc2931f69",
      "metadata": {
        "id": "8ad91d93-cca8-4fc5-ba10-6d6bc2931f69"
      },
      "source": [
        "### Análisis de las Variables Independientes con Respecto a la Variable Dependiente\n"
      ]
    },
    {
      "cell_type": "markdown",
      "id": "5a498165",
      "metadata": {
        "id": "5a498165"
      },
      "source": [
        "#### Gráficos de violín\n",
        "\n",
        "Un gráfico de violín permite sumarizar y observar características de un dataset. Este se comporta como un gráfico de cajas (boxplot), mostrando la mediana, el rango intercuantílico IQR (percentil 75 - percentil 25, o Q3 - Q1) y el rango 1.5 intercuantílico (Q3 +- 1.5 IQR). Además de lo anterior, se suma una estimación de la densidad por kernel a cada lado. Esto quiere decir, que zonas con mayor densidad, se verán como 'montes' horizontales. \n",
        "\n",
        "#### OverallQual\n",
        "\n",
        "Se observa la variable 'OverallQual' (categórica) y se compara con la variable de interés 'SalePrice'. Para ello se usa un gráfico de categórias tipo violín y box (para adicionalmente comparar ambas visualizaciones)"
      ]
    },
    {
      "cell_type": "code",
      "execution_count": null,
      "id": "115cb71f",
      "metadata": {
        "id": "115cb71f"
      },
      "outputs": [],
      "source": [
        "import plotly.express as px\n",
        "\n",
        "fig = make_subplots(rows=2, cols=1)\n",
        "\n",
        "fig_1 = px.violin(\n",
        "    df, x=\"OverallQual\", y=\"SalePrice\", title=\"Violin plot OverallQuall vs SalePrice\"\n",
        ")\n",
        "fig.add_trace(fig_1.data[0], row=1, col=1)\n",
        "\n",
        "fig_2 = px.box(df, x=\"OverallQual\", y=\"SalePrice\")\n",
        "\n",
        "fig.add_trace(fig_2.data[0], row=2, col=1)\n",
        "\n",
        "fig.update_layout(height=800)\n",
        "fig.show()"
      ]
    },
    {
      "cell_type": "markdown",
      "id": "890314bf",
      "metadata": {
        "id": "890314bf"
      },
      "source": [
        "#### LandSlope\n",
        "\n",
        "Por otra parte, analizando las gráficas univariadas, se puede observar que para 'LandSlope', se tiene poca variablidad y no genera diferencias en distribución para 'SalePrice' en ninguna de sus categorias. "
      ]
    },
    {
      "cell_type": "code",
      "execution_count": null,
      "id": "64e14bb4",
      "metadata": {
        "id": "64e14bb4"
      },
      "outputs": [],
      "source": [
        "fig = px.violin(\n",
        "    df, x=\"LandSlope\", y =\"SalePrice\", title=\"Violin plot LandSlope vs SalePrice\"\n",
        ")\n",
        "fig.show()"
      ]
    },
    {
      "cell_type": "markdown",
      "id": "64928bc7",
      "metadata": {
        "id": "64928bc7"
      },
      "source": [
        "> **Ejercicio ✏️**\n",
        "\n",
        "1. Los gráficos generados anteriormente siguen exactamente el mismo patrón de generación, lo único que cambia es la columna a analizar. Esto es una mala práctica pues siempre se debe buscar reutilizar código o 'no repetirse' esto se conoce como principio **DRY (don't repeat yourself)**. Construya una función que permita visualizar columnas categóricas del dataset y compararlas con 'SalePrice'. \n",
        "\n",
        "2. En función de las visualizaciones construidas, discuta que variables categóricas pueden ser de interés para predecir 'SalePrice'. Busque variabilidad y separación en la distribución de precios. ¿Qué ocurre si una variable categórica posee poca variablidad pero genera buenas separaciones en  'SalePrice'?"
      ]
    },
    {
      "cell_type": "markdown",
      "id": "e4c4a947",
      "metadata": {
        "id": "e4c4a947"
      },
      "source": [
        "#### Gráficos de Dispersión o Scatterplots"
      ]
    },
    {
      "cell_type": "markdown",
      "id": "8a0174e7",
      "metadata": {
        "id": "8a0174e7"
      },
      "source": [
        "Para comparar las variables numéricas, se pueden utilizar gráficos de dispersión contra 'SalePrice'. En este caso, se buscan variabilidad en el histograma univariado y a la vez, se buscan relaciones funcionales (del tipo lineal, exponencial, cuadrático, etc..) con 'SalePrice'. \n",
        "\n",
        "\n",
        "Por ejemplo, estudiemos la variable 'GrLivArea'. Para esto, primero definimos una función para gráficar variables numéricas con respecto a 'SalePrice'."
      ]
    },
    {
      "cell_type": "code",
      "execution_count": null,
      "id": "69067612",
      "metadata": {
        "id": "69067612"
      },
      "outputs": [],
      "source": [
        "def scatter_dists(numeric_col, trend=None):\n",
        "    \"\"\"Dibuja un scatterplot de una columna con respecto a SalePrice.\n",
        "\n",
        "    numeric_col:str\n",
        "    Nombre de la columna\n",
        "\n",
        "    trendline: str\n",
        "    (Original de plotly) One of `'ols'` or `'lowess'`. If `'ols'`, an Ordinary Least Squares\n",
        "    regression line will be drawn for each discrete-color/symbol group. If\n",
        "    `'lowess`', a Locally Weighted Scatterplot Smoothing line will be drawn\n",
        "    for each discrete-color/symbol group.\n",
        "    \"\"\"\n",
        "    fig = px.scatter(\n",
        "        df,\n",
        "        x=numeric_col,\n",
        "        y=\"SalePrice\",\n",
        "        title=f\"{numeric_col} vs SalePrice\",\n",
        "        trendline=trend,\n",
        "    )\n",
        "    fig.show()"
      ]
    },
    {
      "cell_type": "code",
      "execution_count": null,
      "id": "e73b1d53",
      "metadata": {
        "id": "e73b1d53"
      },
      "outputs": [],
      "source": [
        "scatter_dists(\"LotArea\", trend=\"ols\")"
      ]
    },
    {
      "cell_type": "markdown",
      "id": "abe3639e",
      "metadata": {
        "id": "abe3639e"
      },
      "source": [
        "En este caso, se puede observar una distrbución univariada bien definida y un comportamiento lineal aunque ruidoso. Esto hace que 'GrLivArea' sea una variable de interés. De la misma manera, '1stFlrSF', parece reflejar las mismas buenas características. \n",
        "\n"
      ]
    },
    {
      "cell_type": "code",
      "execution_count": null,
      "id": "c75fac60",
      "metadata": {
        "id": "c75fac60"
      },
      "outputs": [],
      "source": [
        "scatter_dists(\"1stFlrSF\", trend=\"ols\")"
      ]
    },
    {
      "cell_type": "markdown",
      "id": "db29319f",
      "metadata": {
        "id": "db29319f"
      },
      "source": [
        "En el caso de 'TotalBsmtSF' se tiene"
      ]
    },
    {
      "cell_type": "code",
      "execution_count": null,
      "id": "2d8565f5",
      "metadata": {
        "id": "2d8565f5"
      },
      "outputs": [],
      "source": [
        "scatter_dists(\"TotalBsmtSF\", trend=\"ols\")"
      ]
    },
    {
      "cell_type": "markdown",
      "id": "87debec6",
      "metadata": {
        "id": "87debec6"
      },
      "source": [
        "Una relación menos lineal con un poco más de ruido pero una buena distribución en e dataset. Esta variable puede ser de interés pero esto se puede estudiar a posteriori. \n",
        "\n",
        "Finalmente para 'MasVnrArea', se tiene"
      ]
    },
    {
      "cell_type": "code",
      "execution_count": null,
      "id": "da188245",
      "metadata": {
        "id": "da188245"
      },
      "outputs": [],
      "source": [
        "scatter_dists(\"PoolArea\", trend=\"ols\")"
      ]
    },
    {
      "cell_type": "markdown",
      "id": "75e9bbbc",
      "metadata": {
        "id": "75e9bbbc"
      },
      "source": [
        "Se aprecia una distribución altamente concentrada en el 0 y poco relacionada con la variable a predecir."
      ]
    },
    {
      "cell_type": "markdown",
      "id": "20b1f382",
      "metadata": {
        "id": "20b1f382"
      },
      "source": [
        "> **Ejercicio ✏️**:\n",
        "\n",
        "1. Estudie las siguientes proposiciones: \n",
        "\n",
        "    1.'OverallQual' y 'YearBuilt' parecen relacionadas con 'SalePrice'. \n",
        "    2. En el caso de 'OverallQual', esta relación es bastante débil.\n",
        "    3. En el caso de 'YearBuilt', esta relación es bastante débil.\n",
        "    4. Los gráficos de caja para 'OverallQual contra  'SalePrice' muestran cierta linealidad con respecto a 'SalePrice'.\n",
        "\n",
        "2. Estudie la distribución univariada de 'SalePrice', a continuación ejecute el test K^2 de D’Agostino usando `normaltest` del módulo `stats` de SciPy. Compare para una significancia de 5%. ¿ Se puede tratar esta variable como distribuida de manera normal, tomando en cuenta su comportamiento estadístico?\n",
        "\n",
        "3. Las distribuciones de 'TotalBsmtSF' y '1stFlrSF' parecen bastante similares, más aún sus relaciones con 'SalePrice' comparten una tendencia. Ejecute el [test de Kolmogorov-Smirnov ](https://docs.scipy.org/doc/scipy/reference/generated/scipy.stats.ks_2samp.html) por medio de `ks_2samp` para explorar la hipótesis:\n",
        "\n",
        " ```'TotalBsmtSF' y '1stFlrSF' vienen de la misma distribución```\n",
        " \n",
        "4. Estudie algunos estadísticos de interés según el tipo de dato.\n",
        "    \n",
        "    1. Para las variables numéricas estudie promedios, desviaciones estándar y rangos intercuartílicos. Utilice los rangos calculados para tener una idea del porcentaje de valores fuera de tales rangos por columna. \n",
        "    \n",
        "    2. Para variables catégoricas calcule frecuencias, proporciones y modas. Utilice lo anterior para obtener alguna idea de la variabilidad de los datos.\n",
        "    "
      ]
    },
    {
      "cell_type": "markdown",
      "id": "479a9836",
      "metadata": {
        "id": "479a9836"
      },
      "source": [
        "#### Categorías Paralelas\n",
        "\n",
        "Permite comparar el comportamiento de variables categoricas a través de un gráfico 2d. Cada categoría es representada por una barra y conjuntos de datos similares se agrupan en cintas (*ribbons*)."
      ]
    },
    {
      "cell_type": "code",
      "execution_count": null,
      "id": "712b53b8",
      "metadata": {
        "id": "712b53b8"
      },
      "outputs": [],
      "source": [
        "df.info()"
      ]
    },
    {
      "cell_type": "code",
      "execution_count": null,
      "id": "882be8b9",
      "metadata": {
        "id": "882be8b9"
      },
      "outputs": [],
      "source": [
        "fig = px.parallel_categories(\n",
        "    df.sample(1000).sort_values(\"SalePriceQCut\", ascending=False),\n",
        "    dimensions=[\n",
        "        \"OverallQual\",\n",
        "        \"Exterior1st\",\n",
        "        \"Utilities\",\n",
        "        \"SalePriceQCut\",\n",
        "    ],\n",
        ")\n",
        "fig.show()"
      ]
    },
    {
      "cell_type": "markdown",
      "id": "ee51862c",
      "metadata": {
        "id": "ee51862c"
      },
      "source": [
        "> **Ejercicio ✏️**: Explore el equivalente de Categorías Paralelas para variables numéricas ([Coordenadas paralelas](https://plotly.com/python/parallel-coordinates-plot/)) y grafique la relación entre variables numéricas y 'SalePrice'."
      ]
    },
    {
      "cell_type": "markdown",
      "id": "5a571764-4f2d-4d11-a502-8662580de9f0",
      "metadata": {
        "tags": [],
        "id": "5a571764-4f2d-4d11-a502-8662580de9f0"
      },
      "source": [
        "### Análisis Temporal\n",
        "\n",
        "Este análisis nos permite ver como se comportan los valores de alguna variable a través del tiempo."
      ]
    },
    {
      "cell_type": "code",
      "execution_count": null,
      "id": "2f0637b9",
      "metadata": {
        "id": "2f0637b9"
      },
      "outputs": [],
      "source": [
        "px.box(\n",
        "    df.query(\"YearBuilt > 1920\").sort_values(\"YearBuilt\"), y=\"SalePrice\", x=\"YearBuilt\"\n",
        ")"
      ]
    },
    {
      "cell_type": "code",
      "source": [],
      "metadata": {
        "id": "JGXHMnf0C1bJ"
      },
      "id": "JGXHMnf0C1bJ",
      "execution_count": null,
      "outputs": []
    },
    {
      "cell_type": "markdown",
      "id": "40d24d93",
      "metadata": {
        "id": "40d24d93"
      },
      "source": [
        "### Correlaciones entre variables"
      ]
    },
    {
      "cell_type": "markdown",
      "id": "6902f25b",
      "metadata": {
        "id": "6902f25b"
      },
      "source": [
        "Los análsis iniciales basados en visualizaciones sirven para comprender a grandes rasgos la estructura del dataset. Este tipo de exploración debe ser acompañada de tests estadísticos como los vistos en los ejercicios anteriores. En el caso del perfilamiento bivariado se puede usar una técnica mixta, basada en el análisis de las correlaciones.\n",
        "\n",
        ">  La correlación indica la fuerza y la dirección de una relación lineal entre dos variables estadísticas. Ojo:  La correlación entre dos variables no implica, por sí misma, ninguna relación de causalidad.\n",
        "\n",
        "Podemos calcular la matriz de correlaciones por variables numericas usando el método `corr()`."
      ]
    },
    {
      "cell_type": "code",
      "execution_count": null,
      "id": "6a96e54e",
      "metadata": {
        "id": "6a96e54e"
      },
      "outputs": [],
      "source": [
        "corrmat = df.corr()"
      ]
    },
    {
      "cell_type": "code",
      "execution_count": null,
      "id": "05870ff0",
      "metadata": {
        "id": "05870ff0"
      },
      "outputs": [],
      "source": [
        "corrmat"
      ]
    },
    {
      "cell_type": "markdown",
      "id": "f5a60192",
      "metadata": {
        "id": "f5a60192"
      },
      "source": [
        "se muestran las dos variables más correlacionadas (positivamente) con 'SalePrice'."
      ]
    },
    {
      "cell_type": "markdown",
      "id": "d1528ae1",
      "metadata": {
        "id": "d1528ae1"
      },
      "source": [
        "Y lo podemos graficas usando `px.imshow`"
      ]
    },
    {
      "cell_type": "code",
      "execution_count": null,
      "id": "18637ee8",
      "metadata": {
        "id": "18637ee8"
      },
      "outputs": [],
      "source": [
        "# Univariado: Cada variable con respecto al precio\n",
        "\n",
        "px.imshow(\n",
        "    corrmat.loc[[\"SalePrice\"], :].sort_values(\"SalePrice\", axis=1),\n",
        "    zmin=-1,\n",
        "    zmax=1,\n",
        "    color_continuous_midpoint=0,\n",
        "    color_continuous_scale=px.colors.sequential.Viridis,\n",
        ")"
      ]
    },
    {
      "cell_type": "markdown",
      "id": "fdb591d2",
      "metadata": {
        "id": "fdb591d2"
      },
      "source": [
        "Si bien, las correlaciones con 'SalePrice' deben ser analizadas con más detenimiento, se pude ver claramente que 'GrLivArea', 'TotalBsmtSF', y 'OverallQual' juegan un papel preponderante en el valor de la propiedad."
      ]
    },
    {
      "cell_type": "code",
      "execution_count": null,
      "id": "98eb0bc4",
      "metadata": {
        "id": "98eb0bc4"
      },
      "outputs": [],
      "source": [
        "px.imshow(\n",
        "    corrmat,\n",
        "    aspect=\"16:9\",\n",
        "    title=\"Correlación entre Variables\",\n",
        "    height=800,\n",
        "    zmin=-1,\n",
        "    color_continuous_midpoint=0,\n",
        "    zmax=1,\n",
        "    color_continuous_scale=px.colors.sequential.Viridis,\n",
        ")"
      ]
    },
    {
      "cell_type": "markdown",
      "id": "f85151e7",
      "metadata": {
        "id": "f85151e7"
      },
      "source": [
        "Según el esquema de valores, se buscan los puntos más claros y más oscuros fuera de la diagonal. En primera instancia, las variables  'TotalBsmtSF' y '1stFlrSF' parece bastante correlacionadas, lo mismo ocurre con la variables 'GarageCars' y 'GarageArea', esto puede indicar multicolinearidad que implica información duplicada o relacionada de manera trivial en el dataset. "
      ]
    },
    {
      "cell_type": "markdown",
      "id": "ecee98aa",
      "metadata": {
        "id": "ecee98aa"
      },
      "source": [
        "> **Ejercicio ✏️**: Obtenga las 15 correlaciones más altas (positiva o negativa) con 'SalePrice'.\n"
      ]
    },
    {
      "cell_type": "markdown",
      "id": "007b8bfb",
      "metadata": {
        "id": "007b8bfb"
      },
      "source": [
        "### Tablas de Contingencia\n",
        "\n",
        "Para analizar valores categóricos (categórico vs categórico) existen herramientas especializadas una de ellas es por medio de tablas de dos tratamientos o de contingencia (2 way tables). \n",
        "\n",
        "Estas permiten calcular el numero de ocurrencias de una variable para cada una de sus categorías en comparación con los valores de otra variable.\n",
        "\n",
        "Por ejemplo, construyamos una tabla para analizar 'OverallQual' vs 'GarageCars':"
      ]
    },
    {
      "cell_type": "code",
      "execution_count": null,
      "id": "8cbf8c6a",
      "metadata": {
        "id": "8cbf8c6a"
      },
      "outputs": [],
      "source": [
        "# Se construye la tabla\n",
        "tabla = pd.crosstab(\n",
        "    index=df[\"OverallQual\"],\n",
        "    columns=df[\"GarageCars\"],\n",
        ")\n",
        "tabla"
      ]
    },
    {
      "cell_type": "markdown",
      "id": "cb62bf6a",
      "metadata": {
        "id": "cb62bf6a"
      },
      "source": [
        "Para el caso de  'OverallQual' y 'GarageCars' vemos que tienden a acumularse dentro de una rango reducido, se puede concluir que a medida que 'OverallQual' crece entre 4 y 6, aparece un aumento considerable en la categoría 'GarageCars' hasta que esta última llega al valor 2, valores superiores paracieran ser independientes de 'OverallQual'. \n",
        "\n",
        "> **Ejercicios ✏️**\n",
        "\n",
        "1. Compare variables categóricas usando este método, ¿se puede encontrar alguna relación entre categórias?\n",
        "\n",
        "2. Es posible aplicar este método para comparar variables categóricas y continuas, para esto se necesita categorizar la variable continua objetivo. utilice 'SalePriceQuantile' en 5 tramos para compararla con 'OverallQual' ¿Se observa alguna tendencia?\n"
      ]
    },
    {
      "cell_type": "markdown",
      "id": "ccb33b61",
      "metadata": {
        "id": "ccb33b61"
      },
      "source": [
        "## 3. Manejo de datos faltantes \n",
        "\n",
        "Los métodos estándar de manejo de datos han sido desarrollados para para analizar arreglos tabulares. Por lo general las filas de tal arreglo representan observaciones y las columnas sus características asociadas. Cada entrada en este arreglo puede ser modelada como un número, siendo este ligado a un proceso subyacente continuo o discreto. Para comprender tal proceso, es de utilidad sumarizar y observar los valores faltantes con el fin de obtener patrones y seleccionar estrategias para tratarlos. "
      ]
    },
    {
      "cell_type": "markdown",
      "id": "7b6870b4",
      "metadata": {
        "id": "7b6870b4"
      },
      "source": [
        "### Exploración de valores faltantes\n",
        "\n",
        "Cuando los datos faltantes se encuentran en variables que no son de interés, se pueden obviar. Sin embargo, esto no es la regla general.\n"
      ]
    },
    {
      "cell_type": "code",
      "source": [
        "df.isnull()"
      ],
      "metadata": {
        "id": "_hs1msTRXKob"
      },
      "id": "_hs1msTRXKob",
      "execution_count": null,
      "outputs": []
    },
    {
      "cell_type": "code",
      "execution_count": null,
      "id": "68c5fce1",
      "metadata": {
        "id": "68c5fce1"
      },
      "outputs": [],
      "source": [
        "df.isnull().sum()"
      ]
    },
    {
      "cell_type": "markdown",
      "id": "e610ba59",
      "metadata": {
        "id": "e610ba59"
      },
      "source": [
        "Sin embargo, basta observar las columnas para comprender que tales variables si poseen valores faltantes"
      ]
    },
    {
      "cell_type": "code",
      "execution_count": null,
      "id": "73bd1a67",
      "metadata": {
        "id": "73bd1a67"
      },
      "outputs": [],
      "source": [
        "var_missing = [\"BsmtCond\", \"GarageType\", \"PoolQC\"]\n",
        "\n",
        "df[var_missing].head()"
      ]
    },
    {
      "cell_type": "markdown",
      "id": "a71aad77",
      "metadata": {
        "id": "a71aad77"
      },
      "source": [
        "Por tal motivo es necesario realizar una exploración inicial de los datos faltantes en conjunción con los análisis de distribución iniciales. \n",
        "\n",
        "**Ejercicios ✏️**\n",
        "\n",
        "1. Estudie la distribución de los valores faltantes en las variables numéricas.\n",
        "\n",
        "2. Considerando que para las variables categóricas las variables con valor 'nan' son consideradas como una nueva categoría. ¿Se ven afectados los análisis anteriores sobre sus distribuciones?"
      ]
    },
    {
      "cell_type": "markdown",
      "id": "15026649",
      "metadata": {
        "id": "15026649"
      },
      "source": [
        "**Ejemplo**\n",
        "\n",
        "Para estudiar en mayor profundidad la distribución de los valores faltantes, se procede a transformarlos en formato `np.nan`"
      ]
    },
    {
      "cell_type": "code",
      "execution_count": null,
      "id": "f9cd7865",
      "metadata": {
        "id": "f9cd7865"
      },
      "outputs": [],
      "source": [
        "df.replace(\"nan\", np.nan, inplace=True)"
      ]
    },
    {
      "cell_type": "code",
      "execution_count": null,
      "id": "78b5e234",
      "metadata": {
        "id": "78b5e234"
      },
      "outputs": [],
      "source": [
        "px.bar(df.isnull().sum().sort_values())"
      ]
    },
    {
      "cell_type": "markdown",
      "id": "24fb9a48",
      "metadata": {
        "id": "24fb9a48"
      },
      "source": [
        "### Nullity Matrix "
      ]
    },
    {
      "cell_type": "markdown",
      "id": "059d4e06",
      "metadata": {
        "id": "059d4e06"
      },
      "source": [
        "En términos generales, los valores perdidos de este dataset se encuentran relativamente limpios pues están estandarizados con la categoría 'nan'.\n",
        "\n",
        "\n",
        "Dado que sumarizar valores faltantes genera una estructura de datos, vale la pena explorarla visualmente, para facilitar tal tarea, existe la librería `missingno`"
      ]
    },
    {
      "cell_type": "code",
      "execution_count": null,
      "id": "ab5dd8b8",
      "metadata": {
        "id": "ab5dd8b8"
      },
      "outputs": [],
      "source": [
        "# Instalamos el paquete usando conda o pip\n",
        "import sys\n",
        "\n",
        "!pip install missingno\n",
        "# !{sys.executable} -m pip install numpy # descomentar si se usa pip\n",
        "import missingno as msno"
      ]
    },
    {
      "cell_type": "markdown",
      "id": "a14ba4c2",
      "metadata": {
        "id": "a14ba4c2"
      },
      "source": [
        "Las visualizaciones de generadas por medio de esta librería pueden ser utilizadas para discutir el problema de valores faltantes y generan una estrategia para su tratamiento."
      ]
    },
    {
      "cell_type": "code",
      "execution_count": null,
      "id": "5c1ba63c",
      "metadata": {
        "id": "5c1ba63c"
      },
      "outputs": [],
      "source": [
        "df.isnull().sum().nlargest(10)"
      ]
    },
    {
      "cell_type": "markdown",
      "id": "bdd47b99",
      "metadata": {
        "id": "bdd47b99"
      },
      "source": [
        "mediante la libreria `missingno` es posible ver el panorama completo de los valores faltanes en el dataset de manera sencilla "
      ]
    },
    {
      "cell_type": "code",
      "execution_count": null,
      "id": "f58632e9",
      "metadata": {
        "id": "f58632e9"
      },
      "outputs": [],
      "source": [
        "import matplotlib.pyplot as plt\n",
        "import missingno as msno\n",
        "\n",
        "fig, ax = plt.subplots(figsize=[15, 10])\n",
        "\n",
        "msno.matrix(df, ax=ax, sparkline=False)"
      ]
    },
    {
      "cell_type": "markdown",
      "id": "94545683",
      "metadata": {
        "id": "94545683"
      },
      "source": [
        "**Ejercicio ✏️**\n",
        "\n",
        "1. Genere un subconjunto con las 10 columnas con mayor información faltante y genere el gráfico anterior sin usar un objeto `axes` y con la opción `sparkline=True`."
      ]
    },
    {
      "cell_type": "markdown",
      "id": "785ab104",
      "metadata": {
        "id": "785ab104"
      },
      "source": [
        "Esta visualización muestra que exiten columnas practicamente sin información, según la agregación anterior, estas corresponden a 'PoolQC', y 'BsmtCond'\n",
        "\n",
        "Por medio de correlaciones entre valores faltantes, es posible obtener un análisis bivariado análogo al anteriormente generado. Para ello se puede utilizar un mapa de calor."
      ]
    },
    {
      "cell_type": "code",
      "execution_count": null,
      "id": "2276ef7f",
      "metadata": {
        "id": "2276ef7f"
      },
      "outputs": [],
      "source": [
        "fig, ax = plt.subplots(figsize=[15, 10])\n",
        "msno.heatmap(df, ax=ax)\n",
        "\n",
        "plt.show()"
      ]
    },
    {
      "cell_type": "markdown",
      "id": "dd926a18",
      "metadata": {
        "id": "dd926a18"
      },
      "source": [
        "Este gráfico muestra correlaciones de nulidad entre pares de variables, estas varian desde -1 a 1, donde\n",
        "\n",
        "- $-1$ significa que las variables son excluyentes, es decir, la aparición de una hace que la otra este ausente. \n",
        "- $1$ corresponde inclusión, esto quiere decir, que la aparición de una hace que la otra aparezca. Valores cercanos a 0 (sin valor numérico en el gráfico) indican ausencia de relación de nulidad entre las variables.\n",
        "\n",
        "En el gráfico recien generado, no se observen relaciones de nulidad negativa, por otra parte, existen variables fuertemente relacionadas en cuanto a su información como lo son 'MasVnrType' y 'MasVnrArea', el comportamiento general es que la información esta fuertemente relacionada (en el sentido de inclusión de información) o simplemente no lo está. \n",
        "\n",
        "\n",
        "> **Ejercicio ✏️**\n",
        "\n",
        "1. El gráfico de correlaciones de nulidad permite tener una idea de como se relaciona la información faltante en pares de variables. Para comparar más de dos variables es posible utilizar un *dendograma*. Utilice las 20 variables con mayor cantidad de valores faltanes visualice su dendograma por medio de `msno.dendogram`. Interprete los resultados.[*Hint*](https://github.com/ResidentMario/missingno)\n",
        "\n",
        "\n"
      ]
    },
    {
      "cell_type": "markdown",
      "id": "b40f2212",
      "metadata": {
        "id": "b40f2212"
      },
      "source": [
        "> **Pregunta ❓**: ¿Qué hacemos con las columnas con datos faltantes?"
      ]
    },
    {
      "cell_type": "markdown",
      "id": "79949ab4-1f6c-4182-87b4-7aca55650899",
      "metadata": {
        "id": "79949ab4-1f6c-4182-87b4-7aca55650899"
      },
      "source": [
        "---\n",
        "\n",
        "## 4. `Pandas Profiling`\n",
        "\n",
        "\n",
        "Pandas Profiling es una herramienta de perfilamiento automático de variables, el cuál dado un dataframe, genera un reporte en formato HTML.\n",
        "El reporte contiene información detallada sobre cada variable más gráficos de interacciones y correlaciones entre estas. Según la documentación, los perfiles generados contienen: \n",
        "\n",
        "\n",
        "- **Type inference**: detect the types of columns in a dataframe.\n",
        "- **Essentials**: type, unique values, missing values\n",
        "- **Quantile statistics** like minimum value, Q1, median, Q3, maximum, range, interquartile range\n",
        "- **Descriptive statistics** like mean, mode, standard deviation, sum, median absolute deviation, coefficient of variation, kurtosis, skewness\n",
        "- **Most frequent values**\n",
        "- **Histogram**\n",
        "- **Correlations** highlighting of highly correlated variables, Spearman, Pearson and Kendall matrices\n",
        "- **Missing values matrix**, count, heatmap and dendrogram of missing values\n",
        "- **Text analysis** learn about categories (Uppercase, Space), scripts (Latin, Cyrillic) and blocks (ASCII) of text data.\n",
        "- **File and Image analysis** extract file sizes, creation dates and dimensions and scan for truncated images or those containing EXIF information.\n",
        "\n",
        "\n",
        "Bien usada, es una herramienta muy poderosa que les permitirá acelerar mucho el Análisis Exploratorio de Datos.\n",
        "Sin embargo, simpre estará la posibilidad de que tengan que programar algo \"a mano\" ya que el análisis entregado por el profiler no es suficiente."
      ]
    },
    {
      "cell_type": "code",
      "execution_count": null,
      "id": "afd0977e-875f-4ca2-ac62-330a49c1442b",
      "metadata": {
        "id": "afd0977e-875f-4ca2-ac62-330a49c1442b"
      },
      "outputs": [],
      "source": [
        "!pip install ipywidgets\n",
        "!pip install --upgrade pandas_profiling"
      ]
    },
    {
      "cell_type": "code",
      "execution_count": null,
      "id": "2bf639c4",
      "metadata": {
        "id": "2bf639c4"
      },
      "outputs": [],
      "source": [
        "from pandas_profiling import ProfileReport\n",
        "\n",
        "profile = ProfileReport(\n",
        "    df,\n",
        "    title=\"Reporte Housing Pricing\",\n",
        "    explorative=True,\n",
        "    vars={\"num\": {\"low_categorical_threshold\": 0}} # resolver problema #954\n",
        ")\n",
        "\n",
        "# Problema 954:\n",
        "# https://github.com/ydataai/pandas-profiling/issues/954\n",
        "\n",
        "profile.to_file(\"report.html\")"
      ]
    },
    {
      "cell_type": "code",
      "source": [
        "profile"
      ],
      "metadata": {
        "id": "IcQAa5MEudDu"
      },
      "id": "IcQAa5MEudDu",
      "execution_count": null,
      "outputs": []
    }
  ],
  "metadata": {
    "kernelspec": {
      "display_name": "Python 3 (ipykernel)",
      "language": "python",
      "name": "python3"
    },
    "language_info": {
      "codemirror_mode": {
        "name": "ipython",
        "version": 3
      },
      "file_extension": ".py",
      "mimetype": "text/x-python",
      "name": "python",
      "nbconvert_exporter": "python",
      "pygments_lexer": "ipython3",
      "version": "3.9.7"
    },
    "toc": {
      "base_numbering": 1,
      "nav_menu": {},
      "number_sections": true,
      "sideBar": true,
      "skip_h1_title": true,
      "title_cell": "Table of Contents",
      "title_sidebar": "Contents",
      "toc_cell": true,
      "toc_position": {
        "height": "calc(100% - 180px)",
        "left": "10px",
        "top": "150px",
        "width": "274.833px"
      },
      "toc_section_display": true,
      "toc_window_display": false
    },
    "colab": {
      "provenance": []
    }
  },
  "nbformat": 4,
  "nbformat_minor": 5
}